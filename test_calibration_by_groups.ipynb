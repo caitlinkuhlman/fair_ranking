{
 "cells": [
  {
   "cell_type": "markdown",
   "metadata": {},
   "source": [
    "Easy to read article about calibration: http://fastml.com/classifier-calibration-with-platts-scaling-and-isotonic-regression/"
   ]
  },
  {
   "cell_type": "code",
   "execution_count": 110,
   "metadata": {},
   "outputs": [],
   "source": [
    "import FairBoost\n",
    "from FairBoost import FairBoostRegressor\n",
    "import pickle\n",
    "\n",
    "import matplotlib.pyplot as plt\n",
    "import numpy as np\n",
    "import pandas as pd\n",
    "import math\n",
    "from scipy import stats\n",
    "from sklearn import datasets\n",
    "#from sklearn.naive_bayes import GaussianNB\n",
    "#from sklearn.svm import LinearSVC\n",
    "from sklearn.linear_model import LogisticRegression\n",
    "from sklearn.metrics import (brier_score_loss, precision_score, recall_score,\n",
    "                             f1_score)\n",
    "from sklearn.calibration import CalibratedClassifierCV, calibration_curve\n",
    "from sklearn.cross_validation import cross_val_predict\n",
    "from sklearn import linear_model\n",
    "from sklearn.metrics import mean_squared_error, r2_score\n",
    "from sklearn.cross_validation import *\n",
    "#from sklearn.ensemble import AdaBoostRegressor\n",
    "# from sklearn.ensemble import FairBoostRegressor\n",
    "#from sklearn.tree import DecisionTreeRegressor\n",
    "# from sklearn.model_selection import train_test_split\n",
    "from sklearn.isotonic import IsotonicRegression\n",
    "from sklearn.model_selection import KFold\n",
    "%matplotlib inline\n",
    "%precision %.2f\n",
    "pd.options.display.float_format = '{:,.2f}'.format"
   ]
  },
  {
   "cell_type": "code",
   "execution_count": 111,
   "metadata": {
    "collapsed": true,
    "scrolled": false
   },
   "outputs": [],
   "source": [
    "#load data\n",
    "X = pickle.load( open( \"x.p\", \"rb\" ) )\n",
    "y = pickle.load( open( \"y.p\", \"rb\" ) )\n",
    "g = pickle.load( open( \"g.p\", \"rb\" ) )\n",
    "g=np.nan_to_num(g)\n",
    "g0 = np.nan_to_num([i for i,x in enumerate(g) if x==0])\n",
    "g1 = np.nan_to_num([i for i,x in enumerate(g) if x==1])"
   ]
  },
  {
   "cell_type": "code",
   "execution_count": 112,
   "metadata": {
    "collapsed": true
   },
   "outputs": [],
   "source": [
    "\n",
    "\n",
    "# fbt = FairBoostRegressor(DecisionTreeRegressor(max_depth=4),n_estimators=1, random_state=25)\n",
    "# fbt.setGroups(g)\n",
    "\n",
    "# fbt.fit(X,y)\n",
    "# train_pred = fbt.predict(X)\n",
    "# print('train error iteration 1 ', mean_squared_error(train_pred, y))\n",
    "\n",
    "# fbt = FairBoostRegressor(DecisionTreeRegressor(max_depth=4),n_estimators=10, random_state=25)\n",
    "# fbt.setGroups(g)\n",
    "\n",
    "# fbt.fit(X,y)\n",
    "# train_pred = fbt.predict(X)\n",
    "# print('train error iteration 10 ', mean_squared_error(train_pred, y))"
   ]
  },
  {
   "cell_type": "code",
   "execution_count": 129,
   "metadata": {
    "collapsed": true
   },
   "outputs": [],
   "source": [
    "#Error metrics\n",
    "\n",
    "#summary of deviation measures - relates to precision/accuracy?\n",
    "# https://en.wikipedia.org/wiki/Deviation_(statistics)#Unsigned_or_absolute_deviation\n",
    "#https://en.wikipedia.org/wiki/Mean_signed_deviation\n",
    "#signed absolute deviation ?\n",
    "# https://en.wikipedia.org/wiki/Average_absolute_deviation\n",
    "#average absolute deviation\n",
    "\n",
    "def get_ae(vals):\n",
    "    return np.sum([math.fabs(x[0]-x[1]) for x in vals])\n",
    "\n",
    "def get_mae(vals):\n",
    "    m = np.sum([math.fabs(x[0]-x[1]) for x in vals])\n",
    "    return m/len(vals)\n",
    "\n",
    "\n",
    "def get_se(vals):\n",
    "    return np.sum([math.pow(x[0]-x[1], 2) for x in vals])\n",
    "    \n",
    "def get_mse(vals):\n",
    "    m = np.sum([math.pow(x[0]-x[1], 2) for x in vals])\n",
    "    return m/len(vals)\n",
    "\n",
    "#overestimate\n",
    "def get_oe(vals):\n",
    "    return np.sum([max(0,x[0]-x[1]) for x in vals])\n",
    "\n",
    "def get_moe(vals):\n",
    "    m = np.sum([max(0,x[0]-x[1]) for x in vals])\n",
    "    return m/len(vals)\n",
    "\n",
    "#underestimate\n",
    "def get_ue(vals):\n",
    "    return np.sum([min(0,x[0]-x[1]) for x in vals])\n",
    "\n",
    "def get_mue(vals):\n",
    "    m = np.sum([min(0,x[0]-x[1]) for x in vals])\n",
    "    return m/len(vals)\n",
    "\n",
    "error_functs = [get_ae, get_mae, get_se, get_mse, get_oe, get_moe, get_ue, get_mue]\n",
    "##### BIN ERRORS: ###########\n",
    "\n",
    "def get_bin_width(data, n):\n",
    "    return (data.max()-data.min())/(n+1)\n",
    "\n",
    "def get_error_binned_eq_depth_by_group(points, nbins, error=get_mse):\n",
    "    mse = []\n",
    "    kf = KFold(len(points), n_folds=nbins, shuffle=True, random_state=1)\n",
    "    for rest, bin in kf:\n",
    "        vals = [points.iloc[i] for i in bin]\n",
    "        mse.append(error(vals))\n",
    "    return mse\n",
    "\n",
    "# I guess Python changed the syntax of the KFold function at some point???\n",
    "def get_error_binned_eq_depth_by_group2(points, nbins, error=get_mse):\n",
    "    mse = []\n",
    "    kf = KFold(n_splits=nbins, shuffle=True, random_state=1)\n",
    "    for rest, bin in kf.split(points):\n",
    "        vals = [points.iloc[i] for i in bin]\n",
    "        mse.append(error(vals))\n",
    "    return mse\n",
    "\n",
    "def plot_binned_error(df, error=get_mse):\n",
    "    indices =np.arange(df.shape[0])\n",
    "    #Calculate optimal width\n",
    "    width = 0.3\n",
    "\n",
    "    fig = plt.figure()\n",
    "    ax = fig.add_subplot(111)\n",
    "    ax.bar(indices-width,df[df.columns[0]],width,color='b',label='-Ymin')\n",
    "    ax.bar(indices,df[df.columns[1]],width,color='r',label='Ymax')\n",
    "    ax.set_xlim(left=-1,right=len(df))\n",
    "    ax.set_ylim([0,1])\n",
    "    ax.set_xlabel('Bin')\n",
    "    ax.set_ylabel(error.__name__)\n",
    "    plt.show()\n",
    "    \n",
    "def recomputeBins(y_predict, g0, g1, nbins):\n",
    "        #g0 has indexes of objects in X\n",
    "        # get indexes of sorted predictions for group\n",
    "        sorted0 = np.argsort([y_predict[x] for x in g0])\n",
    "        binSize=int(np.ceil(float(len(g0))/nbins))\n",
    "        bins0=[]\n",
    "        b=[]\n",
    "        i=0\n",
    "        j=binSize-1\n",
    "        for n in range(nbins):\n",
    "            k=int(min(j,len(sorted0)-1))\n",
    "            bins0.append([g0[x] for x in sorted0[i:k]])\n",
    "            i+=binSize\n",
    "            j+=binSize\n",
    "           \n",
    "        #g1 has indexes of objects in X\n",
    "        # get indexes of sorted predictions for group\n",
    "        sorted1 = np.argsort([y_predict[x] for x in g1])\n",
    "        binSize=int(np.ceil(float(len(g1))/nbins))\n",
    "        bins1=[]\n",
    "        b=[]\n",
    "        i=0\n",
    "        j=binSize-1\n",
    "        for n in range(nbins):\n",
    "            k=int(min(j,len(sorted0)-1))\n",
    "            bins1.append([g1[x] for x in sorted1[i:k]])\n",
    "            i+=binSize\n",
    "            j+=binSize\n",
    "        return bins0,bins1"
   ]
  },
  {
   "cell_type": "code",
   "execution_count": null,
   "metadata": {
    "collapsed": true
   },
   "outputs": [],
   "source": []
  },
  {
   "cell_type": "code",
   "execution_count": 130,
   "metadata": {
    "collapsed": true
   },
   "outputs": [],
   "source": [
    "# lr = linear_model.LinearRegression()\n",
    "# dt = DecisionTreeRegressor(max_depth=4)\n",
    "# clf_isotonic = CalibratedClassifierCV(clf, cv=2, method='isotonic')"
   ]
  },
  {
   "cell_type": "code",
   "execution_count": 131,
   "metadata": {},
   "outputs": [],
   "source": [
    "# y"
   ]
  },
  {
   "cell_type": "code",
   "execution_count": 132,
   "metadata": {},
   "outputs": [],
   "source": [
    "# Randomly assigns observations into train, calibration, and test groups. \n",
    "# Should probably be done with something like KFold\n",
    "#kf = KFold(n_splits=2, shuffle=True, random_state=1)\n",
    "#nbins = 10\n",
    "\n",
    "\n",
    "\n",
    "# X.shape: x is 142 rows with 440 attributes\n",
    "# y.shape: y is 142 rows long\n",
    "\n",
    "# Split data into three groups: train, calibrate, and test\n",
    "# Make a random list of numbers from 1 to X.length \n",
    "from random import shuffle\n",
    "\n",
    "obs = list(range(0,len(X))) #0 to len(X), array positions\n",
    "shuffle(obs)\n",
    "obs\n",
    "\n",
    "#Grab 25% for train, 25% for calibrate, and rest for test\n",
    "import math\n",
    "n_train = math.floor(len(X)*0.25) #25% of the observations are training\n",
    "n_calibrate = math.floor(len(X)*0.25) #25% are calibration\n",
    "\n",
    "#X attributes\n",
    "x_train = X[[obs[0:n_train]]] # training dataset\n",
    "x_calibrate = X[[obs[n_train:n_train+n_calibrate]]] # calibration dataset\n",
    "x_test = X[[obs[n_train+n_calibrate:len(X)]]] # test dataset\n",
    "\n",
    "#assert that split dataset is still the same size as original and no rows were duplicated\n",
    "assert np.vstack({tuple(row) for row in np.r_[x_train,x_calibrate,x_test]}).shape == X.shape\n",
    "\n",
    "# Do the same with y labels\n",
    "y_train = y[obs[0:n_train]] # training dataset\n",
    "y_calibrate = y[obs[n_train:n_train+n_calibrate]] # calibration dataset\n",
    "y_test = y[obs[n_train+n_calibrate:len(y)]] # test dataset\n",
    "assert np.r_[y_train,y_calibrate,y_test].shape == y.shape #same shape, not good idea to check for unique\n",
    "\n",
    "# Do the same thing with g\n",
    "g_train = g[obs[0:n_train]] # training dataset\n",
    "g_calibrate = g[obs[n_train:n_train+n_calibrate]] # calibration dataset\n",
    "g_test = g[obs[n_train+n_calibrate:len(g)]] # test dataset\n",
    "assert np.r_[g_train,g_calibrate,g_test].shape == g.shape #same shape, not good idea to check for unique"
   ]
  },
  {
   "cell_type": "code",
   "execution_count": 133,
   "metadata": {},
   "outputs": [
    {
     "data": {
      "text/plain": [
       "LinearRegression(copy_X=True, fit_intercept=True, n_jobs=1, normalize=False)"
      ]
     },
     "execution_count": 133,
     "metadata": {},
     "output_type": "execute_result"
    }
   ],
   "source": [
    "# Learn a linear model on the training data\n",
    "lr = linear_model.LinearRegression()\n",
    "lr.fit(x_train, y_train)"
   ]
  },
  {
   "cell_type": "code",
   "execution_count": 134,
   "metadata": {},
   "outputs": [],
   "source": [
    "# Baseline using test data\n",
    "y_hat_test_baseline = lr.predict(x_test) # returns y_hat_test"
   ]
  },
  {
   "cell_type": "code",
   "execution_count": 135,
   "metadata": {},
   "outputs": [],
   "source": [
    "# Calibration model for training isotonic regression\n",
    "y_hat_calibrate = lr.predict(x_calibrate) # returns y_hat_calibrate"
   ]
  },
  {
   "cell_type": "code",
   "execution_count": 136,
   "metadata": {},
   "outputs": [
    {
     "data": {
      "text/plain": [
       "IsotonicRegression(increasing=True, out_of_bounds='clip', y_max=None,\n",
       "          y_min=None)"
      ]
     },
     "execution_count": 136,
     "metadata": {},
     "output_type": "execute_result"
    }
   ],
   "source": [
    "# Fit an isotonic regression on y_hat_calibrate and y_calibrate\n",
    "ir = IsotonicRegression( out_of_bounds = 'clip' )\n",
    "ir.fit(y_hat_calibrate, y_calibrate)"
   ]
  },
  {
   "cell_type": "code",
   "execution_count": 137,
   "metadata": {},
   "outputs": [],
   "source": [
    "# Calibrated error using test data\n",
    "y_hat_test_calibrate = ir.transform(y_hat_test_baseline)   # or ir.fit( p_test ), that's the same thing"
   ]
  },
  {
   "cell_type": "code",
   "execution_count": 138,
   "metadata": {},
   "outputs": [],
   "source": [
    "# Normalized\n",
    "# (y - min(y)) / (max(y)-min(y))"
   ]
  },
  {
   "cell_type": "code",
   "execution_count": 139,
   "metadata": {},
   "outputs": [
    {
     "name": "stdout",
     "output_type": "stream",
     "text": [
      "group0:  (41, 3)\n",
      "group1:  (31, 3)\n"
     ]
    },
    {
     "data": {
      "image/png": "[encoded data removed]",
      "text/plain": [
       "<matplotlib.figure.Figure at 0x1a1f720f98>"
      ]
     },
     "metadata": {},
     "output_type": "display_data"
    }
   ],
   "source": [
    "nbins = 10\n",
    "\n",
    "### PLOTTING ###\n",
    "results = pd.DataFrame()\n",
    "results['pred'] = y_hat_test_calibrate\n",
    "results['y'] = y_test\n",
    "results['g'] = g_test\n",
    "results = results.sort_values('pred')\n",
    "results0 = results[results['g']==0]\n",
    "print (\"group0: \", results0.shape)\n",
    "results1 = results[results['g']==1]\n",
    "print (\"group1: \", results1.shape)\n",
    "\n",
    "mse_df_depth = pd.DataFrame()\n",
    "mse_df_depth['mse0'] = get_error_binned_eq_depth_by_group2(results0, nbins, error=get_mse)\n",
    "mse_df_depth['mse1'] = get_error_binned_eq_depth_by_group2(results1, nbins, error=get_mse)\n",
    "plot_binned_error(mse_df_depth)"
   ]
  },
  {
   "cell_type": "code",
   "execution_count": 125,
   "metadata": {
    "collapsed": true,
    "scrolled": false
   },
   "outputs": [],
   "source": [
    "#kf = KFold(n_splits=2, shuffle=True, random_state=1)\n",
    "\n",
    "#nbins = 10"
   ]
  },
  {
   "cell_type": "code",
   "execution_count": 126,
   "metadata": {},
   "outputs": [],
   "source": [
    "# for train_index, test_index, in kf.split(X):\n",
    "#     dt = DecisionTreeRegressor(max_depth=4)\n",
    "#     dt.fit(X[train_index],y[train_index])\n",
    "#     dt_pred = dt.predict(X[test_index])\n",
    "#     clf_isotonic = CalibratedRegressor(dt, cv=\"prefit\", method='isotonic')\n",
    "#     clf_isotonic.fit(X[train_index], y[train_index])\n",
    "#     prob_pos_isotonic = clf_isotonic.predict_proba(X_test)[:, 1]\n",
    "#     print('\\n decision tree error: ', mean_squared_error(dt_pred, y[test_index]))\n",
    "\n",
    "#     g0 = [i for i,x in enumerate(g[test_index]) if x==0]\n",
    "#     g1 = [i for i,x in enumerate(g[test_index]) if x==1]\n",
    "#     bins0,bins1  = recomputeBins(dt_pred, g0, g1, nbins)\n",
    "#     error_vect=np.abs(dt_pred - y[test_index])\n",
    "#     e0=[np.sum([error_vect[i] for i in b]) for b in bins0]\n",
    "#     e1=[np.sum([error_vect[i] for i in b]) for b in bins1]\n",
    "#     bin_error = np.subtract(e0, e1)\n",
    "#     print(\"dt fair error: \", np.mean(np.abs(bin_error)))\n",
    "\n",
    "#     ### PLOTTING ###\n",
    "#     results = pd.DataFrame()\n",
    "#     results['pred'] = dt_pred\n",
    "#     results['y'] = y[test_index]\n",
    "#     results['g'] = g[test_index]\n",
    "#     results = results.sort_values('pred')\n",
    "#     results0 = results[results['g']==0]\n",
    "#     print (\"group0: \", results0.shape)\n",
    "#     results1 = results[results['g']==1]\n",
    "#     print (\"group1: \", results1.shape)\n",
    "\n",
    "#     mse_df_depth = pd.DataFrame()\n",
    "#     mse_df_depth['mse0'] = get_error_binned_eq_depth_by_group(results0, nbins, error=get_mse)\n",
    "#     mse_df_depth['mse1'] = get_error_binned_eq_depth_by_group(results1, nbins, error=get_mse)\n",
    "#     plot_binned_error(mse_df_depth)"
   ]
  },
  {
   "cell_type": "code",
   "execution_count": null,
   "metadata": {
    "collapsed": true
   },
   "outputs": [],
   "source": []
  },
  {
   "cell_type": "markdown",
   "metadata": {},
   "source": [
    "TODO:\n",
    "    Not producing any consistent results\n",
    "    Try different ways of updating the weights bin-wise\n",
    "    is error being computed as mse? investigate error_vect\n",
    "    read up on non-differentiable error in boosting. Are we just jumping around?\n",
    "    try plotting change in bin_error over iterations"
   ]
  },
  {
   "cell_type": "code",
   "execution_count": 128,
   "metadata": {},
   "outputs": [],
   "source": [
    "#results['pred']"
   ]
  },
  {
   "cell_type": "code",
   "execution_count": null,
   "metadata": {
    "collapsed": true
   },
   "outputs": [],
   "source": []
  }
 ],
 "metadata": {
  "kernelspec": {
   "display_name": "Python 3",
   "language": "python",
   "name": "python3"
  },
  "language_info": {
   "codemirror_mode": {
    "name": "ipython",
    "version": 3
   },
   "file_extension": ".py",
   "mimetype": "text/x-python",
   "name": "python",
   "nbconvert_exporter": "python",
   "pygments_lexer": "ipython3",
   "version": "3.6.2"
  }
 },
 "nbformat": 4,
 "nbformat_minor": 2
}
