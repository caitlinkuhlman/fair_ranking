{
 "cells": [
  {
   "cell_type": "markdown",
   "metadata": {},
   "source": [
    "Easy to read article about calibration: http://fastml.com/classifier-calibration-with-platts-scaling-and-isotonic-regression/"
   ]
  },
  {
   "cell_type": "code",
   "execution_count": 40,
   "metadata": {},
   "outputs": [],
   "source": [
    "import pickle\n",
    "\n",
    "import matplotlib.pyplot as plt\n",
    "import numpy as np\n",
    "import pandas as pd\n",
    "import math\n",
    "from scipy import stats\n",
    "from sklearn import datasets\n",
    "#from sklearn.naive_bayes import GaussianNB\n",
    "#from sklearn.svm import LinearSVC\n",
    "from sklearn.linear_model import LogisticRegression\n",
    "from sklearn.metrics import (brier_score_loss, precision_score, recall_score,\n",
    "                             f1_score)\n",
    "from sklearn.calibration import CalibratedClassifierCV, calibration_curve\n",
    "from sklearn.cross_validation import cross_val_predict\n",
    "from sklearn import linear_model\n",
    "from sklearn.metrics import mean_squared_error, r2_score\n",
    "from sklearn.cross_validation import *\n",
    "from sklearn.model_selection import ShuffleSplit\n",
    "#from sklearn.ensemble import AdaBoostRegressor\n",
    "# from sklearn.ensemble import FairBoostRegressor\n",
    "#from sklearn.tree import DecisionTreeRegressor\n",
    "# from sklearn.model_selection import train_test_split\n",
    "from sklearn.isotonic import IsotonicRegression\n",
    "from sklearn.model_selection import KFold\n",
    "%matplotlib inline\n",
    "%precision %.2f\n",
    "pd.options.display.float_format = '{:,.2f}'.format\n",
    "from random import shuffle\n",
    "import math"
   ]
  },
  {
   "cell_type": "code",
   "execution_count": 50,
   "metadata": {
    "scrolled": false
   },
   "outputs": [
    {
     "name": "stdout",
     "output_type": "stream",
     "text": [
      "75\n",
      "67\n"
     ]
    }
   ],
   "source": [
    "#load data\n",
    "X = pickle.load( open( \"data/processed/x.p\", \"rb\" ) )\n",
    "y = pickle.load( open( \"data/processed/y.p\", \"rb\" ) )\n",
    "g = pickle.load( open( \"data/processed/g.p\", \"rb\" ) )\n",
    "g = np.nan_to_num(g)\n",
    "g0 = np.nan_to_num([i for i,x in enumerate(g) if x==0])\n",
    "g1 = np.nan_to_num([i for i,x in enumerate(g) if x==1])\n",
    "print(len(g0))\n",
    "print(len(g1))"
   ]
  },
  {
   "cell_type": "code",
   "execution_count": 5,
   "metadata": {},
   "outputs": [],
   "source": [
    "#Error metrics\n",
    "\n",
    "#summary of deviation measures - relates to precision/accuracy?\n",
    "# https://en.wikipedia.org/wiki/Deviation_(statistics)#Unsigned_or_absolute_deviation\n",
    "#https://en.wikipedia.org/wiki/Mean_signed_deviation\n",
    "#signed absolute deviation ?\n",
    "# https://en.wikipedia.org/wiki/Average_absolute_deviation\n",
    "#average absolute deviation\n",
    "\n",
    "def get_ae(vals):\n",
    "    return np.sum([math.fabs(x[0]-x[1]) for x in vals])\n",
    "\n",
    "def get_mae(vals):\n",
    "    m = np.sum([math.fabs(x[0]-x[1]) for x in vals])\n",
    "    return m/len(vals)\n",
    "\n",
    "\n",
    "def get_se(vals):\n",
    "    return np.sum([math.pow(x[0]-x[1], 2) for x in vals])\n",
    "    \n",
    "def get_mse(vals):\n",
    "    m = np.sum([math.pow(x[0]-x[1], 2) for x in vals])\n",
    "    return m/len(vals)\n",
    "\n",
    "#overestimate\n",
    "def get_oe(vals):\n",
    "    return np.sum([max(0,x[0]-x[1]) for x in vals])\n",
    "\n",
    "def get_moe(vals):\n",
    "    m = np.sum([max(0,x[0]-x[1]) for x in vals])\n",
    "    return m/len(vals)\n",
    "\n",
    "#underestimate\n",
    "def get_ue(vals):\n",
    "    return np.sum([min(0,x[0]-x[1]) for x in vals])\n",
    "\n",
    "def get_mue(vals):\n",
    "    m = np.sum([min(0,x[0]-x[1]) for x in vals])\n",
    "    return m/len(vals)\n",
    "\n",
    "def get_spear(vals):\n",
    "    a=[x[0] for x in vals]\n",
    "    b=[x[1] for x in vals]\n",
    "    return stats.spearmanr(a,b)[0]\n",
    "\n",
    "error_functs = [get_ae, get_mae, get_se, get_mse, get_oe, get_moe, get_ue, get_mue]\n",
    "##### BIN ERRORS: ###########\n",
    "\n",
    "def get_bin_width(data, n):\n",
    "    return (data.max()-data.min())/(n+1)    \n",
    "\n",
    "def get_error_binned_eq_depth_by_group(points, nbins, error=get_mse):\n",
    "    mse = []\n",
    "    kf = KFold(n_splits=nbins, shuffle=True, random_state=1)\n",
    "    for rest, bin in kf.split(points):\n",
    "        vals = [points.iloc[i] for i in bin]\n",
    "        mse.append(error(vals))\n",
    "    return mse\n",
    "\n",
    "def plot_binned_error(df, error=get_mse):\n",
    "    indices =np.arange(df.shape[0])\n",
    "    #Calculate optimal width\n",
    "    width = 0.3\n",
    "\n",
    "    fig = plt.figure()\n",
    "    ax = fig.add_subplot(111)\n",
    "    ax.bar(indices-width,df[df.columns[0]],width,color='b',label='-Ymin')\n",
    "    ax.bar(indices,df[df.columns[1]],width,color='r',label='Ymax')\n",
    "    ax.set_xlim(left=-1,right=len(df))\n",
    "    ax.set_ylim([0,1])\n",
    "    ax.set_xlabel('Bin')\n",
    "    ax.set_ylabel(error.__name__)\n",
    "    plt.show()\n",
    "    \n",
    "def recomputeBins_no_groups(y_predict, nbins):\n",
    "        #g0 has indexes of objects in X\n",
    "        # get indexes of sorted predictions for group\n",
    "        sorted = np.argsort(y_predict)\n",
    "        binSize=int(np.ceil(float(len(y_predict))/nbins))\n",
    "        bins=[]\n",
    "        b=[]\n",
    "        i=0\n",
    "        j=binSize-1\n",
    "        for n in range(nbins):\n",
    "            k=int(min(j,len(sorted)-1))\n",
    "            bins.append(sorted0[i:k])\n",
    "            i+=binSize\n",
    "            j+=binSize\n",
    "           \n",
    "        return bins\n",
    "\n",
    "def get_calibration_error(y_pred, y, nbins):    \n",
    "    error_vect=np.abs(y_pred - y)\n",
    "    e0=[np.sum([error_vect[i] for i in b]) for b in bins0]\n",
    "    bin_error = np.subtract(e0, e1)\n",
    "    return np.mean(np.abs(bin_error))\n",
    "\n",
    "def recomputeBins(y_predict, g0, g1, nbins):\n",
    "        sorted0 = np.argsort([y_predict[x] for x in g0])\n",
    "        binSize=int(np.ceil(float(len(g0))/nbins))\n",
    "        bins0=[]\n",
    "        b=[]\n",
    "        i=0\n",
    "        j=binSize-1\n",
    "        for n in range(nbins):\n",
    "            k=int(min(j,len(sorted0)-1))\n",
    "            bins0.append([g0[x] for x in sorted0[i:k]])\n",
    "            i+=binSize\n",
    "            j+=binSize\n",
    "        sorted1 = np.argsort([y_predict[x] for x in g1])\n",
    "        binSize=int(np.ceil(float(len(g1))/nbins))\n",
    "        bins1=[]\n",
    "        b=[]\n",
    "        i=0\n",
    "        j=binSize-1\n",
    "        for n in range(nbins):\n",
    "            k=int(min(j,len(sorted0)-1))\n",
    "            bins1.append([g1[x] for x in sorted1[i:k]])\n",
    "            i+=binSize\n",
    "            j+=binSize\n",
    "        return bins0,bins1\n",
    "    \n",
    "def get_fair_error(y_pred, y, g0, g1, nbins):    \n",
    "    bins0,bins1  = recomputeBins(y_pred, g0, g1, nbins)\n",
    "    error_vect=np.abs(y_pred - y)\n",
    "    e0=[np.sum([error_vect[i] for i in b]) for b in bins0]\n",
    "    e1=[np.sum([error_vect[i] for i in b]) for b in bins1]\n",
    "    bin_error = np.subtract(e0, e1)\n",
    "    return np.mean(np.abs(bin_error))"
   ]
  },
  {
   "cell_type": "code",
   "execution_count": 54,
   "metadata": {
    "collapsed": true
   },
   "outputs": [],
   "source": [
    "def get_errors(y_hat, y, g, nbins):\n",
    "    results = pd.DataFrame()\n",
    "    results['pred'] = y_hat\n",
    "    results['y'] = y\n",
    "    results['g'] = g\n",
    "    results = results.sort_values('pred')\n",
    "    results0 = results[results['g']==0]\n",
    "    results1 = results[results['g']==1]\n",
    "    errors = pd.DataFrame()\n",
    "    errors['mse0'] = get_error_binned_eq_depth_by_group(results0, \n",
    "                                                        nbins, error=get_mse)\n",
    "    errors['mse1'] = get_error_binned_eq_depth_by_group(results1, \n",
    "                                                        nbins, error=get_mse)\n",
    "    errors['bin_mse_diff']=errors['mse0']-errors['mse1']\n",
    "    errors['ae0'] = get_error_binned_eq_depth_by_group(results0, \n",
    "                                                      nbins, error=get_ae)\n",
    "    errors['ae1'] = get_error_binned_eq_depth_by_group(results1, \n",
    "                                                        nbins, error=get_ae)\n",
    "    errors['bin_ae_diff']=errors['ae0']-errors['ae1']\n",
    "    errors['oe0'] = get_error_binned_eq_depth_by_group(results0, \n",
    "                                                      nbins, error=get_oe)\n",
    "    errors['oe1'] = get_error_binned_eq_depth_by_group(results1, \n",
    "                                                        nbins, error=get_oe)\n",
    "    errors['bin_oe_diff']=errors['oe0']-errors['oe1']\n",
    "    errors['ue0'] = get_error_binned_eq_depth_by_group(results0, \n",
    "                                                      nbins, error=get_ue)\n",
    "    errors['ue1'] = get_error_binned_eq_depth_by_group(results1, \n",
    "                                                        nbins, error=get_ue)\n",
    "    errors['bin_ue_diff']=errors['ue0']-errors['ue1']\n",
    "    errors['spear0'] = get_error_binned_eq_depth_by_group(results0, \n",
    "                                                      nbins, error=get_spear)\n",
    "    errors['spear1'] = get_error_binned_eq_depth_by_group(results1, \n",
    "                                                        nbins, error=get_spear)\n",
    "    errors['bin_spear_diff']=errors['spear0']-errors['spear1']\n",
    "    return errors"
   ]
  },
  {
   "cell_type": "code",
   "execution_count": null,
   "metadata": {
    "collapsed": true
   },
   "outputs": [],
   "source": []
  },
  {
   "cell_type": "code",
   "execution_count": 150,
   "metadata": {
    "scrolled": false
   },
   "outputs": [
    {
     "name": "stdout",
     "output_type": "stream",
     "text": [
      "training 22\n",
      "training 25\n",
      "calibration 23\n",
      "calibration 24\n",
      "testing 30\n",
      "testing 18\n",
      "\n",
      "training 27\n",
      "training 20\n",
      "calibration 27\n",
      "calibration 21\n",
      "testing 21\n",
      "testing 26\n",
      "\n",
      "training 24\n",
      "training 23\n",
      "calibration 27\n",
      "calibration 21\n",
      "testing 24\n",
      "testing 23\n",
      "\n"
     ]
    }
   ],
   "source": [
    "# 3 fold cross validation,for each split use 25% of the training data for calibration\n",
    "\n",
    "cv_errors ={}\n",
    "kf = KFold(n_splits=3, shuffle=True, random_state=1)\n",
    "i=0\n",
    "for train_index, test_index in kf.split(X):\n",
    "    X_train_full=X[train_index]\n",
    "    X_test=X[test_index]\n",
    "\n",
    "    y_train_full=y[train_index]\n",
    "    y_test=y[test_index]\n",
    "\n",
    "    g_train_full=g[train_index]\n",
    "    g_test=g[test_index]\n",
    "    \n",
    "    ss = ShuffleSplit(n_splits=1, test_size=0.5, random_state=0)\n",
    "    for tr, cal in ss.split(X_train_full): #only 1\n",
    "        X_calibrate=X_train_full[cal]\n",
    "        X_train=X_train_full[tr]\n",
    "        \n",
    "        y_calibrate=y_train_full[cal]\n",
    "        y_train=y_train_full[tr]\n",
    "        \n",
    "        g_calibrate=g_train_full[cal] \n",
    "        g_train=g_train_full[tr]\n",
    "        \n",
    "    \n",
    "    print(\"training\", len(X_train[g_train==0.]))\n",
    "    print(\"training\", len(X_train[g_train==1.]))\n",
    "    print(\"calibration\", len(X_calibrate[g_calibrate==0.]))\n",
    "    print(\"calibration\", len(X_calibrate[g_calibrate==1.]))\n",
    "    print(\"testing\", len(g_test[g_test==0.]))\n",
    "    print(\"testing\", len(g_test[g_test==1.]))\n",
    "\n",
    "    y_pred_baseline = get_baseline_predictions(X_train, y_train, X_test)\n",
    "\n",
    "    y_pred_cal = get_calibrated_predictions(X_train, y_train, X_calibrate, y_calibrate, X_test)\n",
    "    \n",
    "    y_test0 = y_test[g_test ==0.]\n",
    "    print()\n",
    "    y_test1 = y_test[g_test ==1.]\n",
    "    y_test_all = np.append(y_test0, y_test1)\n",
    "    \n",
    "    g_test0 = g_test[g_test ==0.]\n",
    "    g_test1 = g_test[g_test ==1.]\n",
    "    g_test_all = np.append(g_test0, g_test1)\n",
    "    \n",
    "    y_pred0, y_pred1 = get_groupwise_calibrated_predictions(X_train, y_train, X_calibrate, \n",
    "                                                            y_calibrate, g_calibrate, X_test, g_test)\n",
    "    y_pred_all = np.append(y_pred0, y_pred1)\n",
    "    \n",
    "    nbins=3\n",
    "    baseline_errors = get_errors(y_pred_baseline, y_test, g_test, nbins)\n",
    "    calibrate_errors = get_errors(y_pred_cal, y_test, g_test, nbins)\n",
    "    cal_by_group_errors = get_errors(y_pred_all, y_test_all, g_test_all, nbins)\n",
    "    \n",
    "    cv_errors[i] = [baseline_errors, calibrate_errors, cal_by_group_errors]\n",
    "    i+=1\n",
    "\n",
    "#     print(get_errors(y_pred_baseline, y_test, g_test, nbins))\n",
    "#     print(get_errors(y_pred_cal, y_test, g_test, nbins))\n",
    "#     print(get_errors(y_pred_all, y_test_all, g_test_all, nbins))\n",
    "    \n",
    "#     print(\"Baseline mse: \", mean_squared_error(y_pred_baseline, y_test))\n",
    "#     print(\"Calibrate mse: \", mean_squared_error(y_pred_cal, y_test))\n",
    "#     print(\"Calibrate by groups mse: \", mean_squared_error(y_pred_all, y_test_all))\n",
    "\n",
    "#     print(\"Baseline spearman: \", stats.spearmanr(y_pred_baseline, y_test))\n",
    "#     print(\"Calibrate spearman: \", stats.spearmanr(y_pred_cal, y_test))\n",
    "#     print(\"Calibrate by groups spearman: \", stats.spearmanr(y_pred_all, y_test_all))\n",
    "    "
   ]
  },
  {
   "cell_type": "code",
   "execution_count": 151,
   "metadata": {
    "scrolled": true
   },
   "outputs": [
    {
     "data": {
      "text/plain": [
       "{0: [   mse0  mse1  bin_mse_diff  ae0  ae1  bin_ae_diff  oe0  oe1  bin_oe_diff  \\\n",
       "  0  0.21  0.06          0.14 4.11 1.29         2.82 0.98 0.44         0.54   \n",
       "  1  0.07  0.20         -0.13 2.19 2.28        -0.09 0.78 0.74         0.05   \n",
       "  2  0.23  0.08          0.15 4.27 1.51         2.75 1.00 0.60         0.39   \n",
       "  \n",
       "      ue0   ue1  bin_ue_diff  spear0  spear1  bin_spear_diff  \n",
       "  0 -3.12 -0.85        -2.28    0.81    0.93           -0.12  \n",
       "  1 -1.41 -1.54         0.13    0.92    0.94           -0.02  \n",
       "  2 -3.27 -0.91        -2.36    0.91    0.71            0.20  ,\n",
       "     mse0  mse1  bin_mse_diff  ae0  ae1  bin_ae_diff  oe0  oe1  bin_oe_diff  \\\n",
       "  0  0.12  0.13         -0.01 2.90 2.15         0.76 1.59 1.29         0.31   \n",
       "  1  0.19  0.15          0.03 3.45 1.83         1.62 2.34 1.60         0.74   \n",
       "  2  0.21  0.10          0.11 3.69 1.52         2.18 1.35 0.73         0.63   \n",
       "  \n",
       "      ue0   ue1  bin_ue_diff  spear0  spear1  bin_spear_diff  \n",
       "  0 -1.31 -0.86        -0.45    0.84    0.97           -0.13  \n",
       "  1 -1.11 -0.23        -0.89    0.92    0.93           -0.00  \n",
       "  2 -2.34 -0.79        -1.55    0.95    0.67            0.28  ,\n",
       "     mse0  mse1  bin_mse_diff  ae0  ae1  bin_ae_diff  oe0  oe1  bin_oe_diff  \\\n",
       "  0  0.12  0.13         -0.01 2.77 1.85         0.92 1.45 1.42         0.03   \n",
       "  1  0.17  0.15          0.02 3.51 1.77         1.74 2.71 1.06         1.65   \n",
       "  2  0.32  0.10          0.22 4.57 1.79         2.78 2.04 1.18         0.86   \n",
       "  \n",
       "      ue0   ue1  bin_ue_diff  spear0  spear1  bin_spear_diff  \n",
       "  0 -1.33 -0.43        -0.90    0.84    0.89           -0.05  \n",
       "  1 -0.80 -0.71        -0.09    0.92    0.93           -0.01  \n",
       "  2 -2.53 -0.61        -1.92    0.91    0.71            0.19  ],\n",
       " 1: [   mse0  mse1  bin_mse_diff  ae0  ae1  bin_ae_diff  oe0  oe1  bin_oe_diff  \\\n",
       "  0  0.10  0.09          0.01 1.54 1.95        -0.40 0.55 1.64        -1.09   \n",
       "  1  0.05  0.05         -0.00 1.17 1.68        -0.51 1.00 0.54         0.46   \n",
       "  2  0.10  0.07          0.02 1.92 1.87         0.05 1.37 1.01         0.36   \n",
       "  \n",
       "      ue0   ue1  bin_ue_diff  spear0  spear1  bin_spear_diff  \n",
       "  0 -0.99 -0.30        -0.69    0.82    0.85           -0.03  \n",
       "  1 -0.17 -1.14         0.97    0.90    0.98           -0.08  \n",
       "  2 -0.55 -0.87         0.31    0.89    0.90           -0.01  ,\n",
       "     mse0  mse1  bin_mse_diff  ae0  ae1  bin_ae_diff  oe0  oe1  bin_oe_diff  \\\n",
       "  0  0.16  0.09          0.08 2.42 2.15         0.27 0.74 1.37        -0.63   \n",
       "  1  0.03  0.10         -0.07 1.06 2.37        -1.31 0.61 0.00         0.61   \n",
       "  2  0.13  0.08          0.05 1.89 1.77         0.12 1.10 0.34         0.76   \n",
       "  \n",
       "      ue0   ue1  bin_ue_diff  spear0  spear1  bin_spear_diff  \n",
       "  0 -1.68 -0.78        -0.91    0.85    0.85           -0.00  \n",
       "  1 -0.44 -2.37         1.93    0.90    0.99           -0.09  \n",
       "  2 -0.79 -1.44         0.64    0.89    0.79            0.10  ,\n",
       "     mse0  mse1  bin_mse_diff  ae0  ae1  bin_ae_diff  oe0  oe1  bin_oe_diff  \\\n",
       "  0  0.17  0.06          0.11 2.44 2.11         0.33 0.87 0.65         0.23   \n",
       "  1  0.04  0.11         -0.07 1.12 2.33        -1.20 0.85 0.76         0.09   \n",
       "  2  0.10  0.07          0.03 1.72 1.79        -0.07 1.16 0.25         0.91   \n",
       "  \n",
       "      ue0   ue1  bin_ue_diff  spear0  spear1  bin_spear_diff  \n",
       "  0 -1.56 -1.46        -0.10    0.71    0.95           -0.24  \n",
       "  1 -0.27 -1.57         1.29    0.90    0.97           -0.07  \n",
       "  2 -0.56 -1.54         0.98    0.89    0.90           -0.01  ],\n",
       " 2: [   mse0  mse1  bin_mse_diff  ae0  ae1  bin_ae_diff  oe0  oe1  bin_oe_diff  \\\n",
       "  0  0.06  0.12         -0.06 1.52 2.27        -0.75 1.33 1.38        -0.05   \n",
       "  1  0.08  0.11         -0.03 1.81 2.29        -0.48 1.68 1.36         0.31   \n",
       "  2  0.08  0.16         -0.08 1.95 2.44        -0.48 1.38 1.26         0.11   \n",
       "  \n",
       "      ue0   ue1  bin_ue_diff  spear0  spear1  bin_spear_diff  \n",
       "  0 -0.20 -0.89         0.69    0.90    0.87            0.03  \n",
       "  1 -0.13 -0.93         0.80    0.98    0.99           -0.01  \n",
       "  2 -0.58 -1.18         0.60    0.86    0.89           -0.04  ,\n",
       "     mse0  mse1  bin_mse_diff  ae0  ae1  bin_ae_diff  oe0  oe1  bin_oe_diff  \\\n",
       "  0  0.05  0.13         -0.08 1.42 2.59        -1.17 1.32 0.94         0.37   \n",
       "  1  0.07  0.12         -0.05 1.53 2.28        -0.76 1.08 1.99        -0.91   \n",
       "  2  0.08  0.15         -0.06 1.94 2.04        -0.10 1.04 0.92         0.12   \n",
       "  \n",
       "      ue0   ue1  bin_ue_diff  spear0  spear1  bin_spear_diff  \n",
       "  0 -0.11 -1.65         1.54    0.89    0.80            0.09  \n",
       "  1 -0.45 -0.30        -0.15    0.98    0.95            0.03  \n",
       "  2 -0.90 -1.12         0.21    0.92    0.83            0.09  ,\n",
       "     mse0  mse1  bin_mse_diff  ae0  ae1  bin_ae_diff  oe0  oe1  bin_oe_diff  \\\n",
       "  0  0.07  0.14         -0.07 1.61 2.59        -0.98 1.29 1.44        -0.14   \n",
       "  1  0.08  0.14         -0.06 1.45 2.62        -1.17 1.45 1.97        -0.52   \n",
       "  2  0.14  0.24         -0.09 2.67 2.53         0.14 0.89 1.39        -0.50   \n",
       "  \n",
       "      ue0   ue1  bin_ue_diff  spear0  spear1  bin_spear_diff  \n",
       "  0 -0.32 -1.16         0.83    0.90    0.92           -0.02  \n",
       "  1  0.00 -0.65         0.65    0.99    0.99            0.00  \n",
       "  2 -1.78 -1.14        -0.64    0.92    0.87            0.04  ]}"
      ]
     },
     "execution_count": 151,
     "metadata": {},
     "output_type": "execute_result"
    }
   ],
   "source": [
    "cv_errors"
   ]
  },
  {
   "cell_type": "code",
   "execution_count": 152,
   "metadata": {},
   "outputs": [],
   "source": [
    "b = pd.concat([cv_errors[0][0][['bin_mse_diff','bin_oe_diff','bin_ue_diff', 'bin_spear_diff']].abs().sum(),\n",
    "           cv_errors[1][0][['bin_mse_diff','bin_oe_diff','bin_ue_diff', 'bin_spear_diff']].abs().sum(),\n",
    "           cv_errors[2][0][['bin_mse_diff','bin_oe_diff','bin_ue_diff', 'bin_spear_diff']].abs().sum()], axis=1).transpose()\n",
    "c = pd.concat([cv_errors[0][1][['bin_mse_diff','bin_oe_diff','bin_ue_diff', 'bin_spear_diff']].abs().sum(),\n",
    "           cv_errors[1][1][['bin_mse_diff','bin_oe_diff','bin_ue_diff', 'bin_spear_diff']].abs().sum(),\n",
    "           cv_errors[2][1][['bin_mse_diff','bin_oe_diff','bin_ue_diff', 'bin_spear_diff']].abs().sum()], axis=1).transpose()\n",
    "cg = pd.concat([cv_errors[0][2][['bin_mse_diff','bin_oe_diff','bin_ue_diff', 'bin_spear_diff']].abs().sum(),\n",
    "           cv_errors[1][2][['bin_mse_diff','bin_oe_diff','bin_ue_diff', 'bin_spear_diff']].abs().sum(),\n",
    "           cv_errors[2][2][['bin_mse_diff','bin_oe_diff','bin_ue_diff', 'bin_spear_diff']].abs().sum()], axis=1).transpose()"
   ]
  },
  {
   "cell_type": "code",
   "execution_count": 153,
   "metadata": {},
   "outputs": [
    {
     "data": {
      "text/plain": [
       "bin_mse_diff     0.62\n",
       "bin_oe_diff      3.37\n",
       "bin_ue_diff      8.83\n",
       "bin_spear_diff   0.53\n",
       "dtype: float64"
      ]
     },
     "execution_count": 153,
     "metadata": {},
     "output_type": "execute_result"
    }
   ],
   "source": [
    "b.sum()"
   ]
  },
  {
   "cell_type": "code",
   "execution_count": 154,
   "metadata": {},
   "outputs": [
    {
     "data": {
      "text/plain": [
       "bin_mse_diff     0.55\n",
       "bin_oe_diff      5.08\n",
       "bin_ue_diff      8.27\n",
       "bin_spear_diff   0.82\n",
       "dtype: float64"
      ]
     },
     "execution_count": 154,
     "metadata": {},
     "output_type": "execute_result"
    }
   ],
   "source": [
    "c.sum()"
   ]
  },
  {
   "cell_type": "code",
   "execution_count": 155,
   "metadata": {},
   "outputs": [
    {
     "data": {
      "text/plain": [
       "bin_mse_diff     0.69\n",
       "bin_oe_diff      4.92\n",
       "bin_ue_diff      7.41\n",
       "bin_spear_diff   0.63\n",
       "dtype: float64"
      ]
     },
     "execution_count": 155,
     "metadata": {},
     "output_type": "execute_result"
    }
   ],
   "source": [
    "cg.sum()"
   ]
  },
  {
   "cell_type": "code",
   "execution_count": 43,
   "metadata": {
    "collapsed": true
   },
   "outputs": [],
   "source": [
    "def get_baseline_predictions(X_train, y_train, X_test):\n",
    "    \n",
    "    lr = linear_model.LinearRegression()\n",
    "    lr.fit(X_train, y_train)\n",
    "    \n",
    "    return lr.predict(X_test)  "
   ]
  },
  {
   "cell_type": "code",
   "execution_count": 42,
   "metadata": {
    "collapsed": true
   },
   "outputs": [],
   "source": [
    "def get_calibrated_predictions(X_train, y_train, X_cal, y_cal, X_test):\n",
    "    \n",
    "    lr = linear_model.LinearRegression()\n",
    "    lr.fit(X_train, y_train)\n",
    "    \n",
    "    y_pred = lr.predict(X_cal) \n",
    "    ir = IsotonicRegression( out_of_bounds = 'clip' )\n",
    "    ir.fit(y_pred, y_cal)\n",
    "    \n",
    "    return ir.transform(lr.predict(X_test))   "
   ]
  },
  {
   "cell_type": "code",
   "execution_count": 46,
   "metadata": {
    "collapsed": true
   },
   "outputs": [],
   "source": [
    "def get_groupwise_calibrated_predictions(X_train, y_train, X_cal, y_cal, g_cal, X_test, g_test):\n",
    "    \n",
    "    lr = linear_model.LinearRegression()\n",
    "    lr.fit(X_train, y_train)\n",
    "    \n",
    "    y_pred = lr.predict(X_cal) \n",
    "    y_pred0 = y_pred[g_cal ==0.]\n",
    "    y_pred1 = y_pred[g_cal ==1.]\n",
    "    y_cal0 = y_cal[g_cal ==0.]\n",
    "    y_cal1 = y_cal[g_cal ==1.]\n",
    "    X_test0 = X_test[g_test ==0.]\n",
    "    X_test1 = X_test[g_test ==1.]\n",
    "    ir0 = IsotonicRegression( out_of_bounds = 'clip' )\n",
    "    ir0.fit(y_pred0, y_cal0)\n",
    "    ir1 = IsotonicRegression( out_of_bounds = 'clip' )\n",
    "    ir1.fit(y_pred1, y_cal1)\n",
    "    \n",
    "    y_pred0 = ir0.transform(lr.predict(X_test0))  \n",
    "    y_pred1 = ir1.transform(lr.predict(X_test1))\n",
    "    return y_pred0, y_pred1"
   ]
  },
  {
   "cell_type": "code",
   "execution_count": 180,
   "metadata": {
    "collapsed": true
   },
   "outputs": [],
   "source": [
    "#calibrate by groups\n",
    "y_test0 = y_test[g_test==0.]\n",
    "y_test1 = y_test[g_test==1.]\n",
    "y_hat_c0 = [x for i,x in enumerate(y_hat_calibrate) if g_calibrate[i]==0]\n",
    "y_hat_c1 = [x for i,x in enumerate(y_hat_calibrate) if g_calibrate[i]==1]\n",
    "y_c0 = [x for i,x in enumerate(y_calibrate) if g_calibrate[i]==0]\n",
    "y_c1 = [x for i,x in enumerate(y_calibrate) if g_calibrate[i]==1]\n",
    "yhb0 = [x for i,x in enumerate(y_hat_test_baseline) if g_test[i]==0]\n",
    "yhb1 = [x for i,x in enumerate(y_hat_test_baseline) if g_test[i]==1]\n"
   ]
  },
  {
   "cell_type": "code",
   "execution_count": 181,
   "metadata": {
    "collapsed": true
   },
   "outputs": [],
   "source": [
    "ir0 = ir.fit(y_hat_c0, y_c0)\n",
    "ir1 = ir.fit(y_hat_c1, y_c1)\n",
    "y_hat_test_c0 = ir0.transform(yhb0)\n",
    "y_hat_test_c1 = ir1.transform(yhb1)\n",
    "y_hat_test_c_all = np.append(y_hat_test_c0, y_hat_test_c1)\n",
    "y_test_all = np.append(y_test0, y_test1)\n",
    "g_test0 = np.nan_to_num([x for x in g_test if x==0])\n",
    "g_test1 = np.nan_to_num([x for x in g_test if x==1])\n",
    "g_test_all = np.append(g_test0, g_test1)"
   ]
  },
  {
   "cell_type": "code",
   "execution_count": 6,
   "metadata": {},
   "outputs": [
    {
     "ename": "NameError",
     "evalue": "name 'y_hat_test_calibrate' is not defined",
     "output_type": "error",
     "traceback": [
      "\u001b[0;31m---------------------------------------------------------------------------\u001b[0m",
      "\u001b[0;31mNameError\u001b[0m                                 Traceback (most recent call last)",
      "\u001b[0;32m<ipython-input-6-4d0956bf0187>\u001b[0m in \u001b[0;36m<module>\u001b[0;34m()\u001b[0m\n\u001b[1;32m      1\u001b[0m \u001b[0mnbins\u001b[0m\u001b[0;34m=\u001b[0m\u001b[0;36m5\u001b[0m\u001b[0;34m\u001b[0m\u001b[0m\n\u001b[0;32m----> 2\u001b[0;31m bins0, bins1 = recomputeBins(y_hat_test_calibrate,  \n\u001b[0m\u001b[1;32m      3\u001b[0m                               g0_calibrate, g1_calibrate, nbins)\n\u001b[1;32m      4\u001b[0m \u001b[0mprint\u001b[0m\u001b[0;34m(\u001b[0m\u001b[0mbins0\u001b[0m\u001b[0;34m)\u001b[0m\u001b[0;34m\u001b[0m\u001b[0m\n\u001b[1;32m      5\u001b[0m \u001b[0mprint\u001b[0m\u001b[0;34m(\u001b[0m\u001b[0mbins1\u001b[0m\u001b[0;34m)\u001b[0m\u001b[0;34m\u001b[0m\u001b[0m\n",
      "\u001b[0;31mNameError\u001b[0m: name 'y_hat_test_calibrate' is not defined"
     ]
    }
   ],
   "source": [
    "nbins=5\n",
    "bins0, bins1 = recomputeBins(y_hat_test_calibrate,  \n",
    "                              g0_calibrate, g1_calibrate, nbins)\n",
    "print(bins0)\n",
    "print(bins1)\n"
   ]
  },
  {
   "cell_type": "code",
   "execution_count": 182,
   "metadata": {},
   "outputs": [
    {
     "name": "stdout",
     "output_type": "stream",
     "text": [
      "93\n",
      "93\n"
     ]
    }
   ],
   "source": [
    "print(len(y_test_all))\n",
    "print(len(y_hat_test_c_all ))"
   ]
  },
  {
   "cell_type": "code",
   "execution_count": 193,
   "metadata": {},
   "outputs": [
    {
     "name": "stdout",
     "output_type": "stream",
     "text": [
      "Baseline:  0.192368091238\n",
      "Calibrate:  0.191341254514\n",
      "Calibrate by groups:  0.178985702403\n",
      "Baseline spearman:  SpearmanrResult(correlation=0.9156122704404589, pvalue=8.8986318315555927e-38)\n",
      "Calibrate spearman:  SpearmanrResult(correlation=0.90386908674635402, pvalue=2.557628804730265e-35)\n",
      "Calibrate by groups spearman:  SpearmanrResult(correlation=0.91449393640068988, pvalue=1.5792552755417326e-37)\n"
     ]
    }
   ],
   "source": [
    "print(\"Baseline: \", mean_squared_error(y_hat_test_baseline, y_test))\n",
    "print(\"Calibrate: \", mean_squared_error(y_hat_test_calibrate, y_test))\n",
    "print(\"Calibrate by groups: \", mean_squared_error(y_hat_test_c_all, y_test_all))\n",
    "\n",
    "print(\"Baseline spearman: \", stats.spearmanr(y_hat_test_baseline, y_test))\n",
    "print(\"Calibrate spearman: \", stats.spearmanr(y_hat_test_calibrate, y_test))\n",
    "print(\"Calibrate by groups spearman: \", stats.spearmanr(y_hat_test_c_all, y_test_all))\n"
   ]
  },
  {
   "cell_type": "code",
   "execution_count": 192,
   "metadata": {
    "collapsed": true
   },
   "outputs": [],
   "source": [
    "# baseline_errors = get_errors(y_hat_test_baseline, y_test, g_test, nbins)\n",
    "# calibrate_errors = get_errors(y_hat_test_calibrate, y_test, g_test, nbins)\n",
    "# cal_by_group_errors = get_errors(y_hat_test_c_all, y_test_all, g_test_all, nbins)\n",
    "\n",
    "baseline_errors = get_errors(y_hat_test_baseline, y_test, g_test, nbins)\n",
    "calibrate_errors = get_errors(y_hat_test_calibrate, y_test, g_test, nbins)\n",
    "cal_by_group_errors = get_errors(y_hat_test_c_all, y_test_all, g_test_all, nbins)"
   ]
  },
  {
   "cell_type": "code",
   "execution_count": 185,
   "metadata": {},
   "outputs": [
    {
     "data": {
      "text/html": [
       "<div>\n",
       "<style>\n",
       "    .dataframe thead tr:only-child th {\n",
       "        text-align: right;\n",
       "    }\n",
       "\n",
       "    .dataframe thead th {\n",
       "        text-align: left;\n",
       "    }\n",
       "\n",
       "    .dataframe tbody tr th {\n",
       "        vertical-align: top;\n",
       "    }\n",
       "</style>\n",
       "<table border=\"1\" class=\"dataframe\">\n",
       "  <thead>\n",
       "    <tr style=\"text-align: right;\">\n",
       "      <th></th>\n",
       "      <th>mse0</th>\n",
       "      <th>mse1</th>\n",
       "      <th>bin_mse_diff</th>\n",
       "      <th>ae0</th>\n",
       "      <th>ae1</th>\n",
       "      <th>bin_ae_diff</th>\n",
       "      <th>oe0</th>\n",
       "      <th>oe1</th>\n",
       "      <th>bin_oe_diff</th>\n",
       "      <th>ue0</th>\n",
       "      <th>ue1</th>\n",
       "      <th>bin_ue_diff</th>\n",
       "      <th>spear0</th>\n",
       "      <th>spear1</th>\n",
       "      <th>bin_spear_diff</th>\n",
       "    </tr>\n",
       "  </thead>\n",
       "  <tbody>\n",
       "    <tr>\n",
       "      <th>0</th>\n",
       "      <td>0.16</td>\n",
       "      <td>0.39</td>\n",
       "      <td>-0.22</td>\n",
       "      <td>3.43</td>\n",
       "      <td>5.00</td>\n",
       "      <td>-1.57</td>\n",
       "      <td>0.60</td>\n",
       "      <td>1.11</td>\n",
       "      <td>-0.51</td>\n",
       "      <td>-2.83</td>\n",
       "      <td>-3.88</td>\n",
       "      <td>1.05</td>\n",
       "      <td>0.85</td>\n",
       "      <td>0.87</td>\n",
       "      <td>-0.01</td>\n",
       "    </tr>\n",
       "    <tr>\n",
       "      <th>1</th>\n",
       "      <td>0.23</td>\n",
       "      <td>0.16</td>\n",
       "      <td>0.07</td>\n",
       "      <td>3.92</td>\n",
       "      <td>2.57</td>\n",
       "      <td>1.35</td>\n",
       "      <td>1.20</td>\n",
       "      <td>0.53</td>\n",
       "      <td>0.67</td>\n",
       "      <td>-2.72</td>\n",
       "      <td>-2.04</td>\n",
       "      <td>-0.68</td>\n",
       "      <td>0.70</td>\n",
       "      <td>0.92</td>\n",
       "      <td>-0.22</td>\n",
       "    </tr>\n",
       "    <tr>\n",
       "      <th>2</th>\n",
       "      <td>0.27</td>\n",
       "      <td>0.19</td>\n",
       "      <td>0.08</td>\n",
       "      <td>3.91</td>\n",
       "      <td>3.18</td>\n",
       "      <td>0.74</td>\n",
       "      <td>0.47</td>\n",
       "      <td>0.97</td>\n",
       "      <td>-0.50</td>\n",
       "      <td>-3.44</td>\n",
       "      <td>-2.21</td>\n",
       "      <td>-1.23</td>\n",
       "      <td>0.97</td>\n",
       "      <td>0.87</td>\n",
       "      <td>0.10</td>\n",
       "    </tr>\n",
       "    <tr>\n",
       "      <th>3</th>\n",
       "      <td>0.20</td>\n",
       "      <td>0.09</td>\n",
       "      <td>0.11</td>\n",
       "      <td>3.17</td>\n",
       "      <td>2.08</td>\n",
       "      <td>1.09</td>\n",
       "      <td>1.82</td>\n",
       "      <td>1.14</td>\n",
       "      <td>0.68</td>\n",
       "      <td>-1.36</td>\n",
       "      <td>-0.95</td>\n",
       "      <td>-0.41</td>\n",
       "      <td>0.87</td>\n",
       "      <td>0.98</td>\n",
       "      <td>-0.12</td>\n",
       "    </tr>\n",
       "    <tr>\n",
       "      <th>4</th>\n",
       "      <td>0.11</td>\n",
       "      <td>0.09</td>\n",
       "      <td>0.02</td>\n",
       "      <td>2.47</td>\n",
       "      <td>2.25</td>\n",
       "      <td>0.21</td>\n",
       "      <td>0.93</td>\n",
       "      <td>0.65</td>\n",
       "      <td>0.28</td>\n",
       "      <td>-1.53</td>\n",
       "      <td>-1.60</td>\n",
       "      <td>0.07</td>\n",
       "      <td>0.89</td>\n",
       "      <td>0.87</td>\n",
       "      <td>0.02</td>\n",
       "    </tr>\n",
       "  </tbody>\n",
       "</table>\n",
       "</div>"
      ],
      "text/plain": [
       "   mse0  mse1  bin_mse_diff  ae0  ae1  bin_ae_diff  oe0  oe1  bin_oe_diff  \\\n",
       "0  0.16  0.39         -0.22 3.43 5.00        -1.57 0.60 1.11        -0.51   \n",
       "1  0.23  0.16          0.07 3.92 2.57         1.35 1.20 0.53         0.67   \n",
       "2  0.27  0.19          0.08 3.91 3.18         0.74 0.47 0.97        -0.50   \n",
       "3  0.20  0.09          0.11 3.17 2.08         1.09 1.82 1.14         0.68   \n",
       "4  0.11  0.09          0.02 2.47 2.25         0.21 0.93 0.65         0.28   \n",
       "\n",
       "    ue0   ue1  bin_ue_diff  spear0  spear1  bin_spear_diff  \n",
       "0 -2.83 -3.88         1.05    0.85    0.87           -0.01  \n",
       "1 -2.72 -2.04        -0.68    0.70    0.92           -0.22  \n",
       "2 -3.44 -2.21        -1.23    0.97    0.87            0.10  \n",
       "3 -1.36 -0.95        -0.41    0.87    0.98           -0.12  \n",
       "4 -1.53 -1.60         0.07    0.89    0.87            0.02  "
      ]
     },
     "execution_count": 185,
     "metadata": {},
     "output_type": "execute_result"
    }
   ],
   "source": [
    "baseline_errors"
   ]
  },
  {
   "cell_type": "code",
   "execution_count": 186,
   "metadata": {},
   "outputs": [
    {
     "data": {
      "text/html": [
       "<div>\n",
       "<style>\n",
       "    .dataframe thead tr:only-child th {\n",
       "        text-align: right;\n",
       "    }\n",
       "\n",
       "    .dataframe thead th {\n",
       "        text-align: left;\n",
       "    }\n",
       "\n",
       "    .dataframe tbody tr th {\n",
       "        vertical-align: top;\n",
       "    }\n",
       "</style>\n",
       "<table border=\"1\" class=\"dataframe\">\n",
       "  <thead>\n",
       "    <tr style=\"text-align: right;\">\n",
       "      <th></th>\n",
       "      <th>mse0</th>\n",
       "      <th>mse1</th>\n",
       "      <th>bin_mse_diff</th>\n",
       "      <th>ae0</th>\n",
       "      <th>ae1</th>\n",
       "      <th>bin_ae_diff</th>\n",
       "      <th>oe0</th>\n",
       "      <th>oe1</th>\n",
       "      <th>bin_oe_diff</th>\n",
       "      <th>ue0</th>\n",
       "      <th>ue1</th>\n",
       "      <th>bin_ue_diff</th>\n",
       "      <th>spear0</th>\n",
       "      <th>spear1</th>\n",
       "      <th>bin_spear_diff</th>\n",
       "    </tr>\n",
       "  </thead>\n",
       "  <tbody>\n",
       "    <tr>\n",
       "      <th>0</th>\n",
       "      <td>0.17</td>\n",
       "      <td>0.09</td>\n",
       "      <td>0.08</td>\n",
       "      <td>3.28</td>\n",
       "      <td>2.49</td>\n",
       "      <td>0.79</td>\n",
       "      <td>2.49</td>\n",
       "      <td>1.34</td>\n",
       "      <td>1.15</td>\n",
       "      <td>-0.79</td>\n",
       "      <td>-1.15</td>\n",
       "      <td>0.36</td>\n",
       "      <td>0.92</td>\n",
       "      <td>0.87</td>\n",
       "      <td>0.05</td>\n",
       "    </tr>\n",
       "    <tr>\n",
       "      <th>1</th>\n",
       "      <td>0.28</td>\n",
       "      <td>0.40</td>\n",
       "      <td>-0.12</td>\n",
       "      <td>4.25</td>\n",
       "      <td>4.72</td>\n",
       "      <td>-0.47</td>\n",
       "      <td>2.99</td>\n",
       "      <td>2.30</td>\n",
       "      <td>0.69</td>\n",
       "      <td>-1.25</td>\n",
       "      <td>-2.42</td>\n",
       "      <td>1.17</td>\n",
       "      <td>0.81</td>\n",
       "      <td>0.53</td>\n",
       "      <td>0.27</td>\n",
       "    </tr>\n",
       "    <tr>\n",
       "      <th>2</th>\n",
       "      <td>0.09</td>\n",
       "      <td>0.15</td>\n",
       "      <td>-0.06</td>\n",
       "      <td>1.87</td>\n",
       "      <td>2.30</td>\n",
       "      <td>-0.43</td>\n",
       "      <td>0.23</td>\n",
       "      <td>1.20</td>\n",
       "      <td>-0.97</td>\n",
       "      <td>-1.64</td>\n",
       "      <td>-1.09</td>\n",
       "      <td>-0.54</td>\n",
       "      <td>0.97</td>\n",
       "      <td>0.91</td>\n",
       "      <td>0.06</td>\n",
       "    </tr>\n",
       "    <tr>\n",
       "      <th>3</th>\n",
       "      <td>0.27</td>\n",
       "      <td>0.10</td>\n",
       "      <td>0.17</td>\n",
       "      <td>3.50</td>\n",
       "      <td>2.35</td>\n",
       "      <td>1.14</td>\n",
       "      <td>1.03</td>\n",
       "      <td>1.30</td>\n",
       "      <td>-0.27</td>\n",
       "      <td>-2.47</td>\n",
       "      <td>-1.05</td>\n",
       "      <td>-1.42</td>\n",
       "      <td>0.90</td>\n",
       "      <td>0.93</td>\n",
       "      <td>-0.03</td>\n",
       "    </tr>\n",
       "    <tr>\n",
       "      <th>4</th>\n",
       "      <td>0.18</td>\n",
       "      <td>0.19</td>\n",
       "      <td>-0.01</td>\n",
       "      <td>2.90</td>\n",
       "      <td>3.28</td>\n",
       "      <td>-0.38</td>\n",
       "      <td>0.32</td>\n",
       "      <td>1.62</td>\n",
       "      <td>-1.29</td>\n",
       "      <td>-2.58</td>\n",
       "      <td>-1.66</td>\n",
       "      <td>-0.92</td>\n",
       "      <td>0.91</td>\n",
       "      <td>0.96</td>\n",
       "      <td>-0.05</td>\n",
       "    </tr>\n",
       "  </tbody>\n",
       "</table>\n",
       "</div>"
      ],
      "text/plain": [
       "   mse0  mse1  bin_mse_diff  ae0  ae1  bin_ae_diff  oe0  oe1  bin_oe_diff  \\\n",
       "0  0.17  0.09          0.08 3.28 2.49         0.79 2.49 1.34         1.15   \n",
       "1  0.28  0.40         -0.12 4.25 4.72        -0.47 2.99 2.30         0.69   \n",
       "2  0.09  0.15         -0.06 1.87 2.30        -0.43 0.23 1.20        -0.97   \n",
       "3  0.27  0.10          0.17 3.50 2.35         1.14 1.03 1.30        -0.27   \n",
       "4  0.18  0.19         -0.01 2.90 3.28        -0.38 0.32 1.62        -1.29   \n",
       "\n",
       "    ue0   ue1  bin_ue_diff  spear0  spear1  bin_spear_diff  \n",
       "0 -0.79 -1.15         0.36    0.92    0.87            0.05  \n",
       "1 -1.25 -2.42         1.17    0.81    0.53            0.27  \n",
       "2 -1.64 -1.09        -0.54    0.97    0.91            0.06  \n",
       "3 -2.47 -1.05        -1.42    0.90    0.93           -0.03  \n",
       "4 -2.58 -1.66        -0.92    0.91    0.96           -0.05  "
      ]
     },
     "execution_count": 186,
     "metadata": {},
     "output_type": "execute_result"
    }
   ],
   "source": [
    "calibrate_errors"
   ]
  },
  {
   "cell_type": "code",
   "execution_count": 187,
   "metadata": {},
   "outputs": [
    {
     "data": {
      "text/html": [
       "<div>\n",
       "<style>\n",
       "    .dataframe thead tr:only-child th {\n",
       "        text-align: right;\n",
       "    }\n",
       "\n",
       "    .dataframe thead th {\n",
       "        text-align: left;\n",
       "    }\n",
       "\n",
       "    .dataframe tbody tr th {\n",
       "        vertical-align: top;\n",
       "    }\n",
       "</style>\n",
       "<table border=\"1\" class=\"dataframe\">\n",
       "  <thead>\n",
       "    <tr style=\"text-align: right;\">\n",
       "      <th></th>\n",
       "      <th>mse0</th>\n",
       "      <th>mse1</th>\n",
       "      <th>bin_mse_diff</th>\n",
       "      <th>ae0</th>\n",
       "      <th>ae1</th>\n",
       "      <th>bin_ae_diff</th>\n",
       "      <th>oe0</th>\n",
       "      <th>oe1</th>\n",
       "      <th>bin_oe_diff</th>\n",
       "      <th>ue0</th>\n",
       "      <th>ue1</th>\n",
       "      <th>bin_ue_diff</th>\n",
       "      <th>spear0</th>\n",
       "      <th>spear1</th>\n",
       "      <th>bin_spear_diff</th>\n",
       "    </tr>\n",
       "  </thead>\n",
       "  <tbody>\n",
       "    <tr>\n",
       "      <th>0</th>\n",
       "      <td>0.17</td>\n",
       "      <td>0.17</td>\n",
       "      <td>0.00</td>\n",
       "      <td>3.12</td>\n",
       "      <td>3.41</td>\n",
       "      <td>-0.29</td>\n",
       "      <td>1.85</td>\n",
       "      <td>2.34</td>\n",
       "      <td>-0.49</td>\n",
       "      <td>-1.27</td>\n",
       "      <td>-1.07</td>\n",
       "      <td>-0.20</td>\n",
       "      <td>0.85</td>\n",
       "      <td>0.92</td>\n",
       "      <td>-0.07</td>\n",
       "    </tr>\n",
       "    <tr>\n",
       "      <th>1</th>\n",
       "      <td>0.23</td>\n",
       "      <td>0.14</td>\n",
       "      <td>0.09</td>\n",
       "      <td>3.86</td>\n",
       "      <td>2.62</td>\n",
       "      <td>1.24</td>\n",
       "      <td>3.61</td>\n",
       "      <td>1.28</td>\n",
       "      <td>2.33</td>\n",
       "      <td>-0.25</td>\n",
       "      <td>-1.34</td>\n",
       "      <td>1.09</td>\n",
       "      <td>0.84</td>\n",
       "      <td>0.90</td>\n",
       "      <td>-0.07</td>\n",
       "    </tr>\n",
       "    <tr>\n",
       "      <th>2</th>\n",
       "      <td>0.13</td>\n",
       "      <td>0.22</td>\n",
       "      <td>-0.10</td>\n",
       "      <td>2.74</td>\n",
       "      <td>3.38</td>\n",
       "      <td>-0.63</td>\n",
       "      <td>1.28</td>\n",
       "      <td>2.76</td>\n",
       "      <td>-1.48</td>\n",
       "      <td>-1.46</td>\n",
       "      <td>-0.62</td>\n",
       "      <td>-0.84</td>\n",
       "      <td>0.97</td>\n",
       "      <td>0.92</td>\n",
       "      <td>0.05</td>\n",
       "    </tr>\n",
       "    <tr>\n",
       "      <th>3</th>\n",
       "      <td>0.34</td>\n",
       "      <td>0.17</td>\n",
       "      <td>0.17</td>\n",
       "      <td>4.37</td>\n",
       "      <td>3.00</td>\n",
       "      <td>1.37</td>\n",
       "      <td>2.58</td>\n",
       "      <td>2.05</td>\n",
       "      <td>0.53</td>\n",
       "      <td>-1.79</td>\n",
       "      <td>-0.95</td>\n",
       "      <td>-0.84</td>\n",
       "      <td>0.88</td>\n",
       "      <td>0.92</td>\n",
       "      <td>-0.04</td>\n",
       "    </tr>\n",
       "    <tr>\n",
       "      <th>4</th>\n",
       "      <td>0.06</td>\n",
       "      <td>0.16</td>\n",
       "      <td>-0.10</td>\n",
       "      <td>2.03</td>\n",
       "      <td>2.45</td>\n",
       "      <td>-0.42</td>\n",
       "      <td>1.16</td>\n",
       "      <td>2.00</td>\n",
       "      <td>-0.84</td>\n",
       "      <td>-0.87</td>\n",
       "      <td>-0.45</td>\n",
       "      <td>-0.42</td>\n",
       "      <td>0.90</td>\n",
       "      <td>0.87</td>\n",
       "      <td>0.03</td>\n",
       "    </tr>\n",
       "  </tbody>\n",
       "</table>\n",
       "</div>"
      ],
      "text/plain": [
       "   mse0  mse1  bin_mse_diff  ae0  ae1  bin_ae_diff  oe0  oe1  bin_oe_diff  \\\n",
       "0  0.17  0.17          0.00 3.12 3.41        -0.29 1.85 2.34        -0.49   \n",
       "1  0.23  0.14          0.09 3.86 2.62         1.24 3.61 1.28         2.33   \n",
       "2  0.13  0.22         -0.10 2.74 3.38        -0.63 1.28 2.76        -1.48   \n",
       "3  0.34  0.17          0.17 4.37 3.00         1.37 2.58 2.05         0.53   \n",
       "4  0.06  0.16         -0.10 2.03 2.45        -0.42 1.16 2.00        -0.84   \n",
       "\n",
       "    ue0   ue1  bin_ue_diff  spear0  spear1  bin_spear_diff  \n",
       "0 -1.27 -1.07        -0.20    0.85    0.92           -0.07  \n",
       "1 -0.25 -1.34         1.09    0.84    0.90           -0.07  \n",
       "2 -1.46 -0.62        -0.84    0.97    0.92            0.05  \n",
       "3 -1.79 -0.95        -0.84    0.88    0.92           -0.04  \n",
       "4 -0.87 -0.45        -0.42    0.90    0.87            0.03  "
      ]
     },
     "execution_count": 187,
     "metadata": {},
     "output_type": "execute_result"
    }
   ],
   "source": [
    "cal_by_group_errors"
   ]
  },
  {
   "cell_type": "code",
   "execution_count": 191,
   "metadata": {},
   "outputs": [
    {
     "name": "stdout",
     "output_type": "stream",
     "text": [
      "baseline fair error mse:  0.1012496010089466\n",
      "baseline fair error ae:  0.9923247087413823\n",
      "baseline fair error spear:  0.09325186165846848\n",
      "calibration fair error mse:  0.08714470247965984\n",
      "calibration fair error ae:  0.6420802961981933\n",
      "calibration fair error aspear:  0.09426302903732034\n",
      "cal by group fair error mse:  0.09109816561742294\n",
      "cal by group fair error ae:  0.7903676579668524\n",
      "cal by group fair error spear:  0.050241195715621446\n"
     ]
    }
   ],
   "source": [
    "print(\"baseline fair error mse: \", baseline_errors['bin_mse_diff'].abs().mean())\n",
    "print(\"baseline fair error ae: \", baseline_errors['bin_ae_diff'].abs().mean())\n",
    "print(\"baseline fair error spear: \", baseline_errors['bin_spear_diff'].abs().mean())\n",
    "\n",
    "print(\"calibration fair error mse: \", calibrate_errors['bin_mse_diff'].abs().mean())\n",
    "print(\"calibration fair error ae: \", calibrate_errors['bin_ae_diff'].abs().mean())\n",
    "print(\"calibration fair error aspear: \", calibrate_errors['bin_spear_diff'].abs().mean())\n",
    "\n",
    "print(\"cal by group fair error mse: \", cal_by_group_errors['bin_mse_diff'].abs().mean())\n",
    "print(\"cal by group fair error ae: \", cal_by_group_errors['bin_ae_diff'].abs().mean())\n",
    "print(\"cal by group fair error spear: \", cal_by_group_errors['bin_spear_diff'].abs().mean())"
   ]
  },
  {
   "cell_type": "code",
   "execution_count": 197,
   "metadata": {
    "scrolled": false
   },
   "outputs": [
    {
     "name": "stdout",
     "output_type": "stream",
     "text": [
      "Absolute\n"
     ]
    },
    {
     "data": {
      "image/png": "[encoded data removed]",
      "text/plain": [
       "<matplotlib.figure.Figure at 0x7f55d14b4320>"
      ]
     },
     "metadata": {},
     "output_type": "display_data"
    },
    {
     "data": {
      "image/png": "[encoded data removed]",
      "text/plain": [
       "<matplotlib.figure.Figure at 0x7f55d1427f60>"
      ]
     },
     "metadata": {},
     "output_type": "display_data"
    },
    {
     "data": {
      "image/png": "[encoded data removed]",
      "text/plain": [
       "<matplotlib.figure.Figure at 0x7f55d1703828>"
      ]
     },
     "metadata": {},
     "output_type": "display_data"
    },
    {
     "name": "stdout",
     "output_type": "stream",
     "text": [
      "Overestimation\n"
     ]
    },
    {
     "data": {
      "image/png": "[encoded data removed]",
      "text/plain": [
       "<matplotlib.figure.Figure at 0x7f55d1585588>"
      ]
     },
     "metadata": {},
     "output_type": "display_data"
    },
    {
     "data": {
      "image/png": "[encoded data removed]",
      "text/plain": [
       "<matplotlib.figure.Figure at 0x7f55d171e6d8>"
      ]
     },
     "metadata": {},
     "output_type": "display_data"
    },
    {
     "data": {
      "image/png": "[encoded data removed]",
      "text/plain": [
       "<matplotlib.figure.Figure at 0x7f55d1617828>"
      ]
     },
     "metadata": {},
     "output_type": "display_data"
    },
    {
     "name": "stdout",
     "output_type": "stream",
     "text": [
      "Underestimation\n"
     ]
    },
    {
     "data": {
      "image/png": "[encoded data removed]",
      "text/plain": [
       "<matplotlib.figure.Figure at 0x7f55d13982e8>"
      ]
     },
     "metadata": {},
     "output_type": "display_data"
    },
    {
     "data": {
      "image/png": "[encoded data removed]",
      "text/plain": [
       "<matplotlib.figure.Figure at 0x7f55e0023e80>"
      ]
     },
     "metadata": {},
     "output_type": "display_data"
    },
    {
     "data": {
      "image/png": "[encoded data removed]",
      "text/plain": [
       "<matplotlib.figure.Figure at 0x7f55d133ff60>"
      ]
     },
     "metadata": {},
     "output_type": "display_data"
    },
    {
     "name": "stdout",
     "output_type": "stream",
     "text": [
      "Spear\n"
     ]
    },
    {
     "data": {
      "image/png": "[encoded data removed]",
      "text/plain": [
       "<matplotlib.figure.Figure at 0x7f55e5c2a710>"
      ]
     },
     "metadata": {},
     "output_type": "display_data"
    },
    {
     "data": {
      "image/png": "[encoded data removed]",
      "text/plain": [
       "<matplotlib.figure.Figure at 0x7f55e024bb70>"
      ]
     },
     "metadata": {},
     "output_type": "display_data"
    },
    {
     "data": {
      "image/png": "[encoded data removed]",
      "text/plain": [
       "<matplotlib.figure.Figure at 0x7f55d1653160>"
      ]
     },
     "metadata": {},
     "output_type": "display_data"
    }
   ],
   "source": [
    "print(\"Absolute\")\n",
    "plot_error(baseline_errors, 3,4)\n",
    "plot_error(calibrate_errors, 3,4)\n",
    "plot_error(cal_by_group_errors,3,4)\n",
    "print(\"Overestimation\")\n",
    "plot_error(baseline_errors, 6,7)\n",
    "plot_error(calibrate_errors, 6,7)\n",
    "plot_error(cal_by_group_errors,6,7)\n",
    "print(\"Underestimation\")\n",
    "plot_error(baseline_errors, 9,10)\n",
    "plot_error(calibrate_errors, 9,10)\n",
    "plot_error(cal_by_group_errors,9,10)\n",
    "print(\"Spear\")\n",
    "plot_error(baseline_errors, 12,13)\n",
    "plot_error(calibrate_errors, 12,13)\n",
    "plot_error(cal_by_group_errors,12,13)"
   ]
  },
  {
   "cell_type": "code",
   "execution_count": 189,
   "metadata": {},
   "outputs": [
    {
     "data": {
      "image/png": "[encoded data removed]",
      "text/plain": [
       "<matplotlib.figure.Figure at 0x7f55d162e978>"
      ]
     },
     "metadata": {},
     "output_type": "display_data"
    },
    {
     "data": {
      "image/png": "[encoded data removed]",
      "text/plain": [
       "<matplotlib.figure.Figure at 0x7f55d162ef60>"
      ]
     },
     "metadata": {},
     "output_type": "display_data"
    },
    {
     "data": {
      "image/png": "[encoded data removed]",
      "text/plain": [
       "<matplotlib.figure.Figure at 0x7f55d1560668>"
      ]
     },
     "metadata": {},
     "output_type": "display_data"
    }
   ],
   "source": [
    "plot_binned_error(baseline_errors)\n",
    "plot_binned_error(calibrate_errors)\n",
    "plot_binned_error(cal_by_group_errors)"
   ]
  },
  {
   "cell_type": "code",
   "execution_count": null,
   "metadata": {
    "collapsed": true
   },
   "outputs": [],
   "source": []
  },
  {
   "cell_type": "code",
   "execution_count": 196,
   "metadata": {
    "collapsed": true
   },
   "outputs": [],
   "source": [
    "def plot_error(df, i, j, error=get_mse):\n",
    "    indices =np.arange(df.shape[0])\n",
    "    #Calculate optimal width\n",
    "    width = 0.3\n",
    "\n",
    "    fig = plt.figure()\n",
    "    ax = fig.add_subplot(111)\n",
    "    ax.bar(indices-width,df[df.columns[i]],width,color='b',label='-Ymin')\n",
    "    ax.bar(indices,df[df.columns[j]],width,color='r',label='Ymax')\n",
    "    ax.set_xlim(left=-1,right=len(df))\n",
    "#     ax.set_ylim([0,1])\n",
    "    ax.set_xlabel('Bin')\n",
    "    ax.set_ylabel(error.__name__)\n",
    "    plt.show()"
   ]
  },
  {
   "cell_type": "code",
   "execution_count": null,
   "metadata": {
    "collapsed": true
   },
   "outputs": [],
   "source": []
  },
  {
   "cell_type": "code",
   "execution_count": 134,
   "metadata": {
    "collapsed": true,
    "scrolled": false
   },
   "outputs": [],
   "source": [
    "#kf = KFold(n_splits=2, shuffle=True, random_state=1)\n",
    "\n",
    "#nbins = 10"
   ]
  },
  {
   "cell_type": "code",
   "execution_count": 135,
   "metadata": {
    "collapsed": true
   },
   "outputs": [],
   "source": [
    "# for train_index, test_index, in kf.split(X):\n",
    "#     dt = DecisionTreeRegressor(max_depth=4)\n",
    "#     dt.fit(X[train_index],y[train_index])\n",
    "#     dt_pred = dt.predict(X[test_index])\n",
    "#     clf_isotonic = CalibratedRegressor(dt, cv=\"prefit\", method='isotonic')\n",
    "#     clf_isotonic.fit(X[train_index], y[train_index])\n",
    "#     prob_pos_isotonic = clf_isotonic.predict_proba(X_test)[:, 1]\n",
    "#     print('\\n decision tree error: ', mean_squared_error(dt_pred, y[test_index]))\n",
    "\n",
    "#     g0 = [i for i,x in enumerate(g[test_index]) if x==0]\n",
    "#     g1 = [i for i,x in enumerate(g[test_index]) if x==1]\n",
    "#     bins0,bins1  = recomputeBins(dt_pred, g0, g1, nbins)\n",
    "#     error_vect=np.abs(dt_pred - y[test_index])\n",
    "#     e0=[np.sum([error_vect[i] for i in b]) for b in bins0]\n",
    "#     e1=[np.sum([error_vect[i] for i in b]) for b in bins1]\n",
    "#     bin_error = np.subtract(e0, e1)\n",
    "#     print(\"dt fair error: \", np.mean(np.abs(bin_error)))\n",
    "\n",
    "#     ### PLOTTING ###\n",
    "#     results = pd.DataFrame()\n",
    "#     results['pred'] = dt_pred\n",
    "#     results['y'] = y[test_index]\n",
    "#     results['g'] = g[test_index]\n",
    "#     results = results.sort_values('pred')\n",
    "#     results0 = results[results['g']==0]\n",
    "#     print (\"group0: \", results0.shape)\n",
    "#     results1 = results[results['g']==1]\n",
    "#     print (\"group1: \", results1.shape)\n",
    "\n",
    "#     mse_df_depth = pd.DataFrame()\n",
    "#     mse_df_depth['mse0'] = get_error_binned_eq_depth_by_group(results0, nbins, error=get_mse)\n",
    "#     mse_df_depth['mse1'] = get_error_binned_eq_depth_by_group(results1, nbins, error=get_mse)\n",
    "#     plot_binned_error(mse_df_depth)"
   ]
  },
  {
   "cell_type": "code",
   "execution_count": null,
   "metadata": {
    "collapsed": true
   },
   "outputs": [],
   "source": []
  },
  {
   "cell_type": "markdown",
   "metadata": {},
   "source": [
    "TODO:\n",
    "    Not producing any consistent results\n",
    "    Try different ways of updating the weights bin-wise\n",
    "    is error being computed as mse? investigate error_vect\n",
    "    read up on non-differentiable error in boosting. Are we just jumping around?\n",
    "    try plotting change in bin_error over iterations"
   ]
  }
 ],
 "metadata": {
  "kernelspec": {
   "display_name": "Python 3",
   "language": "python",
   "name": "python3"
  },
  "language_info": {
   "codemirror_mode": {
    "name": "ipython",
    "version": 3
   },
   "file_extension": ".py",
   "mimetype": "text/x-python",
   "name": "python",
   "nbconvert_exporter": "python",
   "pygments_lexer": "ipython3",
   "version": "3.6.3"
  }
 },
 "nbformat": 4,
 "nbformat_minor": 2
}
