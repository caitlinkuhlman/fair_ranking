{
 "cells": [
  {
   "cell_type": "code",
   "execution_count": 4,
   "metadata": {},
   "outputs": [],
   "source": [
    "\n",
    "import sys\n",
    "sys.path.insert(0, \"FA_IR\")\n",
    "import pandas as pd\n",
    "from pandas.io.json import json_normalize  \n",
    "import os, sys\n",
    "import argparse\n",
    "import pickle\n",
    "import numpy as np\n",
    "from FA_IR.post_processing_methods.fair_ranker.create import feldmanRanking\n",
    "from FA_IR.post_processing_methods.fair_ranker.test import FairnessInRankingsTester\n",
    "from FA_IR.utilsAndConstants.constants import ESSENTIALLY_ZERO\n",
    "from FA_IR.utilsAndConstants.utils import setMemoryLimit\n",
    "from dataset_creator import *\n",
    "\n",
    "import numpy as np\n",
    "from sklearn.datasets import make_regression\n",
    "import matplotlib.pyplot as plt\n",
    "import seaborn as sns\n",
    "import pandas as pd\n",
    "import random as random\n",
    "\n",
    "from calibration_util import *\n",
    "from kendall_errors import *\n",
    "%matplotlib inline"
   ]
  },
  {
   "cell_type": "code",
   "execution_count": 5,
   "metadata": {
    "collapsed": true
   },
   "outputs": [],
   "source": [
    "def writePickleToDisk(data, filename):\n",
    "    with open(filename, 'wb') as handle:\n",
    "        pickle.dump(data, handle, protocol=pickle.HIGHEST_PROTOCOL)"
   ]
  },
  {
   "cell_type": "code",
   "execution_count": 6,
   "metadata": {
    "collapsed": true
   },
   "outputs": [],
   "source": [
    "def loadPickleFromDisk(filename):\n",
    "    with open(filename, 'rb') as handle:\n",
    "        data = pickle.load(handle)\n",
    "    return data"
   ]
  },
  {
   "cell_type": "code",
   "execution_count": 7,
   "metadata": {
    "collapsed": true
   },
   "outputs": [],
   "source": [
    "def convertFormat(inpath, outpath, filename):\n",
    "    df = pd.DataFrame([ [x.qualification, x.originalQualification, x.isProtected] for x in loadPickleFromDisk(inpath+filename)], columns=['y_pred','y','g'])\n",
    "    df.to_pickle(outpath+filename)"
   ]
  },
  {
   "cell_type": "code",
   "execution_count": 8,
   "metadata": {
    "collapsed": true
   },
   "outputs": [],
   "source": [
    "def flairRanking(k, protectedCandidates, nonProtectedCandidates, minProp, alpha):\n",
    "\n",
    "    result = []\n",
    "    gft = FairnessInRankingsTester(minProp, alpha, k, correctedAlpha=True)\n",
    "    countProtected = 0\n",
    "\n",
    "    idxProtected = 0\n",
    "    idxNonProtected = 0\n",
    "\n",
    "    for i in range(k):\n",
    "        if idxProtected >= len(protectedCandidates) and idxNonProtected >= len(nonProtectedCandidates):\n",
    "            # no more candidates available, return list shorter than k\n",
    "            return result, []\n",
    "        if idxProtected >= len(protectedCandidates):\n",
    "            # no more protected candidates available, take non-protected instead\n",
    "            result.append(nonProtectedCandidates[idxNonProtected])\n",
    "            idxNonProtected += 1\n",
    "\n",
    "        elif idxNonProtected >= len(nonProtectedCandidates):\n",
    "            # no more non-protected candidates available, take protected instead\n",
    "            result.append(protectedCandidates[idxProtected])\n",
    "            idxProtected += 1\n",
    "            countProtected += 1\n",
    "\n",
    "        elif countProtected < gft.candidates_needed[i]:\n",
    "            # add a protected candidate\n",
    "            result.append(protectedCandidates[idxProtected])\n",
    "            idxProtected += 1\n",
    "            countProtected += 1\n",
    "\n",
    "        else:\n",
    "            # find the best candidate available\n",
    "            if protectedCandidates[idxProtected].qualification >= nonProtectedCandidates[idxNonProtected].qualification:\n",
    "                # the best is a protected one\n",
    "                result.append(protectedCandidates[idxProtected])\n",
    "                idxProtected += 1\n",
    "                countProtected += 1\n",
    "            else:\n",
    "                # the best is a non-protected one\n",
    "                result.append(nonProtectedCandidates[idxNonProtected])\n",
    "                idxNonProtected += 1\n",
    "\n",
    "    return result, __mergeTwoRankings(protectedCandidates[idxProtected:], nonProtectedCandidates[idxNonProtected:])\n"
   ]
  },
  {
   "cell_type": "code",
   "execution_count": 9,
   "metadata": {
    "collapsed": true
   },
   "outputs": [],
   "source": [
    "def __mergeTwoRankings(ranking1, ranking2):\n",
    "    result = ranking1 + ranking2\n",
    "    result.sort(key=lambda candidate: candidate.originalQualification, reverse=True)\n",
    "    return result"
   ]
  },
  {
   "cell_type": "code",
   "execution_count": 17,
   "metadata": {
    "collapsed": true
   },
   "outputs": [],
   "source": [
    "def rankFixedPropVaryK(protected, nonProtected, pAndAlpha, prefs):\n",
    "\n",
    "    for k in prefs:\n",
    "        res ={}\n",
    "        res[k] = {}\n",
    "        print(\"colorblind ranking\", end='', flush=True)\n",
    "        cb =  flairRanking(k, protected, nonProtected, ESSENTIALLY_ZERO, 0.1)[0]\n",
    "        res[k]['cb'] = pd.DataFrame([ [x.qualification, x.originalQualification, x.isProtected] \n",
    "                                              for x in cb], columns=['y_pred','y','g'])\n",
    "        print(\" [Done]\")\n",
    "\n",
    "        print(\"fair rankings\", end='', flush=True)\n",
    "        fair =  flairRanking(k, protected, nonProtected, pAndAlpha[0], pAndAlpha[1])[0]\n",
    "        res[k]['fair'] = pd.DataFrame([ [x.qualification, x.originalQualification, x.isProtected] \n",
    "                                              for x in fair], columns=['y_pred','y','g'])\n",
    "        print(\" [Done]\")\n",
    "\n",
    "        print(\"feldman ranking\", end='', flush=True)\n",
    "        feld = feldmanRanking(protected, nonProtected, k)[0]\n",
    "        res[k]['feld'] = pd.DataFrame([ [x.qualification, x.originalQualification, x.isProtected] \n",
    "                                              for x in feld], columns=['y_pred','y','g'])\n",
    "        print(\" [Done]\")\n",
    "        return res"
   ]
  },
  {
   "cell_type": "code",
   "execution_count": 18,
   "metadata": {
    "collapsed": true
   },
   "outputs": [],
   "source": [
    "def plot_all(data, w, s): \n",
    "    plt.figure(figsize=(12, 3,))\n",
    "    plt.subplot(131) # equivalent to: plt.subplot(2, 2, 1)\n",
    "    \n",
    "    e0,e1 = sliding_kendall_parity(data, window=w, step=s)\n",
    "    plt.plot(e0, color='red')\n",
    "    plt.plot(e1, color='blue')\n",
    "    plt.ylim([0,1])\n",
    "    plt.title(\"Parity\")\n",
    "\n",
    "    plt.subplot(132) # equivalent to: plt.subplot(2, 2, 1)\n",
    "    e0,e1 = sliding_kendall_cal2(data, window=w, step=s)\n",
    "    plt.plot(e0, color='red')\n",
    "    plt.plot(e1, color='blue')\n",
    "    plt.ylim([0,1])\n",
    "    plt.title(\"Calibration\")\n",
    "\n",
    "    plt.subplot(133) # equivalent to: plt.subplot(2, 2, 1)\n",
    "    e0,e1 = sliding_kendall_eq(data, window=w, step=s)\n",
    "    plt.ylim([0,1])\n",
    "    plt.plot(e0, color='red')\n",
    "    plt.plot(e1, color='blue')\n",
    "    plt.title(\"Equality\")\n",
    "    plt.show()"
   ]
  },
  {
   "cell_type": "code",
   "execution_count": 19,
   "metadata": {
    "scrolled": false
   },
   "outputs": [
    {
     "name": "stdout",
     "output_type": "stream",
     "text": [
      "colorblind ranking [Done]\n",
      "fair rankings [Done]\n",
      "feldman ranking [Done]\n"
     ]
    }
   ],
   "source": [
    "#German Credit\n",
    "#vary length of prefix, keeping prop fixed\n",
    "prefs = [100, 150, 200, 250, 300, 350, 400, 450, 500]\n",
    "pairsOfPAndAlpha = (0.4, 0.0222)\n",
    "\n",
    "protectedGermanCreditAge25, nonProtectedGermanCreditAge25 = germanCreditData.create(\n",
    "        \"FA_IR/rawData/GermanCredit/GermanCredit_age25.csv\", \"DurationMonth\", \"CreditAmount\",\n",
    "        \"score\", \"age25\", protectedAttribute=[\"younger25\"])\n",
    "\n",
    "prop40 = rankFixedPropVaryK(protectedGermanCreditAge25, nonProtectedGermanCreditAge25,\n",
    "        pairsOfPAndAlpha, prefs)"
   ]
  },
  {
   "cell_type": "code",
   "execution_count": 24,
   "metadata": {},
   "outputs": [
    {
     "data": {
      "text/html": [
       "<div>\n",
       "<style>\n",
       "    .dataframe thead tr:only-child th {\n",
       "        text-align: right;\n",
       "    }\n",
       "\n",
       "    .dataframe thead th {\n",
       "        text-align: left;\n",
       "    }\n",
       "\n",
       "    .dataframe tbody tr th {\n",
       "        vertical-align: top;\n",
       "    }\n",
       "</style>\n",
       "<table border=\"1\" class=\"dataframe\">\n",
       "  <thead>\n",
       "    <tr style=\"text-align: right;\">\n",
       "      <th></th>\n",
       "      <th>y_pred</th>\n",
       "      <th>y</th>\n",
       "      <th>g</th>\n",
       "    </tr>\n",
       "  </thead>\n",
       "  <tbody>\n",
       "    <tr>\n",
       "      <th>0</th>\n",
       "      <td>0.790280</td>\n",
       "      <td>0.790280</td>\n",
       "      <td>False</td>\n",
       "    </tr>\n",
       "    <tr>\n",
       "      <th>1</th>\n",
       "      <td>0.761418</td>\n",
       "      <td>0.761418</td>\n",
       "      <td>False</td>\n",
       "    </tr>\n",
       "    <tr>\n",
       "      <th>2</th>\n",
       "      <td>0.744449</td>\n",
       "      <td>0.744449</td>\n",
       "      <td>False</td>\n",
       "    </tr>\n",
       "    <tr>\n",
       "      <th>3</th>\n",
       "      <td>0.731606</td>\n",
       "      <td>0.731606</td>\n",
       "      <td>False</td>\n",
       "    </tr>\n",
       "    <tr>\n",
       "      <th>4</th>\n",
       "      <td>0.723021</td>\n",
       "      <td>0.723021</td>\n",
       "      <td>False</td>\n",
       "    </tr>\n",
       "  </tbody>\n",
       "</table>\n",
       "</div>"
      ],
      "text/plain": [
       "     y_pred         y      g\n",
       "0  0.790280  0.790280  False\n",
       "1  0.761418  0.761418  False\n",
       "2  0.744449  0.744449  False\n",
       "3  0.731606  0.731606  False\n",
       "4  0.723021  0.723021  False"
      ]
     },
     "execution_count": 24,
     "metadata": {},
     "output_type": "execute_result"
    }
   ],
   "source": [
    "prop40[100]['cb'].head()"
   ]
  },
  {
   "cell_type": "code",
   "execution_count": 34,
   "metadata": {},
   "outputs": [
    {
     "name": "stdout",
     "output_type": "stream",
     "text": [
      "\n",
      "cb\n",
      "# protected items 9\n",
      "# protected items 91\n"
     ]
    },
    {
     "data": {
      "image/png": "[encoded data removed]",
      "text/plain": [
       "<matplotlib.figure.Figure at 0x7fcd586c9160>"
      ]
     },
     "metadata": {},
     "output_type": "display_data"
    },
    {
     "name": "stdout",
     "output_type": "stream",
     "text": [
      "        parity  cal   eq\n",
      "trend0    0.09  0.0  0.0\n",
      "trend1   -0.09  0.0  0.0\n",
      "dist      0.30  0.0  0.0\n",
      "\n",
      "feld\n",
      "# protected items 15\n",
      "# protected items 85\n"
     ]
    },
    {
     "data": {
      "image/png": "[encoded data removed]",
      "text/plain": [
       "<matplotlib.figure.Figure at 0x7fcd58651710>"
      ]
     },
     "metadata": {},
     "output_type": "display_data"
    },
    {
     "name": "stdout",
     "output_type": "stream",
     "text": [
      "        parity   cal    eq\n",
      "trend0    0.13  0.02  0.08\n",
      "trend1   -0.13  0.08  0.00\n",
      "dist      0.20  0.29  0.44\n",
      "\n",
      "fair\n",
      "# protected items 30\n",
      "# protected items 70\n"
     ]
    },
    {
     "data": {
      "image/png": "[encoded data removed]",
      "text/plain": [
       "<matplotlib.figure.Figure at 0x7fcd5822e518>"
      ]
     },
     "metadata": {},
     "output_type": "display_data"
    },
    {
     "name": "stdout",
     "output_type": "stream",
     "text": [
      "        parity  cal   eq\n",
      "trend0    0.04  0.0  0.0\n",
      "trend1   -0.04  0.0  0.0\n",
      "dist      0.36  0.0  0.0\n"
     ]
    }
   ],
   "source": [
    "w = 20\n",
    "s =5\n",
    "for k in prop40:\n",
    "    for t in ['cb','feld','fair']:\n",
    "        print(\"\\n\"+t)\n",
    "        cb = prop40[k][t]\n",
    "        print(\"# protected items\", len(cb[cb['g']==True]))\n",
    "        print(\"# protected items\", len(cb[cb['g']==False]))\n",
    "        plot_all(cb, w, s)\n",
    "        print(diagnose_k(cb, w, s).round(2))"
   ]
  },
  {
   "cell_type": "code",
   "execution_count": null,
   "metadata": {
    "collapsed": true
   },
   "outputs": [],
   "source": []
  }
 ],
 "metadata": {
  "kernelspec": {
   "display_name": "Python 3",
   "language": "python",
   "name": "python3"
  },
  "language_info": {
   "codemirror_mode": {
    "name": "ipython",
    "version": 3
   },
   "file_extension": ".py",
   "mimetype": "text/x-python",
   "name": "python",
   "nbconvert_exporter": "python",
   "pygments_lexer": "ipython3",
   "version": "3.6.3"
  }
 },
 "nbformat": 4,
 "nbformat_minor": 2
}
