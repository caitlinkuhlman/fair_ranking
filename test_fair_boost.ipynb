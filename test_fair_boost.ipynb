{
 "cells": [
  {
   "cell_type": "code",
   "execution_count": 1,
   "metadata": {
    "scrolled": false
   },
   "outputs": [
    {
     "name": "stdout",
     "output_type": "stream",
     "text": [
      "train error iteration 1  0.0566338971958\n",
      "train error iteration 10  0.0192470067531\n"
     ]
    },
    {
     "name": "stderr",
     "output_type": "stream",
     "text": [
      "/home/caitlin/anaconda3/lib/python3.6/site-packages/sklearn/cross_validation.py:41: DeprecationWarning: This module was deprecated in version 0.18 in favor of the model_selection module into which all the refactored classes and functions are moved. Also note that the interface of the new CV iterators are different from that of this module. This module will be removed in 0.20.\n",
      "  \"This module will be removed in 0.20.\", DeprecationWarning)\n"
     ]
    }
   ],
   "source": [
    "import FairBoost\n",
    "from FairBoost import FairBoostRegressor\n",
    "import pickle\n",
    "\n",
    "import matplotlib.pyplot as plt\n",
    "import numpy as np\n",
    "import pandas as pd\n",
    "import math\n",
    "from scipy import stats\n",
    "from sklearn import datasets\n",
    "from sklearn.naive_bayes import GaussianNB\n",
    "from sklearn.svm import LinearSVC\n",
    "from sklearn.linear_model import LogisticRegression\n",
    "from sklearn.metrics import (brier_score_loss, precision_score, recall_score,\n",
    "                             f1_score)\n",
    "from sklearn.calibration import CalibratedClassifierCV, calibration_curve\n",
    "from sklearn.cross_validation import cross_val_predict\n",
    "from sklearn import linear_model\n",
    "from sklearn.metrics import mean_squared_error, r2_score\n",
    "from sklearn.cross_validation import *\n",
    "from sklearn.ensemble import AdaBoostRegressor\n",
    "# from sklearn.ensemble import FairBoostRegressor\n",
    "from sklearn.tree import DecisionTreeRegressor\n",
    "# from sklearn.model_selection import train_test_split\n",
    "%matplotlib inline\n",
    "%precision %.2f\n",
    "pd.options.display.float_format = '{:,.2f}'.format\n",
    "\n",
    "X = pickle.load( open( \"x.p\", \"rb\" ) )\n",
    "y = pickle.load( open( \"y.p\", \"rb\" ) )\n",
    "g = pickle.load( open( \"g.p\", \"rb\" ) )\n",
    "g=np.nan_to_num(g)\n",
    "g0 = np.nan_to_num([i for i,x in enumerate(g) if x==0])\n",
    "g1 = np.nan_to_num([i for i,x in enumerate(g) if x==1])\n",
    "\n",
    "fbt = FairBoostRegressor(DecisionTreeRegressor(max_depth=4),n_estimators=1, random_state=25)\n",
    "fbt.setGroups(g)\n",
    "\n",
    "fbt.fit(X,y)\n",
    "train_pred = fbt.predict(X)\n",
    "print('train error iteration 1 ', mean_squared_error(train_pred, y))\n",
    "\n",
    "fbt = FairBoostRegressor(DecisionTreeRegressor(max_depth=4),n_estimators=10, random_state=25)\n",
    "fbt.setGroups(g)\n",
    "\n",
    "fbt.fit(X,y)\n",
    "train_pred = fbt.predict(X)\n",
    "print('train error iteration 10 ', mean_squared_error(train_pred, y))"
   ]
  },
  {
   "cell_type": "code",
   "execution_count": 7,
   "metadata": {
    "collapsed": true
   },
   "outputs": [],
   "source": [
    "#Error metrics\n",
    "\n",
    "#summary of deviation measures - relates to precision/accuracy?\n",
    "# https://en.wikipedia.org/wiki/Deviation_(statistics)#Unsigned_or_absolute_deviation\n",
    "#https://en.wikipedia.org/wiki/Mean_signed_deviation\n",
    "#signed absolute deviation ?\n",
    "# https://en.wikipedia.org/wiki/Average_absolute_deviation\n",
    "#average absolute deviation\n",
    "\n",
    "def get_ae(vals):\n",
    "    return np.sum([math.fabs(x[0]-x[1]) for x in vals])\n",
    "\n",
    "def get_mae(vals):\n",
    "    m = np.sum([math.fabs(x[0]-x[1]) for x in vals])\n",
    "    return m/len(vals)\n",
    "\n",
    "\n",
    "def get_se(vals):\n",
    "    return np.sum([math.pow(x[0]-x[1], 2) for x in vals])\n",
    "    \n",
    "def get_mse(vals):\n",
    "    m = np.sum([math.pow(x[0]-x[1], 2) for x in vals])\n",
    "    return m/len(vals)\n",
    "\n",
    "#overestimate\n",
    "def get_oe(vals):\n",
    "    return np.sum([max(0,x[0]-x[1]) for x in vals])\n",
    "\n",
    "def get_moe(vals):\n",
    "    m = np.sum([max(0,x[0]-x[1]) for x in vals])\n",
    "    return m/len(vals)\n",
    "\n",
    "#underestimate\n",
    "def get_ue(vals):\n",
    "    return np.sum([min(0,x[0]-x[1]) for x in vals])\n",
    "\n",
    "def get_mue(vals):\n",
    "    m = np.sum([min(0,x[0]-x[1]) for x in vals])\n",
    "    return m/len(vals)\n",
    "\n",
    "error_functs = [get_ae, get_mae, get_se, get_mse, get_oe, get_moe, get_ue, get_mue]\n",
    "##### BIN ERRORS: ###########\n",
    "\n",
    "def get_bin_width(data, n):\n",
    "    return (data.max()-data.min())/(n+1)\n",
    "\n",
    "def get_error_binned_eq_depth_by_group(points, nbins, error=get_mse):\n",
    "    mse = []\n",
    "    kf = KFold(n_splits=nbins, shuffle=True, random_state=10)\n",
    "    for rest, bin in kf.split(points):\n",
    "        vals = [points.iloc[i] for i in bin]\n",
    "        mse.append(error(vals))\n",
    "    return mse\n",
    "\n",
    "def plot_binned_error(df, error=get_mse):\n",
    "    indices =np.arange(df.shape[0])\n",
    "    #Calculate optimal width\n",
    "    width = 0.3\n",
    "\n",
    "    fig = plt.figure()\n",
    "    ax = fig.add_subplot(111)\n",
    "    ax.bar(indices-width,df[df.columns[0]],width,color='b',label='-Ymin')\n",
    "    ax.bar(indices,df[df.columns[1]],width,color='r',label='Ymax')\n",
    "    ax.set_xlim(left=-1,right=len(df))\n",
    "    ax.set_ylim([0,1])\n",
    "    ax.set_xlabel('Bin')\n",
    "    ax.set_ylabel(error.__name__)\n",
    "    plt.show()"
   ]
  },
  {
   "cell_type": "code",
   "execution_count": 8,
   "metadata": {
    "scrolled": false
   },
   "outputs": [
    {
     "name": "stdout",
     "output_type": "stream",
     "text": [
      "\n",
      " decision tree error:  0.22793507807\n",
      "\n",
      " Fair Boost tree error:  0.0889166040405\n",
      "dt fair error:  0.737375323668\n",
      "fbt fair error:  0.455030961258\n",
      "group0:  (42, 3)\n",
      "group1:  (29, 3)\n"
     ]
    },
    {
     "data": {
      "image/png": "[encoded data removed]",
      "text/plain": [
       "<matplotlib.figure.Figure at 0x7fb25e52ff28>"
      ]
     },
     "metadata": {},
     "output_type": "display_data"
    },
    {
     "name": "stdout",
     "output_type": "stream",
     "text": [
      "group0:  (42, 3)\n",
      "group1:  (29, 3)\n"
     ]
    },
    {
     "data": {
      "image/png": "[encoded data removed]",
      "text/plain": [
       "<matplotlib.figure.Figure at 0x7fb25e5610f0>"
      ]
     },
     "metadata": {},
     "output_type": "display_data"
    },
    {
     "name": "stdout",
     "output_type": "stream",
     "text": [
      "\n",
      " decision tree error:  0.136195300874\n",
      "\n",
      " Fair Boost tree error:  0.125640539733\n",
      "dt fair error:  0.548048317048\n",
      "fbt fair error:  0.342957233973\n",
      "group0:  (33, 3)\n",
      "group1:  (38, 3)\n"
     ]
    },
    {
     "data": {
      "image/png": "[encoded data removed]",
      "text/plain": [
       "<matplotlib.figure.Figure at 0x7fb25e4a7a90>"
      ]
     },
     "metadata": {},
     "output_type": "display_data"
    },
    {
     "name": "stdout",
     "output_type": "stream",
     "text": [
      "group0:  (33, 3)\n",
      "group1:  (38, 3)\n"
     ]
    },
    {
     "data": {
      "image/png": "[encoded data removed]",
      "text/plain": [
       "<matplotlib.figure.Figure at 0x7fb25e4a7470>"
      ]
     },
     "metadata": {},
     "output_type": "display_data"
    }
   ],
   "source": [
    "from sklearn.model_selection import KFold\n",
    "kf = KFold(n_splits=2, shuffle=True, random_state=1)\n",
    "\n",
    "nbins=10\n",
    "for train_index, test_index in kf.split(X):\n",
    "    dt = DecisionTreeRegressor(max_depth=4)\n",
    "    fbt = FairBoostRegressor(DecisionTreeRegressor(max_depth=4),n_estimators=500, random_state=25)\n",
    "    dt.fit(X[train_index],y[train_index])\n",
    "    fbt.setGroups(g[train_index])\n",
    "    fbt.fit(X[train_index],y[train_index])\n",
    "    dt_pred = dt.predict(X[test_index])\n",
    "    fbt_pred = fbt.predict(X[test_index])\n",
    "    \n",
    "    print('\\n decision tree error: ', mean_squared_error(dt_pred, y[test_index]))\n",
    "    print('\\n Fair Boost tree error: ', mean_squared_error(fbt_pred, y[test_index]))\n",
    "    \n",
    "    g0 = [i for i,x in enumerate(g[test_index]) if x==0]\n",
    "    g1 = [i for i,x in enumerate(g[train_index]) if x==1]\n",
    "    bins0,bins1  = fbt.recomputeBins(dt_pred, g0, g1, nbins)\n",
    "    error_vect=np.abs(dt_pred - y[test_index])\n",
    "    e0=[np.sum([error_vect[i] for i in b]) for b in bins0]\n",
    "    e1=[np.sum([error_vect[i] for i in b]) for b in bins1]\n",
    "    bin_error = np.subtract(e0, e1)\n",
    "    print(\"dt fair error: \", np.mean(np.abs(bin_error)))\n",
    "    \n",
    "    bins0,bins1  = fbt.recomputeBins(fbt_pred, g0, g1, nbins)\n",
    "    error_vect=np.abs(fbt_pred - y[test_index])\n",
    "    e0=[np.sum([error_vect[i] for i in b]) for b in bins0]\n",
    "    e1=[np.sum([error_vect[i] for i in b]) for b in bins1]\n",
    "    bin_error = np.subtract(e0, e1)\n",
    "    print(\"fbt fair error: \", np.mean(np.abs(bin_error)))\n",
    "    \n",
    "    ### PLOTTING ###\n",
    "    results = pd.DataFrame()\n",
    "    results['pred'] = dt_pred\n",
    "    results['y'] = y[test_index]\n",
    "    results['g'] = g[test_index]\n",
    "    results = results.sort_values('pred')\n",
    "    results0 = results[results['g']==0]\n",
    "    print (\"group0: \", results0.shape)\n",
    "    results1 = results[results['g']==1]\n",
    "    print (\"group1: \", results1.shape)\n",
    "    \n",
    "    mse_df_depth = pd.DataFrame()\n",
    "    mse_df_depth['mse0'] = get_error_binned_eq_depth_by_group(results0, nbins, error=get_mse)\n",
    "    mse_df_depth['mse1'] = get_error_binned_eq_depth_by_group(results1, nbins, error=get_mse)\n",
    "    plot_binned_error(mse_df_depth)\n",
    "    \n",
    "    \n",
    "    results = pd.DataFrame()\n",
    "    results['pred'] = fbt_pred\n",
    "    results['y'] = y[test_index]\n",
    "    results['g'] = g[test_index]\n",
    "    results = results.sort_values('pred')\n",
    "    results0 = results[results['g']==0]\n",
    "    print (\"group0: \", results0.shape)\n",
    "    results1 = results[results['g']==1]\n",
    "    print (\"group1: \", results1.shape)\n",
    "   \n",
    "    mse_df_depth = pd.DataFrame()\n",
    "    mse_df_depth['mse0'] = get_error_binned_eq_depth_by_group(results0, nbins, error=get_mse)\n",
    "    mse_df_depth['mse1'] = get_error_binned_eq_depth_by_group(results1, nbins, error=get_mse)\n",
    "    # using equal width bins  - which one gives more comparable plot?\n",
    "    plot_binned_error(mse_df_depth)"
   ]
  },
  {
   "cell_type": "code",
   "execution_count": null,
   "metadata": {
    "collapsed": true
   },
   "outputs": [],
   "source": [
    "TODO:\n",
    "    Not producing any consistent results\n",
    "    Try different ways of updating the weights bin-wise\n",
    "    is error being computed as mse? investigate error_vect\n",
    "    read up on non-differentiable error in boosting. Are we just jumping around?\n",
    "    try plotting change in bin_error over iterations"
   ]
  },
  {
   "cell_type": "code",
   "execution_count": null,
   "metadata": {
    "collapsed": true
   },
   "outputs": [],
   "source": []
  }
 ],
 "metadata": {
  "kernelspec": {
   "display_name": "Python 3",
   "language": "python",
   "name": "python3"
  },
  "language_info": {
   "codemirror_mode": {
    "name": "ipython",
    "version": 3
   },
   "file_extension": ".py",
   "mimetype": "text/x-python",
   "name": "python",
   "nbconvert_exporter": "python",
   "pygments_lexer": "ipython3",
   "version": "3.6.3"
  }
 },
 "nbformat": 4,
 "nbformat_minor": 2
}
