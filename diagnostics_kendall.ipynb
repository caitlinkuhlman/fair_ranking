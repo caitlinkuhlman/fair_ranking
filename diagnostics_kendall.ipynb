{
 "cells": [
  {
   "cell_type": "code",
   "execution_count": 1,
   "metadata": {},
   "outputs": [
    {
     "name": "stderr",
     "output_type": "stream",
     "text": [
      "/home/caitlin/anaconda3/lib/python3.6/site-packages/sklearn/cross_validation.py:41: DeprecationWarning: This module was deprecated in version 0.18 in favor of the model_selection module into which all the refactored classes and functions are moved. Also note that the interface of the new CV iterators are different from that of this module. This module will be removed in 0.20.\n",
      "  \"This module will be removed in 0.20.\", DeprecationWarning)\n"
     ]
    },
    {
     "data": {
      "text/plain": [
       "'%.3f'"
      ]
     },
     "execution_count": 1,
     "metadata": {},
     "output_type": "execute_result"
    }
   ],
   "source": [
    "import numpy as np\n",
    "from sklearn.datasets import make_regression\n",
    "import matplotlib.pyplot as plt\n",
    "import seaborn as sns\n",
    "import pandas as pd\n",
    "import random as random\n",
    "\n",
    "from calibration_util import *\n",
    "from kendall_errors import *\n",
    "%matplotlib inline\n",
    "%precision 3"
   ]
  },
  {
   "cell_type": "code",
   "execution_count": 2,
   "metadata": {},
   "outputs": [
    {
     "data": {
      "text/html": [
       "<div>\n",
       "<style>\n",
       "    .dataframe thead tr:only-child th {\n",
       "        text-align: right;\n",
       "    }\n",
       "\n",
       "    .dataframe thead th {\n",
       "        text-align: left;\n",
       "    }\n",
       "\n",
       "    .dataframe tbody tr th {\n",
       "        vertical-align: top;\n",
       "    }\n",
       "</style>\n",
       "<table border=\"1\" class=\"dataframe\">\n",
       "  <thead>\n",
       "    <tr style=\"text-align: right;\">\n",
       "      <th></th>\n",
       "      <th>x0</th>\n",
       "      <th>x1</th>\n",
       "      <th>x2</th>\n",
       "      <th>x3</th>\n",
       "      <th>x4</th>\n",
       "      <th>y</th>\n",
       "      <th>g</th>\n",
       "      <th>y_pred</th>\n",
       "    </tr>\n",
       "  </thead>\n",
       "  <tbody>\n",
       "    <tr>\n",
       "      <th>341</th>\n",
       "      <td>-1.897510</td>\n",
       "      <td>-1.926044</td>\n",
       "      <td>-1.511468</td>\n",
       "      <td>-2.280682</td>\n",
       "      <td>-0.545986</td>\n",
       "      <td>0.000000</td>\n",
       "      <td>0.0</td>\n",
       "      <td>0.000000</td>\n",
       "    </tr>\n",
       "    <tr>\n",
       "      <th>957</th>\n",
       "      <td>-1.093064</td>\n",
       "      <td>-0.590733</td>\n",
       "      <td>-2.509643</td>\n",
       "      <td>-0.140688</td>\n",
       "      <td>-1.877154</td>\n",
       "      <td>0.107379</td>\n",
       "      <td>1.0</td>\n",
       "      <td>0.107458</td>\n",
       "    </tr>\n",
       "    <tr>\n",
       "      <th>382</th>\n",
       "      <td>-1.787527</td>\n",
       "      <td>-2.023447</td>\n",
       "      <td>-2.398719</td>\n",
       "      <td>1.825149</td>\n",
       "      <td>-0.885930</td>\n",
       "      <td>0.113730</td>\n",
       "      <td>1.0</td>\n",
       "      <td>0.121660</td>\n",
       "    </tr>\n",
       "    <tr>\n",
       "      <th>822</th>\n",
       "      <td>-0.704922</td>\n",
       "      <td>-1.604984</td>\n",
       "      <td>-1.903589</td>\n",
       "      <td>-1.496792</td>\n",
       "      <td>0.008797</td>\n",
       "      <td>0.120433</td>\n",
       "      <td>0.0</td>\n",
       "      <td>0.069403</td>\n",
       "    </tr>\n",
       "    <tr>\n",
       "      <th>915</th>\n",
       "      <td>-0.277001</td>\n",
       "      <td>-0.802967</td>\n",
       "      <td>-1.862609</td>\n",
       "      <td>-1.642133</td>\n",
       "      <td>-1.321887</td>\n",
       "      <td>0.127985</td>\n",
       "      <td>1.0</td>\n",
       "      <td>0.133257</td>\n",
       "    </tr>\n",
       "  </tbody>\n",
       "</table>\n",
       "</div>"
      ],
      "text/plain": [
       "           x0        x1        x2        x3        x4         y    g    y_pred\n",
       "341 -1.897510 -1.926044 -1.511468 -2.280682 -0.545986  0.000000  0.0  0.000000\n",
       "957 -1.093064 -0.590733 -2.509643 -0.140688 -1.877154  0.107379  1.0  0.107458\n",
       "382 -1.787527 -2.023447 -2.398719  1.825149 -0.885930  0.113730  1.0  0.121660\n",
       "822 -0.704922 -1.604984 -1.903589 -1.496792  0.008797  0.120433  0.0  0.069403\n",
       "915 -0.277001 -0.802967 -1.862609 -1.642133 -1.321887  0.127985  1.0  0.133257"
      ]
     },
     "execution_count": 2,
     "metadata": {},
     "output_type": "execute_result"
    }
   ],
   "source": [
    "data = generate(1000,5,0.2,99)\n",
    "data['y_pred'] = add_error(data, 0.5, 0.)['y']\n",
    "data.head()"
   ]
  },
  {
   "cell_type": "code",
   "execution_count": 3,
   "metadata": {
    "collapsed": true
   },
   "outputs": [],
   "source": [
    "def add_error_under(data, scale, group):\n",
    "    data2 = data.copy()\n",
    "    for i in range(len(data)):\n",
    "        if(data2.iloc[i]['g'] == group):\n",
    "            data2.iloc[i]['y'] = data2.iloc[i]['y']*random.uniform(1-scale, 1.05)\n",
    "        else:\n",
    "            data2.iloc[i]['y'] = data2.iloc[i]['y']*random.uniform(0.95, 1.05)\n",
    "    #data2.sort_values('y', inplace=True)   \n",
    "    return data2"
   ]
  },
  {
   "cell_type": "code",
   "execution_count": 4,
   "metadata": {
    "collapsed": true
   },
   "outputs": [],
   "source": [
    "def add_error_over(data, scale, group):\n",
    "    data2 = data.copy()\n",
    "    for i in range(len(data)):\n",
    "        if(data2.iloc[i]['g'] == group):\n",
    "            data2.iloc[i]['y'] = data2.iloc[i]['y']*random.uniform(0.9, 1+scale)\n",
    "        else:\n",
    "            data2.iloc[i]['y'] = data2.iloc[i]['y']*random.uniform(0.95, 1.05)\n",
    "    #data2.sort_values('y', inplace=True)   \n",
    "    return data2"
   ]
  },
  {
   "cell_type": "code",
   "execution_count": 5,
   "metadata": {
    "collapsed": true
   },
   "outputs": [],
   "source": [
    "def add_error_under_over(data, scale, group):\n",
    "    data2 = data.copy()\n",
    "    for i in range(len(data)):\n",
    "        if(data2.iloc[i]['g'] == group):\n",
    "            data2.iloc[i]['y'] = data2.iloc[i]['y']*random.uniform(1-scale, 1.05)\n",
    "        else:\n",
    "            data2.iloc[i]['y'] = data2.iloc[i]['y']*random.uniform(0.95, 1+scale)\n",
    "    #data2.sort_values('y', inplace=True)   \n",
    "    return data2"
   ]
  },
  {
   "cell_type": "code",
   "execution_count": 6,
   "metadata": {
    "collapsed": true
   },
   "outputs": [],
   "source": [
    "def plot_all(data, filename): \n",
    "    plt.figure(figsize=(14, 4,))\n",
    "    plt.subplot(131) # equivalent to: plt.subplot(2, 2, 1)\n",
    "    \n",
    "    e0,e1 = sliding_kendall_parity(data, window=350, step=10)\n",
    "    plt.plot(e0, color='red')\n",
    "    plt.plot(e1, color='blue')\n",
    "    plt.ylim([0,1])\n",
    "    plt.title(\"Parity\")\n",
    "\n",
    "    plt.subplot(132) # equivalent to: plt.subplot(2, 2, 1)\n",
    "    e0,e1 = sliding_kendall_cal2(data, window=350, step=10)\n",
    "    plt.plot(e0, color='red')\n",
    "    plt.plot(e1, color='blue')\n",
    "    plt.ylim([0,1])\n",
    "    plt.title(\"Calibration\")\n",
    "\n",
    "    plt.subplot(133) # equivalent to: plt.subplot(2, 2, 1)\n",
    "    e0,e1 = sliding_kendall_eq(data, window=350, step=10)\n",
    "    plt.ylim([0,1])\n",
    "    plt.plot(e0, color='red')\n",
    "    plt.plot(e1, color='blue')\n",
    "    plt.title(\"Equality\")\n",
    "#     plt.show()\n",
    "    plt.savefig(filename, bbox_inches=\"tight\")\n",
    "\n",
    "    synth_errs = diagnose_k(data, w=350, s=10)\n",
    "    print(synth_errs.round(2))\n",
    "    print(\"\")\n",
    "    print(\"\")"
   ]
  },
  {
   "cell_type": "code",
   "execution_count": 7,
   "metadata": {
    "collapsed": true,
    "scrolled": false
   },
   "outputs": [],
   "source": [
    "# plt.rcParams['figure.figsize'] = (16, 4)\n",
    "# data = generate(1000,5,0.2,99)\n",
    "# print(\"Group 0 (red) underestimated\")\n",
    "# data['y_pred'] = add_error_under(data, 0.1, 0.)['y']\n",
    "# plot_all(data, \"under1.png\")\n",
    "# data['y_pred'] = add_error_under(data, 0.5, 0.)['y']\n",
    "# plot_all(data, \"under5.png\")\n",
    "# data['y_pred'] = add_error_under(data, 0.75, 0.)['y']\n",
    "# plot_all(data, \"under75.png\")"
   ]
  },
  {
   "cell_type": "code",
   "execution_count": 8,
   "metadata": {
    "scrolled": false
   },
   "outputs": [],
   "source": [
    "# print(\"Group 1 (blue) overestimated\")\n",
    "# data['y_pred'] = add_error_over(data, 0.1, 0.)['y']\n",
    "# plot_all(data, \"over1.png\")\n",
    "# data['y_pred'] = add_error_over(data, 0.5, 0.)['y']\n",
    "# plot_all(data, \"over5.png\")\n",
    "# data['y_pred'] = add_error_over(data, 0.75, 0.)['y']\n",
    "# plot_all(data, \"over75.png\")"
   ]
  },
  {
   "cell_type": "code",
   "execution_count": 9,
   "metadata": {
    "scrolled": false
   },
   "outputs": [],
   "source": [
    "# print(\"Group 0 (red) underestimated, Group 1 (blue) overestimated\")\n",
    "# data['y_pred'] = add_error_under_over(data, 0.1, 0.)['y']\n",
    "# plot_all(data, \"over_under1.png\")\n",
    "# data['y_pred'] = add_error_under_over(data, 0.5, 0.)['y']\n",
    "# plot_all(data, \"over_under5.png\")\n",
    "# data['y_pred'] = add_error_under_over(data, 0.75, 0.)['y']\n",
    "# plot_all(data, \"over_under75.png\")"
   ]
  },
  {
   "cell_type": "code",
   "execution_count": 10,
   "metadata": {
    "collapsed": true
   },
   "outputs": [],
   "source": [
    "#normalized version\n",
    "# def sliding_kendall_parity(df, window, step):\n",
    "#     df.sort_values('y_pred', ascending=False, inplace=True)\n",
    "#     err0=[]\n",
    "#     err1=[]\n",
    "#     start=0\n",
    "#     end=window\n",
    "#     while end<len(df):\n",
    "#         vals = df.iloc[range(start,end)]\n",
    "#         g = np.array(vals[['y_pred', 'g']])\n",
    "#         p = pairs(len(g)) - pairs(len(vals[vals['g']==1])) - pairs(len(vals[vals['g']==0]))\n",
    "#         e0 = 0 if p == 0 else count_inversions(g, 0, len(g)-1, merge_parity_0)[1] / p\n",
    "#         err0.append(e0)\n",
    "#         e1 = 0 if p == 0 else count_inversions(g, 0, len(g)-1, merge_parity_1)[1] / p\n",
    "#         err1.append(e1)\n",
    "#         start+=step\n",
    "#         end+=step\n",
    "#     #get end of rank is needed\n",
    "#     if(start > len(df)-window):\n",
    "#         vals = df.iloc[range(len(df)-window,len(df))]\n",
    "#         g = np.array(vals[['y_pred', 'g']])\n",
    "#         p = pairs(len(g)) - pairs(len(vals[vals['g']==1])) - pairs(len(vals[vals['g']==0]))\n",
    "#         e0 = 0 if p == 0 else count_inversions(g, 0, len(g)-1, merge_parity_0)[1] / p\n",
    "#         err0.append(e0)\n",
    "#         e1 = 0 if p == 0 else count_inversions(g, 0, len(g)-1, merge_parity_1)[1] / p\n",
    "#         err1.append(e1)\n",
    "#     return err0, err1"
   ]
  },
  {
   "cell_type": "code",
   "execution_count": 11,
   "metadata": {
    "scrolled": false
   },
   "outputs": [],
   "source": [
    "\n",
    "# # data['y_pred'] = add_error_under_over(data, 0.5, 0.)['y']\n",
    "# e0,e1 = sliding_kendall_parity(data, window=350, step=10)\n",
    "# print(stats.pearsonr(e0,e1)[0])\n",
    "# r0=[x/len(e0) for x in range(len(e0))]\n",
    "# r1=[x/len(e1) for x in range(len(e1))]\n",
    "# print(stats.linregress(r0, y=e0)[0])\n",
    "# print(stats.linregress(r1, y=e1)[0])"
   ]
  },
  {
   "cell_type": "code",
   "execution_count": 12,
   "metadata": {},
   "outputs": [],
   "source": [
    "# import time\n",
    "\n",
    "# # run simulations many times and average scorecard results\n",
    "# start = time.time()\n",
    "# print(\"Group 0 underestimated\")\n",
    "# print(diagnose_average(data, add_error_under, 0.1, 10))\n",
    "# print(diagnose_average(data, add_error_under, 0.5, 10))\n",
    "# print(diagnose_average(data, add_error_under, 0.75, 10))\n",
    "# end = time.time()\n",
    "# print(end - start)\n",
    "\n",
    "# print(\"Group 1 overestimated\")\n",
    "# print(diagnose_average(data, add_error_over, 0.1, 10))\n",
    "# print(diagnose_average(data, add_error_over, 0.5, 10))\n",
    "# print(diagnose_average(data, add_error_over, 0.75, 10))\n",
    "\n",
    "# print(\"Group 0 underestimated, Group 1 overestimated\")\n",
    "# print(diagnose_average(data, add_error_under_over, 0.1, 10))\n",
    "# print(diagnose_average(data, add_error_under_over, 0.5, 10))\n",
    "# print(diagnose_average(data, add_error_under_over, 0.75, 10))"
   ]
  },
  {
   "cell_type": "code",
   "execution_count": 13,
   "metadata": {
    "collapsed": true
   },
   "outputs": [],
   "source": [
    "# errs=pd.DataFrame(index=[['trend0','trend1','cor','dist','sig']])\n",
    "# e = get_all_errs(data, sliding_kendall_parity, window=100, step=10)"
   ]
  },
  {
   "cell_type": "code",
   "execution_count": 14,
   "metadata": {
    "collapsed": true
   },
   "outputs": [],
   "source": [
    "def diagnose_average(df, add_err, frac, n):\n",
    "    errs=pd.DataFrame(index=[['trend0','trend1','cor','dist','sig']])\n",
    "# generate new synthetic error\n",
    "    df['y_pred'] = add_err(df, frac, 0.)['y']\n",
    "# initialize scores\n",
    "    errs['parity'] = get_all_errs(df, sliding_kendall_parity, window=100, step=10)\n",
    "    errs['cal'] = get_all_errs(df, sliding_kendall_cal2, window=100, step=10)\n",
    "    errs['eq'] = get_all_errs(df, sliding_kendall_eq, window=100, step=10)\n",
    "    \n",
    "    for i in range(n-1):\n",
    "#         generate new synthetic error\n",
    "        df['y_pred'] = add_err(df, frac, 0.)['y']\n",
    "#         aggregate all scores\n",
    "        errs['parity'] = np.add(get_all_errs(df, sliding_kendall_parity, window=100, step=10), errs['parity'])\n",
    "        errs['cal'] = np.add(get_all_errs(df, sliding_kendall_cal2, window=100, step=10), errs['cal'])\n",
    "        errs['eq'] = np.add(get_all_errs(df, sliding_kendall_eq, window=100, step=10), errs['eq'])\n",
    "       \n",
    "    errs['parity'] = errs['parity']/n\n",
    "    errs['cal'] = errs['cal']/n\n",
    "    errs['eq'] = errs['eq']/n\n",
    "    return errs.transpose().round(2)"
   ]
  },
  {
   "cell_type": "code",
   "execution_count": 15,
   "metadata": {
    "collapsed": true,
    "scrolled": false
   },
   "outputs": [],
   "source": [
    "# TEST - merge functions\n",
    "\n",
    "# # test = [[5,0],[4,1],[3,0],[2,1],[1,0],[0,1]]\n",
    "# test = [[0,1],[1,0],[2,1],[3,0],[4,1],[5,0]]\n",
    "# # test = [[1,0],[0,1],[5,0],[3,0],[2,1],[4,1]]\n",
    "# print(\"merge_1_cal\")\n",
    "# res, c = count_inversions(test, 0, len(test)-1, merge_fnc=merge_1_cal)\n",
    "# print(res)\n",
    "# print(\"num inversions:\", c)\n",
    "# print(\"merge_0_cal\")\n",
    "# res, c = count_inversions(test, 0, len(test)-1, merge_fnc=merge_0_cal)\n",
    "# print(res)\n",
    "# print(\"num inversions:\", c)\n",
    "# print(\"merge_1_over\")\n",
    "# res, c = count_inversions(test, 0, len(test)-1, merge_fnc=merge_1_eq)\n",
    "# print(res)\n",
    "# print(\"num inversions:\", c)\n",
    "# print(\"merge_0_over\")\n",
    "# res, c = count_inversions(test, 0, len(test)-1, merge_fnc=merge_0_eq)\n",
    "# print(res)\n",
    "# print(\"num inversions:\", c)\n",
    "# print(\"merge_parity_0\")\n",
    "# res, c = count_inversions(test, 0, len(test)-1, merge_fnc=merge_parity_0)\n",
    "# print(res)\n",
    "# print(\"num inversions:\", c)\n",
    "# print(\"merge_parity_1\")\n",
    "# res, c = count_inversions(test, 0, len(test)-1, merge_fnc=merge_parity_1)\n",
    "# print(res)\n",
    "# print(\"num inversions:\", c)"
   ]
  },
  {
   "cell_type": "code",
   "execution_count": 16,
   "metadata": {
    "collapsed": true,
    "scrolled": false
   },
   "outputs": [],
   "source": [
    "# #normalized versions\n",
    "# plt.rcParams['figure.figsize'] = (4, 20)\n",
    "# data = generate(1000,5,0.2,99)\n",
    "# plot_all(data, 0.9)\n",
    "# # plot_all(data, 0.75)\n",
    "# plot_all(data, 0.5)\n",
    "# # plot_all(data, 0.25)\n",
    "# plot_all(data, 0.1)"
   ]
  },
  {
   "cell_type": "code",
   "execution_count": 17,
   "metadata": {
    "collapsed": true
   },
   "outputs": [],
   "source": [
    "def get_all_errs(df, err, window=100, step=10):\n",
    "    err0,err1 = err(df, window, step)\n",
    "    errs=[]\n",
    "    r0=stats.zscore(range(len(err0)))\n",
    "    r1=stats.zscore(range(len(err1)))\n",
    "    c0=stats.pearsonr(err0,r0)[0]\n",
    "    \n",
    "    c1=stats.pearsonr(err1,r1)[0]\n",
    "#     print(c0,np.std(r0),np.std(err0))\n",
    "    errs.append(c0 * (np.std(r0)/np.std(err0)))\n",
    "    errs.append(c1 * (np.std(r1)/np.std(err1)))\n",
    "    errs.append(stats.pearsonr(err0,err1)[0])\n",
    "#     errs.append(np.linalg.norm(np.array(err0) - np.array(err1)))\n",
    "    diffs = np.abs(np.array(err0) - np.array(err1))\n",
    "    \n",
    "    errs.append(np.sum(diffs) / len(err0))\n",
    "    errs.append(stats.ttest_ind(err0,err1)[1])\n",
    "    return errs\n",
    "\n",
    "def norm(x):\n",
    "    x = (x - np.mean(x))/np.std(x)\n",
    "    "
   ]
  },
  {
   "cell_type": "code",
   "execution_count": 18,
   "metadata": {},
   "outputs": [
    {
     "ename": "SyntaxError",
     "evalue": "invalid syntax (<ipython-input-18-82a171ab74cd>, line 26)",
     "output_type": "error",
     "traceback": [
      "\u001b[0;36m  File \u001b[0;32m\"<ipython-input-18-82a171ab74cd>\"\u001b[0;36m, line \u001b[0;32m26\u001b[0m\n\u001b[0;31m    if (!label):\u001b[0m\n\u001b[0m        ^\u001b[0m\n\u001b[0;31mSyntaxError\u001b[0m\u001b[0;31m:\u001b[0m invalid syntax\n"
     ]
    }
   ],
   "source": [
    "def plot_all_one_fig_cols(data, props, funct, title, filename,label=True): \n",
    "    rows= len(props)\n",
    "    height = rows*3\n",
    "    plt.figure(figsize=(12, height))\n",
    "    f, axs = plt.subplots(rows, 3, sharex='col', sharey='row')\n",
    "    f.suptitle(title, size='x-large')\n",
    "    dfs=[]\n",
    "    for r in props:\n",
    "        data['y_pred'] = funct(data, r, 0.)['y']\n",
    "        dfs.append(data.copy())\n",
    "        \n",
    "    for i,r in enumerate(props):\n",
    "        e0,e1 = sliding_kendall_parity(dfs[i], window=350, step=10)\n",
    "        axs[0][i].plot(e0, color='red')\n",
    "        axs[0][i].plot(e1, color='blue', linestyle='dashed')\n",
    "        axs[0][i].set_ylim([0,1])\n",
    "        if (not label):\n",
    "            axs[0][i].get_yaxis().set_ticks([])\n",
    "        axs[0][0].set_title(\"baseline\", size='large')\n",
    "        \n",
    "    for i,r in enumerate(props):\n",
    "        e0,e1 = sliding_kendall_cal2(dfs[i], window=350, step=10)\n",
    "        axs[1][i].plot(e0, color='red')\n",
    "        axs[1][i].plot(e1, color='blue', linestyle='dashed')\n",
    "        axs[1][i].set_ylim([0,1])\n",
    "        if (!label):\n",
    "            axs[1][i].get_yaxis().set_ticks([])\n",
    "        l = \"error \"+ str(props[1])\n",
    "        axs[0][1].set_title(l, size='large')\n",
    "        \n",
    "    for i,r in enumerate(props):\n",
    "        e0,e1 = sliding_kendall_eq(dfs[i], window=350, step=10)\n",
    "        axs[2][i].plot(e0, color='red')\n",
    "        axs[2][i].plot(e1, color='blue', linestyle='dashed')\n",
    "        axs[2][i].set_ylim([0,1])\n",
    "        if (!label):\n",
    "            axs[2][i].get_yaxis().set_ticks([])\n",
    "\n",
    "        l = \"error \"+ str(props[2])\n",
    "        axs[0][2].set_title(l, size='large')\n",
    "            \n",
    "    if (label):\n",
    "        axs[0][0].set_ylabel(\"Parity\", size='x-large')\n",
    "        axs[1][0].set_ylabel(\"Calibration\", size='x-large')\n",
    "        axs[2][0].set_ylabel(\"Equality\", size='x-large')\n",
    "#     for ax in axarr:\n",
    "#         ax.label_outer()\n",
    "#     plt.show()\n",
    "    plt.savefig(filename, bbox_inches='tight')\n",
    "\n",
    "#     synth_errs = diagnose_k(data, 'synth_0.9')\n",
    "#     print(synth_errs.round(2))"
   ]
  },
  {
   "cell_type": "code",
   "execution_count": 19,
   "metadata": {
    "collapsed": true
   },
   "outputs": [],
   "source": [
    "def plot_all_one_fig_rows(data, props, funct, title, filename,label=True): \n",
    "    rows= len(props)\n",
    "    height = rows*3\n",
    "    plt.figure(figsize=(12, height))\n",
    "    f, axs = plt.subplots(rows, 3, sharex='col', sharey='row')\n",
    "    f.suptitle(title, size='x-large')\n",
    "    for i,r in enumerate(props):\n",
    "        data['y_pred'] = funct(data, r, 0.)['y']\n",
    "        e0,e1 = sliding_kendall_parity(data, window=350, step=10)\n",
    "        axs[i][0].plot(e0, color='red')\n",
    "        axs[i][0].plot(e1, color='blue', linestyle='dashed')\n",
    "        axs[i][0].set_ylim([0,1])\n",
    "        if (label):\n",
    "            if(i==0):\n",
    "                axs[i][0].set_ylabel(\"baseline\", size='large')\n",
    "            else:\n",
    "                l = \"error \"+ str(r)\n",
    "                axs[i][0].set_ylabel(l, size='large')\n",
    "        else:\n",
    "            axs[i][0].get_yaxis().set_ticks([])\n",
    "        if(i==0):\n",
    "            axs[i][0].set_title(\"Parity\")\n",
    "\n",
    "        e0,e1 = sliding_kendall_cal2(data, window=350, step=10)\n",
    "        axs[i][1].plot(e0, color='red')\n",
    "        axs[i][1].plot(e1, color='blue', linestyle='dashed')\n",
    "        axs[i][1].set_ylim([0,1])  \n",
    "        if (not label):\n",
    "            axs[i][1].get_yaxis().set_ticks([])\n",
    "        if(i==0):   \n",
    "            axs[i][1].set_title(\"Calibration\")\n",
    "        e0,e1 = sliding_kendall_eq(data, window=350, step=10)\n",
    "        axs[i][2].plot(e0, color='red')\n",
    "        axs[i][2].plot(e1, color='blue', linestyle='dashed')\n",
    "        axs[i][2].set_ylim([0,1])\n",
    "        if (not label):\n",
    "            axs[i][2].get_yaxis().set_ticks([])\n",
    "        if(i==0):\n",
    "            axs[i][2].set_title(\"Equality\")\n",
    "#     for ax in axarr:\n",
    "#         ax.label_outer()\n",
    "#     plt.show()\n",
    "    plt.savefig(filename, bbox_inches='tight')\n",
    "\n",
    "#     synth_errs = diagnose_k(data, 'synth_0.9')\n",
    "#     print(synth_errs.round(2))"
   ]
  },
  {
   "cell_type": "code",
   "execution_count": 20,
   "metadata": {
    "collapsed": true
   },
   "outputs": [],
   "source": [
    "def plot_rows(data, props, funct, title, filename): \n",
    "    rows= len(props)\n",
    "    height = rows*3\n",
    "    plt.figure(figsize=(12, height))\n",
    "    f, axs = plt.subplots(rows, 3, sharex='col', sharey='row')\n",
    "    f.suptitle(title, size='x-large')\n",
    "    for i,r in enumerate(props):\n",
    "        data['y_pred'] = funct(data, r, 0.)['y']\n",
    "        scores = diagnose_k(data, w=350, s=10)\n",
    "        e0,e1 = sliding_kendall_parity(data, window=350, step=10)\n",
    "# iloc[0] ->trend0\n",
    "#iloc[1] ->trend1\n",
    "#iloc[2] ->dist\n",
    "\n",
    "# parity=0\n",
    "# cal=1\n",
    "# eq=2\n",
    "        axs[i][0].plot(e0, color='red', label=str(scores.iloc[0][0].round(2)))\n",
    "        axs[i][0].plot(e1, color='blue', linestyle='dashed', label=str(scores.iloc[1][0].round(2)))\n",
    "        axs[i][0].legend(loc=\"upper right\", prop={'size': 8})\n",
    "#         f.legend(bbox_to_anchor=(i, 0), loc=2, borderaxespad=0.)\n",
    "        axs[i][0].set_ylim([0,1])\n",
    "        axs[i][0].set_ylabel(\"baseline\", size='large')\n",
    "        if(i==0):\n",
    "            axs[i][0].set_title(\"Parity\")\n",
    "        else:\n",
    "            l = \"error \"+ str(r)\n",
    "            axs[i][0].set_ylabel(l, size='large')\n",
    "\n",
    "        e0,e1 = sliding_kendall_cal2(data, window=350, step=10)\n",
    "        scores = diagnose_k(data, w=350, s=10)\n",
    "        axs[i][1].plot(e0, color='red', label=str(scores.iloc[0][1].round(2)))\n",
    "        axs[i][1].plot(e1, color='blue', linestyle='dashed', label=str(scores.iloc[1][1].round(2)))\n",
    "        axs[i][1].legend(loc=\"upper right\", prop={'size': 8})\n",
    "#         f.legend(bbox_to_anchor=(i, 1), loc=2, borderaxespad=0.)\n",
    "        axs[i][1].set_ylim([0,1])  \n",
    "        axs[i][1].get_yaxis().set_ticks([])\n",
    "        if(i==0):   \n",
    "            axs[i][1].set_title(\"Calibration\")\n",
    "        e0,e1 = sliding_kendall_eq(data, window=350, step=10)\n",
    "        scores = diagnose_k(data, w=350, s=10)\n",
    "        axs[i][2].plot(e0, color='red', label=str(scores.iloc[0][2].round(2)))\n",
    "        axs[i][2].plot(e1, color='blue', linestyle='dashed', label=str(scores.iloc[1][2].round(2)))\n",
    "        axs[i][2].legend(loc=\"upper right\", prop={'size': 8})\n",
    "#         f.legend(bbox_to_anchor=(i, 2), loc=2, borderaxespad=0.)\n",
    "        axs[i][2].set_ylim([0,1])\n",
    "        if(i==0):\n",
    "            axs[i][2].set_title(\"Equality\")\n",
    "#     for ax in axarr:\n",
    "#         ax.label_outer()\n",
    "#     plt.show()\n",
    "    plt.savefig(filename, bbox_inches='tight')\n",
    "\n",
    "#     synth_errs = diagnose_k(data, 'synth_0.9')\n",
    "#     print(synth_errs.round(2))"
   ]
  },
  {
   "cell_type": "code",
   "execution_count": 21,
   "metadata": {
    "collapsed": true
   },
   "outputs": [],
   "source": [
    "def plot_legend_cols(data, props, funct, title, filename,label=True): \n",
    "    cols= len(props)\n",
    "    height = rows*3\n",
    "    plt.rcParams['figure.figsize'] = (12, height)\n",
    "    plt.figure(figsize=(12, height))\n",
    "    f, axs = plt.subplots(3, cols, sharex='col', sharey='row')\n",
    "    f.suptitle(title, size='x-large')\n",
    "    dfs=[]\n",
    "    for r in props:\n",
    "        print(r)\n",
    "        data['y_pred'] = funct(data, r, 0.)['y']\n",
    "        dfs.append(data.copy())\n",
    "        \n",
    "    for i,r in enumerate(props):\n",
    "        e0,e1 = sliding_kendall_parity(dfs[i], window=350, step=10)\n",
    "        scores = diagnose_k(dfs[i], w=350, s=10)\n",
    "        axs[0][i].plot(e0, color='red', label=str(scores.iloc[1][0].round(2)))\n",
    "        axs[0][i].plot(e1, color='blue', linestyle='dashed', label=str(scores.iloc[1][0].round(2)))\n",
    "        axs[0][i].legend(loc=\"upper right\", prop={'size': 8})\n",
    "        axs[0][i].set_ylim([0,1])\n",
    "        if (not label):\n",
    "            axs[0][i].get_yaxis().set_ticks([])\n",
    "        axs[0][0].set_title(\"baseline\", size='large')\n",
    "        \n",
    "    for i,r in enumerate(props):\n",
    "        e0,e1 = sliding_kendall_cal2(dfs[i], window=350, step=10)\n",
    "        scores = diagnose_k(dfs[i], w=350, s=10)\n",
    "        axs[1][i].plot(e0, color='red', label=str(scores.iloc[0][1].round(2)))\n",
    "        axs[1][i].plot(e1, color='blue', linestyle='dashed', label=str(scores.iloc[1][1].round(2)))\n",
    "        axs[1][i].legend(loc=\"upper right\", prop={'size': 8})\n",
    "        axs[1][i].set_ylim([0,1])\n",
    "        if (not label):\n",
    "            axs[1][i].get_yaxis().set_ticks([])\n",
    "        l = \"error \"+ str(props[1])\n",
    "        axs[0][1].set_title(l, size='large')\n",
    "        \n",
    "    for i,r in enumerate(props):\n",
    "        scores = diagnose_k(dfs[i], w=350, s=10)\n",
    "        e0,e1 = sliding_kendall_eq(dfs[i], window=350, step=10)\n",
    "        axs[2][i].plot(e0, color='red', label=str(scores.iloc[0][2].round(2)))\n",
    "        axs[2][i].plot(e1, color='blue', linestyle='dashed', label=str(scores.iloc[1][2].round(2)))\n",
    "        axs[2][i].legend(loc=\"upper right\", prop={'size': 8})\n",
    "        axs[2][i].set_ylim([0,1])\n",
    "        if (not label):\n",
    "            axs[2][i].get_yaxis().set_ticks([])\n",
    "\n",
    "        l = \"error \"+ str(props[2])\n",
    "        axs[0][2].set_title(l, size='large')\n",
    "            \n",
    "    if (label):\n",
    "        axs[0][0].set_ylabel(\"Parity\", size='x-large')\n",
    "        axs[1][0].set_ylabel(\"Calibration\", size='x-large')\n",
    "        axs[2][0].set_ylabel(\"Equality\", size='x-large')\n",
    "#     for ax in axarr:\n",
    "#         ax.label_outer()\n",
    "#     plt.show()\n",
    "    plt.savefig(filename, bbox_inches='tight')\n",
    "\n",
    "#     synth_errs = diagnose_k(data, 'synth_0.9')\n",
    "#     print(synth_errs.round(2))"
   ]
  },
  {
   "cell_type": "code",
   "execution_count": 43,
   "metadata": {},
   "outputs": [],
   "source": [
    "def plot_baseline(df, title, filename): \n",
    "    plt.rcParams['figure.figsize'] = (2, 6)\n",
    "#     plt.figure(figsize=(1, 3))\n",
    "    f, axs = plt.subplots(3, 1, sharex='col', sharey='row')\n",
    "    f.suptitle(title, size='x-large')\n",
    "    df['y_pred'] = add_error_under_over(data, 0.1, 0.)['y']\n",
    "\n",
    "    e0,e1 = sliding_kendall_parity(df, window=350, step=10)\n",
    "    scores = diagnose_k(df, w=350, s=10)\n",
    "    axs[0].plot(e0, color='red', label=str(scores.iloc[1][0].round(2)))\n",
    "    axs[0].plot(e1, color='blue', linestyle='dashed', label=str(scores.iloc[1][0].round(2)))\n",
    "    axs[0].legend(loc=\"upper right\", prop={'size': 7.5}, ncol=2)\n",
    "    axs[0].set_ylim([0,1])\n",
    "        \n",
    "    e0,e1 = sliding_kendall_cal2(df, window=350, step=10)\n",
    "    scores = diagnose_k(df, w=350, s=10)\n",
    "    axs[1].plot(e0, color='red', label=str(scores.iloc[0][1].round(2)))\n",
    "    axs[1].plot(e1, color='blue', linestyle='dashed', label=str(scores.iloc[1][1].round(2)))\n",
    "    axs[1].legend(loc=\"upper right\", prop={'size': 7.5}, ncol=2)\n",
    "    axs[1].set_ylim([0,1])\n",
    "        \n",
    "    scores = diagnose_k(df, w=350, s=10)\n",
    "    e0,e1 = sliding_kendall_eq(df, window=350, step=10)\n",
    "    axs[2].plot(e0, color='red', label=str(scores.iloc[0][2].round(2)))\n",
    "    axs[2].plot(e1, color='blue', linestyle='dashed', label=str(scores.iloc[1][2].round(2)))\n",
    "    axs[2].legend(loc=\"upper right\", prop={'size': 7.5}, ncol=2)\n",
    "    axs[2].set_ylim([0,1])\n",
    "\n",
    "    axs[0].set_ylabel(\"Parity\", size='x-large')\n",
    "    axs[1].set_ylabel(\"Calibration\", size='x-large')\n",
    "    axs[2].set_ylabel(\"Equality\", size='x-large')\n",
    "    plt.savefig(filename, bbox_inches='tight')\n"
   ]
  },
  {
   "cell_type": "code",
   "execution_count": 44,
   "metadata": {},
   "outputs": [],
   "source": [
    "def plot_legend_cols(data, props, funct, title, filename,label=True): \n",
    "    cols= len(props)\n",
    "    height = cols*3\n",
    "    plt.rcParams['figure.figsize'] = (4, height)\n",
    "    plt.figure(figsize=(4, height))\n",
    "    f, axs = plt.subplots(3, cols, sharex='col', sharey='row')\n",
    "    f.suptitle(title, size='x-large')\n",
    "    dfs=[]\n",
    "    for r in props:\n",
    "        print(r)\n",
    "        data['y_pred'] = funct(data, r, 0.)['y']\n",
    "        dfs.append(data.copy())\n",
    "        \n",
    "    for i,r in enumerate(props):\n",
    "        e0,e1 = sliding_kendall_parity(dfs[i], window=350, step=10)\n",
    "        scores = diagnose_k(dfs[i], w=350, s=10)\n",
    "        axs[0][i].plot(e0, color='red', label=str(scores.iloc[1][0].round(2)))\n",
    "        axs[0][i].plot(e1, color='blue', linestyle='dashed', label=str(scores.iloc[1][0].round(2)))\n",
    "        axs[0][i].legend(loc=\"upper right\", prop={'size': 7.5}, ncol=2)\n",
    "        axs[0][i].set_ylim([0,1])\n",
    "        if (not label):\n",
    "            axs[0][i].get_yaxis().set_ticks([])\n",
    "        else:\n",
    "            l = \"error \"+ str(props[i])\n",
    "            axs[0][i].set_title(l, size='large')\n",
    "        \n",
    "    for i,r in enumerate(props):\n",
    "        e0,e1 = sliding_kendall_cal2(dfs[i], window=350, step=10)\n",
    "        scores = diagnose_k(dfs[i], w=350, s=10)\n",
    "        axs[1][i].plot(e0, color='red', label=str(scores.iloc[0][1].round(2)))\n",
    "        axs[1][i].plot(e1, color='blue', linestyle='dashed', label=str(scores.iloc[1][1].round(2)))\n",
    "        axs[1][i].legend(loc=\"upper right\", prop={'size': 7.5}, ncol=2)\n",
    "        axs[1][i].set_ylim([0,1])\n",
    "        if (not label):\n",
    "            axs[1][i].get_yaxis().set_ticks([])\n",
    "        else:\n",
    "            l = \"error \"+ str(props[i])\n",
    "            axs[1][i].set_title(l, size='large')\n",
    "        \n",
    "    for i,r in enumerate(props):\n",
    "        scores = diagnose_k(dfs[i], w=350, s=10)\n",
    "        e0,e1 = sliding_kendall_eq(dfs[i], window=350, step=10)\n",
    "        axs[2][i].plot(e0, color='red', label=str(scores.iloc[0][2].round(2)))\n",
    "        axs[2][i].plot(e1, color='blue', linestyle='dashed', label=str(scores.iloc[1][2].round(2)))\n",
    "        axs[2][i].legend(loc=\"upper right\", prop={'size': 7.5}, ncol=2)\n",
    "        axs[2][i].set_ylim([0,1])\n",
    "        if (not label):\n",
    "            axs[2][i].get_yaxis().set_ticks([])\n",
    "        else:\n",
    "            l = \"error \"+ str(props[i])\n",
    "            axs[2][i].set_title(l, size='large')\n",
    "            \n",
    "    if (label):\n",
    "        axs[0][0].set_ylabel(\"Parity\", size='x-large')\n",
    "        axs[1][0].set_ylabel(\"Calibration\", size='x-large')\n",
    "        axs[2][0].set_ylabel(\"Equality\", size='x-large')\n",
    "#     for ax in axarr:\n",
    "#         ax.label_outer()\n",
    "#     plt.show()\n",
    "    plt.savefig(filename, bbox_inches='tight')\n",
    "\n",
    "#     synth_errs = diagnose_k(data, 'synth_0.9')\n",
    "#     print(synth_errs.round(2))"
   ]
  },
  {
   "cell_type": "code",
   "execution_count": 45,
   "metadata": {},
   "outputs": [
    {
     "name": "stdout",
     "output_type": "stream",
     "text": [
      "0.5\n",
      "0.75\n",
      "0.5\n",
      "0.75\n",
      "0.5\n",
      "0.75\n",
      "done\n"
     ]
    },
    {
     "data": {
      "text/plain": [
       "<matplotlib.figure.Figure at 0x7f6af5a37320>"
      ]
     },
     "metadata": {},
     "output_type": "display_data"
    },
    {
     "data": {
      "image/png": "[encoded data removed]",
      "text/plain": [
       "<matplotlib.figure.Figure at 0x7f6af5a28048>"
      ]
     },
     "metadata": {},
     "output_type": "display_data"
    },
    {
     "data": {
      "text/plain": [
       "<matplotlib.figure.Figure at 0x7f6af5a37898>"
      ]
     },
     "metadata": {},
     "output_type": "display_data"
    },
    {
     "data": {
      "image/png": "[encoded data removed]",
      "text/plain": [
       "<matplotlib.figure.Figure at 0x7f6af5f27898>"
      ]
     },
     "metadata": {},
     "output_type": "display_data"
    },
    {
     "data": {
      "text/plain": [
       "<matplotlib.figure.Figure at 0x7f6af59ee0b8>"
      ]
     },
     "metadata": {},
     "output_type": "display_data"
    },
    {
     "data": {
      "image/png": "[encoded data removed]",
      "text/plain": [
       "<matplotlib.figure.Figure at 0x7f6b397c24a8>"
      ]
     },
     "metadata": {},
     "output_type": "display_data"
    }
   ],
   "source": [
    "props = [0.5,0.75]\n",
    "plot_legend_cols(data, props, add_error_under, \"Underestimation\", \"under2.png\", label=False)\n",
    "plot_legend_cols(data, props, add_error_over, \"Overestimation\", \"over2.png\", label=False)\n",
    "plot_legend_cols(data, props, add_error_under_over, \"Both Under and Overestimation\", \n",
    "                 \"both2.png\", label=False)\n",
    "print(\"done\")"
   ]
  },
  {
   "cell_type": "code",
   "execution_count": 46,
   "metadata": {},
   "outputs": [
    {
     "data": {
      "image/png": "[encoded data removed]",
      "text/plain": [
       "<matplotlib.figure.Figure at 0x7f6af5a37748>"
      ]
     },
     "metadata": {},
     "output_type": "display_data"
    }
   ],
   "source": [
    "plot_baseline(data, \"Baseline\", \"base.png\")\n"
   ]
  },
  {
   "cell_type": "code",
   "execution_count": 35,
   "metadata": {
    "collapsed": true
   },
   "outputs": [
    {
     "name": "stdout",
     "output_type": "stream",
     "text": [
      "done\n"
     ]
    },
    {
     "data": {
      "text/plain": [
       "<matplotlib.figure.Figure at 0x7f99ef8890b8>"
      ]
     },
     "metadata": {},
     "output_type": "display_data"
    },
    {
     "data": {
      "image/png": "[encoded data removed]",
      "text/plain": [
       "<matplotlib.figure.Figure at 0x7f99ef482400>"
      ]
     },
     "metadata": {},
     "output_type": "display_data"
    },
    {
     "data": {
      "text/plain": [
       "<matplotlib.figure.Figure at 0x7f99ef904390>"
      ]
     },
     "metadata": {},
     "output_type": "display_data"
    },
    {
     "data": {
      "image/png": "[encoded data removed]",
      "text/plain": [
       "<matplotlib.figure.Figure at 0x7f99efb3f8d0>"
      ]
     },
     "metadata": {},
     "output_type": "display_data"
    },
    {
     "data": {
      "text/plain": [
       "<matplotlib.figure.Figure at 0x7f99ef4eb208>"
      ]
     },
     "metadata": {},
     "output_type": "display_data"
    },
    {
     "data": {
      "image/png": "[encoded data removed]",
      "text/plain": [
       "<matplotlib.figure.Figure at 0x7f99ef7ad748>"
      ]
     },
     "metadata": {},
     "output_type": "display_data"
    }
   ],
   "source": [
    "props = [0.5,0.75]\n",
    "plot_rows(data, props, add_error_under, \"Underestimation\", \"under_all_rows.png\")\n",
    "plot_rows(data, props, add_error_over, \"Overestimation\", \"over_all_rows.png\")\n",
    "plot_rows(data, props, add_error_under_over, \"Both Underestimation and Overestimation\", \n",
    "                 \"both_all_rows.png\")\n",
    "print(\"done\")"
   ]
  },
  {
   "cell_type": "code",
   "execution_count": null,
   "metadata": {
    "collapsed": true
   },
   "outputs": [],
   "source": [
    "props = [0.1,0.5,0.75]\n",
    "plot_all_one_fig_rows(data, props, add_error_under, \"Underestimation\", \"under_all_rows.png\")\n",
    "plot_all_one_fig_rows(data, props, add_error_over, \"Overestimation\", \"over_all_rows.png\", label=False)\n",
    "plot_all_one_fig_rows(data, props, add_error_under_over, \"Both Underestimation and Overestimation\", \n",
    "                 \"both_all_rows.png\", label=False)\n",
    "print(\"done\")"
   ]
  },
  {
   "cell_type": "code",
   "execution_count": null,
   "metadata": {
    "collapsed": true
   },
   "outputs": [],
   "source": []
  }
 ],
 "metadata": {
  "kernelspec": {
   "display_name": "Python 3",
   "language": "python",
   "name": "python3"
  },
  "language_info": {
   "codemirror_mode": {
    "name": "ipython",
    "version": 3
   },
   "file_extension": ".py",
   "mimetype": "text/x-python",
   "name": "python",
   "nbconvert_exporter": "python",
   "pygments_lexer": "ipython3",
   "version": "3.6.3"
  }
 },
 "nbformat": 4,
 "nbformat_minor": 2
}
