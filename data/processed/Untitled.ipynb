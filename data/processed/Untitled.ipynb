{
 "cells": [
  {
   "cell_type": "code",
   "execution_count": 1,
   "metadata": {
    "collapsed": true
   },
   "outputs": [],
   "source": [
    "import pickle\n",
    "\n",
    "\n",
    "X = pickle.load( open( \"x.p\", \"rb\" ) )\n",
    "y = pickle.load( open( \"y.p\", \"rb\" ) )\n",
    "g = pickle.load( open( \"g.p\", \"rb\" ) )"
   ]
  },
  {
   "cell_type": "code",
   "execution_count": 3,
   "metadata": {},
   "outputs": [
    {
     "name": "stdout",
     "output_type": "stream",
     "text": [
      "[[-0.26726291  0.79229534  0.48719052 ..., -0.73179423 -0.61734258\n",
      "  -0.67537433]\n",
      " [-0.26726291  0.79229534 -1.18384943 ..., -0.45430117  0.25130789\n",
      "  -0.01195442]\n",
      " [-0.26726291  0.79229534 -0.18122546 ..., -1.06299563 -0.34150796\n",
      "  -0.85266957]\n",
      " ..., \n",
      " [-0.26726291  0.79229534 -0.24806706 ..., -0.81983377 -0.49085488\n",
      "  -0.70526847]\n",
      " [-0.26726291  0.79229534 -1.31753263 ..., -0.68903818 -0.67068076\n",
      "   0.34769506]\n",
      " [-0.26726291  0.79229534  0.48719052 ..., -0.97242863  0.         -0.43392168]]\n"
     ]
    }
   ],
   "source": [
    "print(X)"
   ]
  },
  {
   "cell_type": "code",
   "execution_count": 4,
   "metadata": {},
   "outputs": [
    {
     "name": "stdout",
     "output_type": "stream",
     "text": [
      "[ 0.59874933 -0.6160681   1.20615805  1.66541829 -0.11236331  1.13208381\n",
      "  1.13208381 -0.52717902  0.71726811 -1.16421742 -1.09014319 -1.13458773\n",
      " -1.43088466 -1.49014405 -1.26792135 -1.09014319  1.42838075 -0.43828994\n",
      "  0.19874847 -0.64569779 -0.52717902 -1.43088466  1.35430651 -1.4753292\n",
      "  0.13948908 -0.24569693 -1.5049589   0.13948908  1.42838075  1.04319473\n",
      " -1.32718074  0.59874933  1.56171437 -0.43828994 -0.73458687  1.66541829\n",
      "  0.43578602 -0.8086611  -1.34199558  1.66541829 -1.60866282  0.31726724\n",
      " -0.00865938 -0.11236331  0.71726811  0.80615719  0.06541485 -1.4753292\n",
      "  0.50986025 -0.95680957  1.04319473  1.04319473  1.56171437 -0.11236331\n",
      " -0.30495632 -1.56421828  0.33208209 -0.43828994  0.19874847  0.89504627\n",
      "  1.42838075  1.13208381  0.43578602 -1.19384712 -1.04569865 -1.4753292\n",
      "  1.29504713  0.50986025 -0.95680957 -1.62347767 -1.01606896 -1.43088466\n",
      "  0.9691205  -0.20125239  0.89504627 -0.20125239 -0.24569693  0.43578602\n",
      "  0.59874933  0.19874847  1.66541829  1.56171437 -0.73458687 -1.56421828\n",
      " -0.6160681   1.04319473 -0.73458687  0.06541485 -0.48273448  0.9691205\n",
      "  0.33208209 -1.20866196  0.9691205   0.19874847  0.33208209  0.89504627\n",
      " -1.59384798 -0.8086611   0.19874847 -0.43828994 -0.34940086 -1.01606896\n",
      " -0.8382908   0.9691205   1.20615805  0.89504627 -0.48273448  0.06541485\n",
      "  0.33208209  0.71726811  0.80615719  1.04319473 -0.95680957  0.50986025\n",
      "  1.20615805 -1.37162528 -0.11236331 -1.51977374  0.67282357 -1.13458773\n",
      " -0.30495632 -0.00865938  1.66541829 -1.32718074 -0.34940086 -0.00865938\n",
      " -0.20125239  1.04319473 -0.00865938  1.56171437 -1.43088466 -0.95680957\n",
      "  0.89504627 -1.23829166  0.43578602  1.66541829  1.13208381  1.42838075\n",
      "  1.20615805 -0.73458687 -1.59384798 -0.24569693]\n"
     ]
    }
   ],
   "source": [
    "print(y)"
   ]
  },
  {
   "cell_type": "code",
   "execution_count": 5,
   "metadata": {},
   "outputs": [
    {
     "name": "stdout",
     "output_type": "stream",
     "text": [
      "INSTNM\n",
      "Princeton University                     0.0\n",
      "Harvard University                       0.0\n",
      "University of Chicago                    0.0\n",
      "Yale University                          0.0\n",
      "Massachusetts Institute of Technology    0.0\n",
      "Stanford University                      0.0\n",
      "University of Pennsylvania               0.0\n",
      "Duke University                          0.0\n",
      "California Institute of Technology       0.0\n",
      "Dartmouth College                        0.0\n",
      "Johns Hopkins University                 0.0\n",
      "Northwestern University                  0.0\n",
      "Brown University                         0.0\n",
      "Cornell University                       0.0\n",
      "Rice University                          0.0\n",
      "Vanderbilt University                    0.0\n",
      "University of Notre Dame                 0.0\n",
      "Georgetown University                    0.0\n",
      "Emory University                         0.0\n",
      "University of Southern California        0.0\n",
      "Carnegie Mellon University               0.0\n",
      "Wake Forest University                   0.0\n",
      "Tufts University                         0.0\n",
      "New York University                      0.0\n",
      "Boston College                           0.0\n",
      "Brandeis University                      0.0\n",
      "University of Rochester                  0.0\n",
      "Boston University                        0.0\n",
      "Case Western Reserve University          0.0\n",
      "Northeastern University                  0.0\n",
      "                                        ... \n",
      "Kansas State University                  0.0\n",
      "Oregon State University                  1.0\n",
      "University of Mississippi                1.0\n",
      "University of Rhode Island               1.0\n",
      "Illinois State University                1.0\n",
      "University of Louisville                 1.0\n",
      "Mississippi State University             1.0\n",
      "Rowan University                         1.0\n",
      "University of Central Florida            1.0\n",
      "University of Idaho                      1.0\n",
      "Virginia Commonwealth University         1.0\n",
      "Texas Tech University                    1.0\n",
      "University of Maine                      1.0\n",
      "University of Wyoming                    0.0\n",
      "Ball State University                    1.0\n",
      "Montclair State University               1.0\n",
      "West Virginia University                 1.0\n",
      "University of Houston                    1.0\n",
      "University of North Dakota               0.0\n",
      "Central Michigan University              1.0\n",
      "East Carolina University                 1.0\n",
      "Montana State University                 1.0\n",
      "Western Michigan University              1.0\n",
      "Florida International University         1.0\n",
      "Louisiana Tech University                0.0\n",
      "South Dakota State University            1.0\n",
      "Utah State University                    1.0\n",
      "Georgia State University                 1.0\n",
      "University of South Dakota               1.0\n",
      "Wayne State University                   1.0\n",
      "Name: Group, Length: 142, dtype: float64\n"
     ]
    }
   ],
   "source": [
    "print(g)"
   ]
  },
  {
   "cell_type": "code",
   "execution_count": null,
   "metadata": {
    "collapsed": true
   },
   "outputs": [],
   "source": []
  }
 ],
 "metadata": {
  "kernelspec": {
   "display_name": "Python 3",
   "language": "python",
   "name": "python3"
  },
  "language_info": {
   "codemirror_mode": {
    "name": "ipython",
    "version": 3
   },
   "file_extension": ".py",
   "mimetype": "text/x-python",
   "name": "python",
   "nbconvert_exporter": "python",
   "pygments_lexer": "ipython3",
   "version": "3.6.2"
  }
 },
 "nbformat": 4,
 "nbformat_minor": 2
}
