{
 "cells": [
  {
   "cell_type": "code",
   "execution_count": 1,
   "metadata": {},
   "outputs": [
    {
     "data": {
      "text/html": [
       "<div>\n",
       "<style scoped>\n",
       "    .dataframe tbody tr th:only-of-type {\n",
       "        vertical-align: middle;\n",
       "    }\n",
       "\n",
       "    .dataframe tbody tr th {\n",
       "        vertical-align: top;\n",
       "    }\n",
       "\n",
       "    .dataframe thead th {\n",
       "        text-align: right;\n",
       "    }\n",
       "</style>\n",
       "<table border=\"1\" class=\"dataframe\">\n",
       "  <thead>\n",
       "    <tr style=\"text-align: right;\">\n",
       "      <th></th>\n",
       "      <th>State</th>\n",
       "      <th>Percentage of Pell Grantees</th>\n",
       "      <th>Median Federal Debt for All Students</th>\n",
       "      <th>Median Federal Debt of Pell Grantees</th>\n",
       "      <th>Nonrepayment Rate for Pell Students</th>\n",
       "      <th>Nonrepayment Rate for All Students</th>\n",
       "      <th>Average Cost for Low-Income Students, Per Year</th>\n",
       "      <th>Default Rate for All Students</th>\n",
       "      <th>Percentage of All Students Earning $25K or Less Per Year, 10 Years After Enrolling</th>\n",
       "    </tr>\n",
       "  </thead>\n",
       "  <tbody>\n",
       "    <tr>\n",
       "      <th>0</th>\n",
       "      <td>Adelphi University</td>\n",
       "      <td>0.308</td>\n",
       "      <td>25000.0</td>\n",
       "      <td>23000.0</td>\n",
       "      <td>0.363</td>\n",
       "      <td>0.297</td>\n",
       "      <td>22197.0</td>\n",
       "      <td>0.032</td>\n",
       "      <td>0.204</td>\n",
       "    </tr>\n",
       "    <tr>\n",
       "      <th>1</th>\n",
       "      <td>Alliant International University-San Diego</td>\n",
       "      <td>0.123</td>\n",
       "      <td>3000.0</td>\n",
       "      <td>13425.0</td>\n",
       "      <td>0.634</td>\n",
       "      <td>0.496</td>\n",
       "      <td>16785.0</td>\n",
       "      <td>0.027</td>\n",
       "      <td>0.197</td>\n",
       "    </tr>\n",
       "    <tr>\n",
       "      <th>2</th>\n",
       "      <td>American International College</td>\n",
       "      <td>0.506</td>\n",
       "      <td>27000.0</td>\n",
       "      <td>21750.0</td>\n",
       "      <td>0.586</td>\n",
       "      <td>0.519</td>\n",
       "      <td>17160.0</td>\n",
       "      <td>0.062</td>\n",
       "      <td>0.263</td>\n",
       "    </tr>\n",
       "    <tr>\n",
       "      <th>3</th>\n",
       "      <td>American University</td>\n",
       "      <td>0.167</td>\n",
       "      <td>24589.0</td>\n",
       "      <td>25000.0</td>\n",
       "      <td>0.273</td>\n",
       "      <td>0.199</td>\n",
       "      <td>28524.0</td>\n",
       "      <td>0.021</td>\n",
       "      <td>0.168</td>\n",
       "    </tr>\n",
       "    <tr>\n",
       "      <th>4</th>\n",
       "      <td>Andrews University</td>\n",
       "      <td>0.293</td>\n",
       "      <td>27750.0</td>\n",
       "      <td>26768.0</td>\n",
       "      <td>0.536</td>\n",
       "      <td>0.493</td>\n",
       "      <td>19226.0</td>\n",
       "      <td>0.053</td>\n",
       "      <td>0.338</td>\n",
       "    </tr>\n",
       "  </tbody>\n",
       "</table>\n",
       "</div>"
      ],
      "text/plain": [
       "                                        State  Percentage of Pell Grantees  \\\n",
       "0                          Adelphi University                        0.308   \n",
       "1  Alliant International University-San Diego                        0.123   \n",
       "2              American International College                        0.506   \n",
       "3                         American University                        0.167   \n",
       "4                          Andrews University                        0.293   \n",
       "\n",
       "   Median Federal Debt for All Students  Median Federal Debt of Pell Grantees  \\\n",
       "0                               25000.0                               23000.0   \n",
       "1                                3000.0                               13425.0   \n",
       "2                               27000.0                               21750.0   \n",
       "3                               24589.0                               25000.0   \n",
       "4                               27750.0                               26768.0   \n",
       "\n",
       "   Nonrepayment Rate for Pell Students  Nonrepayment Rate for All Students  \\\n",
       "0                                0.363                               0.297   \n",
       "1                                0.634                               0.496   \n",
       "2                                0.586                               0.519   \n",
       "3                                0.273                               0.199   \n",
       "4                                0.536                               0.493   \n",
       "\n",
       "   Average Cost for Low-Income Students, Per Year  \\\n",
       "0                                         22197.0   \n",
       "1                                         16785.0   \n",
       "2                                         17160.0   \n",
       "3                                         28524.0   \n",
       "4                                         19226.0   \n",
       "\n",
       "   Default Rate for All Students  \\\n",
       "0                          0.032   \n",
       "1                          0.027   \n",
       "2                          0.062   \n",
       "3                          0.021   \n",
       "4                          0.053   \n",
       "\n",
       "   Percentage of All Students Earning $25K or Less Per Year, 10 Years After Enrolling  \n",
       "0                                              0.204                                   \n",
       "1                                              0.197                                   \n",
       "2                                              0.263                                   \n",
       "3                                              0.168                                   \n",
       "4                                              0.338                                   "
      ]
     },
     "execution_count": 1,
     "metadata": {},
     "output_type": "execute_result"
    }
   ],
   "source": [
    "import numpy as np\n",
    "import pandas as pd\n",
    "\n",
    "\n",
    "#ProPublica data from here https://projects.propublica.org/colleges\n",
    "#Not used in this analysis - but maybe would be better?\n",
    "\n",
    "pp=pd.read_csv(\"../../data/raw/compas/ProPublica_Data.csv\")\n",
    "pp.head()"
   ]
  },
  {
   "cell_type": "code",
   "execution_count": 2,
   "metadata": {},
   "outputs": [
    {
     "data": {
      "text/html": [
       "<div>\n",
       "<style scoped>\n",
       "    .dataframe tbody tr th:only-of-type {\n",
       "        vertical-align: middle;\n",
       "    }\n",
       "\n",
       "    .dataframe tbody tr th {\n",
       "        vertical-align: top;\n",
       "    }\n",
       "\n",
       "    .dataframe thead th {\n",
       "        text-align: right;\n",
       "    }\n",
       "</style>\n",
       "<table border=\"1\" class=\"dataframe\">\n",
       "  <thead>\n",
       "    <tr style=\"text-align: right;\">\n",
       "      <th></th>\n",
       "      <th>City</th>\n",
       "      <th>State</th>\n",
       "      <th>Rank</th>\n",
       "      <th>In-state Tuition</th>\n",
       "      <th>Out-state Tuition</th>\n",
       "      <th>Enrollment</th>\n",
       "    </tr>\n",
       "    <tr>\n",
       "      <th>University</th>\n",
       "      <th></th>\n",
       "      <th></th>\n",
       "      <th></th>\n",
       "      <th></th>\n",
       "      <th></th>\n",
       "      <th></th>\n",
       "    </tr>\n",
       "  </thead>\n",
       "  <tbody>\n",
       "    <tr>\n",
       "      <th>Princeton University</th>\n",
       "      <td>Princeton</td>\n",
       "      <td>NJ</td>\n",
       "      <td>1</td>\n",
       "      <td>$47140</td>\n",
       "      <td>$47140</td>\n",
       "      <td>5400.0</td>\n",
       "    </tr>\n",
       "    <tr>\n",
       "      <th>Harvard University</th>\n",
       "      <td>Cambridge</td>\n",
       "      <td>MA</td>\n",
       "      <td>2</td>\n",
       "      <td>$48949</td>\n",
       "      <td>$48949</td>\n",
       "      <td>6710.0</td>\n",
       "    </tr>\n",
       "    <tr>\n",
       "      <th>University of Chicago</th>\n",
       "      <td>Chicago</td>\n",
       "      <td>IL</td>\n",
       "      <td>3</td>\n",
       "      <td>$54825</td>\n",
       "      <td>$54825</td>\n",
       "      <td>5941.0</td>\n",
       "    </tr>\n",
       "    <tr>\n",
       "      <th>Yale University</th>\n",
       "      <td>New Haven</td>\n",
       "      <td>CT</td>\n",
       "      <td>3</td>\n",
       "      <td>$51400</td>\n",
       "      <td>$51400</td>\n",
       "      <td>5472.0</td>\n",
       "    </tr>\n",
       "    <tr>\n",
       "      <th>Columbia University</th>\n",
       "      <td>New York</td>\n",
       "      <td>NY</td>\n",
       "      <td>5</td>\n",
       "      <td>$57208</td>\n",
       "      <td>$57208</td>\n",
       "      <td>6113.0</td>\n",
       "    </tr>\n",
       "  </tbody>\n",
       "</table>\n",
       "</div>"
      ],
      "text/plain": [
       "                            City State Rank In-state Tuition  \\\n",
       "University                                                     \n",
       "Princeton University   Princeton    NJ    1           $47140   \n",
       "Harvard University     Cambridge    MA    2           $48949   \n",
       "University of Chicago    Chicago    IL  3             $54825   \n",
       "Yale University        New Haven    CT  3             $51400   \n",
       "Columbia University     New York    NY  5             $57208   \n",
       "\n",
       "                      Out-state Tuition  Enrollment  \n",
       "University                                           \n",
       "Princeton University             $47140      5400.0  \n",
       "Harvard University               $48949      6710.0  \n",
       "University of Chicago            $54825      5941.0  \n",
       "Yale University                  $51400      5472.0  \n",
       "Columbia University              $57208      6113.0  "
      ]
     },
     "execution_count": 2,
     "metadata": {},
     "output_type": "execute_result"
    }
   ],
   "source": [
    "usnews = pd.read_csv(\"../../data/raw/college/USNewsCollegeRankings2018.csv\")\n",
    "usnews.set_index('University', inplace=True)\n",
    "usnews.head()"
   ]
  },
  {
   "cell_type": "code",
   "execution_count": 3,
   "metadata": {},
   "outputs": [
    {
     "name": "stderr",
     "output_type": "stream",
     "text": [
      "/usr/local/Cellar/python3/3.6.4_2/Frameworks/Python.framework/Versions/3.6/lib/python3.6/site-packages/IPython/core/interactiveshell.py:2728: DtypeWarning: Columns (6,9,1725,1726,1727,1728,1729,1743) have mixed types. Specify dtype option on import or set low_memory=False.\n",
      "  interactivity=interactivity, compiler=compiler, result=result)\n"
     ]
    },
    {
     "data": {
      "text/plain": [
       "(7593, 1777)"
      ]
     },
     "execution_count": 3,
     "metadata": {},
     "output_type": "execute_result"
    }
   ],
   "source": [
    "scorecard = pd.read_csv(\"../../data/raw/college/MERGED2015_16_PP.csv\")\n",
    "scorecard.shape"
   ]
  },
  {
   "cell_type": "code",
   "execution_count": 4,
   "metadata": {},
   "outputs": [
    {
     "data": {
      "text/plain": [
       "(230, 6)"
      ]
     },
     "execution_count": 4,
     "metadata": {},
     "output_type": "execute_result"
    }
   ],
   "source": [
    "usnews=usnews[usnews['Rank']!= 'Rank Not Published']\n",
    "usnews=usnews[usnews['Rank']!= 'Unranked']\n",
    "usnews.shape"
   ]
  },
  {
   "cell_type": "code",
   "execution_count": 5,
   "metadata": {},
   "outputs": [
    {
     "name": "stderr",
     "output_type": "stream",
     "text": [
      "/usr/local/Cellar/python3/3.6.4_2/Frameworks/Python.framework/Versions/3.6/lib/python3.6/site-packages/ipykernel_launcher.py:4: FutureWarning: \n",
      "Passing list-likes to .loc or [] with any missing label will raise\n",
      "KeyError in the future, you can use .reindex() as an alternative.\n",
      "\n",
      "See the documentation here:\n",
      "http://pandas.pydata.org/pandas-docs/stable/indexing.html#deprecate-loc-reindex-listlike\n",
      "  after removing the cwd from sys.path.\n"
     ]
    },
    {
     "data": {
      "text/plain": [
       "(230, 1768)"
      ]
     },
     "execution_count": 5,
     "metadata": {},
     "output_type": "execute_result"
    }
   ],
   "source": [
    "drop=['UNITID','OPEID','OPEID6','CITY','STABBR','ZIP','ACCREDAGENCY','INSTURL','NPCURL']\n",
    "scorecard.drop(drop, axis=1, inplace=True)\n",
    "scorecard.set_index('INSTNM',inplace=True)\n",
    "scorecard = scorecard.loc[usnews.index]\n",
    "scorecard['Rank']=usnews['Rank']\n",
    "scorecard.shape"
   ]
  },
  {
   "cell_type": "code",
   "execution_count": 6,
   "metadata": {},
   "outputs": [
    {
     "data": {
      "text/plain": [
       "(142, 441)"
      ]
     },
     "execution_count": 6,
     "metadata": {},
     "output_type": "execute_result"
    }
   ],
   "source": [
    "# scorecard.dropna(axis=1,thresh=100).shape\n",
    "data = scorecard.dropna(thresh=100, axis=1).dropna(thresh=500)\n",
    "for c in data.columns.values:\n",
    "    data[c] = pd.to_numeric(data[c], errors='coerce')\n",
    "data.dropna(axis=1,thresh=100, inplace=True)\n",
    "# data.fillna(data.mean, inplace=True)\n",
    "cols=[]\n",
    "for c in data.columns.values:\n",
    "    if data[c].var()!=0:\n",
    "       cols.append(c)\n",
    "data=data[cols]\n",
    "data.shape"
   ]
  },
  {
   "cell_type": "code",
   "execution_count": 7,
   "metadata": {},
   "outputs": [],
   "source": [
    "def normalize(df):\n",
    "    return(df - df.mean()) / df.std()\n",
    "\n",
    "scnorm = normalize(data)"
   ]
  },
  {
   "cell_type": "markdown",
   "metadata": {},
   "source": [
    "Feature Analysis"
   ]
  },
  {
   "cell_type": "code",
   "execution_count": 10,
   "metadata": {},
   "outputs": [
    {
     "name": "stdout",
     "output_type": "stream",
     "text": [
      "Negatively correlated features\n",
      "['attendance.academic_year', 'COSTT4_A', -0.6932427662378435, 1.1747684869920824e-21]\n",
      "['tuition.in_state', 'TUITIONFEE_IN', -0.6708655538227406, 6.604543928798278e-20]\n",
      "['tuition.out_of_state', 'TUITIONFEE_OUT', -0.8038813264738107, 2.1484910350060433e-33]\n",
      "['tuition_revenue_per_fte', 'TUITFTE', -0.6832112699637477, 7.476580762716287e-21]\n",
      "['instructional_expenditure_per_fte', 'INEXPFTE', -0.6520470892717466, 1.5058505552534478e-18]\n",
      "['faculty_salary', 'AVGFACSAL', -0.7994718046942055, 8.630216105012225e-33]\n",
      "['completion_rate_4yr_150nt', 'C150_4', -0.9391448493466977, 7.735549844824654e-67]\n",
      "['completion_rate_4yr_150nt_pooled', 'C150_4_POOLED', -0.9402921127190229, 2.1249830406631032e-67]\n",
      "['share_first.time_full.time', 'PFTFTUG1_EF', -0.7212443560926453, 4.3840422394709534e-24]\n",
      "['completion_rate_4yr_150_black', 'C150_4_BLACK', -0.8228389446670504, 3.544033330505613e-36]\n",
      "['completion_rate_4yr_150_hispanic', 'C150_4_HISP', -0.8482352985059171, 1.7920993301776731e-40]\n",
      "[nan, 'C200_4', -0.9352721920758164, 5.07028654410986e-65]\n",
      "['retention_rate.four_year.full_time', 'RET_FT4', -0.9049493178800072, 8.308240489856273e-54]\n",
      "[nan, 'C200_4_POOLED', -0.9386479501095927, 1.34322216080357e-66]\n",
      "['fafsa_sent.5plus_college_allyrs', 'APPL_SCH_PCT_GE5', -0.7208177828623612, 4.798170054779679e-24]\n",
      "['rate_suppressed.four_year', 'C150_4_POOLED_SUPP', -0.9402921127190229, 2.1249830406631032e-67]\n",
      "['rate_suppressed.four_year_200percent', 'C200_4_POOLED_SUPP', -0.9386479501095927, 1.34322216080357e-66]\n",
      "['completion_rate_4yr_100nt', 'C100_4', -0.8327820906973609, 8.990447686775816e-38]\n",
      "Positively correlated features\n",
      "['admission_rate.overall', 'ADM_RATE', 0.7748259128383067, 1.1325970722419979e-29]\n",
      "['admission_rate.by_ope_id', 'ADM_RATE_ALL', 0.7741259562443985, 1.3703177712229834e-29]\n",
      "['part_time_share', 'PPTUG_EF', 0.6766895579675887, 2.3945788888344584e-20]\n",
      "['pell_grant_rate', 'PCTPELL', 0.7140369070578447, 1.9705971980820174e-23]\n",
      "['federal_loan_rate', 'PCTFLOAN', 0.6374308310299966, 1.472566738208004e-17]\n",
      "['share_25_older', 'UG25ABV', 0.662428482438287, 2.7589698747471594e-19]\n",
      "['3_yr_default_rate', 'CDR3', 0.7515377421528087, 4.543795285821819e-27]\n",
      "[nan, 'Rank', 1.0, 0.0]\n"
     ]
    }
   ],
   "source": [
    "from scipy import stats\n",
    "#Find features that are correlated\n",
    "names = pd.read_csv('../../data/raw/college/col_names.csv')\n",
    "\n",
    "#Remember that rankings are inverted - #1 best\n",
    "\n",
    "pos_corr_features = []\n",
    "neg_corr_features = []\n",
    "\n",
    "for c in data.columns.values:\n",
    "    corr, p = stats.pearsonr(data[c], data['Rank'])\n",
    "    if p <0.05 and corr > 0.6 :\n",
    "        pos_corr_features.append([names[names['VARIABLE NAME']==c]['developer-friendly name'].max(),c, corr,p])\n",
    "\n",
    "for c in data.columns.values:\n",
    "    corr, p = stats.pearsonr(data[c], data['Rank'])\n",
    "    if p <0.05 and corr <-0.6 :\n",
    "        neg_corr_features.append([names[names['VARIABLE NAME']==c]['developer-friendly name'].max(),c, corr,p])\n",
    "\n",
    "print(\"Negatively correlated features\")\n",
    "print\n",
    "for i in neg_corr_features:\n",
    "    print(i)\n",
    "print\n",
    "print(\"Positively correlated features\")\n",
    "print\n",
    "for i in pos_corr_features:\n",
    "    print(i)"
   ]
  },
  {
   "cell_type": "code",
   "execution_count": 17,
   "metadata": {},
   "outputs": [
    {
     "ename": "KeyError",
     "evalue": "'PCTPELL'",
     "output_type": "error",
     "traceback": [
      "\u001b[0;31m---------------------------------------------------------------------------\u001b[0m",
      "\u001b[0;31mKeyError\u001b[0m                                  Traceback (most recent call last)",
      "\u001b[0;32m/usr/local/Cellar/python3/3.6.4_2/Frameworks/Python.framework/Versions/3.6/lib/python3.6/site-packages/pandas/core/indexes/base.py\u001b[0m in \u001b[0;36mget_loc\u001b[0;34m(self, key, method, tolerance)\u001b[0m\n\u001b[1;32m   2524\u001b[0m             \u001b[0;32mtry\u001b[0m\u001b[0;34m:\u001b[0m\u001b[0;34m\u001b[0m\u001b[0m\n\u001b[0;32m-> 2525\u001b[0;31m                 \u001b[0;32mreturn\u001b[0m \u001b[0mself\u001b[0m\u001b[0;34m.\u001b[0m\u001b[0m_engine\u001b[0m\u001b[0;34m.\u001b[0m\u001b[0mget_loc\u001b[0m\u001b[0;34m(\u001b[0m\u001b[0mkey\u001b[0m\u001b[0;34m)\u001b[0m\u001b[0;34m\u001b[0m\u001b[0m\n\u001b[0m\u001b[1;32m   2526\u001b[0m             \u001b[0;32mexcept\u001b[0m \u001b[0mKeyError\u001b[0m\u001b[0;34m:\u001b[0m\u001b[0;34m\u001b[0m\u001b[0m\n",
      "\u001b[0;32mpandas/_libs/index.pyx\u001b[0m in \u001b[0;36mpandas._libs.index.IndexEngine.get_loc\u001b[0;34m()\u001b[0m\n",
      "\u001b[0;32mpandas/_libs/index.pyx\u001b[0m in \u001b[0;36mpandas._libs.index.IndexEngine.get_loc\u001b[0;34m()\u001b[0m\n",
      "\u001b[0;32mpandas/_libs/hashtable_class_helper.pxi\u001b[0m in \u001b[0;36mpandas._libs.hashtable.PyObjectHashTable.get_item\u001b[0;34m()\u001b[0m\n",
      "\u001b[0;32mpandas/_libs/hashtable_class_helper.pxi\u001b[0m in \u001b[0;36mpandas._libs.hashtable.PyObjectHashTable.get_item\u001b[0;34m()\u001b[0m\n",
      "\u001b[0;31mKeyError\u001b[0m: 'PCTPELL'",
      "\nDuring handling of the above exception, another exception occurred:\n",
      "\u001b[0;31mKeyError\u001b[0m                                  Traceback (most recent call last)",
      "\u001b[0;32m<ipython-input-17-be1aa7b965bc>\u001b[0m in \u001b[0;36m<module>\u001b[0;34m()\u001b[0m\n\u001b[1;32m      2\u001b[0m \u001b[0;31m# create groups based on median family income - high, low\u001b[0m\u001b[0;34m\u001b[0m\u001b[0;34m\u001b[0m\u001b[0m\n\u001b[1;32m      3\u001b[0m \u001b[0mgroups\u001b[0m \u001b[0;34m=\u001b[0m \u001b[0mpd\u001b[0m\u001b[0;34m.\u001b[0m\u001b[0mDataFrame\u001b[0m\u001b[0;34m(\u001b[0m\u001b[0;34m)\u001b[0m\u001b[0;34m\u001b[0m\u001b[0m\n\u001b[0;32m----> 4\u001b[0;31m \u001b[0mgroups\u001b[0m\u001b[0;34m[\u001b[0m\u001b[0;34m'PCTPELL'\u001b[0m\u001b[0;34m]\u001b[0m\u001b[0;34m=\u001b[0m \u001b[0mdata\u001b[0m\u001b[0;34m[\u001b[0m\u001b[0;34m'PCTPELL'\u001b[0m\u001b[0;34m]\u001b[0m\u001b[0;34m\u001b[0m\u001b[0m\n\u001b[0m\u001b[1;32m      5\u001b[0m \u001b[0mdata\u001b[0m\u001b[0;34m.\u001b[0m\u001b[0mdrop\u001b[0m\u001b[0;34m(\u001b[0m\u001b[0;34m[\u001b[0m\u001b[0;34m'PCTPELL'\u001b[0m\u001b[0;34m]\u001b[0m\u001b[0;34m,\u001b[0m \u001b[0maxis\u001b[0m\u001b[0;34m=\u001b[0m\u001b[0;36m1\u001b[0m\u001b[0;34m,\u001b[0m \u001b[0minplace\u001b[0m\u001b[0;34m=\u001b[0m\u001b[0;32mTrue\u001b[0m\u001b[0;34m)\u001b[0m\u001b[0;34m\u001b[0m\u001b[0m\n\u001b[1;32m      6\u001b[0m \u001b[0mm\u001b[0m \u001b[0;34m=\u001b[0m \u001b[0mgroups\u001b[0m\u001b[0;34m[\u001b[0m\u001b[0;34m'PCTPELL'\u001b[0m\u001b[0;34m]\u001b[0m\u001b[0;34m.\u001b[0m\u001b[0mmean\u001b[0m\u001b[0;34m(\u001b[0m\u001b[0;34m)\u001b[0m\u001b[0;34m\u001b[0m\u001b[0m\n",
      "\u001b[0;32m/usr/local/Cellar/python3/3.6.4_2/Frameworks/Python.framework/Versions/3.6/lib/python3.6/site-packages/pandas/core/frame.py\u001b[0m in \u001b[0;36m__getitem__\u001b[0;34m(self, key)\u001b[0m\n\u001b[1;32m   2137\u001b[0m             \u001b[0;32mreturn\u001b[0m \u001b[0mself\u001b[0m\u001b[0;34m.\u001b[0m\u001b[0m_getitem_multilevel\u001b[0m\u001b[0;34m(\u001b[0m\u001b[0mkey\u001b[0m\u001b[0;34m)\u001b[0m\u001b[0;34m\u001b[0m\u001b[0m\n\u001b[1;32m   2138\u001b[0m         \u001b[0;32melse\u001b[0m\u001b[0;34m:\u001b[0m\u001b[0;34m\u001b[0m\u001b[0m\n\u001b[0;32m-> 2139\u001b[0;31m             \u001b[0;32mreturn\u001b[0m \u001b[0mself\u001b[0m\u001b[0;34m.\u001b[0m\u001b[0m_getitem_column\u001b[0m\u001b[0;34m(\u001b[0m\u001b[0mkey\u001b[0m\u001b[0;34m)\u001b[0m\u001b[0;34m\u001b[0m\u001b[0m\n\u001b[0m\u001b[1;32m   2140\u001b[0m \u001b[0;34m\u001b[0m\u001b[0m\n\u001b[1;32m   2141\u001b[0m     \u001b[0;32mdef\u001b[0m \u001b[0m_getitem_column\u001b[0m\u001b[0;34m(\u001b[0m\u001b[0mself\u001b[0m\u001b[0;34m,\u001b[0m \u001b[0mkey\u001b[0m\u001b[0;34m)\u001b[0m\u001b[0;34m:\u001b[0m\u001b[0;34m\u001b[0m\u001b[0m\n",
      "\u001b[0;32m/usr/local/Cellar/python3/3.6.4_2/Frameworks/Python.framework/Versions/3.6/lib/python3.6/site-packages/pandas/core/frame.py\u001b[0m in \u001b[0;36m_getitem_column\u001b[0;34m(self, key)\u001b[0m\n\u001b[1;32m   2144\u001b[0m         \u001b[0;31m# get column\u001b[0m\u001b[0;34m\u001b[0m\u001b[0;34m\u001b[0m\u001b[0m\n\u001b[1;32m   2145\u001b[0m         \u001b[0;32mif\u001b[0m \u001b[0mself\u001b[0m\u001b[0;34m.\u001b[0m\u001b[0mcolumns\u001b[0m\u001b[0;34m.\u001b[0m\u001b[0mis_unique\u001b[0m\u001b[0;34m:\u001b[0m\u001b[0;34m\u001b[0m\u001b[0m\n\u001b[0;32m-> 2146\u001b[0;31m             \u001b[0;32mreturn\u001b[0m \u001b[0mself\u001b[0m\u001b[0;34m.\u001b[0m\u001b[0m_get_item_cache\u001b[0m\u001b[0;34m(\u001b[0m\u001b[0mkey\u001b[0m\u001b[0;34m)\u001b[0m\u001b[0;34m\u001b[0m\u001b[0m\n\u001b[0m\u001b[1;32m   2147\u001b[0m \u001b[0;34m\u001b[0m\u001b[0m\n\u001b[1;32m   2148\u001b[0m         \u001b[0;31m# duplicate columns & possible reduce dimensionality\u001b[0m\u001b[0;34m\u001b[0m\u001b[0;34m\u001b[0m\u001b[0m\n",
      "\u001b[0;32m/usr/local/Cellar/python3/3.6.4_2/Frameworks/Python.framework/Versions/3.6/lib/python3.6/site-packages/pandas/core/generic.py\u001b[0m in \u001b[0;36m_get_item_cache\u001b[0;34m(self, item)\u001b[0m\n\u001b[1;32m   1840\u001b[0m         \u001b[0mres\u001b[0m \u001b[0;34m=\u001b[0m \u001b[0mcache\u001b[0m\u001b[0;34m.\u001b[0m\u001b[0mget\u001b[0m\u001b[0;34m(\u001b[0m\u001b[0mitem\u001b[0m\u001b[0;34m)\u001b[0m\u001b[0;34m\u001b[0m\u001b[0m\n\u001b[1;32m   1841\u001b[0m         \u001b[0;32mif\u001b[0m \u001b[0mres\u001b[0m \u001b[0;32mis\u001b[0m \u001b[0;32mNone\u001b[0m\u001b[0;34m:\u001b[0m\u001b[0;34m\u001b[0m\u001b[0m\n\u001b[0;32m-> 1842\u001b[0;31m             \u001b[0mvalues\u001b[0m \u001b[0;34m=\u001b[0m \u001b[0mself\u001b[0m\u001b[0;34m.\u001b[0m\u001b[0m_data\u001b[0m\u001b[0;34m.\u001b[0m\u001b[0mget\u001b[0m\u001b[0;34m(\u001b[0m\u001b[0mitem\u001b[0m\u001b[0;34m)\u001b[0m\u001b[0;34m\u001b[0m\u001b[0m\n\u001b[0m\u001b[1;32m   1843\u001b[0m             \u001b[0mres\u001b[0m \u001b[0;34m=\u001b[0m \u001b[0mself\u001b[0m\u001b[0;34m.\u001b[0m\u001b[0m_box_item_values\u001b[0m\u001b[0;34m(\u001b[0m\u001b[0mitem\u001b[0m\u001b[0;34m,\u001b[0m \u001b[0mvalues\u001b[0m\u001b[0;34m)\u001b[0m\u001b[0;34m\u001b[0m\u001b[0m\n\u001b[1;32m   1844\u001b[0m             \u001b[0mcache\u001b[0m\u001b[0;34m[\u001b[0m\u001b[0mitem\u001b[0m\u001b[0;34m]\u001b[0m \u001b[0;34m=\u001b[0m \u001b[0mres\u001b[0m\u001b[0;34m\u001b[0m\u001b[0m\n",
      "\u001b[0;32m/usr/local/Cellar/python3/3.6.4_2/Frameworks/Python.framework/Versions/3.6/lib/python3.6/site-packages/pandas/core/internals.py\u001b[0m in \u001b[0;36mget\u001b[0;34m(self, item, fastpath)\u001b[0m\n\u001b[1;32m   3841\u001b[0m \u001b[0;34m\u001b[0m\u001b[0m\n\u001b[1;32m   3842\u001b[0m             \u001b[0;32mif\u001b[0m \u001b[0;32mnot\u001b[0m \u001b[0misna\u001b[0m\u001b[0;34m(\u001b[0m\u001b[0mitem\u001b[0m\u001b[0;34m)\u001b[0m\u001b[0;34m:\u001b[0m\u001b[0;34m\u001b[0m\u001b[0m\n\u001b[0;32m-> 3843\u001b[0;31m                 \u001b[0mloc\u001b[0m \u001b[0;34m=\u001b[0m \u001b[0mself\u001b[0m\u001b[0;34m.\u001b[0m\u001b[0mitems\u001b[0m\u001b[0;34m.\u001b[0m\u001b[0mget_loc\u001b[0m\u001b[0;34m(\u001b[0m\u001b[0mitem\u001b[0m\u001b[0;34m)\u001b[0m\u001b[0;34m\u001b[0m\u001b[0m\n\u001b[0m\u001b[1;32m   3844\u001b[0m             \u001b[0;32melse\u001b[0m\u001b[0;34m:\u001b[0m\u001b[0;34m\u001b[0m\u001b[0m\n\u001b[1;32m   3845\u001b[0m                 \u001b[0mindexer\u001b[0m \u001b[0;34m=\u001b[0m \u001b[0mnp\u001b[0m\u001b[0;34m.\u001b[0m\u001b[0marange\u001b[0m\u001b[0;34m(\u001b[0m\u001b[0mlen\u001b[0m\u001b[0;34m(\u001b[0m\u001b[0mself\u001b[0m\u001b[0;34m.\u001b[0m\u001b[0mitems\u001b[0m\u001b[0;34m)\u001b[0m\u001b[0;34m)\u001b[0m\u001b[0;34m[\u001b[0m\u001b[0misna\u001b[0m\u001b[0;34m(\u001b[0m\u001b[0mself\u001b[0m\u001b[0;34m.\u001b[0m\u001b[0mitems\u001b[0m\u001b[0;34m)\u001b[0m\u001b[0;34m]\u001b[0m\u001b[0;34m\u001b[0m\u001b[0m\n",
      "\u001b[0;32m/usr/local/Cellar/python3/3.6.4_2/Frameworks/Python.framework/Versions/3.6/lib/python3.6/site-packages/pandas/core/indexes/base.py\u001b[0m in \u001b[0;36mget_loc\u001b[0;34m(self, key, method, tolerance)\u001b[0m\n\u001b[1;32m   2525\u001b[0m                 \u001b[0;32mreturn\u001b[0m \u001b[0mself\u001b[0m\u001b[0;34m.\u001b[0m\u001b[0m_engine\u001b[0m\u001b[0;34m.\u001b[0m\u001b[0mget_loc\u001b[0m\u001b[0;34m(\u001b[0m\u001b[0mkey\u001b[0m\u001b[0;34m)\u001b[0m\u001b[0;34m\u001b[0m\u001b[0m\n\u001b[1;32m   2526\u001b[0m             \u001b[0;32mexcept\u001b[0m \u001b[0mKeyError\u001b[0m\u001b[0;34m:\u001b[0m\u001b[0;34m\u001b[0m\u001b[0m\n\u001b[0;32m-> 2527\u001b[0;31m                 \u001b[0;32mreturn\u001b[0m \u001b[0mself\u001b[0m\u001b[0;34m.\u001b[0m\u001b[0m_engine\u001b[0m\u001b[0;34m.\u001b[0m\u001b[0mget_loc\u001b[0m\u001b[0;34m(\u001b[0m\u001b[0mself\u001b[0m\u001b[0;34m.\u001b[0m\u001b[0m_maybe_cast_indexer\u001b[0m\u001b[0;34m(\u001b[0m\u001b[0mkey\u001b[0m\u001b[0;34m)\u001b[0m\u001b[0;34m)\u001b[0m\u001b[0;34m\u001b[0m\u001b[0m\n\u001b[0m\u001b[1;32m   2528\u001b[0m \u001b[0;34m\u001b[0m\u001b[0m\n\u001b[1;32m   2529\u001b[0m         \u001b[0mindexer\u001b[0m \u001b[0;34m=\u001b[0m \u001b[0mself\u001b[0m\u001b[0;34m.\u001b[0m\u001b[0mget_indexer\u001b[0m\u001b[0;34m(\u001b[0m\u001b[0;34m[\u001b[0m\u001b[0mkey\u001b[0m\u001b[0;34m]\u001b[0m\u001b[0;34m,\u001b[0m \u001b[0mmethod\u001b[0m\u001b[0;34m=\u001b[0m\u001b[0mmethod\u001b[0m\u001b[0;34m,\u001b[0m \u001b[0mtolerance\u001b[0m\u001b[0;34m=\u001b[0m\u001b[0mtolerance\u001b[0m\u001b[0;34m)\u001b[0m\u001b[0;34m\u001b[0m\u001b[0m\n",
      "\u001b[0;32mpandas/_libs/index.pyx\u001b[0m in \u001b[0;36mpandas._libs.index.IndexEngine.get_loc\u001b[0;34m()\u001b[0m\n",
      "\u001b[0;32mpandas/_libs/index.pyx\u001b[0m in \u001b[0;36mpandas._libs.index.IndexEngine.get_loc\u001b[0;34m()\u001b[0m\n",
      "\u001b[0;32mpandas/_libs/hashtable_class_helper.pxi\u001b[0m in \u001b[0;36mpandas._libs.hashtable.PyObjectHashTable.get_item\u001b[0;34m()\u001b[0m\n",
      "\u001b[0;32mpandas/_libs/hashtable_class_helper.pxi\u001b[0m in \u001b[0;36mpandas._libs.hashtable.PyObjectHashTable.get_item\u001b[0;34m()\u001b[0m\n",
      "\u001b[0;31mKeyError\u001b[0m: 'PCTPELL'"
     ]
    }
   ],
   "source": [
    "scnorm.sort_index(inplace=True)\n",
    "# create groups based on median family income - high, low\n",
    "groups = pd.DataFrame()\n",
    "groups['PCTPELL']= data['PCTPELL']\n",
    "data.drop(['PCTPELL'], axis=1, inplace=True)\n",
    "m = groups['PCTPELL'].mean()\n",
    "groups.loc[groups['PCTPELL'] >m,'Group'] = 1 #many grants\n",
    "groups.loc[groups['PCTPELL'] <=m,'Group'] = 0 #few grants\n",
    "\n",
    "scnorm_groups = pd.DataFrame(scnorm)\n",
    "scnorm_groups['Group'] = groups['Group']\n",
    "X = np.nan_to_num(scnorm_groups.drop(['Rank'], axis=1))\n",
    "y = np.nan_to_num(scnorm['Rank'])\n",
    "g=groups['Group']\n",
    "# groups.head()"
   ]
  },
  {
   "cell_type": "code",
   "execution_count": 16,
   "metadata": {},
   "outputs": [
    {
     "name": "stdout",
     "output_type": "stream",
     "text": [
      "[[-0.26726291  0.79229534  0.48719052 ... -0.73179423 -0.61734258\n",
      "  -0.67537433]\n",
      " [-0.26726291  0.79229534 -1.18384943 ... -0.45430117  0.25130789\n",
      "  -0.01195442]\n",
      " [-0.26726291  0.79229534 -0.18122546 ... -1.06299563 -0.34150796\n",
      "  -0.85266957]\n",
      " ...\n",
      " [-0.26726291  0.79229534 -0.24806706 ... -0.81983377 -0.49085488\n",
      "  -0.70526847]\n",
      " [-0.26726291  0.79229534 -1.31753263 ... -0.68903818 -0.67068076\n",
      "   0.34769506]\n",
      " [-0.26726291  0.79229534  0.48719052 ... -0.97242863  0.\n",
      "  -0.43392168]]\n"
     ]
    }
   ],
   "source": [
    "X_all = pd.DataFrame(X)\n",
    "X['Group'] = g\n",
    "\n",
    "print (X)\n",
    "# print (X_all)"
   ]
  },
  {
   "cell_type": "code",
   "execution_count": null,
   "metadata": {},
   "outputs": [],
   "source": [
    "import pickle\n",
    "\n",
    "\n",
    "\n",
    "pickle.dump( X, open( \"x.p\", \"wb\" ) )\n",
    "pickle.dump( y, open( \"y.p\", \"wb\" ) )\n",
    "pickle.dump( g, open( \"g.p\", \"wb\" ) )"
   ]
  },
  {
   "cell_type": "code",
   "execution_count": null,
   "metadata": {},
   "outputs": [],
   "source": []
  }
 ],
 "metadata": {
  "kernelspec": {
   "display_name": "Python 3",
   "language": "python",
   "name": "python3"
  },
  "language_info": {
   "codemirror_mode": {
    "name": "ipython",
    "version": 3
   },
   "file_extension": ".py",
   "mimetype": "text/x-python",
   "name": "python",
   "nbconvert_exporter": "python",
   "pygments_lexer": "ipython3",
   "version": "3.6.4"
  }
 },
 "nbformat": 4,
 "nbformat_minor": 2
}
