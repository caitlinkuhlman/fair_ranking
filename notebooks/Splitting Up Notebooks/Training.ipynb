{
 "cells": [
  {
   "cell_type": "code",
   "execution_count": 1,
   "metadata": {},
   "outputs": [],
   "source": [
    "import pickle\n",
    "X = pickle.load( open( \"x.p\", \"rb\" ) )\n",
    "y = pickle.load( open( \"y.p\", \"rb\" ) )\n",
    "g = pickle.load( open( \"g.p\", \"rb\" ) )"
   ]
  },
  {
   "cell_type": "code",
   "execution_count": null,
   "metadata": {},
   "outputs": [],
   "source": [
    "from sklearn import linear_model\n",
    "from sklearn.cross_validation import cross_val_predict\n",
    "from sklearn.metrics import mean_squared_error, r2_score\n",
    "from sklearn.model_selection import train_test_split\n",
    "\n",
    "X_all_train, X_test, y_all_train, y_test = train_test_split( X, y, test_size=0.4, random_state=0)\n",
    "X_train, X_cal, y_train, y_cal = train_test_split( X_all_train, y_all_train, test_size=0.5, random_state=0)"
   ]
  },
  {
   "cell_type": "code",
   "execution_count": 7,
   "metadata": {},
   "outputs": [
    {
     "name": "stdout",
     "output_type": "stream",
     "text": [
      "Overall MSE:  0.11561667855498521\n"
     ]
    }
   ],
   "source": [
    "lr = linear_model.LinearRegression()\n",
    "lr.fit(X_all_train, y_all_train)\n",
    "baseline_predict = lr.predict(X_test)\n",
    "\n",
    "print(\"Overall MSE: \",  mean_squared_error(y_test, baseline_predict))"
   ]
  },
  {
   "cell_type": "code",
   "execution_count": 8,
   "metadata": {},
   "outputs": [
    {
     "name": "stdout",
     "output_type": "stream",
     "text": [
      "Overall MSE:  0.12478392562301449\n"
     ]
    }
   ],
   "source": [
    "from sklearn.isotonic import IsotonicRegression\n",
    "\n",
    "lr2 = linear_model.LinearRegression()\n",
    "lr.fit(X_train, y_train)\n",
    "\n",
    "pred_cal = lr.predict(X_cal)\n",
    "pred_test = lr.predict(X_test)\n",
    "\n",
    "ir = IsotonicRegression( out_of_bounds = 'clip' )\n",
    "ir.fit(pred_cal, y_cal)\n",
    "test_cal = ir.transform(pred_test)\n",
    "\n",
    "print(\"Overall MSE: \",  mean_squared_error(y_test, test_cal))"
   ]
  },
  {
   "cell_type": "code",
   "execution_count": null,
   "metadata": {},
   "outputs": [],
   "source": [
    "#calibrate by groups\n",
    "y_test0 = [x for i,x in enumerate(y_test) if g_test[i]==0]\n",
    "y_test1 = [x for i,x in enumerate(y_test) if g_test[i]==1]\n",
    "y_hat_c0 = [x for i,x in enumerate(y_hat_calibrate) if g_calibrate[i]==0]\n",
    "y_hat_c1 = [x for i,x in enumerate(y_hat_calibrate) if g_calibrate[i]==1]\n",
    "y_c0 = [x for i,x in enumerate(y_calibrate) if g_calibrate[i]==0]\n",
    "y_c1 = [x for i,x in enumerate(y_calibrate) if g_calibrate[i]==1]\n",
    "yhb0 = [x for i,x in enumerate(y_hat_test_baseline) if g_test[i]==0]\n",
    "yhb1 = [x for i,x in enumerate(y_hat_test_baseline) if g_test[i]==1]\n",
    "\n"
   ]
  }
 ],
 "metadata": {
  "kernelspec": {
   "display_name": "Python 3",
   "language": "python",
   "name": "python3"
  },
  "language_info": {
   "codemirror_mode": {
    "name": "ipython",
    "version": 3
   },
   "file_extension": ".py",
   "mimetype": "text/x-python",
   "name": "python",
   "nbconvert_exporter": "python",
   "pygments_lexer": "ipython3",
   "version": "3.6.4"
  }
 },
 "nbformat": 4,
 "nbformat_minor": 2
}
