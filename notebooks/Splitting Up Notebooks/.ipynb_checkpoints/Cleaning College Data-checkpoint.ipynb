{
 "cells": [
  {
   "cell_type": "code",
   "execution_count": 1,
   "metadata": {},
   "outputs": [
    {
     "data": {
      "text/html": [
       "<div>\n",
       "<style>\n",
       "    .dataframe thead tr:only-child th {\n",
       "        text-align: right;\n",
       "    }\n",
       "\n",
       "    .dataframe thead th {\n",
       "        text-align: left;\n",
       "    }\n",
       "\n",
       "    .dataframe tbody tr th {\n",
       "        vertical-align: top;\n",
       "    }\n",
       "</style>\n",
       "<table border=\"1\" class=\"dataframe\">\n",
       "  <thead>\n",
       "    <tr style=\"text-align: right;\">\n",
       "      <th></th>\n",
       "      <th>State</th>\n",
       "      <th>Percentage of Pell Grantees</th>\n",
       "      <th>Median Federal Debt for All Students</th>\n",
       "      <th>Median Federal Debt of Pell Grantees</th>\n",
       "      <th>Nonrepayment Rate for Pell Students</th>\n",
       "      <th>Nonrepayment Rate for All Students</th>\n",
       "      <th>Average Cost for Low-Income Students, Per Year</th>\n",
       "      <th>Default Rate for All Students</th>\n",
       "      <th>Percentage of All Students Earning $25K or Less Per Year, 10 Years After Enrolling</th>\n",
       "    </tr>\n",
       "  </thead>\n",
       "  <tbody>\n",
       "    <tr>\n",
       "      <th>0</th>\n",
       "      <td>Adelphi University</td>\n",
       "      <td>0.308</td>\n",
       "      <td>25000.0</td>\n",
       "      <td>23000.0</td>\n",
       "      <td>0.363</td>\n",
       "      <td>0.297</td>\n",
       "      <td>22197.0</td>\n",
       "      <td>0.032</td>\n",
       "      <td>0.204</td>\n",
       "    </tr>\n",
       "    <tr>\n",
       "      <th>1</th>\n",
       "      <td>Alliant International University-San Diego</td>\n",
       "      <td>0.123</td>\n",
       "      <td>3000.0</td>\n",
       "      <td>13425.0</td>\n",
       "      <td>0.634</td>\n",
       "      <td>0.496</td>\n",
       "      <td>16785.0</td>\n",
       "      <td>0.027</td>\n",
       "      <td>0.197</td>\n",
       "    </tr>\n",
       "    <tr>\n",
       "      <th>2</th>\n",
       "      <td>American International College</td>\n",
       "      <td>0.506</td>\n",
       "      <td>27000.0</td>\n",
       "      <td>21750.0</td>\n",
       "      <td>0.586</td>\n",
       "      <td>0.519</td>\n",
       "      <td>17160.0</td>\n",
       "      <td>0.062</td>\n",
       "      <td>0.263</td>\n",
       "    </tr>\n",
       "    <tr>\n",
       "      <th>3</th>\n",
       "      <td>American University</td>\n",
       "      <td>0.167</td>\n",
       "      <td>24589.0</td>\n",
       "      <td>25000.0</td>\n",
       "      <td>0.273</td>\n",
       "      <td>0.199</td>\n",
       "      <td>28524.0</td>\n",
       "      <td>0.021</td>\n",
       "      <td>0.168</td>\n",
       "    </tr>\n",
       "    <tr>\n",
       "      <th>4</th>\n",
       "      <td>Andrews University</td>\n",
       "      <td>0.293</td>\n",
       "      <td>27750.0</td>\n",
       "      <td>26768.0</td>\n",
       "      <td>0.536</td>\n",
       "      <td>0.493</td>\n",
       "      <td>19226.0</td>\n",
       "      <td>0.053</td>\n",
       "      <td>0.338</td>\n",
       "    </tr>\n",
       "  </tbody>\n",
       "</table>\n",
       "</div>"
      ],
      "text/plain": [
       "                                        State  Percentage of Pell Grantees  \\\n",
       "0                          Adelphi University                        0.308   \n",
       "1  Alliant International University-San Diego                        0.123   \n",
       "2              American International College                        0.506   \n",
       "3                         American University                        0.167   \n",
       "4                          Andrews University                        0.293   \n",
       "\n",
       "   Median Federal Debt for All Students  Median Federal Debt of Pell Grantees  \\\n",
       "0                               25000.0                               23000.0   \n",
       "1                                3000.0                               13425.0   \n",
       "2                               27000.0                               21750.0   \n",
       "3                               24589.0                               25000.0   \n",
       "4                               27750.0                               26768.0   \n",
       "\n",
       "   Nonrepayment Rate for Pell Students  Nonrepayment Rate for All Students  \\\n",
       "0                                0.363                               0.297   \n",
       "1                                0.634                               0.496   \n",
       "2                                0.586                               0.519   \n",
       "3                                0.273                               0.199   \n",
       "4                                0.536                               0.493   \n",
       "\n",
       "   Average Cost for Low-Income Students, Per Year  \\\n",
       "0                                         22197.0   \n",
       "1                                         16785.0   \n",
       "2                                         17160.0   \n",
       "3                                         28524.0   \n",
       "4                                         19226.0   \n",
       "\n",
       "   Default Rate for All Students  \\\n",
       "0                          0.032   \n",
       "1                          0.027   \n",
       "2                          0.062   \n",
       "3                          0.021   \n",
       "4                          0.053   \n",
       "\n",
       "   Percentage of All Students Earning $25K or Less Per Year, 10 Years After Enrolling  \n",
       "0                                              0.204                                   \n",
       "1                                              0.197                                   \n",
       "2                                              0.263                                   \n",
       "3                                              0.168                                   \n",
       "4                                              0.338                                   "
      ]
     },
     "execution_count": 1,
     "metadata": {},
     "output_type": "execute_result"
    }
   ],
   "source": [
    "import numpy as np\n",
    "import pandas as pd\n",
    "\n",
    "\n",
    "#ProPublica data from here https://projects.propublica.org/colleges\n",
    "#Not used in this analysis - but maybe would be better?\n",
    "\n",
    "pp=pd.read_csv(\"../../data/raw/college/ProPublica_Data.csv\")\n",
    "pp.head()"
   ]
  },
  {
   "cell_type": "code",
   "execution_count": 2,
   "metadata": {},
   "outputs": [
    {
     "data": {
      "text/html": [
       "<div>\n",
       "<style>\n",
       "    .dataframe thead tr:only-child th {\n",
       "        text-align: right;\n",
       "    }\n",
       "\n",
       "    .dataframe thead th {\n",
       "        text-align: left;\n",
       "    }\n",
       "\n",
       "    .dataframe tbody tr th {\n",
       "        vertical-align: top;\n",
       "    }\n",
       "</style>\n",
       "<table border=\"1\" class=\"dataframe\">\n",
       "  <thead>\n",
       "    <tr style=\"text-align: right;\">\n",
       "      <th></th>\n",
       "      <th>City</th>\n",
       "      <th>State</th>\n",
       "      <th>Rank</th>\n",
       "      <th>In-state Tuition</th>\n",
       "      <th>Out-state Tuition</th>\n",
       "      <th>Enrollment</th>\n",
       "    </tr>\n",
       "    <tr>\n",
       "      <th>University</th>\n",
       "      <th></th>\n",
       "      <th></th>\n",
       "      <th></th>\n",
       "      <th></th>\n",
       "      <th></th>\n",
       "      <th></th>\n",
       "    </tr>\n",
       "  </thead>\n",
       "  <tbody>\n",
       "    <tr>\n",
       "      <th>Princeton University</th>\n",
       "      <td>Princeton</td>\n",
       "      <td>NJ</td>\n",
       "      <td>1</td>\n",
       "      <td>$47140</td>\n",
       "      <td>$47140</td>\n",
       "      <td>5400.0</td>\n",
       "    </tr>\n",
       "    <tr>\n",
       "      <th>Harvard University</th>\n",
       "      <td>Cambridge</td>\n",
       "      <td>MA</td>\n",
       "      <td>2</td>\n",
       "      <td>$48949</td>\n",
       "      <td>$48949</td>\n",
       "      <td>6710.0</td>\n",
       "    </tr>\n",
       "    <tr>\n",
       "      <th>University of Chicago</th>\n",
       "      <td>Chicago</td>\n",
       "      <td>IL</td>\n",
       "      <td>3</td>\n",
       "      <td>$54825</td>\n",
       "      <td>$54825</td>\n",
       "      <td>5941.0</td>\n",
       "    </tr>\n",
       "    <tr>\n",
       "      <th>Yale University</th>\n",
       "      <td>New Haven</td>\n",
       "      <td>CT</td>\n",
       "      <td>3</td>\n",
       "      <td>$51400</td>\n",
       "      <td>$51400</td>\n",
       "      <td>5472.0</td>\n",
       "    </tr>\n",
       "    <tr>\n",
       "      <th>Columbia University</th>\n",
       "      <td>New York</td>\n",
       "      <td>NY</td>\n",
       "      <td>5</td>\n",
       "      <td>$57208</td>\n",
       "      <td>$57208</td>\n",
       "      <td>6113.0</td>\n",
       "    </tr>\n",
       "  </tbody>\n",
       "</table>\n",
       "</div>"
      ],
      "text/plain": [
       "                            City State Rank In-state Tuition  \\\n",
       "University                                                     \n",
       "Princeton University   Princeton    NJ    1           $47140   \n",
       "Harvard University     Cambridge    MA    2           $48949   \n",
       "University of Chicago    Chicago    IL  3             $54825   \n",
       "Yale University        New Haven    CT  3             $51400   \n",
       "Columbia University     New York    NY  5             $57208   \n",
       "\n",
       "                      Out-state Tuition  Enrollment  \n",
       "University                                           \n",
       "Princeton University             $47140      5400.0  \n",
       "Harvard University               $48949      6710.0  \n",
       "University of Chicago            $54825      5941.0  \n",
       "Yale University                  $51400      5472.0  \n",
       "Columbia University              $57208      6113.0  "
      ]
     },
     "execution_count": 2,
     "metadata": {},
     "output_type": "execute_result"
    }
   ],
   "source": [
    "usnews = pd.read_csv(\"../../data/raw/college/USNewsCollegeRankings2018.csv\")\n",
    "usnews.set_index('University', inplace=True)\n",
    "usnews.head()"
   ]
  },
  {
   "cell_type": "code",
   "execution_count": 3,
   "metadata": {},
   "outputs": [
    {
     "name": "stderr",
     "output_type": "stream",
     "text": [
      "/Users/maryannhaynie/anaconda3/lib/python3.6/site-packages/IPython/core/interactiveshell.py:2698: DtypeWarning: Columns (6,9,1725,1726,1727,1728,1729,1743) have mixed types. Specify dtype option on import or set low_memory=False.\n",
      "  interactivity=interactivity, compiler=compiler, result=result)\n"
     ]
    },
    {
     "data": {
      "text/plain": [
       "(7593, 1777)"
      ]
     },
     "execution_count": 3,
     "metadata": {},
     "output_type": "execute_result"
    }
   ],
   "source": [
    "scorecard = pd.read_csv(\"../../data/raw/college/MERGED2015_16_PP.csv\")\n",
    "scorecard.shape"
   ]
  },
  {
   "cell_type": "code",
   "execution_count": 4,
   "metadata": {},
   "outputs": [
    {
     "data": {
      "text/plain": [
       "(230, 6)"
      ]
     },
     "execution_count": 4,
     "metadata": {},
     "output_type": "execute_result"
    }
   ],
   "source": [
    "usnews=usnews[usnews['Rank']!= 'Rank Not Published']\n",
    "usnews=usnews[usnews['Rank']!= 'Unranked']\n",
    "usnews.shape"
   ]
  },
  {
   "cell_type": "code",
   "execution_count": 5,
   "metadata": {},
   "outputs": [
    {
     "data": {
      "text/plain": [
       "(230, 1768)"
      ]
     },
     "execution_count": 5,
     "metadata": {},
     "output_type": "execute_result"
    }
   ],
   "source": [
    "drop=['UNITID','OPEID','OPEID6','CITY','STABBR','ZIP','ACCREDAGENCY','INSTURL','NPCURL']\n",
    "scorecard.drop(drop, axis=1, inplace=True)\n",
    "scorecard.set_index('INSTNM',inplace=True)\n",
    "scorecard = scorecard.loc[usnews.index]\n",
    "scorecard['Rank']=usnews['Rank']\n",
    "scorecard.shape"
   ]
  },
  {
   "cell_type": "code",
   "execution_count": 6,
   "metadata": {},
   "outputs": [
    {
     "data": {
      "text/plain": [
       "(142, 441)"
      ]
     },
     "execution_count": 6,
     "metadata": {},
     "output_type": "execute_result"
    }
   ],
   "source": [
    "# scorecard.dropna(axis=1,thresh=100).shape\n",
    "data = scorecard.dropna(thresh=100, axis=1).dropna(thresh=500)\n",
    "for c in data.columns.values:\n",
    "    data[c] = pd.to_numeric(data[c], errors='coerce')\n",
    "data.dropna(axis=1,thresh=100, inplace=True)\n",
    "# data.fillna(data.mean, inplace=True)\n",
    "cols=[]\n",
    "for c in data.columns.values:\n",
    "    if data[c].var()!=0:\n",
    "       cols.append(c)\n",
    "data=data[cols]\n",
    "data.shape"
   ]
  },
  {
   "cell_type": "code",
   "execution_count": 7,
   "metadata": {
    "collapsed": true
   },
   "outputs": [],
   "source": [
    "def normalize(df):\n",
    "    return(df - df.mean()) / df.std()\n",
    "\n",
    "scnorm = normalize(data)"
   ]
  },
  {
   "cell_type": "markdown",
   "metadata": {},
   "source": [
    "Feature Analysis"
   ]
  },
  {
   "cell_type": "code",
   "execution_count": 8,
   "metadata": {},
   "outputs": [
    {
     "name": "stdout",
     "output_type": "stream",
     "text": [
      "Negatively correlated features\n",
      "['attendance.academic_year', 'COSTT4_A', -0.69324276623784353, 1.1747684869920824e-21]\n",
      "['tuition.in_state', 'TUITIONFEE_IN', -0.6708655538227406, 6.6045439287982783e-20]\n",
      "['tuition.out_of_state', 'TUITIONFEE_OUT', -0.80388132647381072, 2.1484910350060433e-33]\n",
      "['tuition_revenue_per_fte', 'TUITFTE', -0.6832112699637477, 7.4765807627162871e-21]\n",
      "['instructional_expenditure_per_fte', 'INEXPFTE', -0.65204708927174659, 1.5058505552534478e-18]\n",
      "['faculty_salary', 'AVGFACSAL', -0.79947180469420553, 8.6302161050122247e-33]\n",
      "['completion_rate_4yr_150nt', 'C150_4', -0.93914484934669773, 7.7355498448246544e-67]\n",
      "['completion_rate_4yr_150nt_pooled', 'C150_4_POOLED', -0.94029211271902291, 2.1249830406631032e-67]\n",
      "['share_first.time_full.time', 'PFTFTUG1_EF', -0.72124435609264526, 4.3840422394709534e-24]\n",
      "['completion_rate_4yr_150_black', 'C150_4_BLACK', -0.82283894466705043, 3.5440333305056128e-36]\n",
      "['completion_rate_4yr_150_hispanic', 'C150_4_HISP', -0.84823529850591706, 1.7920993301776731e-40]\n",
      "[nan, 'C200_4', -0.93527219207581636, 5.0702865441098598e-65]\n",
      "['retention_rate.four_year.full_time', 'RET_FT4', -0.90494931788000721, 8.308240489856273e-54]\n",
      "[nan, 'C200_4_POOLED', -0.93864795010959268, 1.3432221608035699e-66]\n",
      "['fafsa_sent.5plus_college_allyrs', 'APPL_SCH_PCT_GE5', -0.7208177828623612, 4.7981700547796793e-24]\n",
      "['rate_suppressed.four_year', 'C150_4_POOLED_SUPP', -0.94029211271902291, 2.1249830406631032e-67]\n",
      "['rate_suppressed.four_year_200percent', 'C200_4_POOLED_SUPP', -0.93864795010959268, 1.3432221608035699e-66]\n",
      "['completion_rate_4yr_100nt', 'C100_4', -0.83278209069736087, 8.9904476867758163e-38]\n",
      "Positively correlated features\n",
      "['admission_rate.overall', 'ADM_RATE', 0.77482591283830671, 1.1325970722419979e-29]\n",
      "['admission_rate.by_ope_id', 'ADM_RATE_ALL', 0.77412595624439851, 1.3703177712229834e-29]\n",
      "['part_time_share', 'PPTUG_EF', 0.67668955796758867, 2.3945788888344584e-20]\n",
      "['pell_grant_rate', 'PCTPELL', 0.71403690705784473, 1.9705971980820174e-23]\n",
      "['federal_loan_rate', 'PCTFLOAN', 0.63743083102999665, 1.4725667382080041e-17]\n",
      "['share_25_older', 'UG25ABV', 0.662428482438287, 2.7589698747471594e-19]\n",
      "['3_yr_default_rate', 'CDR3', 0.75153774215280866, 4.5437952858218189e-27]\n",
      "[nan, 'Rank', 1.0, 0.0]\n"
     ]
    }
   ],
   "source": [
    "from scipy import stats\n",
    "#Find features that are correlated\n",
    "names = pd.read_csv('../../data/raw/college/col_names.csv')\n",
    "\n",
    "#Remember that rankings are inverted - #1 best\n",
    "\n",
    "pos_corr_features = []\n",
    "neg_corr_features = []\n",
    "\n",
    "for c in data.columns.values:\n",
    "    corr, p = stats.pearsonr(data[c], data['Rank'])\n",
    "    if p <0.05 and corr > 0.6 :\n",
    "        pos_corr_features.append([names[names['VARIABLE NAME']==c]['developer-friendly name'].max(),c, corr,p])\n",
    "\n",
    "for c in data.columns.values:\n",
    "    corr, p = stats.pearsonr(data[c], data['Rank'])\n",
    "    if p <0.05 and corr <-0.6 :\n",
    "        neg_corr_features.append([names[names['VARIABLE NAME']==c]['developer-friendly name'].max(),c, corr,p])\n",
    "\n",
    "print(\"Negatively correlated features\")\n",
    "print\n",
    "for i in neg_corr_features:\n",
    "    print(i)\n",
    "print\n",
    "print(\"Positively correlated features\")\n",
    "print\n",
    "for i in pos_corr_features:\n",
    "    print(i)"
   ]
  },
  {
   "cell_type": "code",
   "execution_count": 9,
   "metadata": {},
   "outputs": [],
   "source": [
    "scnorm.sort_index(inplace=True)\n",
    "# create groups based on median family income - high, low\n",
    "groups = pd.DataFrame()\n",
    "groups['PCTPELL']= data['PCTPELL']\n",
    "data.drop(['PCTPELL'], axis=1, inplace=True)\n",
    "m = groups['PCTPELL'].mean()\n",
    "groups.loc[groups['PCTPELL'] >m,'Group'] = 1 #many grants\n",
    "groups.loc[groups['PCTPELL'] <=m,'Group'] = 0 #few grants\n",
    "\n",
    "#X = np.nan_to_num(scnorm.drop(['Rank'], axis=1))\n",
    "#y = np.nan_to_num(scnorm['Rank'])\n",
    "#g=groups['Group']\n",
    "# groups.head()"
   ]
  },
  {
   "cell_type": "code",
   "execution_count": 10,
   "metadata": {},
   "outputs": [
    {
     "name": "stdout",
     "output_type": "stream",
     "text": [
      "[[-0.26726291  0.79229534  0.48719052 ..., -0.61734258 -0.67537433  1.        ]\n",
      " [-0.26726291  0.79229534 -1.18384943 ...,  0.25130789 -0.01195442  0.        ]\n",
      " [-0.26726291  0.79229534 -0.18122546 ..., -0.34150796 -0.85266957  1.        ]\n",
      " ..., \n",
      " [-0.26726291  0.79229534 -0.24806706 ..., -0.49085488 -0.70526847  0.        ]\n",
      " [-0.26726291  0.79229534 -1.31753263 ..., -0.67068076  0.34769506  0.        ]\n",
      " [-0.26726291  0.79229534  0.48719052 ...,  0.         -0.43392168  0.        ]]\n"
     ]
    }
   ],
   "source": [
    "scnorm['Group'] = groups['Group']\n",
    "\n",
    "X = np.nan_to_num(scnorm.drop(['Rank'], axis=1))\n",
    "y = np.nan_to_num(scnorm['Rank'])\n",
    "\n",
    "print(X)"
   ]
  },
  {
   "cell_type": "code",
   "execution_count": 11,
   "metadata": {
    "collapsed": true
   },
   "outputs": [],
   "source": [
    "import pickle\n",
    "\n",
    "pickle.dump( X, open( \"x.p\", \"wb\" ) )\n",
    "pickle.dump( y, open( \"y.p\", \"wb\" ) )\n",
    "#pickle.dump( g, open( \"g.p\", \"wb\" ) )"
   ]
  },
  {
   "cell_type": "code",
   "execution_count": null,
   "metadata": {
    "collapsed": true
   },
   "outputs": [],
   "source": []
  }
 ],
 "metadata": {
  "kernelspec": {
   "display_name": "Python 3",
   "language": "python",
   "name": "python3"
  },
  "language_info": {
   "codemirror_mode": {
    "name": "ipython",
    "version": 3
   },
   "file_extension": ".py",
   "mimetype": "text/x-python",
   "name": "python",
   "nbconvert_exporter": "python",
   "pygments_lexer": "ipython3",
   "version": "3.6.2"
  }
 },
 "nbformat": 4,
 "nbformat_minor": 2
}
