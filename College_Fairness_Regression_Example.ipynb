{
 "cells": [
  {
   "cell_type": "code",
   "execution_count": 285,
   "metadata": {
    "collapsed": false
   },
   "outputs": [
    {
     "data": {
      "text/plain": [
       "u'%.2f'"
      ]
     },
     "execution_count": 285,
     "metadata": {},
     "output_type": "execute_result"
    }
   ],
   "source": [
    "import matplotlib\n",
    "import matplotlib.pyplot as plt\n",
    "import numpy as np\n",
    "import pandas as pd\n",
    "import math\n",
    "from scipy import stats\n",
    "from sklearn import datasets\n",
    "from sklearn.naive_bayes import GaussianNB\n",
    "from sklearn.svm import LinearSVC\n",
    "from sklearn.linear_model import LogisticRegression\n",
    "from sklearn.metrics import (brier_score_loss, precision_score, recall_score,\n",
    "                             f1_score)\n",
    "from sklearn.calibration import CalibratedClassifierCV, calibration_curve\n",
    "from sklearn.cross_validation import cross_val_predict\n",
    "from sklearn import linear_model\n",
    "from sklearn.metrics import mean_squared_error, r2_score\n",
    "from sklearn.cross_validation import KFold\n",
    "# from sklearn.model_selection import train_test_split\n",
    "%matplotlib inline\n",
    "%precision %.2f"
   ]
  },
  {
   "cell_type": "markdown",
   "metadata": {},
   "source": [
    "## Load, join, and clean data ##"
   ]
  },
  {
   "cell_type": "code",
   "execution_count": 417,
   "metadata": {
    "collapsed": false
   },
   "outputs": [
    {
     "data": {
      "text/html": [
       "<div>\n",
       "<table border=\"1\" class=\"dataframe\">\n",
       "  <thead>\n",
       "    <tr style=\"text-align: right;\">\n",
       "      <th></th>\n",
       "      <th>State</th>\n",
       "      <th>Percentage of Pell Grantees</th>\n",
       "      <th>Median Federal Debt for All Students</th>\n",
       "      <th>Median Federal Debt of Pell Grantees</th>\n",
       "      <th>Nonrepayment Rate for Pell Students</th>\n",
       "      <th>Nonrepayment Rate for All Students</th>\n",
       "      <th>Average Cost for Low-Income Students, Per Year</th>\n",
       "      <th>Default Rate for All Students</th>\n",
       "      <th>Percentage of All Students Earning $25K or Less Per Year, 10 Years After Enrolling</th>\n",
       "    </tr>\n",
       "  </thead>\n",
       "  <tbody>\n",
       "    <tr>\n",
       "      <th>0</th>\n",
       "      <td>Adelphi University</td>\n",
       "      <td>0.31</td>\n",
       "      <td>25,000.00</td>\n",
       "      <td>23,000.00</td>\n",
       "      <td>0.36</td>\n",
       "      <td>0.30</td>\n",
       "      <td>22,197.00</td>\n",
       "      <td>0.03</td>\n",
       "      <td>0.20</td>\n",
       "    </tr>\n",
       "    <tr>\n",
       "      <th>1</th>\n",
       "      <td>Alliant International University-San Diego</td>\n",
       "      <td>0.12</td>\n",
       "      <td>3,000.00</td>\n",
       "      <td>13,425.00</td>\n",
       "      <td>0.63</td>\n",
       "      <td>0.50</td>\n",
       "      <td>16,785.00</td>\n",
       "      <td>0.03</td>\n",
       "      <td>0.20</td>\n",
       "    </tr>\n",
       "    <tr>\n",
       "      <th>2</th>\n",
       "      <td>American International College</td>\n",
       "      <td>0.51</td>\n",
       "      <td>27,000.00</td>\n",
       "      <td>21,750.00</td>\n",
       "      <td>0.59</td>\n",
       "      <td>0.52</td>\n",
       "      <td>17,160.00</td>\n",
       "      <td>0.06</td>\n",
       "      <td>0.26</td>\n",
       "    </tr>\n",
       "    <tr>\n",
       "      <th>3</th>\n",
       "      <td>American University</td>\n",
       "      <td>0.17</td>\n",
       "      <td>24,589.00</td>\n",
       "      <td>25,000.00</td>\n",
       "      <td>0.27</td>\n",
       "      <td>0.20</td>\n",
       "      <td>28,524.00</td>\n",
       "      <td>0.02</td>\n",
       "      <td>0.17</td>\n",
       "    </tr>\n",
       "    <tr>\n",
       "      <th>4</th>\n",
       "      <td>Andrews University</td>\n",
       "      <td>0.29</td>\n",
       "      <td>27,750.00</td>\n",
       "      <td>26,768.00</td>\n",
       "      <td>0.54</td>\n",
       "      <td>0.49</td>\n",
       "      <td>19,226.00</td>\n",
       "      <td>0.05</td>\n",
       "      <td>0.34</td>\n",
       "    </tr>\n",
       "  </tbody>\n",
       "</table>\n",
       "</div>"
      ],
      "text/plain": [
       "                                        State  Percentage of Pell Grantees  \\\n",
       "0                          Adelphi University                         0.31   \n",
       "1  Alliant International University-San Diego                         0.12   \n",
       "2              American International College                         0.51   \n",
       "3                         American University                         0.17   \n",
       "4                          Andrews University                         0.29   \n",
       "\n",
       "   Median Federal Debt for All Students  Median Federal Debt of Pell Grantees  \\\n",
       "0                             25,000.00                             23,000.00   \n",
       "1                              3,000.00                             13,425.00   \n",
       "2                             27,000.00                             21,750.00   \n",
       "3                             24,589.00                             25,000.00   \n",
       "4                             27,750.00                             26,768.00   \n",
       "\n",
       "   Nonrepayment Rate for Pell Students  Nonrepayment Rate for All Students  \\\n",
       "0                                 0.36                                0.30   \n",
       "1                                 0.63                                0.50   \n",
       "2                                 0.59                                0.52   \n",
       "3                                 0.27                                0.20   \n",
       "4                                 0.54                                0.49   \n",
       "\n",
       "   Average Cost for Low-Income Students, Per Year  \\\n",
       "0                                       22,197.00   \n",
       "1                                       16,785.00   \n",
       "2                                       17,160.00   \n",
       "3                                       28,524.00   \n",
       "4                                       19,226.00   \n",
       "\n",
       "   Default Rate for All Students  \\\n",
       "0                           0.03   \n",
       "1                           0.03   \n",
       "2                           0.06   \n",
       "3                           0.02   \n",
       "4                           0.05   \n",
       "\n",
       "   Percentage of All Students Earning $25K or Less Per Year, 10 Years After Enrolling  \n",
       "0                                               0.20                                   \n",
       "1                                               0.20                                   \n",
       "2                                               0.26                                   \n",
       "3                                               0.17                                   \n",
       "4                                               0.34                                   "
      ]
     },
     "execution_count": 417,
     "metadata": {},
     "output_type": "execute_result"
    }
   ],
   "source": [
    "#ProPublica data from here https://projects.propublica.org/colleges\n",
    "#Not used in this analysis - but maybe would be better?\n",
    "\n",
    "pp=pd.read_csv(\"ProPublica_Data.csv\")\n",
    "pp.head()"
   ]
  },
  {
   "cell_type": "code",
   "execution_count": 287,
   "metadata": {
    "collapsed": false,
    "scrolled": true
   },
   "outputs": [
    {
     "data": {
      "text/html": [
       "<div>\n",
       "<table border=\"1\" class=\"dataframe\">\n",
       "  <thead>\n",
       "    <tr style=\"text-align: right;\">\n",
       "      <th></th>\n",
       "      <th>City</th>\n",
       "      <th>State</th>\n",
       "      <th>Rank</th>\n",
       "      <th>In-state Tuition</th>\n",
       "      <th>Out-state Tuition</th>\n",
       "      <th>Enrollment</th>\n",
       "    </tr>\n",
       "    <tr>\n",
       "      <th>University</th>\n",
       "      <th></th>\n",
       "      <th></th>\n",
       "      <th></th>\n",
       "      <th></th>\n",
       "      <th></th>\n",
       "      <th></th>\n",
       "    </tr>\n",
       "  </thead>\n",
       "  <tbody>\n",
       "    <tr>\n",
       "      <th>Princeton University</th>\n",
       "      <td>Princeton</td>\n",
       "      <td>NJ</td>\n",
       "      <td>1</td>\n",
       "      <td>$47140</td>\n",
       "      <td>$47140</td>\n",
       "      <td>5400.0</td>\n",
       "    </tr>\n",
       "    <tr>\n",
       "      <th>Harvard University</th>\n",
       "      <td>Cambridge</td>\n",
       "      <td>MA</td>\n",
       "      <td>2</td>\n",
       "      <td>$48949</td>\n",
       "      <td>$48949</td>\n",
       "      <td>6710.0</td>\n",
       "    </tr>\n",
       "    <tr>\n",
       "      <th>University of Chicago</th>\n",
       "      <td>Chicago</td>\n",
       "      <td>IL</td>\n",
       "      <td>3</td>\n",
       "      <td>$54825</td>\n",
       "      <td>$54825</td>\n",
       "      <td>5941.0</td>\n",
       "    </tr>\n",
       "    <tr>\n",
       "      <th>Yale University</th>\n",
       "      <td>New Haven</td>\n",
       "      <td>CT</td>\n",
       "      <td>3</td>\n",
       "      <td>$51400</td>\n",
       "      <td>$51400</td>\n",
       "      <td>5472.0</td>\n",
       "    </tr>\n",
       "    <tr>\n",
       "      <th>Columbia University</th>\n",
       "      <td>New York</td>\n",
       "      <td>NY</td>\n",
       "      <td>5</td>\n",
       "      <td>$57208</td>\n",
       "      <td>$57208</td>\n",
       "      <td>6113.0</td>\n",
       "    </tr>\n",
       "  </tbody>\n",
       "</table>\n",
       "</div>"
      ],
      "text/plain": [
       "                            City State Rank In-state Tuition  \\\n",
       "University                                                     \n",
       "Princeton University   Princeton    NJ    1           $47140   \n",
       "Harvard University     Cambridge    MA    2           $48949   \n",
       "University of Chicago    Chicago    IL  3             $54825   \n",
       "Yale University        New Haven    CT  3             $51400   \n",
       "Columbia University     New York    NY  5             $57208   \n",
       "\n",
       "                      Out-state Tuition  Enrollment  \n",
       "University                                           \n",
       "Princeton University             $47140      5400.0  \n",
       "Harvard University               $48949      6710.0  \n",
       "University of Chicago            $54825      5941.0  \n",
       "Yale University                  $51400      5472.0  \n",
       "Columbia University              $57208      6113.0  "
      ]
     },
     "execution_count": 287,
     "metadata": {},
     "output_type": "execute_result"
    }
   ],
   "source": [
    "usnews = pd.read_csv(\"USNewsCollegeRankings2018.csv\")\n",
    "usnews.set_index('University', inplace=True)\n",
    "usnews.head()"
   ]
  },
  {
   "cell_type": "code",
   "execution_count": 288,
   "metadata": {
    "collapsed": false,
    "scrolled": false
   },
   "outputs": [
    {
     "data": {
      "text/plain": [
       "(7593, 1777)"
      ]
     },
     "execution_count": 288,
     "metadata": {},
     "output_type": "execute_result"
    }
   ],
   "source": [
    "scorecard = pd.read_csv(\"MERGED2015_16_PP.csv\")\n",
    "scorecard.shape"
   ]
  },
  {
   "cell_type": "code",
   "execution_count": 289,
   "metadata": {
    "collapsed": false
   },
   "outputs": [
    {
     "data": {
      "text/plain": [
       "(230, 6)"
      ]
     },
     "execution_count": 289,
     "metadata": {},
     "output_type": "execute_result"
    }
   ],
   "source": [
    "usnews=usnews[usnews['Rank']!= 'Rank Not Published']\n",
    "usnews=usnews[usnews['Rank']!= 'Unranked']\n",
    "usnews.shape"
   ]
  },
  {
   "cell_type": "code",
   "execution_count": 290,
   "metadata": {
    "collapsed": false
   },
   "outputs": [
    {
     "data": {
      "text/plain": [
       "(230, 1768)"
      ]
     },
     "execution_count": 290,
     "metadata": {},
     "output_type": "execute_result"
    }
   ],
   "source": [
    "drop=['\\xef\\xbb\\xbfUNITID','OPEID','OPEID6','CITY','STABBR','ZIP','ACCREDAGENCY','INSTURL','NPCURL']\n",
    "scorecard.drop(drop, axis=1, inplace=True)\n",
    "scorecard.set_index('INSTNM',inplace=True)\n",
    "scorecard = scorecard.loc[usnews.index]\n",
    "scorecard['Rank']=usnews['Rank']\n",
    "scorecard.shape"
   ]
  },
  {
   "cell_type": "code",
   "execution_count": 291,
   "metadata": {
    "collapsed": false
   },
   "outputs": [
    {
     "data": {
      "text/plain": [
       "(142, 441)"
      ]
     },
     "execution_count": 291,
     "metadata": {},
     "output_type": "execute_result"
    }
   ],
   "source": [
    "# scorecard.dropna(axis=1,thresh=100).shape\n",
    "data = scorecard.dropna(thresh=100, axis=1).dropna(thresh=500)\n",
    "for c in data.columns.values:\n",
    "    data[c] = pd.to_numeric(data[c], errors='coerce')\n",
    "data.dropna(axis=1,thresh=100, inplace=True)\n",
    "# data.fillna(data.mean, inplace=True)\n",
    "cols=[]\n",
    "for c in data.columns.values:\n",
    "    if data[c].var()!=0:\n",
    "       cols.append(c)\n",
    "data=data[cols]\n",
    "data.shape"
   ]
  },
  {
   "cell_type": "code",
   "execution_count": 292,
   "metadata": {
    "collapsed": false
   },
   "outputs": [],
   "source": [
    "def normalize(df):\n",
    "    return(df - df.mean()) / df.std()\n",
    "\n",
    "scnorm = normalize(data)"
   ]
  },
  {
   "cell_type": "markdown",
   "metadata": {},
   "source": [
    "## Feature Analysis ##"
   ]
  },
  {
   "cell_type": "code",
   "execution_count": 293,
   "metadata": {
    "collapsed": false,
    "scrolled": false
   },
   "outputs": [
    {
     "name": "stdout",
     "output_type": "stream",
     "text": [
      "Negatively correlated features\n",
      "\n",
      "['attendance.academic_year', 'COSTT4_A', -0.69324276623784353, 1.1747684869920824e-21]\n",
      "['tuition.in_state', 'TUITIONFEE_IN', -0.6708655538227406, 6.6045439287982783e-20]\n",
      "['tuition.out_of_state', 'TUITIONFEE_OUT', -0.80388132647381072, 2.1484910350060433e-33]\n",
      "['tuition_revenue_per_fte', 'TUITFTE', -0.6832112699637477, 7.4765807627162871e-21]\n",
      "['instructional_expenditure_per_fte', 'INEXPFTE', -0.65204708927174659, 1.5058505552534478e-18]\n",
      "['faculty_salary', 'AVGFACSAL', -0.79947180469420553, 8.6302161050122247e-33]\n",
      "['completion_rate_4yr_150nt', 'C150_4', -0.93914484934669773, 7.7355498448246544e-67]\n",
      "['completion_rate_4yr_150nt_pooled', 'C150_4_POOLED', -0.94029211271902291, 2.1249830406631032e-67]\n",
      "['share_first.time_full.time', 'PFTFTUG1_EF', -0.72124435609264526, 4.3840422394709534e-24]\n",
      "['completion_rate_4yr_150_black', 'C150_4_BLACK', -0.82283894466705043, 3.5440333305056128e-36]\n",
      "['completion_rate_4yr_150_hispanic', 'C150_4_HISP', -0.84823529850591706, 1.7920993301776731e-40]\n",
      "[nan, 'C200_4', -0.93527219207581636, 5.0702865441098598e-65]\n",
      "['retention_rate.four_year.full_time', 'RET_FT4', -0.90494931788000721, 8.308240489856273e-54]\n",
      "[nan, 'C200_4_POOLED', -0.93864795010959268, 1.3432221608035699e-66]\n",
      "['fafsa_sent.5plus_college_allyrs', 'APPL_SCH_PCT_GE5', -0.7208177828623612, 4.7981700547796793e-24]\n",
      "['rate_suppressed.four_year', 'C150_4_POOLED_SUPP', -0.94029211271902291, 2.1249830406631032e-67]\n",
      "['rate_suppressed.four_year_200percent', 'C200_4_POOLED_SUPP', -0.93864795010959268, 1.3432221608035699e-66]\n",
      "['completion_rate_4yr_100nt', 'C100_4', -0.83278209069736087, 8.9904476867758163e-38]\n",
      "\n",
      "Positively correlated features\n",
      "\n",
      "['admission_rate.overall', 'ADM_RATE', 0.77482591283830671, 1.1325970722419979e-29]\n",
      "['admission_rate.by_ope_id', 'ADM_RATE_ALL', 0.77412595624439851, 1.3703177712229834e-29]\n",
      "['part_time_share', 'PPTUG_EF', 0.67668955796758867, 2.3945788888344584e-20]\n",
      "['pell_grant_rate', 'PCTPELL', 0.71403690705784473, 1.9705971980820174e-23]\n",
      "['federal_loan_rate', 'PCTFLOAN', 0.63743083102999665, 1.4725667382080041e-17]\n",
      "['share_25_older', 'UG25ABV', 0.662428482438287, 2.7589698747471594e-19]\n",
      "['3_yr_default_rate', 'CDR3', 0.75153774215280866, 4.5437952858218189e-27]\n",
      "[nan, 'Rank', 1.0, 0.0]\n"
     ]
    }
   ],
   "source": [
    "#Find features that are correlated\n",
    "# names = pd.read_csv('col_names.csv')\n",
    "\n",
    "#Remember that rankings are inverted - #1 best\n",
    "\n",
    "pos_corr_features = []\n",
    "neg_corr_features = []\n",
    "\n",
    "for c in data.columns.values:\n",
    "    corr, p = stats.pearsonr(data[c], data['Rank'])\n",
    "    if p <0.05 and corr > 0.6 :\n",
    "        pos_corr_features.append([names[names['VARIABLE NAME']==c]['developer-friendly name'].max(),c, corr,p])\n",
    "\n",
    "for c in data.columns.values:\n",
    "    corr, p = stats.pearsonr(data[c], data['Rank'])\n",
    "    if p <0.05 and corr <-0.6 :\n",
    "        neg_corr_features.append([names[names['VARIABLE NAME']==c]['developer-friendly name'].max(),c, corr,p])\n",
    "\n",
    "print \"Negatively correlated features\"\n",
    "print\n",
    "for i in neg_corr_features:\n",
    "    print i\n",
    "print\n",
    "print \"Positively correlated features\"\n",
    "print\n",
    "for i in pos_corr_features:\n",
    "    print i\n"
   ]
  },
  {
   "cell_type": "markdown",
   "metadata": {
    "collapsed": false
   },
   "source": [
    "## We choose the Pell grant rate as our protected attribute.##\n",
    "\n",
    "This metric is related to family income levels, and is negatively correlated with the college rankings\n",
    "\n",
    "And has been used to evaluate success of members of low income housholds in college\n",
    "\n",
    "http://time.com/money/4981302/low-income-students-pell-graduate/"
   ]
  },
  {
   "cell_type": "code",
   "execution_count": 294,
   "metadata": {
    "collapsed": false
   },
   "outputs": [],
   "source": [
    "# create groups based on median family income - high, low\n",
    "groups = pd.DataFrame()\n",
    "groups['PCTPELL']= data['PCTPELL']\n",
    "data.drop(['PCTPELL'], axis=1, inplace=True)\n",
    "m = groups['PCTPELL'].mean()\n",
    "groups.loc[groups['PCTPELL'] >m,'Group'] = 1 #many grants\n",
    "groups.loc[groups['PCTPELL'] <=m,'Group'] = 0 #few grants\n",
    "X = np.nan_to_num(scnorm.drop(['Rank'], axis=1))\n",
    "y = np.nan_to_num(scnorm['Rank'])\n",
    "g=groups['Group']\n",
    "# groups.head()"
   ]
  },
  {
   "cell_type": "code",
   "execution_count": 295,
   "metadata": {
    "collapsed": false
   },
   "outputs": [
    {
     "data": {
      "image/png": "[encoded data removed]",
      "text/plain": [
       "<matplotlib.figure.Figure at 0x7fdc3679e4d0>"
      ]
     },
     "metadata": {},
     "output_type": "display_data"
    }
   ],
   "source": [
    "cmap = plt.cm.rainbow\n",
    "plt.rcParams['figure.figsize'] = (6, 4)\n",
    "fig, ax = plt.subplots()\n",
    "ax.scatter(data['Rank'],groups['PCTPELL'], color=cmap((groups['Group'])))\n",
    "ax.set_xlabel('Ranking')\n",
    "ax.set_ylabel('Pell Grant Rate')\n",
    "ax.set_xlim([0,230])\n",
    "# ax.set_title('Relationship between Pell Grant Rate and College Ranking')\n",
    "import matplotlib.patches as mpatches\n",
    "col=cmap([0,1])\n",
    "p0 = mpatches.Patch(color='Red', label='Many Pell Grants')\n",
    "p1 = mpatches.Patch(color='Purple', label='Few Pell Grants')\n",
    "plt.legend(handles =[p0, p1])\n",
    "\n",
    "plt.show()"
   ]
  },
  {
   "cell_type": "markdown",
   "metadata": {},
   "source": [
    "## Predict ##"
   ]
  },
  {
   "cell_type": "code",
   "execution_count": 296,
   "metadata": {
    "collapsed": false
   },
   "outputs": [
    {
     "data": {
      "image/png": "[encoded data removed]",
      "text/plain": [
       "<matplotlib.figure.Figure at 0x7fdc689d1250>"
      ]
     },
     "metadata": {},
     "output_type": "display_data"
    },
    {
     "name": "stdout",
     "output_type": "stream",
     "text": [
      "('Overall MSE: ', 0.11978610079284362)\n"
     ]
    }
   ],
   "source": [
    "lr = linear_model.LinearRegression()\n",
    "\n",
    "# cross_val_predict returns an array of the same size as `y` where each entry\n",
    "# is a prediction obtained by cross validation:\n",
    "pred = cross_val_predict(lr, X, y, cv=10)\n",
    "\n",
    "fig, ax = plt.subplots()\n",
    "ax.scatter(y, pred, color=cmap((groups['Group'])))\n",
    "minD = min(y.min(), pred.min())\n",
    "maxD = max(y.max(),pred.max())\n",
    "ax\n",
    "ax.plot([y.min(), y.max()], [y.min(), y.max()], 'k--', lw=4)\n",
    "ax.set_xlabel('Measured')\n",
    "ax.set_ylabel('Predicted')\n",
    "plt.show()\n",
    "\n",
    "print(\"Overall MSE: \",  mean_squared_error(y, pred))"
   ]
  },
  {
   "cell_type": "code",
   "execution_count": 297,
   "metadata": {
    "collapsed": false
   },
   "outputs": [
    {
     "data": {
      "image/png": "[encoded data removed]",
      "text/plain": [
       "<matplotlib.figure.Figure at 0x7fdc379da110>"
      ]
     },
     "metadata": {},
     "output_type": "display_data"
    },
    {
     "name": "stdout",
     "output_type": "stream",
     "text": [
      "('Group0 MSE: ', 0.12758795163048015)\n"
     ]
    }
   ],
   "source": [
    "g0=np.nan_to_num(groups['Group'] == 0)\n",
    "y0 = y[g0]\n",
    "pred0 = pred[g0]\n",
    "\n",
    "fig, ax = plt.subplots()\n",
    "ax.scatter(y0, pred0, color=cmap((groups['Group'][g0])))\n",
    "ax.plot([y0.min(), y0.max()], [y0.min(), y0.max()], 'k--', lw=4)\n",
    "ax.set_xlabel('Measured')\n",
    "ax.set_ylabel('Predicted')\n",
    "plt.show()\n",
    "print(\"Group0 MSE: \",  mean_squared_error(y0, pred0))"
   ]
  },
  {
   "cell_type": "code",
   "execution_count": 298,
   "metadata": {
    "collapsed": false
   },
   "outputs": [
    {
     "data": {
      "image/png": "[encoded data removed]",
      "text/plain": [
       "<matplotlib.figure.Figure at 0x7fdc36d34e10>"
      ]
     },
     "metadata": {},
     "output_type": "display_data"
    },
    {
     "name": "stdout",
     "output_type": "stream",
     "text": [
      "('Group1 MSE: ', 0.11105268567608625)\n"
     ]
    }
   ],
   "source": [
    "g1=np.nan_to_num(groups['Group'] == 1)\n",
    "y1 = y[g1]\n",
    "pred1 = pred[g1]\n",
    "\n",
    "fig, ax = plt.subplots()\n",
    "ax.scatter(y1, pred1, color=cmap((groups['Group'][g1])))\n",
    "ax.plot([y1.min(), y1.max()], [y1.min(), y1.max()], 'k--', lw=4)\n",
    "ax.set_xlabel('Measured')\n",
    "ax.set_ylabel('Predicted')\n",
    "plt.show()\n",
    "print(\"Group1 MSE: \",  mean_squared_error(y1, pred1))"
   ]
  },
  {
   "cell_type": "code",
   "execution_count": 299,
   "metadata": {
    "collapsed": true
   },
   "outputs": [],
   "source": [
    "points1 = zip(pred1,y1)\n",
    "points1.sort(key=lambda x:x[0])\n",
    "points0 = zip(pred0,y0)\n",
    "points0.sort(key=lambda x:x[0])\n"
   ]
  },
  {
   "cell_type": "markdown",
   "metadata": {},
   "source": [
    "## Data ##\n",
    "**X:** training data\n",
    "\n",
    "**y:** true labels \n",
    "\n",
    "**pred:** predicted scores from regressor\n",
    "\n",
    "**pred0:** predictions for group 0\n",
    "\n",
    "**pred1:** predictions for group 1\n",
    "\n",
    "**points:** tuple (pred_i, label_i)\n",
    "\n",
    "**points0**\n",
    "\n",
    "**points1**\n",
    "\n",
    "**g:** groups indicated by [0, 1]\n"
   ]
  },
  {
   "cell_type": "code",
   "execution_count": 300,
   "metadata": {
    "collapsed": false
   },
   "outputs": [],
   "source": [
    "results = pd.DataFrame()\n",
    "results['pred'] = pred\n",
    "results['y'] = y"
   ]
  },
  {
   "cell_type": "code",
   "execution_count": 301,
   "metadata": {
    "collapsed": false
   },
   "outputs": [
    {
     "data": {
      "text/html": [
       "<div>\n",
       "<table border=\"1\" class=\"dataframe\">\n",
       "  <thead>\n",
       "    <tr style=\"text-align: right;\">\n",
       "      <th></th>\n",
       "      <th>pred</th>\n",
       "      <th>y</th>\n",
       "    </tr>\n",
       "  </thead>\n",
       "  <tbody>\n",
       "    <tr>\n",
       "      <th>0</th>\n",
       "      <td>-1.968777</td>\n",
       "      <td>-1.623478</td>\n",
       "    </tr>\n",
       "    <tr>\n",
       "      <th>1</th>\n",
       "      <td>-1.787749</td>\n",
       "      <td>-1.608663</td>\n",
       "    </tr>\n",
       "    <tr>\n",
       "      <th>2</th>\n",
       "      <td>-1.937604</td>\n",
       "      <td>-1.593848</td>\n",
       "    </tr>\n",
       "    <tr>\n",
       "      <th>3</th>\n",
       "      <td>-1.753451</td>\n",
       "      <td>-1.593848</td>\n",
       "    </tr>\n",
       "    <tr>\n",
       "      <th>4</th>\n",
       "      <td>-1.991857</td>\n",
       "      <td>-1.564218</td>\n",
       "    </tr>\n",
       "  </tbody>\n",
       "</table>\n",
       "</div>"
      ],
      "text/plain": [
       "       pred         y\n",
       "0 -1.968777 -1.623478\n",
       "1 -1.787749 -1.608663\n",
       "2 -1.937604 -1.593848\n",
       "3 -1.753451 -1.593848\n",
       "4 -1.991857 -1.564218"
      ]
     },
     "execution_count": 301,
     "metadata": {},
     "output_type": "execute_result"
    }
   ],
   "source": [
    "results.head()"
   ]
  },
  {
   "cell_type": "code",
   "execution_count": 302,
   "metadata": {
    "collapsed": true
   },
   "outputs": [],
   "source": [
    "def scale(df):\n",
    "    return(df-df.min()) / (df.max()-df.min())"
   ]
  },
  {
   "cell_type": "code",
   "execution_count": 303,
   "metadata": {
    "collapsed": false
   },
   "outputs": [],
   "source": [
    "results.sort('pred',inplace=True)"
   ]
  },
  {
   "cell_type": "markdown",
   "metadata": {},
   "source": [
    "## Binning ##\n",
    "There are many different ways to bin the data:\n",
    "\n",
    "1. Bin all data then split into groups\n",
    "2. Split the data first and then bin the data\n",
    "\n",
    "For (1) the data in each bin will be informative about the fairness of \n",
    "all data at that position in the ranking. \n",
    "\n",
    "However, depending on the distribution of the groups, some bins may only contain data from one group.\n",
    "\n",
    "In this case how do we compare the error?\n",
    "\n",
    "For (2) the data in each bin will be informative about the fairness of the position assigned to the  "
   ]
  },
  {
   "cell_type": "code",
   "execution_count": 305,
   "metadata": {
    "collapsed": false
   },
   "outputs": [
    {
     "data": {
      "image/png": "[encoded data removed]",
      "text/plain": [
       "<matplotlib.figure.Figure at 0x7fdc4438a150>"
      ]
     },
     "metadata": {},
     "output_type": "display_data"
    }
   ],
   "source": [
    "plt.rcParams['figure.figsize'] = (20, 4)\n",
    "fig, ax = plt.subplots()\n",
    "ax.bar(range(len(scaled)), scaled, 0.5,color=cmap((groups['Group'])))\n",
    "ax.set_xlim([0,len(scaled)])\n",
    "ax.plot([20, 20], [0, scaled.max()], 'k-', lw=4)\n",
    "ax.plot([40, 40], [0, scaled.max()], 'k-', lw=4)\n",
    "ax.plot([60, 60], [0, scaled.max()], 'k-', lw=4)\n",
    "ax.plot([80, 80], [0, scaled.max()], 'k-', lw=4)\n",
    "ax.plot([100, 100], [0, scaled.max()], 'k-', lw=4)\n",
    "ax.plot([120, 120], [0, scaled.max()], 'k-', lw=4)\n",
    "ax.set_title(\"Bin Entire Ranking, Equi-width\", fontsize=16)\n",
    "plt.show()"
   ]
  },
  {
   "cell_type": "code",
   "execution_count": 306,
   "metadata": {
    "collapsed": false
   },
   "outputs": [
    {
     "data": {
      "image/png": "[encoded data removed]",
      "text/plain": [
       "<matplotlib.figure.Figure at 0x7fdc44184450>"
      ]
     },
     "metadata": {},
     "output_type": "display_data"
    }
   ],
   "source": [
    "plt.rcParams['figure.figsize'] = (20, 4)\n",
    "fig, ax = plt.subplots()\n",
    "ax.bar(range(len(scaled)), scaled, 0.5,color=cmap((groups['Group'])))\n",
    "ax.set_xlim([0,len(scaled)])\n",
    "ax.plot([w, w], [0, scaled.max()], 'k-', lw=4)\n",
    "ax.plot([13, 13], [0, 1], 'k-', lw=4)#13\n",
    "ax.plot([38, 38], [0, 1], 'k-', lw=4)#38\n",
    "ax.plot([68, 68], [0, 1], 'k-', lw=4)#68\n",
    "ax.plot([107, 107], [0, 1], 'k-', lw=4)#107\n",
    "ax.set_title(\"Bin Entire Ranking, Equi-depth\", fontsize=16)\n",
    "plt.show()"
   ]
  },
  {
   "cell_type": "code",
   "execution_count": 355,
   "metadata": {
    "collapsed": false,
    "scrolled": true
   },
   "outputs": [
    {
     "data": {
      "text/plain": [
       "<matplotlib.axes._subplots.AxesSubplot at 0x7fdc36570650>"
      ]
     },
     "execution_count": 355,
     "metadata": {},
     "output_type": "execute_result"
    },
    {
     "data": {
      "image/png": "[encoded data removed]",
      "text/plain": [
       "<matplotlib.figure.Figure at 0x7fdc3656a690>"
      ]
     },
     "metadata": {},
     "output_type": "display_data"
    }
   ],
   "source": [
    "cmap = plt.cm.rainbow\n",
    "norm = matplotlib.colors.Normalize(vmin=1.5, vmax=4.5)\n",
    "plt.rcParams['figure.figsize'] = (20, 4)\n",
    "scale(results['y']).plot.bar(color=cmap((groups['Group'])))"
   ]
  },
  {
   "cell_type": "code",
   "execution_count": 356,
   "metadata": {
    "collapsed": false
   },
   "outputs": [],
   "source": [
    "def get_binned_eq_depth(points, n_folds=10):\n",
    "    pred = []\n",
    "    y = []\n",
    "    kf = KFold(len(points), n_folds=n_folds)\n",
    "    print kf\n",
    "    for rest, bin in kf:\n",
    "        vals = [points[i] for i in bin]\n",
    "        m_pred = np.mean([x[0] for x in vals])\n",
    "        m_y = np.mean([x[1] for x in vals])\n",
    "        pred.append([m_pred])\n",
    "        y.append([m_y])\n",
    "    return pred,y\n",
    "\n",
    "def get_bin_width(data, n):\n",
    "    return (data.max()-data.min())/(n+1)\n",
    "    \n",
    "def get_binned_eq_width(points, min_val, width, n):\n",
    "    bins=[]\n",
    "    b=[]\n",
    "    w = min_val+width\n",
    "#     c=1\n",
    "    for i in range(len(points)):\n",
    "        if(points[i][0] < w):\n",
    "            b.append(points[i])\n",
    "        else:\n",
    "#             print(\"bin: \"+str(c), b)\n",
    "#             print\n",
    "            m_pred = np.mean([x[0] for x in b])\n",
    "            m_y = np.mean([x[1] for x in b])\n",
    "            bins.append([m_pred, m_y])\n",
    "            b=[]\n",
    "            w+=width\n",
    "#             print\"w:\",w\n",
    "#             print\n",
    "#             c+=1\n",
    "    return np.asarray(bins)   "
   ]
  },
  {
   "cell_type": "code",
   "execution_count": 363,
   "metadata": {
    "collapsed": false,
    "scrolled": true
   },
   "outputs": [
    {
     "name": "stdout",
     "output_type": "stream",
     "text": [
      "0.357919341667\n",
      "Group 1: \n",
      "[[-2.36108599 -1.48273663]\n",
      " [-1.83305694 -1.51977374]\n",
      " [-1.47382899 -1.38644012]\n",
      " [-1.064222   -1.16718039]\n",
      " [-0.73989135 -0.76125359]\n",
      " [-0.40337275 -0.36174656]\n",
      " [-0.06800967 -0.28167584]\n",
      " [ 0.30616311  0.20171144]\n",
      " [ 0.66223327  0.97899706]\n",
      " [ 1.11837917  0.70245326]]\n",
      "Group 2\n",
      "[[        nan         nan]\n",
      " [        nan         nan]\n",
      " [        nan         nan]\n",
      " [        nan         nan]\n",
      " [        nan         nan]\n",
      " [        nan         nan]\n",
      " [-0.08093032  0.03282219]\n",
      " [ 0.32113509  0.30409849]\n",
      " [ 0.64676151  0.67097171]\n",
      " [ 1.02229641  1.24046611]]\n"
     ]
    }
   ],
   "source": [
    "w = get_bin_width(pred,10)\n",
    "print w\n",
    "print(\"Group 1: \")\n",
    "bins0 = get_binned_eq_width(points0, pred.min(), w, 10)\n",
    "print(bins0)\n",
    "print(\"Group 2\")\n",
    "bins1 = get_binned_eq_width(points1, pred.min(), w, 10)\n",
    "print(bins1)"
   ]
  },
  {
   "cell_type": "code",
   "execution_count": 358,
   "metadata": {
    "collapsed": false
   },
   "outputs": [
    {
     "name": "stdout",
     "output_type": "stream",
     "text": [
      "(20, 2)\n",
      "(21, 2)\n"
     ]
    }
   ],
   "source": [
    "# TODO: how to handle empty bin?\n",
    "# can drop, or set error =0, but that is misleading\n",
    "# print bins0.shape\n",
    "# print bins1.shape\n",
    "# bins1 = bins1[:-1]"
   ]
  },
  {
   "cell_type": "code",
   "execution_count": 364,
   "metadata": {
    "collapsed": false
   },
   "outputs": [
    {
     "data": {
      "image/png": "[encoded data removed]",
      "text/plain": [
       "<matplotlib.figure.Figure at 0x7fdc36a40390>"
      ]
     },
     "metadata": {},
     "output_type": "display_data"
    }
   ],
   "source": [
    "# reliability curve\n",
    "# probem is that the regression predictions will always be much closer to the diagonal \n",
    "# than the reliability curve for the probabilistic classifier\n",
    "plt.rcParams['figure.figsize'] = (6, 4)\n",
    "plt.plot(bins1[:,0],bins1[:,1], marker='o')\n",
    "plt.plot(bins0[:,0],bins0[:,1], marker='*')\n",
    "plt.plot(bins0[:,0],bins0[:,0])\n",
    "plt.show()"
   ]
  },
  {
   "cell_type": "code",
   "execution_count": 365,
   "metadata": {
    "collapsed": false
   },
   "outputs": [],
   "source": [
    "def plot_cal_error(df):\n",
    "    indices =np.arange(df.shape[0])\n",
    "    #Calculate optimal width\n",
    "    width = 0.3\n",
    "\n",
    "    fig = plt.figure()\n",
    "    ax = fig.add_subplot(111)\n",
    "    ax.bar(indices-width,df['mse0'],width,color='b',label='-Ymin')\n",
    "    ax.bar(indices,df['mse1'],width,color='r',label='Ymax')\n",
    "    ax.set_xlim(left=-1,right=10)\n",
    "    ax.set_xlabel('Bin')\n",
    "    ax.set_ylabel('MSE')\n",
    "    plt.show()\n",
    "    \n",
    "def plot_cal_norm(df):\n",
    "    norm = (df-df.mean()).abs()\n",
    "    \n",
    "    indices =np.arange(df.shape[0])\n",
    "    #Calculate optimal width\n",
    "    width = 0.3\n",
    "    fig = plt.figure()\n",
    "    ax = fig.add_subplot(111)\n",
    "    ax.bar(indices-width,norm['mse0'],width,color='b',label='-Ymin')\n",
    "    ax.bar(indices,norm['mse1'],width,color='r',label='Ymax')\n",
    "    ax.set_xlim(left=-1,right=10)\n",
    "    ax.set_xlabel('Bin')\n",
    "    ax.set_ylabel('MSE')\n",
    "    plt.show()\n",
    "\n"
   ]
  },
  {
   "cell_type": "code",
   "execution_count": 403,
   "metadata": {
    "collapsed": true
   },
   "outputs": [],
   "source": [
    "#These functions define the bins over each group - not over the entire ranking\n",
    "def get_mse_binned_eq_width(points, min_val, width):\n",
    "    bins=[]\n",
    "    b=[]\n",
    "    w = min_val+width\n",
    "#     c=1\n",
    "    for i in range(len(points)):\n",
    "        if(points[i][0] < w):\n",
    "            b.append(points[i])\n",
    "        else:\n",
    "#             print(\"bin: \"+str(c), b)\n",
    "#             print\n",
    "            m = np.sum([math.pow(x[0]-x[1], 2) for x in b])\n",
    "            m = m/len(b)\n",
    "            bins.append(m)\n",
    "            b=[]\n",
    "            w+=width\n",
    "#             c+=1\n",
    "    return np.asarray(bins)   \n",
    "\n",
    "\n",
    "def get_mse_binned_eq_depth(points, n_folds=10):\n",
    "    mse = []\n",
    "    kf = KFold(len(points), n_folds=n_folds)\n",
    "    print kf\n",
    "    for rest, bin in kf:\n",
    "        vals = [points[i] for i in bin]\n",
    "        m = np.sum([math.pow(x[0]-x[1], 2) for x in vals])\n",
    "        m = m/len(vals)\n",
    "        mse.append(m)\n",
    "    return mse"
   ]
  },
  {
   "cell_type": "code",
   "execution_count": 405,
   "metadata": {
    "collapsed": false
   },
   "outputs": [
    {
     "name": "stdout",
     "output_type": "stream",
     "text": [
      "\n",
      "Equi-width bins defined over each group\n"
     ]
    },
    {
     "data": {
      "image/png": "[encoded data removed]",
      "text/plain": [
       "<matplotlib.figure.Figure at 0x7fdc36273750>"
      ]
     },
     "metadata": {},
     "output_type": "display_data"
    }
   ],
   "source": [
    "mse_df = pd.DataFrame()\n",
    "mse_df['mse0'] = get_mse_binned_eq_width(points0,pred.min(),w)\n",
    "mse_df['mse1'] = get_mse_binned_eq_width(points1,pred.min(),w)\n",
    "# using equal width bins  - which one gives more comparable plot?\n",
    "print\n",
    "print \"Equi-width bins defined over each group\"\n",
    "plot_cal_error(mse_df)"
   ]
  },
  {
   "cell_type": "code",
   "execution_count": 406,
   "metadata": {
    "collapsed": false
   },
   "outputs": [
    {
     "name": "stdout",
     "output_type": "stream",
     "text": [
      "sklearn.cross_validation.KFold(n=75, n_folds=10, shuffle=False, random_state=None)\n",
      "sklearn.cross_validation.KFold(n=67, n_folds=10, shuffle=False, random_state=None)\n",
      "\n",
      "Equi-depth bins defined over each group\n"
     ]
    },
    {
     "data": {
      "image/png": "[encoded data removed]",
      "text/plain": [
       "<matplotlib.figure.Figure at 0x7fdc3625ac50>"
      ]
     },
     "metadata": {},
     "output_type": "display_data"
    }
   ],
   "source": [
    "# using equal depth bins\n",
    "mse_df['mse0'] = get_mse_binned_eq_depth(points0)\n",
    "mse_df['mse1'] = get_mse_binned_eq_depth(points1)\n",
    "# using equal width bins  - which one gives more comparable plot?\n",
    "print\n",
    "print \"Equi-depth bins defined over each group\"\n",
    "plot_cal_error(mse_df)"
   ]
  },
  {
   "cell_type": "markdown",
   "metadata": {},
   "source": [
    "## Need functions to bin over all data first, then divide each group ##"
   ]
  },
  {
   "cell_type": "code",
   "execution_count": null,
   "metadata": {
    "collapsed": true
   },
   "outputs": [],
   "source": []
  },
  {
   "cell_type": "markdown",
   "metadata": {},
   "source": [
    "## Moving on to other metrics... ##"
   ]
  },
  {
   "cell_type": "code",
   "execution_count": 407,
   "metadata": {
    "collapsed": false
   },
   "outputs": [],
   "source": [
    "overall = pd.DataFrame()\n",
    "overall['y']=y\n",
    "overall['pred']=pred\n",
    "overall['SE'] = pow((overall['y']-overall['pred']),2)\n",
    "\n",
    "g0 = pd.DataFrame()\n",
    "g0['y']=y0\n",
    "g0['pred']=pred0\n",
    "g0['SE'] = pow((g0['y']-g0['pred']),2)\n",
    "\n",
    "g1 = pd.DataFrame()\n",
    "g1['y']=y1\n",
    "g1['pred']=pred1\n",
    "g1['SE'] = pow((g1['y']-g1['pred']),2)\n",
    "\n",
    "overall.sort('pred',inplace=True)\n",
    "g1.sort('pred',inplace=True)\n",
    "g1.sort('pred',inplace=True)"
   ]
  },
  {
   "cell_type": "code",
   "execution_count": 408,
   "metadata": {
    "collapsed": true
   },
   "outputs": [],
   "source": [
    "# histogram of error is like density estimation - maybe we use a kernel method or something"
   ]
  },
  {
   "cell_type": "code",
   "execution_count": 409,
   "metadata": {
    "collapsed": false
   },
   "outputs": [],
   "source": [
    "pd.options.display.float_format = '{:,.2f}'.format"
   ]
  },
  {
   "cell_type": "code",
   "execution_count": 410,
   "metadata": {
    "collapsed": false
   },
   "outputs": [],
   "source": [
    "#should be squared error or absolute?\n",
    "def getOverUnder(df):\n",
    "    diff = df['y'] - df['pred']\n",
    "    df.loc[diff <0,'over'] = 0\n",
    "    df.loc[diff >0,'over'] = pow(diff,2)\n",
    "    df.loc[diff <0,'under'] = pow(diff,2)\n",
    "    df.loc[diff >0,'under'] = 0\n",
    "    df['all'] = pow(diff,2)"
   ]
  },
  {
   "cell_type": "code",
   "execution_count": 411,
   "metadata": {
    "collapsed": false
   },
   "outputs": [
    {
     "name": "stdout",
     "output_type": "stream",
     "text": [
      "('MSE overall: ', 0.11978610079284367)\n",
      "('Overestimated overall: ', 0.07005891155625993)\n",
      "('Underestimated overall: ', 0.04972718923658371)\n",
      "\n",
      "('MSE Group 2: ', 0.12758795163048017)\n",
      "('Overestimated g0: ', 0.07253878394305349)\n",
      "('Underestimated g0: ', 0.05504916768742666)\n",
      "\n",
      "('MSE Group 1: ', 0.11105268567608631)\n",
      "('Overestimated g1: ', 0.06728293500387905)\n",
      "('Underestimated g1: ', 0.04376975067220722)\n"
     ]
    }
   ],
   "source": [
    "getOverUnder(overall)\n",
    "print(\"MSE overall: \", overall['all'].mean())\n",
    "print(\"Overestimated overall: \", overall['over'].mean())\n",
    "print(\"Underestimated overall: \", overall['under'].mean())\n",
    "print\n",
    "getOverUnder(g0)\n",
    "print(\"MSE Group 2: \", g0['all'].mean())\n",
    "print(\"Overestimated g0: \", g0['over'].mean())\n",
    "print(\"Underestimated g0: \", g0['under'].mean())\n",
    "print\n",
    "getOverUnder(g1)\n",
    "print(\"MSE Group 1: \", g1['all'].mean())\n",
    "print(\"Overestimated g1: \", g1['over'].mean())\n",
    "print(\"Underestimated g1: \", g1['under'].mean())"
   ]
  },
  {
   "cell_type": "code",
   "execution_count": 412,
   "metadata": {
    "collapsed": false
   },
   "outputs": [
    {
     "name": "stdout",
     "output_type": "stream",
     "text": [
      "1.66541829325\n",
      "-1.62347767094\n"
     ]
    }
   ],
   "source": [
    "print scnorm['Rank'].max()\n",
    "print scnorm['Rank'].min()"
   ]
  },
  {
   "cell_type": "code",
   "execution_count": 413,
   "metadata": {
    "collapsed": false
   },
   "outputs": [
    {
     "name": "stdout",
     "output_type": "stream",
     "text": [
      "223\n",
      "1\n"
     ]
    }
   ],
   "source": [
    "print data['Rank'].max()\n",
    "print data['Rank'].min()"
   ]
  },
  {
   "cell_type": "code",
   "execution_count": 414,
   "metadata": {
    "collapsed": false
   },
   "outputs": [],
   "source": [
    "m = data['Rank'].mean()\n",
    "st = data['Rank'].std()"
   ]
  }
 ],
 "metadata": {
  "kernelspec": {
   "display_name": "Python [Root]",
   "language": "python",
   "name": "Python [Root]"
  },
  "language_info": {
   "codemirror_mode": {
    "name": "ipython",
    "version": 2
   },
   "file_extension": ".py",
   "mimetype": "text/x-python",
   "name": "python",
   "nbconvert_exporter": "python",
   "pygments_lexer": "ipython2",
   "version": "2.7.12"
  }
 },
 "nbformat": 4,
 "nbformat_minor": 0
}
