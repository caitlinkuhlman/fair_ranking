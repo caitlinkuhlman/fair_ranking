{
 "cells": [
  {
   "cell_type": "code",
   "execution_count": 1,
   "metadata": {
    "collapsed": false
   },
   "outputs": [
    {
     "name": "stderr",
     "output_type": "stream",
     "text": [
      "/home/caitlin/anaconda2/lib/python2.7/site-packages/matplotlib/font_manager.py:273: UserWarning: Matplotlib is building the font cache using fc-list. This may take a moment.\n",
      "  warnings.warn('Matplotlib is building the font cache using fc-list. This may take a moment.')\n"
     ]
    },
    {
     "data": {
      "text/plain": [
       "u'%.2f'"
      ]
     },
     "execution_count": 1,
     "metadata": {},
     "output_type": "execute_result"
    }
   ],
   "source": [
    "import matplotlib\n",
    "import matplotlib.pyplot as plt\n",
    "import numpy as np\n",
    "import pandas as pd\n",
    "import math\n",
    "from scipy import stats\n",
    "from sklearn import datasets\n",
    "from sklearn.naive_bayes import GaussianNB\n",
    "from sklearn.svm import LinearSVC\n",
    "from sklearn.linear_model import LogisticRegression\n",
    "from sklearn.metrics import (brier_score_loss, precision_score, recall_score,\n",
    "                             f1_score)\n",
    "from sklearn.calibration import CalibratedClassifierCV, calibration_curve\n",
    "from sklearn.cross_validation import cross_val_predict\n",
    "from sklearn import linear_model\n",
    "from sklearn.metrics import mean_squared_error, r2_score\n",
    "from sklearn.cross_validation import KFold\n",
    "# from sklearn.model_selection import train_test_split\n",
    "%matplotlib inline\n",
    "%precision %.2f"
   ]
  },
  {
   "cell_type": "markdown",
   "metadata": {},
   "source": [
    "## Load, join, and clean data ##"
   ]
  },
  {
   "cell_type": "code",
   "execution_count": 2,
   "metadata": {
    "collapsed": false
   },
   "outputs": [
    {
     "data": {
      "text/html": [
       "<div>\n",
       "<table border=\"1\" class=\"dataframe\">\n",
       "  <thead>\n",
       "    <tr style=\"text-align: right;\">\n",
       "      <th></th>\n",
       "      <th>State</th>\n",
       "      <th>Percentage of Pell Grantees</th>\n",
       "      <th>Median Federal Debt for All Students</th>\n",
       "      <th>Median Federal Debt of Pell Grantees</th>\n",
       "      <th>Nonrepayment Rate for Pell Students</th>\n",
       "      <th>Nonrepayment Rate for All Students</th>\n",
       "      <th>Average Cost for Low-Income Students, Per Year</th>\n",
       "      <th>Default Rate for All Students</th>\n",
       "      <th>Percentage of All Students Earning $25K or Less Per Year, 10 Years After Enrolling</th>\n",
       "    </tr>\n",
       "  </thead>\n",
       "  <tbody>\n",
       "    <tr>\n",
       "      <th>0</th>\n",
       "      <td>Adelphi University</td>\n",
       "      <td>0.308</td>\n",
       "      <td>25000.0</td>\n",
       "      <td>23000.0</td>\n",
       "      <td>0.363</td>\n",
       "      <td>0.297</td>\n",
       "      <td>22197.0</td>\n",
       "      <td>0.032</td>\n",
       "      <td>0.204</td>\n",
       "    </tr>\n",
       "    <tr>\n",
       "      <th>1</th>\n",
       "      <td>Alliant International University-San Diego</td>\n",
       "      <td>0.123</td>\n",
       "      <td>3000.0</td>\n",
       "      <td>13425.0</td>\n",
       "      <td>0.634</td>\n",
       "      <td>0.496</td>\n",
       "      <td>16785.0</td>\n",
       "      <td>0.027</td>\n",
       "      <td>0.197</td>\n",
       "    </tr>\n",
       "    <tr>\n",
       "      <th>2</th>\n",
       "      <td>American International College</td>\n",
       "      <td>0.506</td>\n",
       "      <td>27000.0</td>\n",
       "      <td>21750.0</td>\n",
       "      <td>0.586</td>\n",
       "      <td>0.519</td>\n",
       "      <td>17160.0</td>\n",
       "      <td>0.062</td>\n",
       "      <td>0.263</td>\n",
       "    </tr>\n",
       "    <tr>\n",
       "      <th>3</th>\n",
       "      <td>American University</td>\n",
       "      <td>0.167</td>\n",
       "      <td>24589.0</td>\n",
       "      <td>25000.0</td>\n",
       "      <td>0.273</td>\n",
       "      <td>0.199</td>\n",
       "      <td>28524.0</td>\n",
       "      <td>0.021</td>\n",
       "      <td>0.168</td>\n",
       "    </tr>\n",
       "    <tr>\n",
       "      <th>4</th>\n",
       "      <td>Andrews University</td>\n",
       "      <td>0.293</td>\n",
       "      <td>27750.0</td>\n",
       "      <td>26768.0</td>\n",
       "      <td>0.536</td>\n",
       "      <td>0.493</td>\n",
       "      <td>19226.0</td>\n",
       "      <td>0.053</td>\n",
       "      <td>0.338</td>\n",
       "    </tr>\n",
       "  </tbody>\n",
       "</table>\n",
       "</div>"
      ],
      "text/plain": [
       "                                        State  Percentage of Pell Grantees  \\\n",
       "0                          Adelphi University                        0.308   \n",
       "1  Alliant International University-San Diego                        0.123   \n",
       "2              American International College                        0.506   \n",
       "3                         American University                        0.167   \n",
       "4                          Andrews University                        0.293   \n",
       "\n",
       "   Median Federal Debt for All Students  Median Federal Debt of Pell Grantees  \\\n",
       "0                               25000.0                               23000.0   \n",
       "1                                3000.0                               13425.0   \n",
       "2                               27000.0                               21750.0   \n",
       "3                               24589.0                               25000.0   \n",
       "4                               27750.0                               26768.0   \n",
       "\n",
       "   Nonrepayment Rate for Pell Students  Nonrepayment Rate for All Students  \\\n",
       "0                                0.363                               0.297   \n",
       "1                                0.634                               0.496   \n",
       "2                                0.586                               0.519   \n",
       "3                                0.273                               0.199   \n",
       "4                                0.536                               0.493   \n",
       "\n",
       "   Average Cost for Low-Income Students, Per Year  \\\n",
       "0                                         22197.0   \n",
       "1                                         16785.0   \n",
       "2                                         17160.0   \n",
       "3                                         28524.0   \n",
       "4                                         19226.0   \n",
       "\n",
       "   Default Rate for All Students  \\\n",
       "0                          0.032   \n",
       "1                          0.027   \n",
       "2                          0.062   \n",
       "3                          0.021   \n",
       "4                          0.053   \n",
       "\n",
       "   Percentage of All Students Earning $25K or Less Per Year, 10 Years After Enrolling  \n",
       "0                                              0.204                                   \n",
       "1                                              0.197                                   \n",
       "2                                              0.263                                   \n",
       "3                                              0.168                                   \n",
       "4                                              0.338                                   "
      ]
     },
     "execution_count": 2,
     "metadata": {},
     "output_type": "execute_result"
    }
   ],
   "source": [
    "#ProPublica data from here https://projects.propublica.org/colleges\n",
    "#Not used in this analysis - but maybe would be better?\n",
    "\n",
    "pp=pd.read_csv(\"ProPublica_Data.csv\")\n",
    "pp.head()"
   ]
  },
  {
   "cell_type": "code",
   "execution_count": 3,
   "metadata": {
    "collapsed": false,
    "scrolled": true
   },
   "outputs": [
    {
     "data": {
      "text/html": [
       "<div>\n",
       "<table border=\"1\" class=\"dataframe\">\n",
       "  <thead>\n",
       "    <tr style=\"text-align: right;\">\n",
       "      <th></th>\n",
       "      <th>City</th>\n",
       "      <th>State</th>\n",
       "      <th>Rank</th>\n",
       "      <th>In-state Tuition</th>\n",
       "      <th>Out-state Tuition</th>\n",
       "      <th>Enrollment</th>\n",
       "    </tr>\n",
       "    <tr>\n",
       "      <th>University</th>\n",
       "      <th></th>\n",
       "      <th></th>\n",
       "      <th></th>\n",
       "      <th></th>\n",
       "      <th></th>\n",
       "      <th></th>\n",
       "    </tr>\n",
       "  </thead>\n",
       "  <tbody>\n",
       "    <tr>\n",
       "      <th>Princeton University</th>\n",
       "      <td>Princeton</td>\n",
       "      <td>NJ</td>\n",
       "      <td>1</td>\n",
       "      <td>$47140</td>\n",
       "      <td>$47140</td>\n",
       "      <td>5400.0</td>\n",
       "    </tr>\n",
       "    <tr>\n",
       "      <th>Harvard University</th>\n",
       "      <td>Cambridge</td>\n",
       "      <td>MA</td>\n",
       "      <td>2</td>\n",
       "      <td>$48949</td>\n",
       "      <td>$48949</td>\n",
       "      <td>6710.0</td>\n",
       "    </tr>\n",
       "    <tr>\n",
       "      <th>University of Chicago</th>\n",
       "      <td>Chicago</td>\n",
       "      <td>IL</td>\n",
       "      <td>3</td>\n",
       "      <td>$54825</td>\n",
       "      <td>$54825</td>\n",
       "      <td>5941.0</td>\n",
       "    </tr>\n",
       "    <tr>\n",
       "      <th>Yale University</th>\n",
       "      <td>New Haven</td>\n",
       "      <td>CT</td>\n",
       "      <td>3</td>\n",
       "      <td>$51400</td>\n",
       "      <td>$51400</td>\n",
       "      <td>5472.0</td>\n",
       "    </tr>\n",
       "    <tr>\n",
       "      <th>Columbia University</th>\n",
       "      <td>New York</td>\n",
       "      <td>NY</td>\n",
       "      <td>5</td>\n",
       "      <td>$57208</td>\n",
       "      <td>$57208</td>\n",
       "      <td>6113.0</td>\n",
       "    </tr>\n",
       "  </tbody>\n",
       "</table>\n",
       "</div>"
      ],
      "text/plain": [
       "                            City State Rank In-state Tuition  \\\n",
       "University                                                     \n",
       "Princeton University   Princeton    NJ    1           $47140   \n",
       "Harvard University     Cambridge    MA    2           $48949   \n",
       "University of Chicago    Chicago    IL  3             $54825   \n",
       "Yale University        New Haven    CT  3             $51400   \n",
       "Columbia University     New York    NY  5             $57208   \n",
       "\n",
       "                      Out-state Tuition  Enrollment  \n",
       "University                                           \n",
       "Princeton University             $47140      5400.0  \n",
       "Harvard University               $48949      6710.0  \n",
       "University of Chicago            $54825      5941.0  \n",
       "Yale University                  $51400      5472.0  \n",
       "Columbia University              $57208      6113.0  "
      ]
     },
     "execution_count": 3,
     "metadata": {},
     "output_type": "execute_result"
    }
   ],
   "source": [
    "usnews = pd.read_csv(\"USNewsCollegeRankings2018.csv\")\n",
    "usnews.set_index('University', inplace=True)\n",
    "usnews.head()"
   ]
  },
  {
   "cell_type": "code",
   "execution_count": 4,
   "metadata": {
    "collapsed": false,
    "scrolled": false
   },
   "outputs": [
    {
     "name": "stderr",
     "output_type": "stream",
     "text": [
      "/home/caitlin/anaconda2/lib/python2.7/site-packages/IPython/core/interactiveshell.py:2723: DtypeWarning: Columns (6,9,1725,1726,1727,1728,1729,1743) have mixed types. Specify dtype option on import or set low_memory=False.\n",
      "  interactivity=interactivity, compiler=compiler, result=result)\n"
     ]
    },
    {
     "data": {
      "text/plain": [
       "(7593, 1777)"
      ]
     },
     "execution_count": 4,
     "metadata": {},
     "output_type": "execute_result"
    }
   ],
   "source": [
    "scorecard = pd.read_csv(\"MERGED2015_16_PP.csv\")\n",
    "scorecard.shape"
   ]
  },
  {
   "cell_type": "code",
   "execution_count": 5,
   "metadata": {
    "collapsed": false
   },
   "outputs": [
    {
     "data": {
      "text/plain": [
       "(230, 6)"
      ]
     },
     "execution_count": 5,
     "metadata": {},
     "output_type": "execute_result"
    }
   ],
   "source": [
    "usnews=usnews[usnews['Rank']!= 'Rank Not Published']\n",
    "usnews=usnews[usnews['Rank']!= 'Unranked']\n",
    "usnews.shape"
   ]
  },
  {
   "cell_type": "code",
   "execution_count": 6,
   "metadata": {
    "collapsed": false
   },
   "outputs": [
    {
     "data": {
      "text/plain": [
       "(230, 1768)"
      ]
     },
     "execution_count": 6,
     "metadata": {},
     "output_type": "execute_result"
    }
   ],
   "source": [
    "drop=['\\xef\\xbb\\xbfUNITID','OPEID','OPEID6','CITY','STABBR','ZIP','ACCREDAGENCY','INSTURL','NPCURL']\n",
    "scorecard.drop(drop, axis=1, inplace=True)\n",
    "scorecard.set_index('INSTNM',inplace=True)\n",
    "scorecard = scorecard.loc[usnews.index]\n",
    "scorecard['Rank']=usnews['Rank']\n",
    "scorecard.shape"
   ]
  },
  {
   "cell_type": "code",
   "execution_count": 7,
   "metadata": {
    "collapsed": false
   },
   "outputs": [
    {
     "data": {
      "text/plain": [
       "(142, 441)"
      ]
     },
     "execution_count": 7,
     "metadata": {},
     "output_type": "execute_result"
    }
   ],
   "source": [
    "# scorecard.dropna(axis=1,thresh=100).shape\n",
    "data = scorecard.dropna(thresh=100, axis=1).dropna(thresh=500)\n",
    "for c in data.columns.values:\n",
    "    data[c] = pd.to_numeric(data[c], errors='coerce')\n",
    "data.dropna(axis=1,thresh=100, inplace=True)\n",
    "# data.fillna(data.mean, inplace=True)\n",
    "cols=[]\n",
    "for c in data.columns.values:\n",
    "    if data[c].var()!=0:\n",
    "       cols.append(c)\n",
    "data=data[cols]\n",
    "data.shape"
   ]
  },
  {
   "cell_type": "code",
   "execution_count": 8,
   "metadata": {
    "collapsed": false
   },
   "outputs": [],
   "source": [
    "def normalize(df):\n",
    "    return(df - df.mean()) / df.std()\n",
    "\n",
    "scnorm = normalize(data)"
   ]
  },
  {
   "cell_type": "markdown",
   "metadata": {},
   "source": [
    "## Feature Analysis ##"
   ]
  },
  {
   "cell_type": "code",
   "execution_count": 9,
   "metadata": {
    "collapsed": false,
    "scrolled": false
   },
   "outputs": [
    {
     "name": "stdout",
     "output_type": "stream",
     "text": [
      "Negatively correlated features\n",
      "\n",
      "['attendance.academic_year', 'COSTT4_A', -0.69324276623784353, 1.1747684869920824e-21]\n",
      "['tuition.in_state', 'TUITIONFEE_IN', -0.6708655538227406, 6.6045439287982783e-20]\n",
      "['tuition.out_of_state', 'TUITIONFEE_OUT', -0.80388132647381072, 2.1484910350060433e-33]\n",
      "['tuition_revenue_per_fte', 'TUITFTE', -0.6832112699637477, 7.4765807627162871e-21]\n",
      "['instructional_expenditure_per_fte', 'INEXPFTE', -0.65204708927174659, 1.5058505552534478e-18]\n",
      "['faculty_salary', 'AVGFACSAL', -0.79947180469420553, 8.6302161050122247e-33]\n",
      "['completion_rate_4yr_150nt', 'C150_4', -0.93914484934669773, 7.7355498448246544e-67]\n",
      "['completion_rate_4yr_150nt_pooled', 'C150_4_POOLED', -0.94029211271902291, 2.1249830406631032e-67]\n",
      "['share_first.time_full.time', 'PFTFTUG1_EF', -0.72124435609264526, 4.3840422394709534e-24]\n",
      "['completion_rate_4yr_150_black', 'C150_4_BLACK', -0.82283894466705043, 3.5440333305056128e-36]\n",
      "['completion_rate_4yr_150_hispanic', 'C150_4_HISP', -0.84823529850591706, 1.7920993301776731e-40]\n",
      "[nan, 'C200_4', -0.93527219207581636, 5.0702865441098598e-65]\n",
      "['retention_rate.four_year.full_time', 'RET_FT4', -0.90494931788000721, 8.308240489856273e-54]\n",
      "[nan, 'C200_4_POOLED', -0.93864795010959268, 1.3432221608035699e-66]\n",
      "['fafsa_sent.5plus_college_allyrs', 'APPL_SCH_PCT_GE5', -0.7208177828623612, 4.7981700547796793e-24]\n",
      "['rate_suppressed.four_year', 'C150_4_POOLED_SUPP', -0.94029211271902291, 2.1249830406631032e-67]\n",
      "['rate_suppressed.four_year_200percent', 'C200_4_POOLED_SUPP', -0.93864795010959268, 1.3432221608035699e-66]\n",
      "['completion_rate_4yr_100nt', 'C100_4', -0.83278209069736087, 8.9904476867758163e-38]\n",
      "\n",
      "Positively correlated features\n",
      "\n",
      "['admission_rate.overall', 'ADM_RATE', 0.77482591283830671, 1.1325970722419979e-29]\n",
      "['admission_rate.by_ope_id', 'ADM_RATE_ALL', 0.77412595624439851, 1.3703177712229834e-29]\n",
      "['part_time_share', 'PPTUG_EF', 0.67668955796758867, 2.3945788888344584e-20]\n",
      "['pell_grant_rate', 'PCTPELL', 0.71403690705784473, 1.9705971980820174e-23]\n",
      "['federal_loan_rate', 'PCTFLOAN', 0.63743083102999665, 1.4725667382080041e-17]\n",
      "['share_25_older', 'UG25ABV', 0.662428482438287, 2.7589698747471594e-19]\n",
      "['3_yr_default_rate', 'CDR3', 0.75153774215280866, 4.5437952858218189e-27]\n",
      "[nan, 'Rank', 1.0, 0.0]\n"
     ]
    }
   ],
   "source": [
    "#Find features that are correlated\n",
    "names = pd.read_csv('col_names.csv')\n",
    "\n",
    "#Remember that rankings are inverted - #1 best\n",
    "\n",
    "pos_corr_features = []\n",
    "neg_corr_features = []\n",
    "\n",
    "for c in data.columns.values:\n",
    "    corr, p = stats.pearsonr(data[c], data['Rank'])\n",
    "    if p <0.05 and corr > 0.6 :\n",
    "        pos_corr_features.append([names[names['VARIABLE NAME']==c]['developer-friendly name'].max(),c, corr,p])\n",
    "\n",
    "for c in data.columns.values:\n",
    "    corr, p = stats.pearsonr(data[c], data['Rank'])\n",
    "    if p <0.05 and corr <-0.6 :\n",
    "        neg_corr_features.append([names[names['VARIABLE NAME']==c]['developer-friendly name'].max(),c, corr,p])\n",
    "\n",
    "print \"Negatively correlated features\"\n",
    "print\n",
    "for i in neg_corr_features:\n",
    "    print i\n",
    "print\n",
    "print \"Positively correlated features\"\n",
    "print\n",
    "for i in pos_corr_features:\n",
    "    print i\n"
   ]
  },
  {
   "cell_type": "markdown",
   "metadata": {
    "collapsed": false
   },
   "source": [
    "## We choose the Pell grant rate as our protected attribute.##\n",
    "\n",
    "This metric is related to family income levels, and is negatively correlated with the college rankings\n",
    "\n",
    "And has been used to evaluate success of members of low income housholds in college\n",
    "\n",
    "http://time.com/money/4981302/low-income-students-pell-graduate/"
   ]
  },
  {
   "cell_type": "code",
   "execution_count": 10,
   "metadata": {
    "collapsed": false
   },
   "outputs": [],
   "source": [
    "# create groups based on median family income - high, low\n",
    "groups = pd.DataFrame()\n",
    "groups['PCTPELL']= data['PCTPELL']\n",
    "data.drop(['PCTPELL'], axis=1, inplace=True)\n",
    "m = groups['PCTPELL'].mean()\n",
    "groups.loc[groups['PCTPELL'] >m,'Group'] = 1 #many grants\n",
    "groups.loc[groups['PCTPELL'] <=m,'Group'] = 0 #few grants\n",
    "X = np.nan_to_num(scnorm.drop(['Rank'], axis=1))\n",
    "y = np.nan_to_num(scnorm['Rank'])\n",
    "g=groups['Group']\n",
    "# groups.head()"
   ]
  },
  {
   "cell_type": "code",
   "execution_count": 11,
   "metadata": {
    "collapsed": false
   },
   "outputs": [
    {
     "data": {
      "image/png": "[encoded data removed]",
      "text/plain": [
       "<matplotlib.figure.Figure at 0x7f7e9c01ebd0>"
      ]
     },
     "metadata": {},
     "output_type": "display_data"
    }
   ],
   "source": [
    "cmap = plt.cm.rainbow\n",
    "plt.rcParams['figure.figsize'] = (6, 4)\n",
    "fig, ax = plt.subplots()\n",
    "ax.scatter(data['Rank'],groups['PCTPELL'], color=cmap((groups['Group'])))\n",
    "ax.set_xlabel('Ranking')\n",
    "ax.set_ylabel('Pell Grant Rate')\n",
    "ax.set_xlim([0,230])\n",
    "# ax.set_title('Relationship between Pell Grant Rate and College Ranking')\n",
    "import matplotlib.patches as mpatches\n",
    "col=cmap([0,1])\n",
    "p0 = mpatches.Patch(color='Red', label='Many Pell Grants')\n",
    "p1 = mpatches.Patch(color='Purple', label='Few Pell Grants')\n",
    "plt.legend(handles =[p0, p1])\n",
    "\n",
    "plt.show()"
   ]
  },
  {
   "cell_type": "markdown",
   "metadata": {},
   "source": [
    "## Predict ##"
   ]
  },
  {
   "cell_type": "code",
   "execution_count": 12,
   "metadata": {
    "collapsed": false
   },
   "outputs": [
    {
     "data": {
      "image/png": "[encoded data removed]",
      "text/plain": [
       "<matplotlib.figure.Figure at 0x7f7ebc51b750>"
      ]
     },
     "metadata": {},
     "output_type": "display_data"
    },
    {
     "name": "stdout",
     "output_type": "stream",
     "text": [
      "('Overall MSE: ', 0.11969034219917979)\n"
     ]
    }
   ],
   "source": [
    "lr = linear_model.LinearRegression()\n",
    "\n",
    "# cross_val_predict returns an array of the same size as `y` where each entry\n",
    "# is a prediction obtained by cross validation:\n",
    "pred = cross_val_predict(lr, X, y, cv=10)\n",
    "\n",
    "fig, ax = plt.subplots()\n",
    "ax.scatter(y, pred, color=cmap((groups['Group'])))\n",
    "minD = min(y.min(), pred.min())\n",
    "maxD = max(y.max(),pred.max())\n",
    "ax\n",
    "ax.plot([y.min(), y.max()], [y.min(), y.max()], 'k--', lw=4)\n",
    "ax.set_xlabel('Measured')\n",
    "ax.set_ylabel('Predicted')\n",
    "plt.show()\n",
    "\n",
    "print(\"Overall MSE: \",  mean_squared_error(y, pred))"
   ]
  },
  {
   "cell_type": "code",
   "execution_count": 13,
   "metadata": {
    "collapsed": false
   },
   "outputs": [
    {
     "data": {
      "image/png": "[encoded data removed]",
      "text/plain": [
       "<matplotlib.figure.Figure at 0x7f7e9ee04ed0>"
      ]
     },
     "metadata": {},
     "output_type": "display_data"
    },
    {
     "name": "stdout",
     "output_type": "stream",
     "text": [
      "('Group0 MSE: ', 0.12740664869314333)\n"
     ]
    }
   ],
   "source": [
    "g0=np.nan_to_num(groups['Group'] == 0)\n",
    "y0 = y[g0]\n",
    "pred0 = pred[g0]\n",
    "\n",
    "fig, ax = plt.subplots()\n",
    "ax.scatter(y0, pred0, color=cmap((groups['Group'][g0])))\n",
    "ax.plot([y0.min(), y0.max()], [y0.min(), y0.max()], 'k--', lw=4)\n",
    "ax.set_xlabel('Measured')\n",
    "ax.set_ylabel('Predicted')\n",
    "plt.show()\n",
    "print(\"Group0 MSE: \",  mean_squared_error(y0, pred0))"
   ]
  },
  {
   "cell_type": "code",
   "execution_count": 14,
   "metadata": {
    "collapsed": false
   },
   "outputs": [
    {
     "data": {
      "image/png": "[encoded data removed]",
      "text/plain": [
       "<matplotlib.figure.Figure at 0x7f7e9efd61d0>"
      ]
     },
     "metadata": {},
     "output_type": "display_data"
    },
    {
     "name": "stdout",
     "output_type": "stream",
     "text": [
      "('Group1 MSE: ', 0.11105268567608625)\n"
     ]
    }
   ],
   "source": [
    "g1=np.nan_to_num(groups['Group'] == 1)\n",
    "y1 = y[g1]\n",
    "pred1 = pred[g1]\n",
    "\n",
    "fig, ax = plt.subplots()\n",
    "ax.scatter(y1, pred1, color=cmap((groups['Group'][g1])))\n",
    "ax.plot([y1.min(), y1.max()], [y1.min(), y1.max()], 'k--', lw=4)\n",
    "ax.set_xlabel('Measured')\n",
    "ax.set_ylabel('Predicted')\n",
    "plt.show()\n",
    "print(\"Group1 MSE: \",  mean_squared_error(y1, pred1))"
   ]
  },
  {
   "cell_type": "code",
   "execution_count": 15,
   "metadata": {
    "collapsed": true
   },
   "outputs": [],
   "source": [
    "points1 = zip(pred1,y1)\n",
    "points1.sort(key=lambda x:x[0])\n",
    "points0 = zip(pred0,y0)\n",
    "points0.sort(key=lambda x:x[0])\n"
   ]
  },
  {
   "cell_type": "markdown",
   "metadata": {},
   "source": [
    "## Data ##\n",
    "**X:** training data\n",
    "\n",
    "**y:** true labels \n",
    "\n",
    "**pred:** predicted scores from regressor\n",
    "\n",
    "**pred0:** predictions for group 0\n",
    "\n",
    "**pred1:** predictions for group 1\n",
    "\n",
    "**points:** tuple (pred_i, label_i)\n",
    "\n",
    "**points0**\n",
    "\n",
    "**points1**\n",
    "\n",
    "**g:** groups indicated by [0, 1]\n"
   ]
  },
  {
   "cell_type": "code",
   "execution_count": 155,
   "metadata": {
    "collapsed": false
   },
   "outputs": [],
   "source": [
    "results = pd.DataFrame()\n",
    "results['pred'] = pred\n",
    "results['y'] = y\n",
    "results['g'] = g.values"
   ]
  },
  {
   "cell_type": "code",
   "execution_count": 156,
   "metadata": {
    "collapsed": false
   },
   "outputs": [
    {
     "data": {
      "text/html": [
       "<div>\n",
       "<table border=\"1\" class=\"dataframe\">\n",
       "  <thead>\n",
       "    <tr style=\"text-align: right;\">\n",
       "      <th></th>\n",
       "      <th>pred</th>\n",
       "      <th>y</th>\n",
       "      <th>g</th>\n",
       "    </tr>\n",
       "  </thead>\n",
       "  <tbody>\n",
       "    <tr>\n",
       "      <th>0</th>\n",
       "      <td>-1.969626</td>\n",
       "      <td>-1.623478</td>\n",
       "      <td>0.0</td>\n",
       "    </tr>\n",
       "    <tr>\n",
       "      <th>1</th>\n",
       "      <td>-1.785846</td>\n",
       "      <td>-1.608663</td>\n",
       "      <td>0.0</td>\n",
       "    </tr>\n",
       "    <tr>\n",
       "      <th>2</th>\n",
       "      <td>-1.936827</td>\n",
       "      <td>-1.593848</td>\n",
       "      <td>0.0</td>\n",
       "    </tr>\n",
       "    <tr>\n",
       "      <th>3</th>\n",
       "      <td>-1.753103</td>\n",
       "      <td>-1.593848</td>\n",
       "      <td>0.0</td>\n",
       "    </tr>\n",
       "    <tr>\n",
       "      <th>4</th>\n",
       "      <td>-1.990678</td>\n",
       "      <td>-1.564218</td>\n",
       "      <td>0.0</td>\n",
       "    </tr>\n",
       "  </tbody>\n",
       "</table>\n",
       "</div>"
      ],
      "text/plain": [
       "       pred         y    g\n",
       "0 -1.969626 -1.623478  0.0\n",
       "1 -1.785846 -1.608663  0.0\n",
       "2 -1.936827 -1.593848  0.0\n",
       "3 -1.753103 -1.593848  0.0\n",
       "4 -1.990678 -1.564218  0.0"
      ]
     },
     "execution_count": 156,
     "metadata": {},
     "output_type": "execute_result"
    }
   ],
   "source": [
    "results.head()"
   ]
  },
  {
   "cell_type": "code",
   "execution_count": 20,
   "metadata": {
    "collapsed": false
   },
   "outputs": [
    {
     "name": "stderr",
     "output_type": "stream",
     "text": [
      "/home/caitlin/anaconda2/lib/python2.7/site-packages/ipykernel/__main__.py:3: FutureWarning: sort(columns=....) is deprecated, use sort_values(by=.....)\n",
      "  app.launch_new_instance()\n"
     ]
    }
   ],
   "source": [
    "def scale(df):\n",
    "    return(df-df.min()) / (df.max()-df.min())\n",
    "scaled = scale(results.sort('pred'))['pred']"
   ]
  },
  {
   "cell_type": "markdown",
   "metadata": {},
   "source": [
    "## Binning ##\n",
    "There are many different ways to bin the data:\n",
    "\n",
    "1. Bin all data then split into groups\n",
    "2. Split the data first and then bin the data\n",
    "\n",
    "For (1) the data in each bin will be informative about the fairness of \n",
    "all data at that position in the ranking. \n",
    "\n",
    "However, depending on the distribution of the groups, some bins may only contain data from one group.\n",
    "\n",
    "In this case how do we compare the error?\n",
    "\n",
    "For (2) the data in each bin will be informative about the fairness of the position assigned to the  "
   ]
  },
  {
   "cell_type": "code",
   "execution_count": 23,
   "metadata": {
    "collapsed": false
   },
   "outputs": [
    {
     "data": {
      "image/png": "[encoded data removed]",
      "text/plain": [
       "<matplotlib.figure.Figure at 0x7f7e9bef5e50>"
      ]
     },
     "metadata": {},
     "output_type": "display_data"
    }
   ],
   "source": [
    "plt.rcParams['figure.figsize'] = (20, 4)\n",
    "fig, ax = plt.subplots()\n",
    "ax.bar(range(len(scaled)), scaled, 0.5,color=cmap((groups['Group'])))\n",
    "ax.set_xlim([0,len(scaled)])\n",
    "ax.plot([20, 20], [0, scaled.max()], 'k-', lw=4)\n",
    "ax.plot([40, 40], [0, scaled.max()], 'k-', lw=4)\n",
    "ax.plot([60, 60], [0, scaled.max()], 'k-', lw=4)\n",
    "ax.plot([80, 80], [0, scaled.max()], 'k-', lw=4)\n",
    "ax.plot([100, 100], [0, scaled.max()], 'k-', lw=4)\n",
    "ax.plot([120, 120], [0, scaled.max()], 'k-', lw=4)\n",
    "ax.set_title(\"Bin Entire Ranking, Equi-width\", fontsize=16)\n",
    "plt.show()"
   ]
  },
  {
   "cell_type": "code",
   "execution_count": 24,
   "metadata": {
    "collapsed": false
   },
   "outputs": [
    {
     "data": {
      "image/png": "[encoded data removed]",
      "text/plain": [
       "<matplotlib.figure.Figure at 0x7f7e9bcc6b90>"
      ]
     },
     "metadata": {},
     "output_type": "display_data"
    }
   ],
   "source": [
    "\n",
    "\n",
    "plt.rcParams['figure.figsize'] = (20, 4)\n",
    "fig, ax = plt.subplots()\n",
    "ax.bar(range(len(scaled)), scaled, 0.5,color=cmap((groups['Group'])))\n",
    "ax.set_xlim([0,len(scaled)])\n",
    "# ax.plot([w, w], [0, scaled.max()], 'k-', lw=4)\n",
    "ax.plot([13, 13], [0, 1], 'k-', lw=4)#13\n",
    "ax.plot([38, 38], [0, 1], 'k-', lw=4)#38\n",
    "ax.plot([68, 68], [0, 1], 'k-', lw=4)#68\n",
    "ax.plot([107, 107], [0, 1], 'k-', lw=4)#107\n",
    "ax.set_title(\"Bin Entire Ranking, Equi-depth\", fontsize=16)\n",
    "plt.show()"
   ]
  },
  {
   "cell_type": "code",
   "execution_count": 57,
   "metadata": {
    "collapsed": false,
    "scrolled": true
   },
   "outputs": [
    {
     "data": {
      "text/plain": [
       "<matplotlib.axes._subplots.AxesSubplot at 0x7f0429afde10>"
      ]
     },
     "execution_count": 57,
     "metadata": {},
     "output_type": "execute_result"
    },
    {
     "data": {
      "image/png": "[encoded data removed]",
      "text/plain": [
       "<matplotlib.figure.Figure at 0x7f042afc9e50>"
      ]
     },
     "metadata": {},
     "output_type": "display_data"
    }
   ],
   "source": [
    "cmap = plt.cm.rainbow\n",
    "norm = matplotlib.colors.Normalize(vmin=1.5, vmax=4.5)\n",
    "plt.rcParams['figure.figsize'] = (20, 4)\n",
    "scale(results['y']).plot.bar(color=cmap((groups['Group'])))"
   ]
  },
  {
   "cell_type": "code",
   "execution_count": 27,
   "metadata": {
    "collapsed": false
   },
   "outputs": [],
   "source": [
    "# TODO: how to handle empty bin?\n",
    "# can drop, or set error =0, but that is misleading\n",
    "# print bins0.shape\n",
    "# print bins1.shape\n",
    "# bins1 = bins1[:-1]"
   ]
  },
  {
   "cell_type": "code",
   "execution_count": 126,
   "metadata": {
    "collapsed": false
   },
   "outputs": [],
   "source": [
    "nbins=20\n",
    "# bin over all\n",
    "w = get_bin_width(pred,nbins)\n",
    "# bin over each group\n",
    "w0 = get_bin_width(pred0,nbins)\n",
    "w1 = get_bin_width(pred1,nbins)\n",
    "# print w\n",
    "\n",
    "# # bin all data, then divide by width\n",
    "# print(\"Group 1: \")\n",
    "# print get_binned_eq_width(points0, pred.min(), w, nbins)\n",
    "# print(\"Group 2\")\n",
    "# print get_binned_eq_width(points1, pred.min(), w, nbins)\n",
    "\n",
    "# # bin all data, then divide by width\n",
    "# print(\"Group 1: \")\n",
    "# print get_binned_eq_width(points0, pred0.min(), w0, nbins)\n",
    "# (\"Group 2\")\n",
    "# print get_binned_eq_width(points1, pred1.min(), w1, nbins)"
   ]
  },
  {
   "cell_type": "code",
   "execution_count": 201,
   "metadata": {
    "collapsed": false
   },
   "outputs": [
    {
     "name": "stdout",
     "output_type": "stream",
     "text": [
      "2.5\n",
      "1.75\n",
      "\n",
      "5.0\n",
      "5.25\n",
      "\n",
      "1.5\n",
      "1.16666666667\n",
      "\n",
      "3.0\n",
      "3.5\n",
      "\n",
      "1\n",
      "0.833333333333\n",
      "\n",
      "2\n",
      "2.5\n",
      "\n",
      "-1\n",
      "-1\n",
      "\n",
      "-1\n",
      "-1\n"
     ]
    }
   ],
   "source": [
    "#how do differnt error metrics behave?\n",
    "x=[(2,3),(4,2)]\n",
    "print get_mse(x)\n",
    "x=[(1,0.5),(2,3),(4,2)]\n",
    "print get_mse(x)\n",
    "print\n",
    "x=[(2,3),(4,2)]\n",
    "print get_se(x)\n",
    "x=[(1,0.5),(2,3),(4,2)]\n",
    "print get_se(x)\n",
    "print\n",
    "x=[(2,3),(4,2)]\n",
    "print get_mae(x)\n",
    "x=[(1,0.5),(2,3),(4,2)]\n",
    "print get_mae(x)\n",
    "print\n",
    "x=[(2,3),(4,2)]\n",
    "print get_ae(x)\n",
    "x=[(1,0.5),(2,3),(4,2)]\n",
    "print get_ae(x)\n",
    "print\n",
    "x=[(2,3),(4,2)]\n",
    "print get_moe(x)\n",
    "x=[(1,0.5),(2,3),(4,2)]\n",
    "print get_moe(x)\n",
    "print\n",
    "x=[(2,3),(4,2)]\n",
    "print get_oe(x)\n",
    "x=[(1,0.5),(2,3),(4,2)]\n",
    "print get_oe(x)\n",
    "print\n",
    "x=[(2,3),(4,2)]\n",
    "print get_mue(x)\n",
    "x=[(1,0.5),(2,3),(4,2)]\n",
    "print get_mue(x)\n",
    "print\n",
    "x=[(2,3),(4,2)]\n",
    "print get_ue(x)\n",
    "x=[(1,0.5),(2,3),(4,2)]\n",
    "print get_ue(x)"
   ]
  },
  {
   "cell_type": "code",
   "execution_count": 241,
   "metadata": {
    "collapsed": true
   },
   "outputs": [],
   "source": [
    "#Error metrics\n",
    "\n",
    "#summary of deviation measures - relates to precision/accuracy?\n",
    "# https://en.wikipedia.org/wiki/Deviation_(statistics)#Unsigned_or_absolute_deviation\n",
    "#https://en.wikipedia.org/wiki/Mean_signed_deviation\n",
    "#signed absolute deviation ?\n",
    "# https://en.wikipedia.org/wiki/Average_absolute_deviation\n",
    "#average absolute deviation\n",
    "\n",
    "def get_ae(vals):\n",
    "    return np.sum([math.fabs(x[0]-x[1]) for x in vals])\n",
    "\n",
    "def get_mae(vals):\n",
    "    m = np.sum([math.fabs(x[0]-x[1]) for x in vals])\n",
    "    return m/len(vals)\n",
    "\n",
    "\n",
    "def get_se(vals):\n",
    "    return np.sum([math.pow(x[0]-x[1], 2) for x in vals])\n",
    "    \n",
    "def get_mse(vals):\n",
    "    m = np.sum([math.pow(x[0]-x[1], 2) for x in vals])\n",
    "    return m/len(vals)\n",
    "\n",
    "#overestimate\n",
    "def get_oe(vals):\n",
    "    return np.sum([max(0,x[0]-x[1]) for x in vals])\n",
    "\n",
    "def get_moe(vals):\n",
    "    m = np.sum([max(0,x[0]-x[1]) for x in vals])\n",
    "    return m/len(vals)\n",
    "\n",
    "#underestimate\n",
    "def get_ue(vals):\n",
    "    return np.sum([min(0,x[0]-x[1]) for x in vals])\n",
    "\n",
    "def get_mue(vals):\n",
    "    m = np.sum([min(0,x[0]-x[1]) for x in vals])\n",
    "    return m/len(vals)\n",
    "\n",
    "error_functs = [get_ae, get_mae, get_se, get_mse, get_oe, get_moe, get_ue, get_mue]\n",
    "##### BIN ERRORS: ###########\n",
    "\n",
    "def get_error_binned_eq_depth_by_group(points, nbins, error=get_mse):\n",
    "    mse = []\n",
    "    kf = KFold(len(points), n_folds=nbins)\n",
    "    print kf\n",
    "    for rest, bin in kf:\n",
    "        vals = [points[i] for i in bin]\n",
    "        mse.append(error(vals))\n",
    "    return mse\n",
    "\n",
    "def get_error_binned_eq_depth_all_data(data, groups, nbins, error=get_mse):\n",
    "    points = zip(data,groups)\n",
    "    points.sort(key=lambda x: x[0])\n",
    "    mse0 = []\n",
    "    mse1 = []\n",
    "    kf = KFold(len(data), n_folds=nbins)\n",
    "    print kf\n",
    "    for rest, bin in kf:\n",
    "        vals0 = [points[i] for i in bin if points[i][1] == 0]\n",
    "        vals1 = [points[i] for i in bin if points[i][1] == 1]\n",
    "        mse0.append(error(vals0))\n",
    "        mse1.append(error(vals1))\n",
    "    return mse0,mse1\n",
    "\n",
    "#This function can bin over all points or each group, depending on min_val and width\n",
    "def get_error_binned_eq_width(points, min_val, width, nbins, error=get_mse):\n",
    "    bins=[]\n",
    "    b=[]\n",
    "    w = min_val+width\n",
    "    for i in range(len(points)):\n",
    "        if(points[i][0] < w):\n",
    "            b.append(points[i])\n",
    "        else:\n",
    "            if(len(b)!=0):\n",
    "                error(b)\n",
    "                bins.append(m)\n",
    "                b=[]\n",
    "                w+=width\n",
    "            else:\n",
    "                bins.append(0)\n",
    "                w+=width\n",
    "    while(len(bins) <= nbins):\n",
    "        bins.append(0)\n",
    "    return np.asarray(bins) \n",
    "\n",
    "def plot_binned_error(df):\n",
    "    indices =np.arange(df.shape[0])\n",
    "    #Calculate optimal width\n",
    "    width = 0.3\n",
    "\n",
    "    fig = plt.figure()\n",
    "    ax = fig.add_subplot(111)\n",
    "    ax.bar(indices-width,df['mse0'],width,color='b',label='-Ymin')\n",
    "    ax.bar(indices,df['mse1'],width,color='r',label='Ymax')\n",
    "    ax.set_xlim(left=-1,right=len(mse0))\n",
    "    ax.set_xlabel('Bin')\n",
    "    ax.set_ylabel('MSE')\n",
    "    plt.show()"
   ]
  },
  {
   "cell_type": "code",
   "execution_count": 247,
   "metadata": {
    "collapsed": false,
    "scrolled": false
   },
   "outputs": [
    {
     "name": "stdout",
     "output_type": "stream",
     "text": [
      "\n",
      "Equi-width bins defined over all data\n"
     ]
    },
    {
     "data": {
      "image/png": "[encoded data removed]",
      "text/plain": [
       "<matplotlib.figure.Figure at 0x7f7e9bec0550>"
      ]
     },
     "metadata": {},
     "output_type": "display_data"
    }
   ],
   "source": [
    "plt.rcParams['figure.figsize'] = (8, 4)\n",
    "mse_df = pd.DataFrame()\n",
    "\n",
    "#NEED TO MAKE WORK BY PASSING ERROR\n",
    "mse_df['mse0'] = get_error_binned_eq_width(points0,pred.min(),w,nbins, error=get_mse)\n",
    "mse_df['mse1'] = get_error_binned_eq_width(points1,pred.min(),w,nbins, error=get_mse)\n",
    "\n",
    "mse_df['mse0'] = get_mse_binned_eq_width(points0,pred.min(),w,nbins)\n",
    "mse_df['mse1'] = get_mse_binned_eq_width(points1,pred.min(),w,nbins)\n",
    "# mse0 = get_mse_binned_eq_width(points0,pred.min(),w, 19)\n",
    "# mse1 = get_mse_binned_eq_width(points1,pred.min(),w, 19)\n",
    "\n",
    "# using equal width bins  - which one gives more comparable plot?\n",
    "print\n",
    "print \"Equi-width bins defined over all data\"\n",
    "plot_binned_error(mse_df)\n"
   ]
  },
  {
   "cell_type": "code",
   "execution_count": 250,
   "metadata": {
    "collapsed": false
   },
   "outputs": [
    {
     "name": "stdout",
     "output_type": "stream",
     "text": [
      "\n",
      "Equi-width bins defined over each group\n"
     ]
    },
    {
     "data": {
      "image/png": "[encoded data removed]",
      "text/plain": [
       "<matplotlib.figure.Figure at 0x7f7e9c227a10>"
      ]
     },
     "metadata": {},
     "output_type": "display_data"
    }
   ],
   "source": [
    "mse_df = pd.DataFrame()\n",
    "\n",
    "#NEED TO MAKE WORK BY PASSING ERROR\n",
    "# mse_df['mse0'] = get_error_binned_eq_width(points0,pred0.min(),w0, nbins, error=get_mse)\n",
    "# mse_df['mse1'] = get_error_binned_eq_width(points1,pred1.min(),w1, nbins, error=get_mse)\n",
    "\n",
    "mse_df['mse0'] = get_mse_binned_eq_width(points0,pred0.min(),w0,nbins)\n",
    "mse_df['mse1'] = get_mse_binned_eq_width(points1,pred1.min(),w1,nbins)\n",
    "# using equal width bins  - which one gives more comparable plot?\n",
    "print\n",
    "print \"Equi-width bins defined over each group\"\n",
    "plot_binned_error(mse_df)"
   ]
  },
  {
   "cell_type": "code",
   "execution_count": 236,
   "metadata": {
    "collapsed": false
   },
   "outputs": [
    {
     "name": "stdout",
     "output_type": "stream",
     "text": [
      "sklearn.cross_validation.KFold(n=142, n_folds=20, shuffle=False, random_state=None)\n",
      "\n",
      "Equi-depth bins defined over all data\n"
     ]
    },
    {
     "data": {
      "image/png": "[encoded data removed]",
      "text/plain": [
       "<matplotlib.figure.Figure at 0x7f7e9c62b890>"
      ]
     },
     "metadata": {},
     "output_type": "display_data"
    }
   ],
   "source": [
    "# using equal depth bins\n",
    "mse_df_depth = pd.DataFrame()\n",
    "mse0,mse1 = get_error_binned_eq_depth_all_data(results['pred'],results['g'], nbins, error=get_mse)\n",
    "mse_df_depth['mse0']=mse0\n",
    "mse_df_depth['mse1']=mse1\n",
    "# using equal width bins  - which one gives more comparable plot?\n",
    "print\n",
    "print \"Equi-depth bins defined over all data\"\n",
    "plot_binned_error(mse_df_depth)"
   ]
  },
  {
   "cell_type": "code",
   "execution_count": 237,
   "metadata": {
    "collapsed": false
   },
   "outputs": [
    {
     "name": "stdout",
     "output_type": "stream",
     "text": [
      "sklearn.cross_validation.KFold(n=75, n_folds=20, shuffle=False, random_state=None)\n",
      "sklearn.cross_validation.KFold(n=67, n_folds=20, shuffle=False, random_state=None)\n",
      "\n",
      "Equi-depth bins defined over each group\n"
     ]
    },
    {
     "data": {
      "image/png": "[encoded data removed]",
      "text/plain": [
       "<matplotlib.figure.Figure at 0x7f7e9c62bf10>"
      ]
     },
     "metadata": {},
     "output_type": "display_data"
    }
   ],
   "source": [
    "# using equal depth bins\n",
    "mse_df_depth = pd.DataFrame()\n",
    "mse_df_depth['mse0'] = get_error_binned_eq_depth_by_group(points0, nbins, error=get_mse)\n",
    "mse_df_depth['mse1'] = get_error_binned_eq_depth_by_group(points1, nbins, error=get_mse)\n",
    "# using equal width bins  - which one gives more comparable plot?\n",
    "print\n",
    "print \"Equi-depth bins defined over each group\"\n",
    "plot_binned_error(mse_df_depth)"
   ]
  },
  {
   "cell_type": "code",
   "execution_count": 238,
   "metadata": {
    "collapsed": false
   },
   "outputs": [
    {
     "name": "stdout",
     "output_type": "stream",
     "text": [
      "sklearn.cross_validation.KFold(n=142, n_folds=20, shuffle=False, random_state=None)\n",
      "\n",
      "Equi-depth bins defined over each group\n"
     ]
    },
    {
     "data": {
      "image/png": "[encoded data removed]",
      "text/plain": [
       "<matplotlib.figure.Figure at 0x7f7e9ec99650>"
      ]
     },
     "metadata": {},
     "output_type": "display_data"
    }
   ],
   "source": [
    "# Whats going on with this?! This is the error overall points, equi-depth bins\n",
    "mse_df_depth = pd.DataFrame()\n",
    "mse0,mse1 = get_mse_binned_eq_depth_all_data(results['pred'],np.zeros(len(results)), nbins)\n",
    "mse_df_depth['mse0']=mse0\n",
    "mse_df_depth['mse1']=mse1\n",
    "# using equal width bins  - which one gives more comparable plot?\n",
    "print\n",
    "print \"Equi-depth bins defined over each group\"\n",
    "plot_cal_error(mse_df_depth)\n"
   ]
  },
  {
   "cell_type": "code",
   "execution_count": 242,
   "metadata": {
    "collapsed": false
   },
   "outputs": [
    {
     "name": "stdout",
     "output_type": "stream",
     "text": [
      "\n",
      "Equi-width bins defined over all data <function get_ae at 0x7f7e9f1582a8>\n"
     ]
    },
    {
     "data": {
      "image/png": "[encoded data removed]",
      "text/plain": [
       "<matplotlib.figure.Figure at 0x7f7e9bcebf90>"
      ]
     },
     "metadata": {},
     "output_type": "display_data"
    },
    {
     "name": "stdout",
     "output_type": "stream",
     "text": [
      "\n",
      "Equi-width bins defined over each group: <function get_ae at 0x7f7e9f1582a8>\n"
     ]
    },
    {
     "data": {
      "image/png": "[encoded data removed]",
      "text/plain": [
       "<matplotlib.figure.Figure at 0x7f7e9c8f4750>"
      ]
     },
     "metadata": {},
     "output_type": "display_data"
    },
    {
     "name": "stdout",
     "output_type": "stream",
     "text": [
      "sklearn.cross_validation.KFold(n=142, n_folds=20, shuffle=False, random_state=None)\n",
      "\n",
      "Equi-depth bins defined over all data: <function get_ae at 0x7f7e9f1582a8>\n"
     ]
    },
    {
     "ename": "KeyError",
     "evalue": "'mse0'",
     "output_type": "error",
     "traceback": [
      "\u001b[1;31m---------------------------------------------------------------------------\u001b[0m",
      "\u001b[1;31mKeyError\u001b[0m                                  Traceback (most recent call last)",
      "\u001b[1;32m<ipython-input-242-6549a3657795>\u001b[0m in \u001b[0;36m<module>\u001b[1;34m()\u001b[0m\n\u001b[0;32m     24\u001b[0m     \u001b[1;32mprint\u001b[0m\u001b[1;33m\u001b[0m\u001b[0m\n\u001b[0;32m     25\u001b[0m     \u001b[1;32mprint\u001b[0m \u001b[1;34m\"Equi-depth bins defined over all data: \"\u001b[0m\u001b[1;33m+\u001b[0m\u001b[0mstr\u001b[0m\u001b[1;33m(\u001b[0m\u001b[0merr\u001b[0m\u001b[1;33m)\u001b[0m\u001b[1;33m\u001b[0m\u001b[0m\n\u001b[1;32m---> 26\u001b[1;33m     \u001b[0mplot_binned_error\u001b[0m\u001b[1;33m(\u001b[0m\u001b[0mmse\u001b[0m\u001b[1;33m)\u001b[0m\u001b[1;33m\u001b[0m\u001b[0m\n\u001b[0m\u001b[0;32m     27\u001b[0m \u001b[1;33m\u001b[0m\u001b[0m\n\u001b[0;32m     28\u001b[0m     \u001b[0mmse\u001b[0m \u001b[1;33m=\u001b[0m \u001b[0mpd\u001b[0m\u001b[1;33m.\u001b[0m\u001b[0mDataFrame\u001b[0m\u001b[1;33m(\u001b[0m\u001b[1;33m)\u001b[0m\u001b[1;33m\u001b[0m\u001b[0m\n",
      "\u001b[1;32m<ipython-input-241-b224374d49d8>\u001b[0m in \u001b[0;36mplot_binned_error\u001b[1;34m(df)\u001b[0m\n\u001b[0;32m     93\u001b[0m     \u001b[0mfig\u001b[0m \u001b[1;33m=\u001b[0m \u001b[0mplt\u001b[0m\u001b[1;33m.\u001b[0m\u001b[0mfigure\u001b[0m\u001b[1;33m(\u001b[0m\u001b[1;33m)\u001b[0m\u001b[1;33m\u001b[0m\u001b[0m\n\u001b[0;32m     94\u001b[0m     \u001b[0max\u001b[0m \u001b[1;33m=\u001b[0m \u001b[0mfig\u001b[0m\u001b[1;33m.\u001b[0m\u001b[0madd_subplot\u001b[0m\u001b[1;33m(\u001b[0m\u001b[1;36m111\u001b[0m\u001b[1;33m)\u001b[0m\u001b[1;33m\u001b[0m\u001b[0m\n\u001b[1;32m---> 95\u001b[1;33m     \u001b[0max\u001b[0m\u001b[1;33m.\u001b[0m\u001b[0mbar\u001b[0m\u001b[1;33m(\u001b[0m\u001b[0mindices\u001b[0m\u001b[1;33m-\u001b[0m\u001b[0mwidth\u001b[0m\u001b[1;33m,\u001b[0m\u001b[0mdf\u001b[0m\u001b[1;33m[\u001b[0m\u001b[1;34m'mse0'\u001b[0m\u001b[1;33m]\u001b[0m\u001b[1;33m,\u001b[0m\u001b[0mwidth\u001b[0m\u001b[1;33m,\u001b[0m\u001b[0mcolor\u001b[0m\u001b[1;33m=\u001b[0m\u001b[1;34m'b'\u001b[0m\u001b[1;33m,\u001b[0m\u001b[0mlabel\u001b[0m\u001b[1;33m=\u001b[0m\u001b[1;34m'-Ymin'\u001b[0m\u001b[1;33m)\u001b[0m\u001b[1;33m\u001b[0m\u001b[0m\n\u001b[0m\u001b[0;32m     96\u001b[0m     \u001b[0max\u001b[0m\u001b[1;33m.\u001b[0m\u001b[0mbar\u001b[0m\u001b[1;33m(\u001b[0m\u001b[0mindices\u001b[0m\u001b[1;33m,\u001b[0m\u001b[0mdf\u001b[0m\u001b[1;33m[\u001b[0m\u001b[1;34m'mse1'\u001b[0m\u001b[1;33m]\u001b[0m\u001b[1;33m,\u001b[0m\u001b[0mwidth\u001b[0m\u001b[1;33m,\u001b[0m\u001b[0mcolor\u001b[0m\u001b[1;33m=\u001b[0m\u001b[1;34m'r'\u001b[0m\u001b[1;33m,\u001b[0m\u001b[0mlabel\u001b[0m\u001b[1;33m=\u001b[0m\u001b[1;34m'Ymax'\u001b[0m\u001b[1;33m)\u001b[0m\u001b[1;33m\u001b[0m\u001b[0m\n\u001b[0;32m     97\u001b[0m     \u001b[0max\u001b[0m\u001b[1;33m.\u001b[0m\u001b[0mset_xlim\u001b[0m\u001b[1;33m(\u001b[0m\u001b[0mleft\u001b[0m\u001b[1;33m=\u001b[0m\u001b[1;33m-\u001b[0m\u001b[1;36m1\u001b[0m\u001b[1;33m,\u001b[0m\u001b[0mright\u001b[0m\u001b[1;33m=\u001b[0m\u001b[0mlen\u001b[0m\u001b[1;33m(\u001b[0m\u001b[0mmse0\u001b[0m\u001b[1;33m)\u001b[0m\u001b[1;33m)\u001b[0m\u001b[1;33m\u001b[0m\u001b[0m\n",
      "\u001b[1;32m/home/caitlin/anaconda2/lib/python2.7/site-packages/pandas/core/frame.pyc\u001b[0m in \u001b[0;36m__getitem__\u001b[1;34m(self, key)\u001b[0m\n\u001b[0;32m   1995\u001b[0m             \u001b[1;32mreturn\u001b[0m \u001b[0mself\u001b[0m\u001b[1;33m.\u001b[0m\u001b[0m_getitem_multilevel\u001b[0m\u001b[1;33m(\u001b[0m\u001b[0mkey\u001b[0m\u001b[1;33m)\u001b[0m\u001b[1;33m\u001b[0m\u001b[0m\n\u001b[0;32m   1996\u001b[0m         \u001b[1;32melse\u001b[0m\u001b[1;33m:\u001b[0m\u001b[1;33m\u001b[0m\u001b[0m\n\u001b[1;32m-> 1997\u001b[1;33m             \u001b[1;32mreturn\u001b[0m \u001b[0mself\u001b[0m\u001b[1;33m.\u001b[0m\u001b[0m_getitem_column\u001b[0m\u001b[1;33m(\u001b[0m\u001b[0mkey\u001b[0m\u001b[1;33m)\u001b[0m\u001b[1;33m\u001b[0m\u001b[0m\n\u001b[0m\u001b[0;32m   1998\u001b[0m \u001b[1;33m\u001b[0m\u001b[0m\n\u001b[0;32m   1999\u001b[0m     \u001b[1;32mdef\u001b[0m \u001b[0m_getitem_column\u001b[0m\u001b[1;33m(\u001b[0m\u001b[0mself\u001b[0m\u001b[1;33m,\u001b[0m \u001b[0mkey\u001b[0m\u001b[1;33m)\u001b[0m\u001b[1;33m:\u001b[0m\u001b[1;33m\u001b[0m\u001b[0m\n",
      "\u001b[1;32m/home/caitlin/anaconda2/lib/python2.7/site-packages/pandas/core/frame.pyc\u001b[0m in \u001b[0;36m_getitem_column\u001b[1;34m(self, key)\u001b[0m\n\u001b[0;32m   2002\u001b[0m         \u001b[1;31m# get column\u001b[0m\u001b[1;33m\u001b[0m\u001b[1;33m\u001b[0m\u001b[0m\n\u001b[0;32m   2003\u001b[0m         \u001b[1;32mif\u001b[0m \u001b[0mself\u001b[0m\u001b[1;33m.\u001b[0m\u001b[0mcolumns\u001b[0m\u001b[1;33m.\u001b[0m\u001b[0mis_unique\u001b[0m\u001b[1;33m:\u001b[0m\u001b[1;33m\u001b[0m\u001b[0m\n\u001b[1;32m-> 2004\u001b[1;33m             \u001b[1;32mreturn\u001b[0m \u001b[0mself\u001b[0m\u001b[1;33m.\u001b[0m\u001b[0m_get_item_cache\u001b[0m\u001b[1;33m(\u001b[0m\u001b[0mkey\u001b[0m\u001b[1;33m)\u001b[0m\u001b[1;33m\u001b[0m\u001b[0m\n\u001b[0m\u001b[0;32m   2005\u001b[0m \u001b[1;33m\u001b[0m\u001b[0m\n\u001b[0;32m   2006\u001b[0m         \u001b[1;31m# duplicate columns & possible reduce dimensionality\u001b[0m\u001b[1;33m\u001b[0m\u001b[1;33m\u001b[0m\u001b[0m\n",
      "\u001b[1;32m/home/caitlin/anaconda2/lib/python2.7/site-packages/pandas/core/generic.pyc\u001b[0m in \u001b[0;36m_get_item_cache\u001b[1;34m(self, item)\u001b[0m\n\u001b[0;32m   1348\u001b[0m         \u001b[0mres\u001b[0m \u001b[1;33m=\u001b[0m \u001b[0mcache\u001b[0m\u001b[1;33m.\u001b[0m\u001b[0mget\u001b[0m\u001b[1;33m(\u001b[0m\u001b[0mitem\u001b[0m\u001b[1;33m)\u001b[0m\u001b[1;33m\u001b[0m\u001b[0m\n\u001b[0;32m   1349\u001b[0m         \u001b[1;32mif\u001b[0m \u001b[0mres\u001b[0m \u001b[1;32mis\u001b[0m \u001b[0mNone\u001b[0m\u001b[1;33m:\u001b[0m\u001b[1;33m\u001b[0m\u001b[0m\n\u001b[1;32m-> 1350\u001b[1;33m             \u001b[0mvalues\u001b[0m \u001b[1;33m=\u001b[0m \u001b[0mself\u001b[0m\u001b[1;33m.\u001b[0m\u001b[0m_data\u001b[0m\u001b[1;33m.\u001b[0m\u001b[0mget\u001b[0m\u001b[1;33m(\u001b[0m\u001b[0mitem\u001b[0m\u001b[1;33m)\u001b[0m\u001b[1;33m\u001b[0m\u001b[0m\n\u001b[0m\u001b[0;32m   1351\u001b[0m             \u001b[0mres\u001b[0m \u001b[1;33m=\u001b[0m \u001b[0mself\u001b[0m\u001b[1;33m.\u001b[0m\u001b[0m_box_item_values\u001b[0m\u001b[1;33m(\u001b[0m\u001b[0mitem\u001b[0m\u001b[1;33m,\u001b[0m \u001b[0mvalues\u001b[0m\u001b[1;33m)\u001b[0m\u001b[1;33m\u001b[0m\u001b[0m\n\u001b[0;32m   1352\u001b[0m             \u001b[0mcache\u001b[0m\u001b[1;33m[\u001b[0m\u001b[0mitem\u001b[0m\u001b[1;33m]\u001b[0m \u001b[1;33m=\u001b[0m \u001b[0mres\u001b[0m\u001b[1;33m\u001b[0m\u001b[0m\n",
      "\u001b[1;32m/home/caitlin/anaconda2/lib/python2.7/site-packages/pandas/core/internals.pyc\u001b[0m in \u001b[0;36mget\u001b[1;34m(self, item, fastpath)\u001b[0m\n\u001b[0;32m   3288\u001b[0m \u001b[1;33m\u001b[0m\u001b[0m\n\u001b[0;32m   3289\u001b[0m             \u001b[1;32mif\u001b[0m \u001b[1;32mnot\u001b[0m \u001b[0misnull\u001b[0m\u001b[1;33m(\u001b[0m\u001b[0mitem\u001b[0m\u001b[1;33m)\u001b[0m\u001b[1;33m:\u001b[0m\u001b[1;33m\u001b[0m\u001b[0m\n\u001b[1;32m-> 3290\u001b[1;33m                 \u001b[0mloc\u001b[0m \u001b[1;33m=\u001b[0m \u001b[0mself\u001b[0m\u001b[1;33m.\u001b[0m\u001b[0mitems\u001b[0m\u001b[1;33m.\u001b[0m\u001b[0mget_loc\u001b[0m\u001b[1;33m(\u001b[0m\u001b[0mitem\u001b[0m\u001b[1;33m)\u001b[0m\u001b[1;33m\u001b[0m\u001b[0m\n\u001b[0m\u001b[0;32m   3291\u001b[0m             \u001b[1;32melse\u001b[0m\u001b[1;33m:\u001b[0m\u001b[1;33m\u001b[0m\u001b[0m\n\u001b[0;32m   3292\u001b[0m                 \u001b[0mindexer\u001b[0m \u001b[1;33m=\u001b[0m \u001b[0mnp\u001b[0m\u001b[1;33m.\u001b[0m\u001b[0marange\u001b[0m\u001b[1;33m(\u001b[0m\u001b[0mlen\u001b[0m\u001b[1;33m(\u001b[0m\u001b[0mself\u001b[0m\u001b[1;33m.\u001b[0m\u001b[0mitems\u001b[0m\u001b[1;33m)\u001b[0m\u001b[1;33m)\u001b[0m\u001b[1;33m[\u001b[0m\u001b[0misnull\u001b[0m\u001b[1;33m(\u001b[0m\u001b[0mself\u001b[0m\u001b[1;33m.\u001b[0m\u001b[0mitems\u001b[0m\u001b[1;33m)\u001b[0m\u001b[1;33m]\u001b[0m\u001b[1;33m\u001b[0m\u001b[0m\n",
      "\u001b[1;32m/home/caitlin/anaconda2/lib/python2.7/site-packages/pandas/indexes/base.pyc\u001b[0m in \u001b[0;36mget_loc\u001b[1;34m(self, key, method, tolerance)\u001b[0m\n\u001b[0;32m   1945\u001b[0m                 \u001b[1;32mreturn\u001b[0m \u001b[0mself\u001b[0m\u001b[1;33m.\u001b[0m\u001b[0m_engine\u001b[0m\u001b[1;33m.\u001b[0m\u001b[0mget_loc\u001b[0m\u001b[1;33m(\u001b[0m\u001b[0mkey\u001b[0m\u001b[1;33m)\u001b[0m\u001b[1;33m\u001b[0m\u001b[0m\n\u001b[0;32m   1946\u001b[0m             \u001b[1;32mexcept\u001b[0m \u001b[0mKeyError\u001b[0m\u001b[1;33m:\u001b[0m\u001b[1;33m\u001b[0m\u001b[0m\n\u001b[1;32m-> 1947\u001b[1;33m                 \u001b[1;32mreturn\u001b[0m \u001b[0mself\u001b[0m\u001b[1;33m.\u001b[0m\u001b[0m_engine\u001b[0m\u001b[1;33m.\u001b[0m\u001b[0mget_loc\u001b[0m\u001b[1;33m(\u001b[0m\u001b[0mself\u001b[0m\u001b[1;33m.\u001b[0m\u001b[0m_maybe_cast_indexer\u001b[0m\u001b[1;33m(\u001b[0m\u001b[0mkey\u001b[0m\u001b[1;33m)\u001b[0m\u001b[1;33m)\u001b[0m\u001b[1;33m\u001b[0m\u001b[0m\n\u001b[0m\u001b[0;32m   1948\u001b[0m \u001b[1;33m\u001b[0m\u001b[0m\n\u001b[0;32m   1949\u001b[0m         \u001b[0mindexer\u001b[0m \u001b[1;33m=\u001b[0m \u001b[0mself\u001b[0m\u001b[1;33m.\u001b[0m\u001b[0mget_indexer\u001b[0m\u001b[1;33m(\u001b[0m\u001b[1;33m[\u001b[0m\u001b[0mkey\u001b[0m\u001b[1;33m]\u001b[0m\u001b[1;33m,\u001b[0m \u001b[0mmethod\u001b[0m\u001b[1;33m=\u001b[0m\u001b[0mmethod\u001b[0m\u001b[1;33m,\u001b[0m \u001b[0mtolerance\u001b[0m\u001b[1;33m=\u001b[0m\u001b[0mtolerance\u001b[0m\u001b[1;33m)\u001b[0m\u001b[1;33m\u001b[0m\u001b[0m\n",
      "\u001b[1;32mpandas/index.pyx\u001b[0m in \u001b[0;36mpandas.index.IndexEngine.get_loc (pandas/index.c:4154)\u001b[1;34m()\u001b[0m\n",
      "\u001b[1;32mpandas/index.pyx\u001b[0m in \u001b[0;36mpandas.index.IndexEngine.get_loc (pandas/index.c:4018)\u001b[1;34m()\u001b[0m\n",
      "\u001b[1;32mpandas/hashtable.pyx\u001b[0m in \u001b[0;36mpandas.hashtable.PyObjectHashTable.get_item (pandas/hashtable.c:12368)\u001b[1;34m()\u001b[0m\n",
      "\u001b[1;32mpandas/hashtable.pyx\u001b[0m in \u001b[0;36mpandas.hashtable.PyObjectHashTable.get_item (pandas/hashtable.c:12322)\u001b[1;34m()\u001b[0m\n",
      "\u001b[1;31mKeyError\u001b[0m: 'mse0'"
     ]
    },
    {
     "data": {
      "image/png": "[encoded data removed]",
      "text/plain": [
       "<matplotlib.figure.Figure at 0x7f7e9f0b3d90>"
      ]
     },
     "metadata": {},
     "output_type": "display_data"
    }
   ],
   "source": [
    "plt.rcParams['figure.figsize'] = (8, 4)\n",
    "\n",
    "#Should print all plots of all errors\n",
    "for err in error_functs:\n",
    "    mse = pd.DataFrame()\n",
    "    mse['mse0'] = get_error_binned_eq_width(points0,pred.min(),w,nbins, error=err)\n",
    "    mse['mse1'] = get_error_binned_eq_width(points1,pred.min(),w,nbins, error=err)\n",
    "    print\n",
    "    print \"Equi-width bins defined over all data \"+str(err)\n",
    "    plot_cal_error(mse)\n",
    "\n",
    "    mse = pd.DataFrame()\n",
    "    mse['mse0'] = get_error_binned_eq_width(points0,pred0.min(),w0,nbins, error=err)\n",
    "    mse['mse1'] = get_error_binned_eq_width(points1,pred1.min(),w1,nbins, error=err)\n",
    "    # using equal width bins  - which one gives more comparable plot?\n",
    "    print\n",
    "    print \"Equi-width bins defined over each group: \"+str(err)\n",
    "    plot_binned_error(mse)\n",
    "\n",
    "    mse = pd.DataFrame()\n",
    "    mse0,mse1 = get_error_binned_eq_depth_all_data(results['pred'],results['g'], nbins, error=err)\n",
    "    mse_df_depth['mse0']=mse0\n",
    "    mse_df_depth['mse1']=mse1\n",
    "    print\n",
    "    print \"Equi-depth bins defined over all data: \"+str(err)\n",
    "    plot_binned_error(mse)\n",
    "\n",
    "    mse = pd.DataFrame()\n",
    "    mse['mse0'] = get_error_binned_eq_depth_by_group(points0, nbins, error=err)\n",
    "    mse['mse1'] = get_error_binned_eq_depth_by_group(points1, nbins, error=err)\n",
    "    print\n",
    "    print \"Equi-depth bins defined over each group: \"+str(err)\n",
    "    plot_binned_error(mse)"
   ]
  },
  {
   "cell_type": "markdown",
   "metadata": {},
   "source": [
    "## Moving on to other metrics... ##"
   ]
  },
  {
   "cell_type": "code",
   "execution_count": 407,
   "metadata": {
    "collapsed": false
   },
   "outputs": [],
   "source": [
    "overall = pd.DataFrame()\n",
    "overall['y']=y\n",
    "overall['pred']=pred\n",
    "overall['SE'] = pow((overall['y']-overall['pred']),2)\n",
    "\n",
    "g0 = pd.DataFrame()\n",
    "g0['y']=y0\n",
    "g0['pred']=pred0\n",
    "g0['SE'] = pow((g0['y']-g0['pred']),2)\n",
    "\n",
    "g1 = pd.DataFrame()\n",
    "g1['y']=y1\n",
    "g1['pred']=pred1\n",
    "g1['SE'] = pow((g1['y']-g1['pred']),2)\n",
    "\n",
    "overall.sort('pred',inplace=True)\n",
    "g1.sort('pred',inplace=True)\n",
    "g1.sort('pred',inplace=True)"
   ]
  },
  {
   "cell_type": "code",
   "execution_count": 408,
   "metadata": {
    "collapsed": true
   },
   "outputs": [],
   "source": [
    "# histogram of error is like density estimation - maybe we use a kernel method or something"
   ]
  },
  {
   "cell_type": "code",
   "execution_count": 409,
   "metadata": {
    "collapsed": false
   },
   "outputs": [],
   "source": [
    "pd.options.display.float_format = '{:,.2f}'.format"
   ]
  },
  {
   "cell_type": "code",
   "execution_count": 410,
   "metadata": {
    "collapsed": false
   },
   "outputs": [],
   "source": [
    "#should be squared error or absolute?\n",
    "def getOverUnder(df):\n",
    "    diff = df['y'] - df['pred']\n",
    "    df.loc[diff <0,'over'] = 0\n",
    "    df.loc[diff >0,'over'] = pow(diff,2)\n",
    "    df.loc[diff <0,'under'] = pow(diff,2)\n",
    "    df.loc[diff >0,'under'] = 0\n",
    "    df['all'] = pow(diff,2)"
   ]
  },
  {
   "cell_type": "code",
   "execution_count": 411,
   "metadata": {
    "collapsed": false
   },
   "outputs": [
    {
     "name": "stdout",
     "output_type": "stream",
     "text": [
      "('MSE overall: ', 0.11978610079284367)\n",
      "('Overestimated overall: ', 0.07005891155625993)\n",
      "('Underestimated overall: ', 0.04972718923658371)\n",
      "\n",
      "('MSE Group 2: ', 0.12758795163048017)\n",
      "('Overestimated g0: ', 0.07253878394305349)\n",
      "('Underestimated g0: ', 0.05504916768742666)\n",
      "\n",
      "('MSE Group 1: ', 0.11105268567608631)\n",
      "('Overestimated g1: ', 0.06728293500387905)\n",
      "('Underestimated g1: ', 0.04376975067220722)\n"
     ]
    }
   ],
   "source": [
    "getOverUnder(overall)\n",
    "print(\"MSE overall: \", overall['all'].mean())\n",
    "print(\"Overestimated overall: \", overall['over'].mean())\n",
    "print(\"Underestimated overall: \", overall['under'].mean())\n",
    "print\n",
    "getOverUnder(g0)\n",
    "print(\"MSE Group 2: \", g0['all'].mean())\n",
    "print(\"Overestimated g0: \", g0['over'].mean())\n",
    "print(\"Underestimated g0: \", g0['under'].mean())\n",
    "print\n",
    "getOverUnder(g1)\n",
    "print(\"MSE Group 1: \", g1['all'].mean())\n",
    "print(\"Overestimated g1: \", g1['over'].mean())\n",
    "print(\"Underestimated g1: \", g1['under'].mean())"
   ]
  },
  {
   "cell_type": "code",
   "execution_count": 412,
   "metadata": {
    "collapsed": false
   },
   "outputs": [
    {
     "name": "stdout",
     "output_type": "stream",
     "text": [
      "1.66541829325\n",
      "-1.62347767094\n"
     ]
    }
   ],
   "source": [
    "print scnorm['Rank'].max()\n",
    "print scnorm['Rank'].min()"
   ]
  },
  {
   "cell_type": "code",
   "execution_count": 413,
   "metadata": {
    "collapsed": false
   },
   "outputs": [
    {
     "name": "stdout",
     "output_type": "stream",
     "text": [
      "223\n",
      "1\n"
     ]
    }
   ],
   "source": [
    "print data['Rank'].max()\n",
    "print data['Rank'].min()"
   ]
  },
  {
   "cell_type": "code",
   "execution_count": 414,
   "metadata": {
    "collapsed": false
   },
   "outputs": [],
   "source": [
    "m = data['Rank'].mean()\n",
    "st = data['Rank'].std()"
   ]
  },
  {
   "cell_type": "code",
   "execution_count": null,
   "metadata": {
    "collapsed": true
   },
   "outputs": [],
   "source": [
    "#not using anymore - but might need actual data points in bin, not just error?\n",
    "# def get_bin_width(data, n):\n",
    "#     return (data.max()-data.min())/(n+1)\n",
    "    \n",
    "# def get_binned_eq_width(points, min_val, width, n):\n",
    "#     bins=[]\n",
    "#     b=[]\n",
    "#     w = min_val+width\n",
    "#     for i in range(len(points)):\n",
    "#         if(points[i][0] < w):\n",
    "#             b.append(points[i])\n",
    "#         else:\n",
    "#             m_pred = np.mean([x[0] for x in b])\n",
    "#             m_y = np.mean([x[1] for x in b])\n",
    "#             bins.append([m_pred, m_y])\n",
    "#             b=[]\n",
    "#             w+=width\n",
    "#     return np.asarray(bins)  \n",
    "\n",
    "# def get_binned_eq_depth(points, n_folds=10):\n",
    "#     pred = []\n",
    "#     y = []\n",
    "#     kf = KFold(len(points), n_folds=n_folds)\n",
    "#     print kf\n",
    "#     for rest, bin in kf:\n",
    "#         vals = [points[i] for i in bin]\n",
    "#         m_pred = np.mean([x[0] for x in vals])\n",
    "#         m_y = np.mean([x[1] for x in vals])\n",
    "#         pred.append([m_pred])\n",
    "#         y.append([m_y])\n",
    "#     return pred,y"
   ]
  }
 ],
 "metadata": {
  "kernelspec": {
   "display_name": "Python [Root]",
   "language": "python",
   "name": "Python [Root]"
  },
  "language_info": {
   "codemirror_mode": {
    "name": "ipython",
    "version": 2
   },
   "file_extension": ".py",
   "mimetype": "text/x-python",
   "name": "python",
   "nbconvert_exporter": "python",
   "pygments_lexer": "ipython2",
   "version": "2.7.12"
  }
 },
 "nbformat": 4,
 "nbformat_minor": 0
}
