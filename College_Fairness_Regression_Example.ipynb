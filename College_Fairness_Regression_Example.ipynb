{
 "cells": [
  {
   "cell_type": "code",
   "execution_count": 555,
   "metadata": {
    "collapsed": false
   },
   "outputs": [
    {
     "data": {
      "text/plain": [
       "u'%.2f'"
      ]
     },
     "execution_count": 555,
     "metadata": {},
     "output_type": "execute_result"
    }
   ],
   "source": [
    "import matplotlib.pyplot as plt\n",
    "import numpy as np\n",
    "import pandas as pd\n",
    "import math\n",
    "from sklearn import datasets\n",
    "from sklearn.naive_bayes import GaussianNB\n",
    "from sklearn.svm import LinearSVC\n",
    "from sklearn.linear_model import LogisticRegression\n",
    "from sklearn.metrics import (brier_score_loss, precision_score, recall_score,\n",
    "                             f1_score)\n",
    "from sklearn.calibration import CalibratedClassifierCV, calibration_curve\n",
    "from sklearn.cross_validation import cross_val_predict\n",
    "from sklearn import linear_model\n",
    "from sklearn.metrics import mean_squared_error, r2_score\n",
    "from sklearn.cross_validation import KFold\n",
    "# from sklearn.model_selection import train_test_split\n",
    "%matplotlib inline\n",
    "%precision %.2f"
   ]
  },
  {
   "cell_type": "code",
   "execution_count": 556,
   "metadata": {
    "collapsed": false
   },
   "outputs": [
    {
     "data": {
      "text/html": [
       "<div>\n",
       "<table border=\"1\" class=\"dataframe\">\n",
       "  <thead>\n",
       "    <tr style=\"text-align: right;\">\n",
       "      <th></th>\n",
       "      <th>City</th>\n",
       "      <th>State</th>\n",
       "      <th>Rank</th>\n",
       "      <th>In-state Tuition</th>\n",
       "      <th>Out-state Tuition</th>\n",
       "      <th>Enrollment</th>\n",
       "    </tr>\n",
       "    <tr>\n",
       "      <th>University</th>\n",
       "      <th></th>\n",
       "      <th></th>\n",
       "      <th></th>\n",
       "      <th></th>\n",
       "      <th></th>\n",
       "      <th></th>\n",
       "    </tr>\n",
       "  </thead>\n",
       "  <tbody>\n",
       "    <tr>\n",
       "      <th>Princeton University</th>\n",
       "      <td>Princeton</td>\n",
       "      <td>NJ</td>\n",
       "      <td>1</td>\n",
       "      <td>$47140</td>\n",
       "      <td>$47140</td>\n",
       "      <td>5,400.00</td>\n",
       "    </tr>\n",
       "    <tr>\n",
       "      <th>Harvard University</th>\n",
       "      <td>Cambridge</td>\n",
       "      <td>MA</td>\n",
       "      <td>2</td>\n",
       "      <td>$48949</td>\n",
       "      <td>$48949</td>\n",
       "      <td>6,710.00</td>\n",
       "    </tr>\n",
       "    <tr>\n",
       "      <th>University of Chicago</th>\n",
       "      <td>Chicago</td>\n",
       "      <td>IL</td>\n",
       "      <td>3</td>\n",
       "      <td>$54825</td>\n",
       "      <td>$54825</td>\n",
       "      <td>5,941.00</td>\n",
       "    </tr>\n",
       "    <tr>\n",
       "      <th>Yale University</th>\n",
       "      <td>New Haven</td>\n",
       "      <td>CT</td>\n",
       "      <td>3</td>\n",
       "      <td>$51400</td>\n",
       "      <td>$51400</td>\n",
       "      <td>5,472.00</td>\n",
       "    </tr>\n",
       "    <tr>\n",
       "      <th>Columbia University</th>\n",
       "      <td>New York</td>\n",
       "      <td>NY</td>\n",
       "      <td>5</td>\n",
       "      <td>$57208</td>\n",
       "      <td>$57208</td>\n",
       "      <td>6,113.00</td>\n",
       "    </tr>\n",
       "  </tbody>\n",
       "</table>\n",
       "</div>"
      ],
      "text/plain": [
       "                            City State Rank In-state Tuition  \\\n",
       "University                                                     \n",
       "Princeton University   Princeton    NJ    1           $47140   \n",
       "Harvard University     Cambridge    MA    2           $48949   \n",
       "University of Chicago    Chicago    IL  3             $54825   \n",
       "Yale University        New Haven    CT  3             $51400   \n",
       "Columbia University     New York    NY  5             $57208   \n",
       "\n",
       "                      Out-state Tuition  Enrollment  \n",
       "University                                           \n",
       "Princeton University             $47140    5,400.00  \n",
       "Harvard University               $48949    6,710.00  \n",
       "University of Chicago            $54825    5,941.00  \n",
       "Yale University                  $51400    5,472.00  \n",
       "Columbia University              $57208    6,113.00  "
      ]
     },
     "execution_count": 556,
     "metadata": {},
     "output_type": "execute_result"
    }
   ],
   "source": [
    "usnews = pd.read_csv(\"USNewsCollegeRankings2018.csv\")\n",
    "usnews.set_index('University', inplace=True)\n",
    "usnews.head()"
   ]
  },
  {
   "cell_type": "code",
   "execution_count": 557,
   "metadata": {
    "collapsed": false
   },
   "outputs": [],
   "source": [
    "# dem = pd.read_csv(\"demographic_income_data.csv\", header=None, names=['desc', 'value'])\n",
    "# dem.head()"
   ]
  },
  {
   "cell_type": "code",
   "execution_count": 558,
   "metadata": {
    "collapsed": false,
    "scrolled": false
   },
   "outputs": [
    {
     "data": {
      "text/plain": [
       "(7593, 1777)"
      ]
     },
     "execution_count": 558,
     "metadata": {},
     "output_type": "execute_result"
    }
   ],
   "source": [
    "scorecard = pd.read_csv(\"CollegeScorecard_Raw_Data/MERGED2015_16_PP.csv\")\n",
    "scorecard.shape"
   ]
  },
  {
   "cell_type": "code",
   "execution_count": 559,
   "metadata": {
    "collapsed": false
   },
   "outputs": [
    {
     "data": {
      "text/plain": [
       "(230, 6)"
      ]
     },
     "execution_count": 559,
     "metadata": {},
     "output_type": "execute_result"
    }
   ],
   "source": [
    "usnews=usnews[usnews['Rank']!= 'Rank Not Published']\n",
    "usnews=usnews[usnews['Rank']!= 'Unranked']\n",
    "usnews.shape"
   ]
  },
  {
   "cell_type": "code",
   "execution_count": 560,
   "metadata": {
    "collapsed": false
   },
   "outputs": [
    {
     "data": {
      "text/plain": [
       "(230, 1768)"
      ]
     },
     "execution_count": 560,
     "metadata": {},
     "output_type": "execute_result"
    }
   ],
   "source": [
    "drop=['\\xef\\xbb\\xbfUNITID','OPEID','OPEID6','CITY','STABBR','ZIP','ACCREDAGENCY','INSTURL','NPCURL']\n",
    "scorecard.drop(drop, axis=1, inplace=True)\n",
    "scorecard.set_index('INSTNM',inplace=True)\n",
    "scorecard = scorecard.loc[usnews.index]\n",
    "scorecard['Rank']=usnews['Rank']\n",
    "scorecard.shape"
   ]
  },
  {
   "cell_type": "code",
   "execution_count": 561,
   "metadata": {
    "collapsed": false
   },
   "outputs": [],
   "source": [
    "# scorecard.dropna(axis=1,thresh=100).shape\n",
    "data = scorecard.dropna(thresh=100, axis=1).dropna(thresh=500)\n",
    "for c in data.columns.values:\n",
    "    data[c] = pd.to_numeric(data[c], errors='coerce')\n",
    "data.dropna(axis=1,thresh=100, inplace=True)\n",
    "# data.fillna(data.mean, inplace=True)\n",
    "cols=[]\n",
    "for c in data.columns.values:\n",
    "    if data[c].var()!=0:\n",
    "       cols.append(c)\n",
    "data=data[cols]"
   ]
  },
  {
   "cell_type": "code",
   "execution_count": 562,
   "metadata": {
    "collapsed": false
   },
   "outputs": [
    {
     "data": {
      "text/plain": [
       "(142, 441)"
      ]
     },
     "execution_count": 562,
     "metadata": {},
     "output_type": "execute_result"
    }
   ],
   "source": [
    "def normalize(df):\n",
    "    return(df - df.mean()) / df.std()\n",
    "\n",
    "scnorm = normalize(data)\n",
    "scnorm.shape"
   ]
  },
  {
   "cell_type": "code",
   "execution_count": 563,
   "metadata": {
    "collapsed": false
   },
   "outputs": [],
   "source": [
    "# create groups based on median family income - high, low\n",
    "groups = pd.DataFrame()\n",
    "groups['MD_FAMINC']= data['MD_FAMINC']\n",
    "data.drop(['MD_FAMINC'], axis=1, inplace=True)\n",
    "m = groups['MD_FAMINC'].mean()\n",
    "groups.loc[groups['MD_FAMINC'] >m,'Group'] = 0\n",
    "groups.loc[groups['MD_FAMINC'] <=m,'Group'] = 1\n",
    "X = np.nan_to_num(scnorm.drop(['Rank'], axis=1))\n",
    "y = np.nan_to_num(scnorm['Rank'])f"
   ]
  },
  {
   "cell_type": "code",
   "execution_count": 564,
   "metadata": {
    "collapsed": false
   },
   "outputs": [
    {
     "data": {
      "image/png": "[encoded data removed]",
      "text/plain": [
       "<matplotlib.figure.Figure at 0x7f937e61ed10>"
      ]
     },
     "metadata": {},
     "output_type": "display_data"
    },
    {
     "name": "stdout",
     "output_type": "stream",
     "text": [
      "('Overall MSE: ', 0.1197945853263323)\n"
     ]
    }
   ],
   "source": [
    "lr = linear_model.LinearRegression()\n",
    "\n",
    "# cross_val_predict returns an array of the same size as `y` where each entry\n",
    "# is a prediction obtained by cross validation:\n",
    "pred = cross_val_predict(lr, X, y, cv=10)\n",
    "\n",
    "fig, ax = plt.subplots()\n",
    "ax.scatter(y, pred, edgecolors=(0, 0, 0))\n",
    "ax.plot([y.min(), y.max()], [y.min(), y.max()], 'k--', lw=4)\n",
    "ax.set_xlabel('Measured')\n",
    "ax.set_ylabel('Predicted')\n",
    "plt.show()\n",
    "\n",
    "print(\"Overall MSE: \",  mean_squared_error(y, pred))"
   ]
  },
  {
   "cell_type": "code",
   "execution_count": 565,
   "metadata": {
    "collapsed": false
   },
   "outputs": [
    {
     "data": {
      "image/png": "[encoded data removed]",
      "text/plain": [
       "<matplotlib.figure.Figure at 0x7f9390788a10>"
      ]
     },
     "metadata": {},
     "output_type": "display_data"
    },
    {
     "name": "stdout",
     "output_type": "stream",
     "text": [
      "('Group0 MSE: ', 0.10583062977282344)\n"
     ]
    }
   ],
   "source": [
    "y0 = y[np.nan_to_num(groups['Group'] == 0)]\n",
    "pred0 = pred[np.nan_to_num(groups['Group'] == 0)]\n",
    "\n",
    "fig, ax = plt.subplots()\n",
    "ax.scatter(y0, pred0, edgecolors=(0, 0, 0))\n",
    "ax.plot([y0.min(), y0.max()], [y0.min(), y0.max()], 'k--', lw=4)\n",
    "ax.set_xlabel('Measured')\n",
    "ax.set_ylabel('Predicted')\n",
    "plt.show()\n",
    "print(\"Group0 MSE: \",  mean_squared_error(y0, pred0))"
   ]
  },
  {
   "cell_type": "code",
   "execution_count": 566,
   "metadata": {
    "collapsed": false
   },
   "outputs": [
    {
     "data": {
      "image/png": "[encoded data removed]",
      "text/plain": [
       "<matplotlib.figure.Figure at 0x7f938137f8d0>"
      ]
     },
     "metadata": {},
     "output_type": "display_data"
    },
    {
     "name": "stdout",
     "output_type": "stream",
     "text": [
      "('Group1 MSE: ', 0.13158234001435926)\n"
     ]
    }
   ],
   "source": [
    "y1 = y[np.nan_to_num(groups['Group'] == 1)]\n",
    "pred1 = pred[np.nan_to_num(groups['Group'] == 1)]\n",
    "fig, ax = plt.subplots()\n",
    "ax.scatter(y1, pred1, edgecolors=(0, 0, 0))\n",
    "ax.plot([y1.min(), y1.max()], [y1.min(), y1.max()], 'k--', lw=4)\n",
    "ax.set_xlabel('Measured')\n",
    "ax.set_ylabel('Predicted')\n",
    "plt.show()\n",
    "print(\"Group1 MSE: \",  mean_squared_error(y1, pred1))"
   ]
  },
  {
   "cell_type": "code",
   "execution_count": 567,
   "metadata": {
    "collapsed": false
   },
   "outputs": [],
   "source": [
    "def get_binned_eq_depth(points, n_folds=10):\n",
    "    pred = []\n",
    "    y = []\n",
    "    kf = KFold(len(points), n_folds=n_folds)\n",
    "    print kf\n",
    "    for rest, bin in kf:\n",
    "        vals = [points[i] for i in bin]\n",
    "        m_pred = np.mean([x[0] for x in vals])\n",
    "        m_y = np.mean([x[1] for x in vals])\n",
    "        pred.append([m_pred])\n",
    "        y.append([m_y])\n",
    "    return pred,y"
   ]
  },
  {
   "cell_type": "code",
   "execution_count": 575,
   "metadata": {
    "collapsed": false
   },
   "outputs": [],
   "source": [
    "def get_bin_width(data, n):\n",
    "    return (data.max()-data.min())/(n+1)\n",
    "    \n",
    "def get_binned_eq_width(points, min_val, width, n):\n",
    "    bins=[]\n",
    "    b=[]\n",
    "    w = min_val+width\n",
    "#     c=1\n",
    "    for i in range(len(points)):\n",
    "        if(points[i][0] < w):\n",
    "            b.append(points[i])\n",
    "        else:\n",
    "#             print(\"bin: \"+str(c), b)\n",
    "#             print\n",
    "            m_pred = np.mean([x[0] for x in b])\n",
    "            m_y = np.mean([x[1] for x in b])\n",
    "            bins.append([m_pred, m_y])\n",
    "            b=[]\n",
    "            w+=width\n",
    "#             print\"w:\",w\n",
    "#             print\n",
    "#             c+=1\n",
    "    return np.asarray(bins)    \n",
    "            "
   ]
  },
  {
   "cell_type": "code",
   "execution_count": 576,
   "metadata": {
    "collapsed": true
   },
   "outputs": [],
   "source": [
    "points1 = zip(pred1,y1)\n",
    "points1.sort(key=lambda x:x[0])\n",
    "points0 = zip(pred0,y0)\n",
    "points0.sort(key=lambda x:x[0])"
   ]
  },
  {
   "cell_type": "code",
   "execution_count": 577,
   "metadata": {
    "collapsed": false,
    "scrolled": true
   },
   "outputs": [
    {
     "name": "stdout",
     "output_type": "stream",
     "text": [
      "0.357919341667\n",
      "Group 1: \n",
      "[[-2.39057734 -1.4753292 ]\n",
      " [-1.67891321 -1.43088466]\n",
      " [-1.52610848 -1.31977331]\n",
      " [-1.03823689 -1.14199515]\n",
      " [-0.73542046 -0.73458687]\n",
      " [-0.43100616 -0.42594423]\n",
      " [-0.07046017 -0.17491488]\n",
      " [ 0.33621334  0.31303443]\n",
      " [ 0.65811685  0.45800829]\n",
      " [ 1.06320313  1.21109633]]\n",
      "Group 2\n",
      "[[-2.33159463 -1.49014405]\n",
      " [-1.84019277 -1.52189015]\n",
      " [-1.34277585 -1.43088466]\n",
      " [-1.0892189  -1.15927914]\n",
      " [-0.80251009 -1.13458773]\n",
      " [-0.29835623 -0.06051135]\n",
      " [-0.10324004 -0.00865938]\n",
      " [ 0.29210506  0.36171178]\n",
      " [ 0.64815589  0.75038365]\n",
      " [ 1.02092129  1.09949115]]\n"
     ]
    }
   ],
   "source": [
    "w = get_bin_width(pred,10)\n",
    "print w\n",
    "print(\"Group 1: \")\n",
    "bins0 = get_binned_eq_width(points0, pred.min(), w, 10)\n",
    "print(bins0)\n",
    "print(\"Group 2\")\n",
    "bins1 = get_binned_eq_width(points1, pred.min(), w, 10)\n",
    "print(bins1)"
   ]
  },
  {
   "cell_type": "code",
   "execution_count": 578,
   "metadata": {
    "collapsed": false
   },
   "outputs": [],
   "source": [
    "# x0,y0 = get_binned_eq_depth(points0, 10)\n",
    "# x1,y1 = get_binned_eq_depth(points1, 10)"
   ]
  },
  {
   "cell_type": "code",
   "execution_count": 579,
   "metadata": {
    "collapsed": false
   },
   "outputs": [],
   "source": [
    "# reliability curve\n",
    "# probem is that the regression predictions will always be much closer to the diagonal \n",
    "# than the reliability curve for the probabilistic classifier\n",
    "\n",
    "# plt.plot(x1,y1, marker='o')\n",
    "# plt.plot(x0,y0, marker='*')\n",
    "# plt.plot(x0,x0)\n",
    "# plt.show()"
   ]
  },
  {
   "cell_type": "code",
   "execution_count": 580,
   "metadata": {
    "collapsed": false
   },
   "outputs": [
    {
     "name": "stdout",
     "output_type": "stream",
     "text": [
      "(10, 2)\n",
      "(10, 2)\n"
     ]
    }
   ],
   "source": [
    "# TODO: how to handle empty bin?\n",
    "# can drop, or set error =0, but that is misleading\n",
    "print bins0.shape\n",
    "print bins1.shape\n",
    "bins1 = bins1[:-1]"
   ]
  },
  {
   "cell_type": "code",
   "execution_count": 581,
   "metadata": {
    "collapsed": false
   },
   "outputs": [
    {
     "data": {
      "image/png": "[encoded data removed]",
      "text/plain": [
       "<matplotlib.figure.Figure at 0x7f937e61e9d0>"
      ]
     },
     "metadata": {},
     "output_type": "display_data"
    }
   ],
   "source": [
    "# reliability curve\n",
    "# probem is that the regression predictions will always be much closer to the diagonal \n",
    "# than the reliability curve for the probabilistic classifier\n",
    "\n",
    "plt.plot(bins1[:,0],bins1[:,1], marker='o')\n",
    "plt.plot(bins0[:,0],bins0[:,1], marker='*')\n",
    "plt.plot(bins0[:,0],bins0[:,0])\n",
    "plt.show()"
   ]
  },
  {
   "cell_type": "code",
   "execution_count": 589,
   "metadata": {
    "collapsed": false
   },
   "outputs": [],
   "source": [
    "def get_mse_binned_eq_depth(pred, true, n_folds=10):\n",
    "    points = zip(pred,true)\n",
    "    points.sort(key=lambda x:x[0])\n",
    "    mse = []\n",
    "    kf = KFold(len(points), n_folds=n_folds)\n",
    "    print kf\n",
    "    for rest, bin in kf:\n",
    "        vals = [points[i] for i in bin]\n",
    "        m = np.sum([math.pow(x[0]-x[1], 2) for x in vals])\n",
    "        m = m/len(vals)\n",
    "        mse.append(m)\n",
    "    return mse"
   ]
  },
  {
   "cell_type": "code",
   "execution_count": 590,
   "metadata": {
    "collapsed": true
   },
   "outputs": [],
   "source": [
    "def get_mse_binned_eq_width(points, min_val, width):\n",
    "    bins=[]\n",
    "    b=[]\n",
    "    w = min_val+width\n",
    "#     c=1\n",
    "    for i in range(len(points)):\n",
    "        if(points[i][0] < w):\n",
    "            b.append(points[i])\n",
    "        else:\n",
    "#             print(\"bin: \"+str(c), b)\n",
    "#             print\n",
    "            m = np.sum([math.pow(x[0]-x[1], 2) for x in b])\n",
    "            m = m/len(b)\n",
    "            bins.append(m)\n",
    "            b=[]\n",
    "            w+=width\n",
    "#             c+=1\n",
    "    return np.asarray(bins)   "
   ]
  },
  {
   "cell_type": "code",
   "execution_count": 591,
   "metadata": {
    "collapsed": false
   },
   "outputs": [],
   "source": [
    "def plot_cal_error(df):\n",
    "    indices =np.arange(df.shape[0])\n",
    "    #Calculate optimal width\n",
    "    width = 0.3\n",
    "\n",
    "    fig = plt.figure()\n",
    "    ax = fig.add_subplot(111)\n",
    "    ax.bar(indices-width,df['mse0'],width,color='b',label='-Ymin')\n",
    "    ax.bar(indices,df['mse1'],width,color='r',label='Ymax')\n",
    "    ax.set_xlim(left=-1,right=10)\n",
    "    ax.set_xlabel('Bin')\n",
    "    ax.set_ylabel('MSE')\n",
    "    plt.show()\n",
    "\n"
   ]
  },
  {
   "cell_type": "code",
   "execution_count": 592,
   "metadata": {
    "collapsed": false
   },
   "outputs": [],
   "source": [
    "def plot_cal_norm(df):\n",
    "    norm = (df-df.mean()).abs()\n",
    "    \n",
    "    indices =np.arange(df.shape[0])\n",
    "    #Calculate optimal width\n",
    "    width = 0.3\n",
    "    fig = plt.figure()\n",
    "    ax = fig.add_subplot(111)\n",
    "    ax.bar(indices-width,norm['mse0'],width,color='b',label='-Ymin')\n",
    "    ax.bar(indices,norm['mse1'],width,color='r',label='Ymax')\n",
    "    ax.set_xlim(left=-1,right=10)\n",
    "    ax.set_xlabel('Bin')\n",
    "    ax.set_ylabel('MSE')\n",
    "    plt.show()\n",
    "\n"
   ]
  },
  {
   "cell_type": "code",
   "execution_count": 596,
   "metadata": {
    "collapsed": false
   },
   "outputs": [],
   "source": [
    "mse_df = pd.DataFrame()\n",
    "mse_df['mse0'] = get_mse_binned_eq_width(points0,pred.min(),w)\n",
    "#Using equal width plomse_df['mse1'] = get_mse_binned_eq_width(points1,pred.min(),w)"
   ]
  },
  {
   "cell_type": "code",
   "execution_count": 597,
   "metadata": {
    "collapsed": false
   },
   "outputs": [
    {
     "data": {
      "image/png": "[encoded data removed]",
      "text/plain": [
       "<matplotlib.figure.Figure at 0x7f937ed7cc10>"
      ]
     },
     "metadata": {},
     "output_type": "display_data"
    }
   ],
   "source": [
    "# using equal width bins  - which one gives more comparable plot?\n",
    "plot_cal_error(mse_df)"
   ]
  },
  {
   "cell_type": "code",
   "execution_count": 598,
   "metadata": {
    "collapsed": false
   },
   "outputs": [
    {
     "data": {
      "image/png": "[encoded data removed]",
      "text/plain": [
       "<matplotlib.figure.Figure at 0x7f937cc04410>"
      ]
     },
     "metadata": {},
     "output_type": "display_data"
    }
   ],
   "source": [
    "# using equal depth bins\n",
    "plot_cal_error(df)"
   ]
  },
  {
   "cell_type": "code",
   "execution_count": 253,
   "metadata": {
    "collapsed": false
   },
   "outputs": [],
   "source": [
    "# overall = pd.DataFrame()\n",
    "# overall['y']=y\n",
    "# overall['pred']=pred\n",
    "# overall['SE'] = pow((overall['y']-overall['pred']),2)\n",
    "\n",
    "# g0 = pd.DataFrame()\n",
    "# g0['y']=y0\n",
    "# g0['pred']=pred0\n",
    "# g0['SE'] = pow((g0['y']-g0['pred']),2)\n",
    "\n",
    "# g1 = pd.DataFrame()\n",
    "# g1['y']=y1\n",
    "# g1['pred']=pred1\n",
    "# g1['SE'] = pow((g1['y']-g1['pred']),2)"
   ]
  },
  {
   "cell_type": "code",
   "execution_count": 26,
   "metadata": {
    "collapsed": false
   },
   "outputs": [
    {
     "name": "stderr",
     "output_type": "stream",
     "text": [
      "/home/caitlin/anaconda2/lib/python2.7/site-packages/ipykernel/__main__.py:1: FutureWarning: sort(columns=....) is deprecated, use sort_values(by=.....)\n",
      "  if __name__ == '__main__':\n",
      "/home/caitlin/anaconda2/lib/python2.7/site-packages/ipykernel/__main__.py:2: FutureWarning: sort(columns=....) is deprecated, use sort_values(by=.....)\n",
      "  from ipykernel import kernelapp as app\n",
      "/home/caitlin/anaconda2/lib/python2.7/site-packages/ipykernel/__main__.py:3: FutureWarning: sort(columns=....) is deprecated, use sort_values(by=.....)\n",
      "  app.launch_new_instance()\n"
     ]
    }
   ],
   "source": [
    "overall.sort('pred',inplace=True)\n",
    "g1.sort('pred',inplace=True)\n",
    "g1.sort('pred',inplace=True)"
   ]
  },
  {
   "cell_type": "code",
   "execution_count": 27,
   "metadata": {
    "collapsed": true
   },
   "outputs": [],
   "source": [
    "# histogram of error is like density estimation - maybe we use a kernel method or something"
   ]
  },
  {
   "cell_type": "code",
   "execution_count": 28,
   "metadata": {
    "collapsed": false
   },
   "outputs": [],
   "source": [
    "pd.options.display.float_format = '{:,.2f}'.format"
   ]
  },
  {
   "cell_type": "code",
   "execution_count": 29,
   "metadata": {
    "collapsed": false
   },
   "outputs": [],
   "source": [
    "#should be squared error or absolute?\n",
    "def getOverUnder(df):\n",
    "    diff = df['y'] - df['pred']\n",
    "    df.loc[diff <0,'over'] = 0\n",
    "    df.loc[diff >0,'over'] = pow(diff,2)\n",
    "    df.loc[diff <0,'under'] = pow(diff,2)\n",
    "    df.loc[diff >0,'under'] = 0\n",
    "    df['all'] = pow(diff,2)"
   ]
  },
  {
   "cell_type": "code",
   "execution_count": 30,
   "metadata": {
    "collapsed": false
   },
   "outputs": [
    {
     "name": "stdout",
     "output_type": "stream",
     "text": [
      "('MSE overall: ', 0.11978610079284367)\n",
      "('Overestimated overall: ', 0.07005891155625993)\n",
      "('Underestimated overall: ', 0.04972718923658371)\n",
      "\n",
      "('MSE Group 2: ', 0.10582272898837913)\n",
      "('Overestimated g0: ', 0.05980167058763785)\n",
      "('Underestimated g0: ', 0.04602105840074127)\n",
      "\n",
      "('MSE Group 1: ', 0.13157336270570325)\n",
      "('Overestimated g1: ', 0.07871762146483705)\n",
      "('Underestimated g1: ', 0.05285574124086627)\n"
     ]
    }
   ],
   "source": [
    "getOverUnder(overall)\n",
    "print(\"MSE overall: \", overall['all'].mean())\n",
    "print(\"Overestimated overall: \", overall['over'].mean())\n",
    "print(\"Underestimated overall: \", overall['under'].mean())\n",
    "print\n",
    "getOverUnder(g0)\n",
    "print(\"MSE Group 2: \", g0['all'].mean())\n",
    "print(\"Overestimated g0: \", g0['over'].mean())\n",
    "print(\"Underestimated g0: \", g0['under'].mean())\n",
    "print\n",
    "getOverUnder(g1)\n",
    "print(\"MSE Group 1: \", g1['all'].mean())\n",
    "print(\"Overestimated g1: \", g1['over'].mean())\n",
    "print(\"Underestimated g1: \", g1['under'].mean())"
   ]
  },
  {
   "cell_type": "code",
   "execution_count": 31,
   "metadata": {
    "collapsed": false
   },
   "outputs": [
    {
     "data": {
      "text/plain": [
       "<matplotlib.axes._subplots.AxesSubplot at 0x7f93ebde4450>"
      ]
     },
     "execution_count": 31,
     "metadata": {},
     "output_type": "execute_result"
    },
    {
     "data": {
      "image/png": "[encoded data removed]",
      "text/plain": [
       "<matplotlib.figure.Figure at 0x7f93e8865190>"
      ]
     },
     "metadata": {},
     "output_type": "display_data"
    }
   ],
   "source": [
    "g1['all'].hist()"
   ]
  },
  {
   "cell_type": "code",
   "execution_count": 32,
   "metadata": {
    "collapsed": false
   },
   "outputs": [
    {
     "data": {
      "text/plain": [
       "<matplotlib.axes._subplots.AxesSubplot at 0x7f93ebcc4150>"
      ]
     },
     "execution_count": 32,
     "metadata": {},
     "output_type": "execute_result"
    },
    {
     "data": {
      "image/png": "[encoded data removed]",
      "text/plain": [
       "<matplotlib.figure.Figure at 0x7f93ebccf6d0>"
      ]
     },
     "metadata": {},
     "output_type": "display_data"
    }
   ],
   "source": [
    "g0['all'].hist()"
   ]
  },
  {
   "cell_type": "code",
   "execution_count": 33,
   "metadata": {
    "collapsed": false
   },
   "outputs": [
    {
     "data": {
      "text/plain": [
       "<matplotlib.axes._subplots.AxesSubplot at 0x7f93ea2a5650>"
      ]
     },
     "execution_count": 33,
     "metadata": {},
     "output_type": "execute_result"
    },
    {
     "data": {
      "image/png": "[encoded data removed]",
      "text/plain": [
       "<matplotlib.figure.Figure at 0x7f93ea25a110>"
      ]
     },
     "metadata": {},
     "output_type": "display_data"
    }
   ],
   "source": [
    "g1['over'].hist()"
   ]
  },
  {
   "cell_type": "code",
   "execution_count": 34,
   "metadata": {
    "collapsed": false
   },
   "outputs": [
    {
     "data": {
      "text/plain": [
       "<matplotlib.axes._subplots.AxesSubplot at 0x7f93ea296590>"
      ]
     },
     "execution_count": 34,
     "metadata": {},
     "output_type": "execute_result"
    },
    {
     "data": {
      "image/png": "[encoded data removed]",
      "text/plain": [
       "<matplotlib.figure.Figure at 0x7f93dc09bad0>"
      ]
     },
     "metadata": {},
     "output_type": "display_data"
    }
   ],
   "source": [
    "g0['over'].hist()"
   ]
  },
  {
   "cell_type": "code",
   "execution_count": 35,
   "metadata": {
    "collapsed": false
   },
   "outputs": [
    {
     "data": {
      "text/plain": [
       "<matplotlib.axes._subplots.AxesSubplot at 0x7f93dc0b02d0>"
      ]
     },
     "execution_count": 35,
     "metadata": {},
     "output_type": "execute_result"
    },
    {
     "data": {
      "image/png": "[encoded data removed]",
      "text/plain": [
       "<matplotlib.figure.Figure at 0x7f93b03def90>"
      ]
     },
     "metadata": {},
     "output_type": "display_data"
    }
   ],
   "source": [
    "g1['under'].hist()"
   ]
  },
  {
   "cell_type": "code",
   "execution_count": 36,
   "metadata": {
    "collapsed": false
   },
   "outputs": [
    {
     "data": {
      "text/plain": [
       "<matplotlib.axes._subplots.AxesSubplot at 0x7f93b03d3290>"
      ]
     },
     "execution_count": 36,
     "metadata": {},
     "output_type": "execute_result"
    },
    {
     "data": {
      "image/png": "[encoded data removed]",
      "text/plain": [
       "<matplotlib.figure.Figure at 0x7f93b02e0c10>"
      ]
     },
     "metadata": {},
     "output_type": "display_data"
    }
   ],
   "source": [
    "g0['under'].hist()"
   ]
  },
  {
   "cell_type": "code",
   "execution_count": 37,
   "metadata": {
    "collapsed": false
   },
   "outputs": [
    {
     "name": "stdout",
     "output_type": "stream",
     "text": [
      "1.66541829325\n",
      "-1.62347767094\n"
     ]
    }
   ],
   "source": [
    "print scnorm['Rank'].max()\n",
    "print scnorm['Rank'].min()"
   ]
  },
  {
   "cell_type": "code",
   "execution_count": 38,
   "metadata": {
    "collapsed": false
   },
   "outputs": [
    {
     "name": "stdout",
     "output_type": "stream",
     "text": [
      "223\n",
      "1\n"
     ]
    }
   ],
   "source": [
    "print data['Rank'].max()\n",
    "print data['Rank'].min()"
   ]
  },
  {
   "cell_type": "code",
   "execution_count": 39,
   "metadata": {
    "collapsed": false
   },
   "outputs": [],
   "source": [
    "m = data['Rank'].mean()\n",
    "st = data['Rank'].std()"
   ]
  },
  {
   "cell_type": "code",
   "execution_count": null,
   "metadata": {
    "collapsed": true
   },
   "outputs": [],
   "source": [
    "tmp = g0['over'] - g1['']"
   ]
  }
 ],
 "metadata": {
  "kernelspec": {
   "display_name": "Python [Root]",
   "language": "python",
   "name": "Python [Root]"
  },
  "language_info": {
   "codemirror_mode": {
    "name": "ipython",
    "version": 2
   },
   "file_extension": ".py",
   "mimetype": "text/x-python",
   "name": "python",
   "nbconvert_exporter": "python",
   "pygments_lexer": "ipython2",
   "version": "2.7.12"
  }
 },
 "nbformat": 4,
 "nbformat_minor": 0
}
