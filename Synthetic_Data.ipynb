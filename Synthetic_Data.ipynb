{
 "cells": [
  {
   "cell_type": "code",
   "execution_count": 1,
   "metadata": {},
   "outputs": [
    {
     "name": "stderr",
     "output_type": "stream",
     "text": [
      "C:\\Users\\Caitlin\\Anaconda3\\lib\\site-packages\\sklearn\\cross_validation.py:41: DeprecationWarning: This module was deprecated in version 0.18 in favor of the model_selection module into which all the refactored classes and functions are moved. Also note that the interface of the new CV iterators are different from that of this module. This module will be removed in 0.20.\n",
      "  \"This module will be removed in 0.20.\", DeprecationWarning)\n"
     ]
    }
   ],
   "source": [
    "import numpy as np\n",
    "from sklearn.datasets import make_regression\n",
    "import matplotlib.pyplot as plt\n",
    "import pandas as pd\n",
    "import random as random\n",
    "from calibration_util import *\n",
    "%matplotlib inline"
   ]
  },
  {
   "cell_type": "code",
   "execution_count": 2,
   "metadata": {
    "collapsed": true
   },
   "outputs": [],
   "source": [
    "# generate regression dataset\n",
    "data = pd.DataFrame()\n",
    "X1, y1 = make_regression(n_samples=5000, n_features=5, noise=0.2, random_state=99)\n",
    "g1 = np.zeros(int(len(X1)/2))\n",
    "g2 = np.ones(int(len(X1)/2))\n",
    "g = np.append(g1, g2)\n",
    "d1 = np.insert(X1, 5, values=y1, axis=1)\n",
    "data = pd.DataFrame(d1)\n",
    "data = data.sample(frac=1)\n",
    "data.columns = ['x0','x1','x2','x3','x4','y']\n",
    "data['g']=g"
   ]
  },
  {
   "cell_type": "code",
   "execution_count": 3,
   "metadata": {},
   "outputs": [
    {
     "data": {
      "text/html": [
       "<div>\n",
       "<style>\n",
       "    .dataframe thead tr:only-child th {\n",
       "        text-align: right;\n",
       "    }\n",
       "\n",
       "    .dataframe thead th {\n",
       "        text-align: left;\n",
       "    }\n",
       "\n",
       "    .dataframe tbody tr th {\n",
       "        vertical-align: top;\n",
       "    }\n",
       "</style>\n",
       "<table border=\"1\" class=\"dataframe\">\n",
       "  <thead>\n",
       "    <tr style=\"text-align: right;\">\n",
       "      <th></th>\n",
       "      <th>x0</th>\n",
       "      <th>x1</th>\n",
       "      <th>x2</th>\n",
       "      <th>x3</th>\n",
       "      <th>x4</th>\n",
       "      <th>y</th>\n",
       "      <th>g</th>\n",
       "    </tr>\n",
       "  </thead>\n",
       "  <tbody>\n",
       "    <tr>\n",
       "      <th>201</th>\n",
       "      <td>-1.370487</td>\n",
       "      <td>0.290598</td>\n",
       "      <td>0.635075</td>\n",
       "      <td>-0.158069</td>\n",
       "      <td>0.664065</td>\n",
       "      <td>23.602317</td>\n",
       "      <td>0.0</td>\n",
       "    </tr>\n",
       "    <tr>\n",
       "      <th>3122</th>\n",
       "      <td>1.603624</td>\n",
       "      <td>-0.372584</td>\n",
       "      <td>-1.115018</td>\n",
       "      <td>-0.926353</td>\n",
       "      <td>0.025599</td>\n",
       "      <td>-84.604926</td>\n",
       "      <td>0.0</td>\n",
       "    </tr>\n",
       "    <tr>\n",
       "      <th>3121</th>\n",
       "      <td>-1.393470</td>\n",
       "      <td>1.452204</td>\n",
       "      <td>-0.510671</td>\n",
       "      <td>1.871288</td>\n",
       "      <td>0.777740</td>\n",
       "      <td>147.390163</td>\n",
       "      <td>0.0</td>\n",
       "    </tr>\n",
       "    <tr>\n",
       "      <th>3767</th>\n",
       "      <td>1.827492</td>\n",
       "      <td>0.379022</td>\n",
       "      <td>-1.954776</td>\n",
       "      <td>-1.355027</td>\n",
       "      <td>0.107420</td>\n",
       "      <td>-150.053750</td>\n",
       "      <td>0.0</td>\n",
       "    </tr>\n",
       "    <tr>\n",
       "      <th>3590</th>\n",
       "      <td>0.861571</td>\n",
       "      <td>1.297128</td>\n",
       "      <td>1.254345</td>\n",
       "      <td>-1.035902</td>\n",
       "      <td>-0.266977</td>\n",
       "      <td>100.359156</td>\n",
       "      <td>0.0</td>\n",
       "    </tr>\n",
       "  </tbody>\n",
       "</table>\n",
       "</div>"
      ],
      "text/plain": [
       "            x0        x1        x2        x3        x4           y    g\n",
       "201  -1.370487  0.290598  0.635075 -0.158069  0.664065   23.602317  0.0\n",
       "3122  1.603624 -0.372584 -1.115018 -0.926353  0.025599  -84.604926  0.0\n",
       "3121 -1.393470  1.452204 -0.510671  1.871288  0.777740  147.390163  0.0\n",
       "3767  1.827492  0.379022 -1.954776 -1.355027  0.107420 -150.053750  0.0\n",
       "3590  0.861571  1.297128  1.254345 -1.035902 -0.266977  100.359156  0.0"
      ]
     },
     "execution_count": 3,
     "metadata": {},
     "output_type": "execute_result"
    }
   ],
   "source": [
    "data.head()"
   ]
  },
  {
   "cell_type": "code",
   "execution_count": 4,
   "metadata": {
    "collapsed": true
   },
   "outputs": [],
   "source": [
    "def scale(data, col):\n",
    "    data[col] = (data[col]-data[col].min()) / (data[col].max() - data[col].min())"
   ]
  },
  {
   "cell_type": "code",
   "execution_count": 5,
   "metadata": {
    "collapsed": true
   },
   "outputs": [],
   "source": [
    "scale(data, 'y')\n",
    "data.sort_values('y', inplace=True)"
   ]
  },
  {
   "cell_type": "code",
   "execution_count": 6,
   "metadata": {},
   "outputs": [
    {
     "data": {
      "text/html": [
       "<div>\n",
       "<style>\n",
       "    .dataframe thead tr:only-child th {\n",
       "        text-align: right;\n",
       "    }\n",
       "\n",
       "    .dataframe thead th {\n",
       "        text-align: left;\n",
       "    }\n",
       "\n",
       "    .dataframe tbody tr th {\n",
       "        vertical-align: top;\n",
       "    }\n",
       "</style>\n",
       "<table border=\"1\" class=\"dataframe\">\n",
       "  <thead>\n",
       "    <tr style=\"text-align: right;\">\n",
       "      <th></th>\n",
       "      <th>x0</th>\n",
       "      <th>x1</th>\n",
       "      <th>x2</th>\n",
       "      <th>x3</th>\n",
       "      <th>x4</th>\n",
       "      <th>y</th>\n",
       "      <th>g</th>\n",
       "    </tr>\n",
       "  </thead>\n",
       "  <tbody>\n",
       "    <tr>\n",
       "      <th>1874</th>\n",
       "      <td>-0.946547</td>\n",
       "      <td>0.582627</td>\n",
       "      <td>-2.433494</td>\n",
       "      <td>-2.509121</td>\n",
       "      <td>-1.244858</td>\n",
       "      <td>0.000000</td>\n",
       "      <td>0.0</td>\n",
       "    </tr>\n",
       "    <tr>\n",
       "      <th>3841</th>\n",
       "      <td>-1.511468</td>\n",
       "      <td>-1.897510</td>\n",
       "      <td>-2.280682</td>\n",
       "      <td>-1.926044</td>\n",
       "      <td>-0.545986</td>\n",
       "      <td>0.005904</td>\n",
       "      <td>1.0</td>\n",
       "    </tr>\n",
       "    <tr>\n",
       "      <th>3591</th>\n",
       "      <td>-2.950238</td>\n",
       "      <td>-1.165516</td>\n",
       "      <td>-0.964168</td>\n",
       "      <td>-1.904276</td>\n",
       "      <td>-1.040818</td>\n",
       "      <td>0.007851</td>\n",
       "      <td>0.0</td>\n",
       "    </tr>\n",
       "    <tr>\n",
       "      <th>1553</th>\n",
       "      <td>-0.030311</td>\n",
       "      <td>-2.056015</td>\n",
       "      <td>-0.752770</td>\n",
       "      <td>-2.526592</td>\n",
       "      <td>-2.351309</td>\n",
       "      <td>0.014097</td>\n",
       "      <td>1.0</td>\n",
       "    </tr>\n",
       "    <tr>\n",
       "      <th>1366</th>\n",
       "      <td>-1.519640</td>\n",
       "      <td>-0.034963</td>\n",
       "      <td>-2.009854</td>\n",
       "      <td>-3.097433</td>\n",
       "      <td>0.226367</td>\n",
       "      <td>0.050925</td>\n",
       "      <td>1.0</td>\n",
       "    </tr>\n",
       "  </tbody>\n",
       "</table>\n",
       "</div>"
      ],
      "text/plain": [
       "            x0        x1        x2        x3        x4         y    g\n",
       "1874 -0.946547  0.582627 -2.433494 -2.509121 -1.244858  0.000000  0.0\n",
       "3841 -1.511468 -1.897510 -2.280682 -1.926044 -0.545986  0.005904  1.0\n",
       "3591 -2.950238 -1.165516 -0.964168 -1.904276 -1.040818  0.007851  0.0\n",
       "1553 -0.030311 -2.056015 -0.752770 -2.526592 -2.351309  0.014097  1.0\n",
       "1366 -1.519640 -0.034963 -2.009854 -3.097433  0.226367  0.050925  1.0"
      ]
     },
     "execution_count": 6,
     "metadata": {},
     "output_type": "execute_result"
    }
   ],
   "source": [
    "data.head()"
   ]
  },
  {
   "cell_type": "code",
   "execution_count": 7,
   "metadata": {
    "collapsed": true
   },
   "outputs": [],
   "source": [
    "def under_rank(data):\n",
    "    \n",
    "    #randomly select some percentage of group to be under ranked\n",
    "    data2 = data.copy()\n",
    "    for i in range(len(data)):\n",
    "        if(data2.iloc[i]['g'] == 1.):\n",
    "            if(random.random() <0.25):\n",
    "                data2.iloc[i]['y'] = data2.iloc[i]['y']*0.5\n",
    "\n",
    "    data5 = data.copy()\n",
    "    for i in range(len(data)):\n",
    "        if(data5.iloc[i]['g'] == 1.):\n",
    "            if(random.random() <0.5):\n",
    "                data5.iloc[i]['y'] = data5.iloc[i]['y']*0.5\n",
    "\n",
    "    data7 = data.copy()\n",
    "    for i in range(len(data)):\n",
    "        if(data7.iloc[i]['g'] == 1.):\n",
    "            if(random.random() <0.75):\n",
    "                data7.iloc[i]['y'] = data7.iloc[i]['y']*0.5\n",
    "\n",
    "    data2.sort_values('y', inplace=True)\n",
    "    data5.sort_values('y', inplace=True)\n",
    "    data7.sort_values('y', inplace=True)\n",
    "    \n",
    "    return data2, data5, data7"
   ]
  },
  {
   "cell_type": "code",
   "execution_count": 8,
   "metadata": {
    "collapsed": true
   },
   "outputs": [],
   "source": [
    "def shift_mean(data):\n",
    "    #shift mean of group by some percentage\n",
    "    data2 = data.copy()\n",
    "    for i in range(len(data)):\n",
    "        if(data2.iloc[i]['g'] == 1.):\n",
    "                data2.iloc[i]['y'] = data2.iloc[i]['y']-0.25\n",
    "\n",
    "    data5 = data.copy()\n",
    "    for i in range(len(data)):\n",
    "        if(data5.iloc[i]['g'] == 1.):\n",
    "                data5.iloc[i]['y'] = data5.iloc[i]['y']-0.5\n",
    "\n",
    "    data7 = data.copy()\n",
    "    for i in range(len(data)):\n",
    "        if(data7.iloc[i]['g'] == 1.):\n",
    "                data7.iloc[i]['y'] = data7.iloc[i]['y']-0.75\n",
    "\n",
    "    scale(data2, 'y')\n",
    "    scale(data5, 'y')\n",
    "    scale(data7, 'y')\n",
    "    data2.sort_values('y', inplace=True)\n",
    "    data5.sort_values('y', inplace=True)\n",
    "    data7.sort_values('y', inplace=True)\n",
    "\n",
    "    return data2, data5, data7"
   ]
  },
  {
   "cell_type": "code",
   "execution_count": 9,
   "metadata": {
    "collapsed": true
   },
   "outputs": [],
   "source": [
    "shift_data2, shift_data5, shift_data7 = shift_mean(data)\n",
    "under_data2, under_data5, under_data7 = under_rank(data)"
   ]
  },
  {
   "cell_type": "code",
   "execution_count": 10,
   "metadata": {},
   "outputs": [
    {
     "data": {
      "image/png": "[encoded data removed]",
      "text/plain": [
       "<matplotlib.figure.Figure at 0x8c4cbc2a90>"
      ]
     },
     "metadata": {},
     "output_type": "display_data"
    }
   ],
   "source": [
    "cmap = plt.cm.rainbow\n",
    "plt.rcParams['figure.figsize'] = (20, 4)\n",
    "fig, ax = plt.subplots()\n",
    "ax.bar(range(len(data)), data['y'], 0.5, color=cmap((data['g'])))\n",
    "ax.set_xlim([0,len(data)])\n",
    "ax.set_title(\"\", fontsize=16)\n",
    "plt.show()"
   ]
  },
  {
   "cell_type": "code",
   "execution_count": 11,
   "metadata": {},
   "outputs": [
    {
     "data": {
      "image/png": "[encoded data removed]",
      "text/plain": [
       "<matplotlib.figure.Figure at 0x8c4ce944a8>"
      ]
     },
     "metadata": {},
     "output_type": "display_data"
    }
   ],
   "source": [
    "cmap = plt.cm.rainbow\n",
    "plt.rcParams['figure.figsize'] = (20, 4)\n",
    "fig, ax = plt.subplots()\n",
    "ax.bar(range(len(data)), shift_data2['y'], 0.5, color=cmap((shift_data2['g'])))\n",
    "ax.set_xlim([0,len(data)])\n",
    "ax.set_title(\"\", fontsize=16)\n",
    "plt.show()"
   ]
  },
  {
   "cell_type": "code",
   "execution_count": 12,
   "metadata": {},
   "outputs": [
    {
     "data": {
      "image/png": "[encoded data removed]",
      "text/plain": [
       "<matplotlib.figure.Figure at 0x8c5116e438>"
      ]
     },
     "metadata": {},
     "output_type": "display_data"
    }
   ],
   "source": [
    "cmap = plt.cm.rainbow\n",
    "plt.rcParams['figure.figsize'] = (20, 4)\n",
    "fig, ax = plt.subplots()\n",
    "ax.bar(range(len(data)), shift_data5['y'], 0.5, color=cmap((shift_data5['g'])))\n",
    "ax.set_xlim([0,len(data)])\n",
    "ax.set_title(\"\", fontsize=16)\n",
    "plt.show()"
   ]
  },
  {
   "cell_type": "code",
   "execution_count": 13,
   "metadata": {},
   "outputs": [
    {
     "data": {
      "image/png": "[encoded data removed]",
      "text/plain": [
       "<matplotlib.figure.Figure at 0x8c4fb28828>"
      ]
     },
     "metadata": {},
     "output_type": "display_data"
    }
   ],
   "source": [
    "cmap = plt.cm.rainbow\n",
    "plt.rcParams['figure.figsize'] = (20, 4)\n",
    "fig, ax = plt.subplots()\n",
    "ax.bar(range(len(data)), shift_data7['y'], 0.5, color=cmap((shift_data7['g'])))\n",
    "ax.set_xlim([0,len(data)])\n",
    "ax.set_title(\"\", fontsize=16)\n",
    "plt.show()"
   ]
  },
  {
   "cell_type": "code",
   "execution_count": 14,
   "metadata": {},
   "outputs": [
    {
     "data": {
      "image/png": "[encoded data removed]",
      "text/plain": [
       "<matplotlib.figure.Figure at 0x8c4cefcc50>"
      ]
     },
     "metadata": {},
     "output_type": "display_data"
    }
   ],
   "source": [
    "cmap = plt.cm.rainbow\n",
    "plt.rcParams['figure.figsize'] = (20, 4)\n",
    "fig, ax = plt.subplots()\n",
    "ax.bar(range(len(data)), under_data2['y'], 0.5, color=cmap((under_data2['g'])))\n",
    "ax.set_xlim([0,len(data)])\n",
    "ax.set_title(\"\", fontsize=16)\n",
    "plt.show()"
   ]
  },
  {
   "cell_type": "code",
   "execution_count": 15,
   "metadata": {},
   "outputs": [
    {
     "data": {
      "image/png": "[encoded data removed]",
      "text/plain": [
       "<matplotlib.figure.Figure at 0x8c4ee27c50>"
      ]
     },
     "metadata": {},
     "output_type": "display_data"
    }
   ],
   "source": [
    "cmap = plt.cm.rainbow\n",
    "plt.rcParams['figure.figsize'] = (20, 4)\n",
    "fig, ax = plt.subplots()\n",
    "ax.bar(range(len(data)), under_data5['y'], 0.5, color=cmap((under_data5['g'])))\n",
    "ax.set_xlim([0,len(data)])\n",
    "ax.set_title(\"\", fontsize=16)\n",
    "plt.show()"
   ]
  },
  {
   "cell_type": "code",
   "execution_count": 16,
   "metadata": {},
   "outputs": [
    {
     "data": {
      "image/png": "[encoded data removed]",
      "text/plain": [
       "<matplotlib.figure.Figure at 0x8c4dc8c9e8>"
      ]
     },
     "metadata": {},
     "output_type": "display_data"
    }
   ],
   "source": [
    "cmap = plt.cm.rainbow\n",
    "plt.rcParams['figure.figsize'] = (20, 4)\n",
    "fig, ax = plt.subplots()\n",
    "ax.bar(range(len(data)), under_data7['y'], 0.5, color=cmap((under_data7['g'])))\n",
    "ax.set_xlim([0,len(data)])\n",
    "ax.set_title(\"\", fontsize=16)\n",
    "plt.show()"
   ]
  },
  {
   "cell_type": "code",
   "execution_count": 17,
   "metadata": {},
   "outputs": [
    {
     "name": "stderr",
     "output_type": "stream",
     "text": [
      "C:\\Users\\Caitlin\\Anaconda3\\lib\\site-packages\\ipykernel_launcher.py:2: SettingWithCopyWarning: \n",
      "A value is trying to be set on a copy of a slice from a DataFrame.\n",
      "Try using .loc[row_indexer,col_indexer] = value instead\n",
      "\n",
      "See the caveats in the documentation: http://pandas.pydata.org/pandas-docs/stable/indexing.html#indexing-view-versus-copy\n",
      "  \n"
     ]
    }
   ],
   "source": [
    "df = data[['y','g']]\n",
    "df['y_pred'] =under_data2['y']"
   ]
  },
  {
   "cell_type": "code",
   "execution_count": 18,
   "metadata": {},
   "outputs": [
    {
     "name": "stderr",
     "output_type": "stream",
     "text": [
      "C:\\Users\\Caitlin\\Anaconda3\\lib\\site-packages\\ipykernel_launcher.py:1: SettingWithCopyWarning: \n",
      "A value is trying to be set on a copy of a slice from a DataFrame\n",
      "\n",
      "See the caveats in the documentation: http://pandas.pydata.org/pandas-docs/stable/indexing.html#indexing-view-versus-copy\n",
      "  \"\"\"Entry point for launching an IPython kernel.\n"
     ]
    },
    {
     "data": {
      "text/html": [
       "<div>\n",
       "<style>\n",
       "    .dataframe thead tr:only-child th {\n",
       "        text-align: right;\n",
       "    }\n",
       "\n",
       "    .dataframe thead th {\n",
       "        text-align: left;\n",
       "    }\n",
       "\n",
       "    .dataframe tbody tr th {\n",
       "        vertical-align: top;\n",
       "    }\n",
       "</style>\n",
       "<table border=\"1\" class=\"dataframe\">\n",
       "  <thead>\n",
       "    <tr style=\"text-align: right;\">\n",
       "      <th></th>\n",
       "      <th>y</th>\n",
       "      <th>g</th>\n",
       "      <th>y_pred</th>\n",
       "    </tr>\n",
       "  </thead>\n",
       "  <tbody>\n",
       "    <tr>\n",
       "      <th>0</th>\n",
       "      <td>0.471193</td>\n",
       "      <td>0.0</td>\n",
       "      <td>0.471193</td>\n",
       "    </tr>\n",
       "    <tr>\n",
       "      <th>1</th>\n",
       "      <td>0.598728</td>\n",
       "      <td>1.0</td>\n",
       "      <td>0.598728</td>\n",
       "    </tr>\n",
       "    <tr>\n",
       "      <th>2</th>\n",
       "      <td>0.504640</td>\n",
       "      <td>1.0</td>\n",
       "      <td>0.504640</td>\n",
       "    </tr>\n",
       "    <tr>\n",
       "      <th>3</th>\n",
       "      <td>0.650549</td>\n",
       "      <td>0.0</td>\n",
       "      <td>0.650549</td>\n",
       "    </tr>\n",
       "    <tr>\n",
       "      <th>4</th>\n",
       "      <td>0.364535</td>\n",
       "      <td>0.0</td>\n",
       "      <td>0.364535</td>\n",
       "    </tr>\n",
       "  </tbody>\n",
       "</table>\n",
       "</div>"
      ],
      "text/plain": [
       "          y    g    y_pred\n",
       "0  0.471193  0.0  0.471193\n",
       "1  0.598728  1.0  0.598728\n",
       "2  0.504640  1.0  0.504640\n",
       "3  0.650549  0.0  0.650549\n",
       "4  0.364535  0.0  0.364535"
      ]
     },
     "execution_count": 18,
     "metadata": {},
     "output_type": "execute_result"
    }
   ],
   "source": [
    "df.sort_index(inplace=True)\n",
    "df.head()"
   ]
  },
  {
   "cell_type": "code",
   "execution_count": 19,
   "metadata": {
    "collapsed": true
   },
   "outputs": [],
   "source": [
    "def get_calibrated_predictions(train,test):\n",
    "    \n",
    "    ir = IsotonicRegression( out_of_bounds = 'clip' )\n",
    "    ir.fit(train['y_pred'], train['y'])\n",
    "    \n",
    "    return ir.transform(test['y_pred'])  \n",
    "    \n",
    "def get_groupwise_calibrated_predictions(train, test):\n",
    "    \n",
    "    y_pred0 = train[train['g']==0.]['y_pred']\n",
    "    y_pred1 = train[train['g']==1.]['y_pred']\n",
    "    y_0 = train[train['g']==0.]['y']\n",
    "    y_1 = train[train['g']==1.]['y']\n",
    "    ir0 = IsotonicRegression( out_of_bounds = 'clip' )\n",
    "    ir0.fit(y_pred0, y_0)\n",
    "    ir1 = IsotonicRegression( out_of_bounds = 'clip' )\n",
    "    ir1.fit(y_pred1, y_1)\n",
    "    \n",
    "    test0 = test[test['g']==0.]['y_pred']\n",
    "    test1 = test[test['g']==1.]['y_pred']\n",
    "    return ir0.transform(test0), ir1.transform(test1)"
   ]
  },
  {
   "cell_type": "code",
   "execution_count": 20,
   "metadata": {
    "scrolled": false
   },
   "outputs": [
    {
     "name": "stdout",
     "output_type": "stream",
     "text": [
      "training 1987\n",
      "training 2013\n",
      "testing 513\n",
      "testing 487\n",
      "b:  0\n",
      "c:  0\n",
      "cg:  0\n",
      "training 2014\n",
      "training 1986\n",
      "testing 486\n",
      "testing 514\n",
      "b:  1\n",
      "c:  1\n",
      "cg:  1\n",
      "training 1998\n",
      "training 2002\n",
      "testing 502\n",
      "testing 498\n",
      "b:  2\n",
      "c:  2\n",
      "cg:  2\n",
      "training 2004\n",
      "training 1996\n",
      "testing 496\n",
      "testing 504\n",
      "b:  3\n",
      "c:  3\n",
      "cg:  3\n",
      "training 1997\n",
      "training 2003\n",
      "testing 503\n",
      "testing 497\n",
      "b:  4\n",
      "c:  4\n",
      "cg:  4\n"
     ]
    }
   ],
   "source": [
    "# 3 fold cross validation,for each split use 25% of the training data for calibration\n",
    "\n",
    "cv_errors ={}\n",
    "kf = KFold(n_splits=5, shuffle=True, random_state=1)\n",
    "i=0\n",
    "for train_index, test_index in kf.split(df):\n",
    "\n",
    "    train = df.iloc[train_index]\n",
    "    test = df.iloc[test_index]\n",
    "    \n",
    "    print(\"training\", len(train[train['g']==0.]))\n",
    "    print(\"training\", len(train[train['g']==1.]))\n",
    "    print(\"testing\", len(test[test['g']==0.]))\n",
    "    print(\"testing\", len(test[test['g']==1.]))\n",
    "\n",
    "    y_pred_baseline = test['y_pred']\n",
    "\n",
    "    y_pred_cal = get_calibrated_predictions(train, test)\n",
    "    \n",
    "    y_pred0, y_pred1 = get_groupwise_calibrated_predictions(train, test)\n",
    "    y_pred_all = np.append(y_pred0, y_pred1)\n",
    "    \n",
    "    y_test0 = test[test['g']==0.]['y']\n",
    "    y_test1 = test[test['g']==1.]['y']\n",
    "    y_test_all = np.append(y_test0, y_test1)\n",
    "        \n",
    "    g_test0 = test[test['g']==0.]['g']\n",
    "    g_test1 = test[test['g']==1.]['g']\n",
    "    g_test_all = np.append(g_test0, g_test1)\n",
    "    \n",
    "    y_test = np.array(test['y'])\n",
    "    g_test = np.array(test['g'])\n",
    "    \n",
    "    nbins=5\n",
    "    baseline_errors = get_errors(y_pred_baseline, y_test, g_test, nbins)\n",
    "    print(\"b: \", i)\n",
    "    calibrate_errors = get_errors(y_pred_cal, y_test, g_test, nbins)\n",
    "    print(\"c: \", i)\n",
    "    cal_by_group_errors = get_errors(y_pred_all, y_test_all, g_test_all, nbins)\n",
    "    print(\"cg: \", i)\n",
    "    \n",
    "    cv_errors[i] = [baseline_errors, calibrate_errors, cal_by_group_errors]\n",
    "    i+=1\n",
    "\n",
    "#     print(get_errors(y_pred_baseline, y_test, g_test, nbins))\n",
    "#     print(get_errors(y_pred_cal, y_test, g_test, nbins))\n",
    "#     print(get_errors(y_pred_all, y_test_all, g_test_all, nbins))\n",
    "    \n",
    "#     print(\"Baseline mse: \", mean_squared_error(y_pred_baseline, y_test))\n",
    "#     print(\"Calibrate mse: \", mean_squared_error(y_pred_cal, y_test))\n",
    "#     print(\"Calibrate by groups mse: \", mean_squared_error(y_pred_all, y_test_all))\n",
    "\n",
    "#     print(\"Baseline spearman: \", stats.spearmanr(y_pred_baseline, y_test))\n",
    "#     print(\"Calibrate spearman: \", stats.spearmanr(y_pred_cal, y_test))\n",
    "#     print(\"Calibrate by groups spearman: \", stats.spearmanr(y_pred_all, y_test_all))\n",
    "    "
   ]
  },
  {
   "cell_type": "code",
   "execution_count": 21,
   "metadata": {
    "collapsed": true
   },
   "outputs": [],
   "source": [
    "b = pd.concat([cv_errors[0][0][['bin_mse_diff','bin_oe_diff','bin_ue_diff', 'bin_spear_diff']].abs().sum(),\n",
    "           cv_errors[1][0][['bin_mse_diff','bin_oe_diff','bin_ue_diff', 'bin_spear_diff']].abs().sum(),\n",
    "           cv_errors[2][0][['bin_mse_diff','bin_oe_diff','bin_ue_diff', 'bin_spear_diff']].abs().sum()], axis=1).transpose()\n",
    "c = pd.concat([cv_errors[0][1][['bin_mse_diff','bin_oe_diff','bin_ue_diff', 'bin_spear_diff']].abs().sum(),\n",
    "           cv_errors[1][1][['bin_mse_diff','bin_oe_diff','bin_ue_diff', 'bin_spear_diff']].abs().sum(),\n",
    "           cv_errors[2][1][['bin_mse_diff','bin_oe_diff','bin_ue_diff', 'bin_spear_diff']].abs().sum()], axis=1).transpose()\n",
    "cg = pd.concat([cv_errors[0][2][['bin_mse_diff','bin_oe_diff','bin_ue_diff', 'bin_spear_diff']].abs().sum(),\n",
    "           cv_errors[1][2][['bin_mse_diff','bin_oe_diff','bin_ue_diff', 'bin_spear_diff']].abs().sum(),\n",
    "           cv_errors[2][2][['bin_mse_diff','bin_oe_diff','bin_ue_diff', 'bin_spear_diff']].abs().sum()], axis=1).transpose()"
   ]
  },
  {
   "cell_type": "code",
   "execution_count": 22,
   "metadata": {},
   "outputs": [
    {
     "data": {
      "text/plain": [
       "bin_mse_diff       0.214147\n",
       "bin_oe_diff        0.000000\n",
       "bin_ue_diff       82.960372\n",
       "bin_spear_diff     3.884270\n",
       "dtype: float64"
      ]
     },
     "execution_count": 22,
     "metadata": {},
     "output_type": "execute_result"
    }
   ],
   "source": [
    "b.sum()"
   ]
  },
  {
   "cell_type": "code",
   "execution_count": 23,
   "metadata": {},
   "outputs": [
    {
     "data": {
      "text/plain": [
       "bin_mse_diff       0.093093\n",
       "bin_oe_diff        5.014658\n",
       "bin_ue_diff       48.105956\n",
       "bin_spear_diff     3.897433\n",
       "dtype: float64"
      ]
     },
     "execution_count": 23,
     "metadata": {},
     "output_type": "execute_result"
    }
   ],
   "source": [
    "c.sum()"
   ]
  },
  {
   "cell_type": "code",
   "execution_count": 24,
   "metadata": {},
   "outputs": [
    {
     "data": {
      "text/plain": [
       "bin_mse_diff       0.104965\n",
       "bin_oe_diff       35.435897\n",
       "bin_ue_diff       36.268095\n",
       "bin_spear_diff     3.780962\n",
       "dtype: float64"
      ]
     },
     "execution_count": 24,
     "metadata": {},
     "output_type": "execute_result"
    }
   ],
   "source": [
    "cg.sum()"
   ]
  },
  {
   "cell_type": "code",
   "execution_count": null,
   "metadata": {
    "collapsed": true
   },
   "outputs": [],
   "source": []
  }
 ],
 "metadata": {
  "kernelspec": {
   "display_name": "Python 3",
   "language": "python",
   "name": "python3"
  },
  "language_info": {
   "codemirror_mode": {
    "name": "ipython",
    "version": 3
   },
   "file_extension": ".py",
   "mimetype": "text/x-python",
   "name": "python",
   "nbconvert_exporter": "python",
   "pygments_lexer": "ipython3",
   "version": "3.6.3"
  }
 },
 "nbformat": 4,
 "nbformat_minor": 2
}
